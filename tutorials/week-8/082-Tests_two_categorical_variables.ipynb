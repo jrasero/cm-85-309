{
 "cells": [
  {
   "cell_type": "markdown",
   "id": "564ad412",
   "metadata": {},
   "source": [
    "In this tutorial, we are going to see how to determine whether there is a significant association between two **categorical** variables."
   ]
  },
  {
   "cell_type": "markdown",
   "id": "37247d81",
   "metadata": {},
   "source": [
    "# $\\chi^2$ test for independence"
   ]
  },
  {
   "cell_type": "markdown",
   "id": "6150b0b3",
   "metadata": {},
   "source": [
    "The $\\chi^2$ test for independence is a statistical test based on the $\\chi^2$ statistic, which compares the observed frequencies in a contingency table with the expected frequencies under the assumption that the two variables are independent. In this tutorial, we will learn how to perform the $\\chi^2$ test for independence in R."
   ]
  },
  {
   "cell_type": "markdown",
   "id": "1ab78c53",
   "metadata": {},
   "source": [
    "To illustrate this in this tutorial, we will employ again the dataset we've just used in the previous tutorial on plotting categorical data. These data contain the results from a clinical trial, in which it was administered a drug to some participants and a placebo to others, and their progress was monitored. At the end of the study, it was determined whether the participants' progress had worsened, remained the same, or improved."
   ]
  },
  {
   "cell_type": "code",
   "execution_count": 1,
   "id": "c0d84082",
   "metadata": {},
   "outputs": [],
   "source": [
    "dat.tutorial<-read.csv(\"https://raw.githubusercontent.com/jrasero/cm-85309-2023/main/datasets/tutorial8chisquare.csv\")"
   ]
  },
  {
   "cell_type": "markdown",
   "id": "c29817c3",
   "metadata": {},
   "source": [
    "To perform the $\\chi^2$ test for independence, we first need to create a contingency table of the two categorical variables. We can do this using the `table` function as follows:"
   ]
  },
  {
   "cell_type": "code",
   "execution_count": 2,
   "id": "12b2f186",
   "metadata": {},
   "outputs": [
    {
     "data": {
      "text/plain": [
       "         \n",
       "          Better Same Worse\n",
       "  Drug        30   28    11\n",
       "  Placebo     25   44    33"
      ]
     },
     "metadata": {},
     "output_type": "display_data"
    }
   ],
   "source": [
    "table(dat.tutorial$group,dat.tutorial$evolution)"
   ]
  },
  {
   "cell_type": "markdown",
   "id": "bd95bfe2",
   "metadata": {},
   "source": [
    "Alternatively, you may also produce the same table combining formula with `xtabs`:"
   ]
  },
  {
   "cell_type": "code",
   "execution_count": 3,
   "id": "eeca8511",
   "metadata": {},
   "outputs": [
    {
     "data": {
      "text/plain": [
       "         evolution\n",
       "group     Better Same Worse\n",
       "  Drug        30   28    11\n",
       "  Placebo     25   44    33"
      ]
     },
     "metadata": {},
     "output_type": "display_data"
    }
   ],
   "source": [
    "xtabs(~group + evolution, dat.tutorial)"
   ]
  },
  {
   "cell_type": "markdown",
   "id": "1c43acc3",
   "metadata": {},
   "source": [
    "In both cases, the contingency table displays the observed frequencies of the group and evolution variables. For instance, 30 participants received the drug and exhibited a better evolution, 28 had no change in their evolution, and 11 experienced a worse evolution. Among those who received the placebo, 25 experienced an improvement in their evolution, 44 had no change, and 33 experienced worsened their evolution."
   ]
  },
  {
   "cell_type": "markdown",
   "id": "3e598e05",
   "metadata": {},
   "source": [
    "Now, once we have got our contingency table, we have everything that is need to conduct the $\\chi^2$ test in R. This is done using the `chisq.test` function, which takes a contingency table as input and returns the $\\chi^2$ statistic, the degrees of freedom, and the p-value. \n",
    "\n",
    "For example, to conduct a $\\chi^2$ test for independence on the contingency table that we created above:"
   ]
  },
  {
   "cell_type": "code",
   "execution_count": 4,
   "id": "27bb2f29",
   "metadata": {},
   "outputs": [
    {
     "data": {
      "text/plain": [
       "\n",
       "\tPearson's Chi-squared test\n",
       "\n",
       "data:  table(dat.tutorial$group, dat.tutorial$evolution)\n",
       "X-squared = 8.976, df = 2, p-value = 0.01124\n"
      ]
     },
     "metadata": {},
     "output_type": "display_data"
    },
    {
     "data": {
      "text/plain": [
       "\n",
       "\tPearson's Chi-squared test\n",
       "\n",
       "data:  xtabs(~group + evolution, dat.tutorial)\n",
       "X-squared = 8.976, df = 2, p-value = 0.01124\n"
      ]
     },
     "metadata": {},
     "output_type": "display_data"
    }
   ],
   "source": [
    "chisq.test(table(dat.tutorial$group,dat.tutorial$evolution))\n",
    "chisq.test(xtabs(~group + evolution, dat.tutorial))"
   ]
  },
  {
   "cell_type": "markdown",
   "id": "fb61d157",
   "metadata": {},
   "source": [
    "As we can see, the p-value ~ 0.01, which if we assume a type I error rate $\\alpha = 0.05$, we should reject the null, that is, it seems that there is an association between receiveing the drug or not and the change in health evolution.\n",
    "\n",
    "How is this computed? Well, the $\\chi^2$ test for independence uses both the observed frequencies and the expected ones to compute the $\\chi^2$ statistics. Fortunately, R does all these computations when calling the function `chisq.test`:"
   ]
  },
  {
   "cell_type": "code",
   "execution_count": 5,
   "id": "03115657",
   "metadata": {},
   "outputs": [
    {
     "data": {
      "text/html": [
       "<style>\n",
       ".list-inline {list-style: none; margin:0; padding: 0}\n",
       ".list-inline>li {display: inline-block}\n",
       ".list-inline>li:not(:last-child)::after {content: \"\\00b7\"; padding: 0 .5ex}\n",
       "</style>\n",
       "<ol class=list-inline><li>'statistic'</li><li>'parameter'</li><li>'p.value'</li><li>'method'</li><li>'data.name'</li><li>'observed'</li><li>'expected'</li><li>'residuals'</li><li>'stdres'</li></ol>\n"
      ],
      "text/latex": [
       "\\begin{enumerate*}\n",
       "\\item 'statistic'\n",
       "\\item 'parameter'\n",
       "\\item 'p.value'\n",
       "\\item 'method'\n",
       "\\item 'data.name'\n",
       "\\item 'observed'\n",
       "\\item 'expected'\n",
       "\\item 'residuals'\n",
       "\\item 'stdres'\n",
       "\\end{enumerate*}\n"
      ],
      "text/markdown": [
       "1. 'statistic'\n",
       "2. 'parameter'\n",
       "3. 'p.value'\n",
       "4. 'method'\n",
       "5. 'data.name'\n",
       "6. 'observed'\n",
       "7. 'expected'\n",
       "8. 'residuals'\n",
       "9. 'stdres'\n",
       "\n",
       "\n"
      ],
      "text/plain": [
       "[1] \"statistic\" \"parameter\" \"p.value\"   \"method\"    \"data.name\" \"observed\" \n",
       "[7] \"expected\"  \"residuals\" \"stdres\"   "
      ]
     },
     "metadata": {},
     "output_type": "display_data"
    }
   ],
   "source": [
    "res<-chisq.test(table(dat.tutorial$group,dat.tutorial$evolution))\n",
    "names(res)"
   ]
  },
  {
   "cell_type": "code",
   "execution_count": 6,
   "id": "1aecd17e",
   "metadata": {},
   "outputs": [
    {
     "data": {
      "text/plain": [
       "         \n",
       "          Better Same Worse\n",
       "  Drug        30   28    11\n",
       "  Placebo     25   44    33"
      ]
     },
     "metadata": {},
     "output_type": "display_data"
    },
    {
     "data": {
      "text/html": [
       "<table class=\"dataframe\">\n",
       "<caption>A matrix: 2 × 3 of type dbl</caption>\n",
       "<thead>\n",
       "\t<tr><th></th><th scope=col>Better</th><th scope=col>Same</th><th scope=col>Worse</th></tr>\n",
       "</thead>\n",
       "<tbody>\n",
       "\t<tr><th scope=row>Drug</th><td>22.19298</td><td>29.05263</td><td>17.75439</td></tr>\n",
       "\t<tr><th scope=row>Placebo</th><td>32.80702</td><td>42.94737</td><td>26.24561</td></tr>\n",
       "</tbody>\n",
       "</table>\n"
      ],
      "text/latex": [
       "A matrix: 2 × 3 of type dbl\n",
       "\\begin{tabular}{r|lll}\n",
       "  & Better & Same & Worse\\\\\n",
       "\\hline\n",
       "\tDrug & 22.19298 & 29.05263 & 17.75439\\\\\n",
       "\tPlacebo & 32.80702 & 42.94737 & 26.24561\\\\\n",
       "\\end{tabular}\n"
      ],
      "text/markdown": [
       "\n",
       "A matrix: 2 × 3 of type dbl\n",
       "\n",
       "| <!--/--> | Better | Same | Worse |\n",
       "|---|---|---|---|\n",
       "| Drug | 22.19298 | 29.05263 | 17.75439 |\n",
       "| Placebo | 32.80702 | 42.94737 | 26.24561 |\n",
       "\n"
      ],
      "text/plain": [
       "         \n",
       "          Better   Same     Worse   \n",
       "  Drug    22.19298 29.05263 17.75439\n",
       "  Placebo 32.80702 42.94737 26.24561"
      ]
     },
     "metadata": {},
     "output_type": "display_data"
    }
   ],
   "source": [
    "# The observed frequencies (i.e. the table we input)\n",
    "res$observed\n",
    "\n",
    "# The expected frequencies\n",
    "res$expected"
   ]
  },
  {
   "cell_type": "markdown",
   "id": "c384185d",
   "metadata": {},
   "source": [
    "# Fisher's exact test\n",
    "\n",
    "The Fisher's exact test is a statistical test used to determine whether there is a significant association between two categorical variables. It is particularly useful when the sample size is small and the expected cell counts are less than 5, given that the $\\chi^2$ test is not recommended in this kind of scenarios.\n",
    "\n",
    "The Fisher's exact test is based on the hypergeometric distribution and computes the probability of observing a particular table given the marginal totals:"
   ]
  },
  {
   "cell_type": "markdown",
   "id": "b690c067",
   "metadata": {},
   "source": [
    "$$p = \\frac{\\left( a + b \\right)! \\left( c + d \\right)! \\left( a + c \\right)! \\left( b + d \\right)!}{a! b! c! d! \\left( a + b + c + d \\right)!}$$\n"
   ]
  },
  {
   "cell_type": "markdown",
   "id": "af80af76",
   "metadata": {},
   "source": [
    "The null hypothesis of Fisher's exact test is that there is no association between the two variables."
   ]
  },
  {
   "cell_type": "markdown",
   "id": "78063121",
   "metadata": {},
   "source": [
    "**N.B. This test can only be used with 2x2 contingency tables.**"
   ]
  },
  {
   "cell_type": "markdown",
   "id": "512e7983",
   "metadata": {},
   "source": [
    "Let's create a 2x2 contingency table for running this demonstration:"
   ]
  },
  {
   "cell_type": "code",
   "execution_count": 7,
   "id": "00e7e8ec",
   "metadata": {},
   "outputs": [
    {
     "data": {
      "text/html": [
       "<table class=\"dataframe\">\n",
       "<caption>A matrix: 2 × 2 of type dbl</caption>\n",
       "<thead>\n",
       "\t<tr><th></th><th scope=col>A</th><th scope=col>B</th></tr>\n",
       "</thead>\n",
       "<tbody>\n",
       "\t<tr><th scope=row>a</th><td>5</td><td>1</td></tr>\n",
       "\t<tr><th scope=row>b</th><td>2</td><td>7</td></tr>\n",
       "</tbody>\n",
       "</table>\n"
      ],
      "text/latex": [
       "A matrix: 2 × 2 of type dbl\n",
       "\\begin{tabular}{r|ll}\n",
       "  & A & B\\\\\n",
       "\\hline\n",
       "\ta & 5 & 1\\\\\n",
       "\tb & 2 & 7\\\\\n",
       "\\end{tabular}\n"
      ],
      "text/markdown": [
       "\n",
       "A matrix: 2 × 2 of type dbl\n",
       "\n",
       "| <!--/--> | A | B |\n",
       "|---|---|---|\n",
       "| a | 5 | 1 |\n",
       "| b | 2 | 7 |\n",
       "\n"
      ],
      "text/plain": [
       "  A B\n",
       "a 5 1\n",
       "b 2 7"
      ]
     },
     "metadata": {},
     "output_type": "display_data"
    }
   ],
   "source": [
    "fisher.table<-matrix(c(5,1, 2,7), nrow=2, byrow=TRUE)\n",
    "\n",
    "colnames(fisher.table)<-c(\"A\", \"B\")\n",
    "rownames(fisher.table)<-c(\"a\", \"b\")\n",
    "fisher.table"
   ]
  },
  {
   "cell_type": "markdown",
   "id": "fde2bf9d",
   "metadata": {},
   "source": [
    "Let's see first what happens when we try to run a $\\chi^2$ test on this table:"
   ]
  },
  {
   "cell_type": "code",
   "execution_count": 8,
   "id": "a93b3ca9",
   "metadata": {},
   "outputs": [
    {
     "name": "stderr",
     "output_type": "stream",
     "text": [
      "Warning message in chisq.test(fisher.table):\n",
      "“Chi-squared approximation may be incorrect”\n"
     ]
    },
    {
     "data": {
      "text/plain": [
       "\n",
       "\tPearson's Chi-squared test with Yates' continuity correction\n",
       "\n",
       "data:  fisher.table\n",
       "X-squared = 3.2254, df = 1, p-value = 0.0725\n"
      ]
     },
     "metadata": {},
     "output_type": "display_data"
    }
   ],
   "source": [
    "res.chisq<-chisq.test(fisher.table)\n",
    "res.chisq"
   ]
  },
  {
   "cell_type": "markdown",
   "id": "2d9d56fa",
   "metadata": {},
   "source": [
    "As you can see, there is an warning message indicating that this test might not be correct. This appears to be due to the fact that the expected occurrences in some of the cells are below 5. Let's check it out:"
   ]
  },
  {
   "cell_type": "code",
   "execution_count": 9,
   "id": "7a72d028",
   "metadata": {},
   "outputs": [
    {
     "data": {
      "text/html": [
       "<table class=\"dataframe\">\n",
       "<caption>A matrix: 2 × 2 of type dbl</caption>\n",
       "<thead>\n",
       "\t<tr><th></th><th scope=col>A</th><th scope=col>B</th></tr>\n",
       "</thead>\n",
       "<tbody>\n",
       "\t<tr><th scope=row>a</th><td>2.8</td><td>3.2</td></tr>\n",
       "\t<tr><th scope=row>b</th><td>4.2</td><td>4.8</td></tr>\n",
       "</tbody>\n",
       "</table>\n"
      ],
      "text/latex": [
       "A matrix: 2 × 2 of type dbl\n",
       "\\begin{tabular}{r|ll}\n",
       "  & A & B\\\\\n",
       "\\hline\n",
       "\ta & 2.8 & 3.2\\\\\n",
       "\tb & 4.2 & 4.8\\\\\n",
       "\\end{tabular}\n"
      ],
      "text/markdown": [
       "\n",
       "A matrix: 2 × 2 of type dbl\n",
       "\n",
       "| <!--/--> | A | B |\n",
       "|---|---|---|\n",
       "| a | 2.8 | 3.2 |\n",
       "| b | 4.2 | 4.8 |\n",
       "\n"
      ],
      "text/plain": [
       "  A   B  \n",
       "a 2.8 3.2\n",
       "b 4.2 4.8"
      ]
     },
     "metadata": {},
     "output_type": "display_data"
    }
   ],
   "source": [
    "res.chisq$expected"
   ]
  },
  {
   "cell_type": "markdown",
   "id": "3e36579e",
   "metadata": {},
   "source": [
    "In these cases, a Fisher's exact test might be a more appropriate test choice. In order to perform this kind of test in R, you can use the `fisher.test` function, which takes also a contingency table as its input and returns the p-value of the test, as well as the odds ratio and its confidence interval."
   ]
  },
  {
   "cell_type": "code",
   "execution_count": 10,
   "id": "7d96b206",
   "metadata": {},
   "outputs": [
    {
     "data": {
      "text/plain": [
       "\n",
       "\tFisher's Exact Test for Count Data\n",
       "\n",
       "data:  fisher.table\n",
       "p-value = 0.04056\n",
       "alternative hypothesis: true odds ratio is not equal to 1\n",
       "95 percent confidence interval:\n",
       "   0.8646648 934.0087368\n",
       "sample estimates:\n",
       "odds ratio \n",
       "  13.59412 \n"
      ]
     },
     "metadata": {},
     "output_type": "display_data"
    }
   ],
   "source": [
    "res.fisher<-fisher.test(fisher.table)\n",
    "res.fisher"
   ]
  },
  {
   "cell_type": "markdown",
   "id": "9801084a",
   "metadata": {},
   "source": [
    "Here, the p-value ~ 0.04, which is below the usual type I error $\\alpha=0.05$ and therefore we should reject the null hypothesis that there is no association between both categorical variables.\n",
    "\n",
    "This example is interesting, because had we used the $\\chi^2$ test with the same level of significance, the conclusion regarding the null hypothesis would have been different:"
   ]
  },
  {
   "cell_type": "code",
   "execution_count": 11,
   "id": "015d920c",
   "metadata": {},
   "outputs": [
    {
     "data": {
      "text/html": [
       "0.0725020254219294"
      ],
      "text/latex": [
       "0.0725020254219294"
      ],
      "text/markdown": [
       "0.0725020254219294"
      ],
      "text/plain": [
       "[1] 0.07250203"
      ]
     },
     "metadata": {},
     "output_type": "display_data"
    },
    {
     "data": {
      "text/html": [
       "0.0405594405594406"
      ],
      "text/latex": [
       "0.0405594405594406"
      ],
      "text/markdown": [
       "0.0405594405594406"
      ],
      "text/plain": [
       "[1] 0.04055944"
      ]
     },
     "metadata": {},
     "output_type": "display_data"
    }
   ],
   "source": [
    "# p-value running chisquare \n",
    "res.chisq$p.value\n",
    "\n",
    "# p-value running fisher\n",
    "res.fisher$p.value"
   ]
  },
  {
   "cell_type": "markdown",
   "id": "9421d3a6",
   "metadata": {},
   "source": [
    "Nevertheless, the fact that both p-values are so close to the assumed Type I error $\\alpha=0.05$ should make us  be cautious when drawing any conclusion. For example, while a p-value of 0.051 is technically above the threshold, and a p-value of 0.049 is below it, in practical terms the difference between them is negligible. Therefore, we should not attach too much significance to a p-value that is only slightly below the threshold, nor dismiss one that is only slightly above it."
   ]
  },
  {
   "cell_type": "markdown",
   "id": "94452c32",
   "metadata": {},
   "source": [
    "# McNemar test\n",
    "\n",
    "The McNemar test is a statistical test used to determine if there is a significant difference between paired proportions. It is commonly used to compare the frequency of occurrence of a particular outcome before and after an intervention or treatment. The test is based on the binomial distribution and assumes that the data are PAIRED. If your data are not paired, you should use a different test, such as the $\\chi^2$ test for independence or the Fisher's exact test."
   ]
  },
  {
   "cell_type": "markdown",
   "id": "a7daa3a4",
   "metadata": {},
   "source": [
    "**N.B. This test can only be used with 2x2 contingency tables.**"
   ]
  },
  {
   "cell_type": "code",
   "execution_count": 12,
   "id": "b4cf2959",
   "metadata": {},
   "outputs": [
    {
     "data": {
      "text/html": [
       "<table class=\"dataframe\">\n",
       "<caption>A matrix: 2 × 2 of type dbl</caption>\n",
       "<thead>\n",
       "\t<tr><th></th><th scope=col>Yes</th><th scope=col>No</th></tr>\n",
       "</thead>\n",
       "<tbody>\n",
       "\t<tr><th scope=row>Before</th><td> 5</td><td>3</td></tr>\n",
       "\t<tr><th scope=row>After</th><td>12</td><td>3</td></tr>\n",
       "</tbody>\n",
       "</table>\n"
      ],
      "text/latex": [
       "A matrix: 2 × 2 of type dbl\n",
       "\\begin{tabular}{r|ll}\n",
       "  & Yes & No\\\\\n",
       "\\hline\n",
       "\tBefore &  5 & 3\\\\\n",
       "\tAfter & 12 & 3\\\\\n",
       "\\end{tabular}\n"
      ],
      "text/markdown": [
       "\n",
       "A matrix: 2 × 2 of type dbl\n",
       "\n",
       "| <!--/--> | Yes | No |\n",
       "|---|---|---|\n",
       "| Before |  5 | 3 |\n",
       "| After | 12 | 3 |\n",
       "\n"
      ],
      "text/plain": [
       "       Yes No\n",
       "Before  5  3 \n",
       "After  12  3 "
      ]
     },
     "metadata": {},
     "output_type": "display_data"
    }
   ],
   "source": [
    "# Create a 2x2 contingency table\n",
    "table.mcnemar <- matrix(c(5, 3, 12, 3), nrow = 2, byrow = TRUE)\n",
    "colnames(table.mcnemar) <- c(\"Yes\", \"No\")\n",
    "rownames(table.mcnemar) <- c(\"Before\", \"After\")\n",
    "\n",
    "table.mcnemar"
   ]
  },
  {
   "cell_type": "markdown",
   "id": "68afdad6",
   "metadata": {},
   "source": [
    "To run the McNemar test in R, we can use the `mcnemar.test` function. This function takes a 2x2 contingency table as its input and returns the p-value of the test, as well as the confidence interval for the difference in proportions."
   ]
  },
  {
   "cell_type": "code",
   "execution_count": 13,
   "id": "a0875e37",
   "metadata": {},
   "outputs": [
    {
     "data": {
      "text/plain": [
       "\n",
       "\tMcNemar's Chi-squared test with continuity correction\n",
       "\n",
       "data:  table.mcnemar\n",
       "McNemar's chi-squared = 4.2667, df = 1, p-value = 0.03887\n"
      ]
     },
     "metadata": {},
     "output_type": "display_data"
    },
    {
     "data": {
      "text/html": [
       "<style>\n",
       ".list-inline {list-style: none; margin:0; padding: 0}\n",
       ".list-inline>li {display: inline-block}\n",
       ".list-inline>li:not(:last-child)::after {content: \"\\00b7\"; padding: 0 .5ex}\n",
       "</style>\n",
       "<ol class=list-inline><li>'statistic'</li><li>'parameter'</li><li>'p.value'</li><li>'method'</li><li>'data.name'</li></ol>\n"
      ],
      "text/latex": [
       "\\begin{enumerate*}\n",
       "\\item 'statistic'\n",
       "\\item 'parameter'\n",
       "\\item 'p.value'\n",
       "\\item 'method'\n",
       "\\item 'data.name'\n",
       "\\end{enumerate*}\n"
      ],
      "text/markdown": [
       "1. 'statistic'\n",
       "2. 'parameter'\n",
       "3. 'p.value'\n",
       "4. 'method'\n",
       "5. 'data.name'\n",
       "\n",
       "\n"
      ],
      "text/plain": [
       "[1] \"statistic\" \"parameter\" \"p.value\"   \"method\"    \"data.name\""
      ]
     },
     "metadata": {},
     "output_type": "display_data"
    }
   ],
   "source": [
    "# run the McNemar test\n",
    "res.mcnemar <- mcnemar.test(table.mcnemar)\n",
    "\n",
    "# Print the summary of running this test\n",
    "res.mcnemar\n",
    "\n",
    "# As usual, the output is just a list with a buch of results\n",
    "names(res.mcnemar)"
   ]
  },
  {
   "cell_type": "markdown",
   "id": "d3064d24",
   "metadata": {},
   "source": [
    "As you can see, assuming the usual Type I error $\\alpha=0.05$, we should reject the null that says that there is no signifcant changes in the proportions before and after the experiment."
   ]
  }
 ],
 "metadata": {
  "kernelspec": {
   "display_name": "R",
   "language": "R",
   "name": "ir"
  },
  "language_info": {
   "codemirror_mode": "r",
   "file_extension": ".r",
   "mimetype": "text/x-r-source",
   "name": "R",
   "pygments_lexer": "r",
   "version": "4.2.2"
  }
 },
 "nbformat": 4,
 "nbformat_minor": 5
}
