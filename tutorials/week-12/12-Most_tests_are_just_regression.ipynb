{
 "cells": [
  {
   "cell_type": "markdown",
   "id": "5954790e",
   "metadata": {},
   "source": [
    "This tutorial aims to demonstrate that many of the statistical tests we've covered in this course, including t-tests, correlation, ANOVA, and chi-square, are essentially special versions of regression. This is why, when introducing each statistical test, we always discussed the variables involved, such as one variable, two variables of specific types, and so on. By understanding this relationship between regression and these other tests, hopefully, everything we've covered so far will start to make more sense.\n",
    "\n",
    "The relation between the common statistical tests and linear models can be summarized in the following chart:"
   ]
  },
  {
   "cell_type": "markdown",
   "id": "0ea4ea9c",
   "metadata": {},
   "source": [
    "![Common statiscal tests are linear models](https://lindeloev.github.io/tests-as-linear/linear_tests_cheat_sheet.png)"
   ]
  },
  {
   "cell_type": "markdown",
   "id": "83ee9647",
   "metadata": {},
   "source": [
    "**N.B.** Most of this tutorial is based on https://lindeloev.github.io/tests-as-linear. You are more than welcome to visit this page for more details."
   ]
  },
  {
   "cell_type": "markdown",
   "id": "67283feb",
   "metadata": {},
   "source": [
    "# Week 6: One continuous variable (one sample t-test)"
   ]
  },
  {
   "cell_type": "markdown",
   "id": "d829ef4d",
   "metadata": {},
   "source": [
    "The dataset that we used for that tutorial was the following:"
   ]
  },
  {
   "cell_type": "code",
   "execution_count": 1,
   "id": "76942e61",
   "metadata": {},
   "outputs": [],
   "source": [
    "set.seed(123)\n",
    "\n",
    "N<-35\n",
    "X.1<-rnorm(N, mean = 115, sd=15)\n",
    "mu.0<-110\n",
    "\n",
    "dat<-data.frame(y=X.1-mu.0) #"
   ]
  },
  {
   "cell_type": "code",
   "execution_count": 2,
   "id": "d116af6c",
   "metadata": {},
   "outputs": [
    {
     "data": {
      "text/plain": [
       "\n",
       "\tOne Sample t-test\n",
       "\n",
       "data:  dat$y\n",
       "t = 2.3186, df = 34, p-value = 0.02656\n",
       "alternative hypothesis: true mean is not equal to 0\n",
       "95 percent confidence interval:\n",
       "  0.686995 10.438537\n",
       "sample estimates:\n",
       "mean of x \n",
       " 5.562766 \n"
      ]
     },
     "metadata": {},
     "output_type": "display_data"
    }
   ],
   "source": [
    "t.test(dat$y, mu=0, alternative = \"two.sided\")"
   ]
  },
  {
   "cell_type": "markdown",
   "id": "7ed114d9",
   "metadata": {},
   "source": [
    "Looking at the above chart, the equivalent linear model would be running `lm(y~1)`, where y is our continuous variable. That is, we are going to try to fit a regression model with just the intercept. And this makes sense, because the intercept is defined as the expected value of the dependent variable when the other variables are equal to zero. This expected value corresponds to the mean, which is basically what we are testing in the one-sample t-test."
   ]
  },
  {
   "cell_type": "markdown",
   "id": "32bd7635",
   "metadata": {},
   "source": [
    "Let's run the model as explained:"
   ]
  },
  {
   "cell_type": "code",
   "execution_count": 3,
   "id": "c3730140",
   "metadata": {},
   "outputs": [
    {
     "data": {
      "text/plain": [
       "\n",
       "Call:\n",
       "lm(formula = y ~ 1, data = dat)\n",
       "\n",
       "Residuals:\n",
       "    Min      1Q  Median      3Q     Max \n",
       "-30.062  -9.454   1.097  10.859  26.241 \n",
       "\n",
       "Coefficients:\n",
       "            Estimate Std. Error t value Pr(>|t|)  \n",
       "(Intercept)    5.563      2.399   2.319   0.0266 *\n",
       "---\n",
       "Signif. codes:  0 ‘***’ 0.001 ‘**’ 0.01 ‘*’ 0.05 ‘.’ 0.1 ‘ ’ 1\n",
       "\n",
       "Residual standard error: 14.19 on 34 degrees of freedom\n"
      ]
     },
     "metadata": {},
     "output_type": "display_data"
    }
   ],
   "source": [
    "summary(lm(y~1, data = dat))"
   ]
  },
  {
   "cell_type": "markdown",
   "id": "c1386c56",
   "metadata": {},
   "source": [
    "As we can see, the estimate, t-statistic and p-value for the intercept is the same as the output obtained from using `t-test`. \n",
    "\n",
    "In fact, as we saw earlier, we can also run this function using formulas. The formula we use for this case is the same as the one we used for `lm`. This suggests that we are indeed calculating the same things."
   ]
  },
  {
   "cell_type": "code",
   "execution_count": 4,
   "id": "d0a0ce41",
   "metadata": {},
   "outputs": [
    {
     "data": {
      "text/plain": [
       "\n",
       "\tOne Sample t-test\n",
       "\n",
       "data:  y\n",
       "t = 2.3186, df = 34, p-value = 0.02656\n",
       "alternative hypothesis: true mean is not equal to 0\n",
       "95 percent confidence interval:\n",
       "  0.686995 10.438537\n",
       "sample estimates:\n",
       "mean of x \n",
       " 5.562766 \n"
      ]
     },
     "metadata": {},
     "output_type": "display_data"
    }
   ],
   "source": [
    "t.test(y~1, data = dat, mu=0, alternative = \"two.sided\")"
   ]
  },
  {
   "cell_type": "markdown",
   "id": "92bcb47b",
   "metadata": {},
   "source": [
    "Therefore, from here we can conclude that a linear regression model with only the intercept corresponds to running a one-sample t-test on the dependent variable."
   ]
  },
  {
   "cell_type": "markdown",
   "id": "45a2be6c",
   "metadata": {},
   "source": [
    "# Week 6: Test for a categorical variable (Pearson's $\\chi^2$-test )\n",
    "\n",
    "Here we will talk about proportions instead of the actual observed values in our categorical variable."
   ]
  },
  {
   "cell_type": "markdown",
   "id": "debdb964",
   "metadata": {},
   "source": [
    "This is the dataset that we created for that part of the tutorial:"
   ]
  },
  {
   "cell_type": "code",
   "execution_count": 5,
   "id": "bbbac062",
   "metadata": {},
   "outputs": [],
   "source": [
    "set.seed(123)\n",
    "\n",
    "X<-sapply(c(1:35), function(x) sample(c(\"happy\",\"neutral\",\"sad\"), size=1))\n",
    "X<-c(rep(\"happy\", 15), X)\n",
    "X.table<-table(X)"
   ]
  },
  {
   "cell_type": "markdown",
   "id": "5ebfe5d7",
   "metadata": {},
   "source": [
    "And we used this table to run a Pearson's $\\chi^2$-test to assess whether the observed number of occurrences differ from the assumed ones, that is, from the null hypothesis:"
   ]
  },
  {
   "cell_type": "code",
   "execution_count": 6,
   "id": "1f88c9be",
   "metadata": {},
   "outputs": [
    {
     "data": {
      "text/plain": [
       "\n",
       "\tChi-squared test for given probabilities\n",
       "\n",
       "data:  X.table\n",
       "X-squared = 6.52, df = 2, p-value = 0.03839\n"
      ]
     },
     "metadata": {},
     "output_type": "display_data"
    }
   ],
   "source": [
    "chisq.test(X.table)"
   ]
  },
  {
   "cell_type": "markdown",
   "id": "88a36ddf",
   "metadata": {},
   "source": [
    "As we saw in the chart above, this should correspond to running a regression model where the depedent variable will be the number of occurrences per category and the independent variable the actual categories. Let's create a data frame that contains these two variables:"
   ]
  },
  {
   "cell_type": "code",
   "execution_count": 7,
   "id": "c92dc9a6",
   "metadata": {},
   "outputs": [
    {
     "data": {
      "text/html": [
       "<table class=\"dataframe\">\n",
       "<caption>A data.frame: 3 × 2</caption>\n",
       "<thead>\n",
       "\t<tr><th scope=col>mood</th><th scope=col>counts</th></tr>\n",
       "\t<tr><th scope=col>&lt;chr&gt;</th><th scope=col>&lt;int&gt;</th></tr>\n",
       "</thead>\n",
       "<tbody>\n",
       "\t<tr><td>happy  </td><td>25</td></tr>\n",
       "\t<tr><td>neutral</td><td>11</td></tr>\n",
       "\t<tr><td>sad    </td><td>14</td></tr>\n",
       "</tbody>\n",
       "</table>\n"
      ],
      "text/latex": [
       "A data.frame: 3 × 2\n",
       "\\begin{tabular}{ll}\n",
       " mood & counts\\\\\n",
       " <chr> & <int>\\\\\n",
       "\\hline\n",
       "\t happy   & 25\\\\\n",
       "\t neutral & 11\\\\\n",
       "\t sad     & 14\\\\\n",
       "\\end{tabular}\n"
      ],
      "text/markdown": [
       "\n",
       "A data.frame: 3 × 2\n",
       "\n",
       "| mood &lt;chr&gt; | counts &lt;int&gt; |\n",
       "|---|---|\n",
       "| happy   | 25 |\n",
       "| neutral | 11 |\n",
       "| sad     | 14 |\n",
       "\n"
      ],
      "text/plain": [
       "  mood    counts\n",
       "1 happy   25    \n",
       "2 neutral 11    \n",
       "3 sad     14    "
      ]
     },
     "metadata": {},
     "output_type": "display_data"
    }
   ],
   "source": [
    "dat<-data.frame(mood=names(X.table), counts=as.vector(X.table))\n",
    "dat"
   ]
  },
  {
   "cell_type": "markdown",
   "id": "faadea4d",
   "metadata": {},
   "source": [
    "Now, the regression model can not be the usual linear regression, because that assumes that the dependent variable is continuous and follows a gaussian distribution. However, here we have number of occurrences in the dependent variable. This information can be generated with the so-called Poisson distribution, which is a discrete probability distribution that expresses the probability of a given number of events occurring in a fixed interval of time or space at a known constant mean rate. As a result, let's use this distribution as the link function in the *family* of `glm`:"
   ]
  },
  {
   "cell_type": "code",
   "execution_count": 8,
   "id": "86e56931",
   "metadata": {},
   "outputs": [
    {
     "data": {
      "text/plain": [
       "\n",
       "Call:\n",
       "glm(formula = counts ~ 1 + mood, family = poisson(), data = dat)\n",
       "\n",
       "Deviance Residuals: \n",
       "[1]  0  0  0\n",
       "\n",
       "Coefficients:\n",
       "            Estimate Std. Error z value Pr(>|z|)    \n",
       "(Intercept)   3.2189     0.2000  16.094   <2e-16 ***\n",
       "moodneutral  -0.8210     0.3618  -2.269   0.0233 *  \n",
       "moodsad      -0.5798     0.3338  -1.737   0.0824 .  \n",
       "---\n",
       "Signif. codes:  0 ‘***’ 0.001 ‘**’ 0.01 ‘*’ 0.05 ‘.’ 0.1 ‘ ’ 1\n",
       "\n",
       "(Dispersion parameter for poisson family taken to be 1)\n",
       "\n",
       "    Null deviance:  6.2500e+00  on 2  degrees of freedom\n",
       "Residual deviance: -2.2204e-16  on 0  degrees of freedom\n",
       "AIC: 19.803\n",
       "\n",
       "Number of Fisher Scoring iterations: 3\n"
      ]
     },
     "metadata": {},
     "output_type": "display_data"
    }
   ],
   "source": [
    "reg.full = glm(counts ~ 1 + mood, data = dat, family = poisson())\n",
    "summary(reg.full)"
   ]
  },
  {
   "cell_type": "markdown",
   "id": "b36f55ad",
   "metadata": {},
   "source": [
    "Mmm, running this yields p-values comparing the proportions between pairs of categories (here with respect to the baseline). \n",
    "\n",
    "What we can do is to compare the above model with a model that does not have our categorical variable, that is, with a model (our null) with only the intercept:"
   ]
  },
  {
   "cell_type": "code",
   "execution_count": 9,
   "id": "a733cea6",
   "metadata": {},
   "outputs": [
    {
     "data": {
      "text/plain": [
       "\n",
       "Call:\n",
       "glm(formula = counts ~ 1, family = poisson(), data = dat)\n",
       "\n",
       "Deviance Residuals: \n",
       "      1        2        3  \n",
       " 1.8991  -1.4805  -0.6719  \n",
       "\n",
       "Coefficients:\n",
       "            Estimate Std. Error z value Pr(>|z|)    \n",
       "(Intercept)   2.8134     0.1414   19.89   <2e-16 ***\n",
       "---\n",
       "Signif. codes:  0 ‘***’ 0.001 ‘**’ 0.01 ‘*’ 0.05 ‘.’ 0.1 ‘ ’ 1\n",
       "\n",
       "(Dispersion parameter for poisson family taken to be 1)\n",
       "\n",
       "    Null deviance: 6.25  on 2  degrees of freedom\n",
       "Residual deviance: 6.25  on 2  degrees of freedom\n",
       "AIC: 22.053\n",
       "\n",
       "Number of Fisher Scoring iterations: 4\n"
      ]
     },
     "metadata": {},
     "output_type": "display_data"
    }
   ],
   "source": [
    "reg.null = glm(counts ~ 1, data = dat, family = poisson())\n",
    "summary(reg.null)"
   ]
  },
  {
   "cell_type": "markdown",
   "id": "6495f359",
   "metadata": {},
   "source": [
    "This is beyond the scope of the course, but we can use the  `anova` function to compare these regression models."
   ]
  },
  {
   "cell_type": "code",
   "execution_count": 10,
   "id": "982db123",
   "metadata": {},
   "outputs": [],
   "source": [
    "?anova"
   ]
  },
  {
   "cell_type": "code",
   "execution_count": 11,
   "id": "04fbc90a",
   "metadata": {},
   "outputs": [
    {
     "data": {
      "text/html": [
       "<table class=\"dataframe\">\n",
       "<caption>A anova: 2 × 6</caption>\n",
       "<thead>\n",
       "\t<tr><th></th><th scope=col>Resid. Df</th><th scope=col>Resid. Dev</th><th scope=col>Df</th><th scope=col>Deviance</th><th scope=col>Rao</th><th scope=col>Pr(&gt;Chi)</th></tr>\n",
       "\t<tr><th></th><th scope=col>&lt;dbl&gt;</th><th scope=col>&lt;dbl&gt;</th><th scope=col>&lt;dbl&gt;</th><th scope=col>&lt;dbl&gt;</th><th scope=col>&lt;dbl&gt;</th><th scope=col>&lt;dbl&gt;</th></tr>\n",
       "</thead>\n",
       "<tbody>\n",
       "\t<tr><th scope=row>1</th><td>2</td><td> 6.250021e+00</td><td>NA</td><td>      NA</td><td>      NA</td><td>        NA</td></tr>\n",
       "\t<tr><th scope=row>2</th><td>0</td><td>-2.220446e-16</td><td> 2</td><td>6.250021</td><td>6.520011</td><td>0.03838818</td></tr>\n",
       "</tbody>\n",
       "</table>\n"
      ],
      "text/latex": [
       "A anova: 2 × 6\n",
       "\\begin{tabular}{r|llllll}\n",
       "  & Resid. Df & Resid. Dev & Df & Deviance & Rao & Pr(>Chi)\\\\\n",
       "  & <dbl> & <dbl> & <dbl> & <dbl> & <dbl> & <dbl>\\\\\n",
       "\\hline\n",
       "\t1 & 2 &  6.250021e+00 & NA &       NA &       NA &         NA\\\\\n",
       "\t2 & 0 & -2.220446e-16 &  2 & 6.250021 & 6.520011 & 0.03838818\\\\\n",
       "\\end{tabular}\n"
      ],
      "text/markdown": [
       "\n",
       "A anova: 2 × 6\n",
       "\n",
       "| <!--/--> | Resid. Df &lt;dbl&gt; | Resid. Dev &lt;dbl&gt; | Df &lt;dbl&gt; | Deviance &lt;dbl&gt; | Rao &lt;dbl&gt; | Pr(&gt;Chi) &lt;dbl&gt; |\n",
       "|---|---|---|---|---|---|---|\n",
       "| 1 | 2 |  6.250021e+00 | NA |       NA |       NA |         NA |\n",
       "| 2 | 0 | -2.220446e-16 |  2 | 6.250021 | 6.520011 | 0.03838818 |\n",
       "\n"
      ],
      "text/plain": [
       "  Resid. Df Resid. Dev    Df Deviance Rao      Pr(>Chi)  \n",
       "1 2          6.250021e+00 NA       NA       NA         NA\n",
       "2 0         -2.220446e-16  2 6.250021 6.520011 0.03838818"
      ]
     },
     "metadata": {},
     "output_type": "display_data"
    }
   ],
   "source": [
    "anova(reg.null, reg.full, test =\"Rao\") # Do not worry about the last argument"
   ]
  },
  {
   "cell_type": "markdown",
   "id": "401a722e",
   "metadata": {},
   "source": [
    "As we see, here we got the same p-value as that applying `chisq.test` to the table of occurrences."
   ]
  },
  {
   "cell_type": "markdown",
   "id": "e5849a7e",
   "metadata": {},
   "source": [
    "# Week 6: Statistical test for two variables (continuous vs categorical)"
   ]
  },
  {
   "cell_type": "markdown",
   "id": "ad13c60c",
   "metadata": {},
   "source": [
    "For this scenario we generated the following datasets:"
   ]
  },
  {
   "cell_type": "code",
   "execution_count": 12,
   "id": "0e7cac7a",
   "metadata": {},
   "outputs": [],
   "source": [
    "set.seed(1234)\n",
    "\n",
    "# Generate random data for group 1 with mean 10 and standard deviation 2\n",
    "students.data<-rbind(data.frame(value=rnorm(25, mean = 10, sd = 2), group='a'),\n",
    "                  data.frame(value=rnorm(25, mean = 11, sd = 2), group='b'))\n",
    "\n",
    "# Generate random data for group 1 with mean 10 and standard deviation 2\n",
    "anova.data<-rbind(data.frame(value=rnorm(25, mean = 10, sd = 2), group='a'),\n",
    "                  data.frame(value=rnorm(25, mean = 12, sd = 2), group='b'), \n",
    "                  data.frame(value=rnorm(25, mean = 10, sd = 2), group='c'))"
   ]
  },
  {
   "cell_type": "markdown",
   "id": "ce64878e",
   "metadata": {},
   "source": [
    "## Student's t-test"
   ]
  },
  {
   "cell_type": "code",
   "execution_count": 13,
   "id": "1b1b666b",
   "metadata": {},
   "outputs": [
    {
     "data": {
      "text/plain": [
       "\n",
       "\tTwo Sample t-test\n",
       "\n",
       "data:  students.data[students.data$group == \"a\", \"value\"] and students.data[students.data$group == \"b\", \"value\"]\n",
       "t = -0.31557, df = 48, p-value = 0.7537\n",
       "alternative hypothesis: true difference in means is not equal to 0\n",
       "95 percent confidence interval:\n",
       " -1.1419734  0.8321391\n",
       "sample estimates:\n",
       "mean of x mean of y \n",
       " 9.516435  9.671353 \n"
      ]
     },
     "metadata": {},
     "output_type": "display_data"
    }
   ],
   "source": [
    "t.test(x=students.data[students.data$group==\"a\", \"value\"],\n",
    "       y=students.data[students.data$group==\"b\", \"value\"], \n",
    "       var.equal = TRUE)"
   ]
  },
  {
   "cell_type": "markdown",
   "id": "a864af5d",
   "metadata": {},
   "source": [
    "Looking at the above chart, the equivalent linear model would be running `lm(y~x)`, where *y* is our continuous variable and *x* our categorical variable. As a result, we are going to fit a linear regression model where the $\\beta$ coefficient will encode the effect of *x* on *y*. \n",
    "\n",
    "In the case of *x* being binary, the $\\beta$ coefficient is just the difference in means between both categories. And this is just what the Student's t-test addresses. "
   ]
  },
  {
   "cell_type": "code",
   "execution_count": 14,
   "id": "d75ddfc0",
   "metadata": {},
   "outputs": [
    {
     "data": {
      "text/plain": [
       "\n",
       "Call:\n",
       "lm(formula = value ~ group, data = students.data)\n",
       "\n",
       "Residuals:\n",
       "    Min      1Q  Median      3Q     Max \n",
       "-4.2078 -0.9809 -0.4843  0.7488  5.3152 \n",
       "\n",
       "Coefficients:\n",
       "            Estimate Std. Error t value Pr(>|t|)    \n",
       "(Intercept)   9.5164     0.3471  27.415   <2e-16 ***\n",
       "groupb        0.1549     0.4909   0.316    0.754    \n",
       "---\n",
       "Signif. codes:  0 ‘***’ 0.001 ‘**’ 0.01 ‘*’ 0.05 ‘.’ 0.1 ‘ ’ 1\n",
       "\n",
       "Residual standard error: 1.736 on 48 degrees of freedom\n",
       "Multiple R-squared:  0.00207,\tAdjusted R-squared:  -0.01872 \n",
       "F-statistic: 0.09958 on 1 and 48 DF,  p-value: 0.7537\n"
      ]
     },
     "metadata": {},
     "output_type": "display_data"
    }
   ],
   "source": [
    "summary(lm(value~group, data = students.data))"
   ]
  },
  {
   "cell_type": "markdown",
   "id": "df2df32a",
   "metadata": {},
   "source": [
    "Here we have to look at the p-value for the entire model (the last one the displayed summary information), which is the same as that running the `t.test` function.\n",
    "\n",
    "How about the statistic? Well in this case the output for the entire model from `lm` is the F-statistic. But as we saw in the lectures, for a two-sample t-test, $F=t^2$. Let's check that that is what happening here:"
   ]
  },
  {
   "cell_type": "code",
   "execution_count": 15,
   "id": "3098f2ff",
   "metadata": {},
   "outputs": [
    {
     "data": {
      "text/html": [
       "<strong>value:</strong> 0.315566432005328"
      ],
      "text/latex": [
       "\\textbf{value:} 0.315566432005328"
      ],
      "text/markdown": [
       "**value:** 0.315566432005328"
      ],
      "text/plain": [
       "    value \n",
       "0.3155664 "
      ]
     },
     "metadata": {},
     "output_type": "display_data"
    },
    {
     "data": {
      "text/html": [
       "<strong>t:</strong> -0.315566432005328"
      ],
      "text/latex": [
       "\\textbf{t:} -0.315566432005328"
      ],
      "text/markdown": [
       "**t:** -0.315566432005328"
      ],
      "text/plain": [
       "         t \n",
       "-0.3155664 "
      ]
     },
     "metadata": {},
     "output_type": "display_data"
    }
   ],
   "source": [
    "sqrt(summary(lm(value~group, data = students.data))$fstatistic[1])\n",
    "\n",
    "t.test(x=students.data[students.data$group==\"a\", \"value\"],\n",
    "       y=students.data[students.data$group==\"b\", \"value\"], \n",
    "       var.equal = TRUE)$stat"
   ]
  },
  {
   "cell_type": "markdown",
   "id": "34390d95",
   "metadata": {},
   "source": [
    "## ANOVA"
   ]
  },
  {
   "cell_type": "markdown",
   "id": "dbb73b13",
   "metadata": {},
   "source": [
    "Remember that we use ANOVA when the categorical variable has two or more categories."
   ]
  },
  {
   "cell_type": "code",
   "execution_count": 16,
   "id": "4a64ff71",
   "metadata": {},
   "outputs": [
    {
     "data": {
      "text/plain": [
       "            Df Sum Sq Mean Sq F value   Pr(>F)    \n",
       "group        2  59.39  29.697   7.791 0.000865 ***\n",
       "Residuals   72 274.45   3.812                     \n",
       "---\n",
       "Signif. codes:  0 ‘***’ 0.001 ‘**’ 0.01 ‘*’ 0.05 ‘.’ 0.1 ‘ ’ 1"
      ]
     },
     "metadata": {},
     "output_type": "display_data"
    }
   ],
   "source": [
    "summary(aov(value~group, data=anova.data))"
   ]
  },
  {
   "cell_type": "markdown",
   "id": "ed348b09",
   "metadata": {},
   "source": [
    "The modelling as a regression is the same as with the Student's t-test:"
   ]
  },
  {
   "cell_type": "code",
   "execution_count": 17,
   "id": "aab8403e",
   "metadata": {},
   "outputs": [
    {
     "data": {
      "text/plain": [
       "\n",
       "Call:\n",
       "lm(formula = value ~ group, data = anova.data)\n",
       "\n",
       "Residuals:\n",
       "   Min     1Q Median     3Q    Max \n",
       "-4.035 -1.372 -0.242  1.247  4.676 \n",
       "\n",
       "Coefficients:\n",
       "            Estimate Std. Error t value Pr(>|t|)    \n",
       "(Intercept)  10.4225     0.3905  26.692  < 2e-16 ***\n",
       "groupb        1.7132     0.5522   3.102  0.00274 ** \n",
       "groupc       -0.3106     0.5522  -0.562  0.57556    \n",
       "---\n",
       "Signif. codes:  0 ‘***’ 0.001 ‘**’ 0.01 ‘*’ 0.05 ‘.’ 0.1 ‘ ’ 1\n",
       "\n",
       "Residual standard error: 1.952 on 72 degrees of freedom\n",
       "Multiple R-squared:  0.1779,\tAdjusted R-squared:  0.1551 \n",
       "F-statistic: 7.791 on 2 and 72 DF,  p-value: 0.0008652\n"
      ]
     },
     "metadata": {},
     "output_type": "display_data"
    }
   ],
   "source": [
    "summary(lm(value~group, data = anova.data))"
   ]
  },
  {
   "cell_type": "markdown",
   "id": "565c5d9a",
   "metadata": {},
   "source": [
    "Here we have to look at the p-value for the full model (the last one in the displayed summary information), which as we see is the same as that using `aov`. We have other p-values as well, corresponding to the independent variables that were created as dummy variables from our original categorical variable. These would give the difference in means of dependent variable between pairs of categories, that is, it would correspond to running pairwise Student's t-tests. This was the usual posthoc step after running the ANOVA test, but here we obtain everything at once."
   ]
  },
  {
   "cell_type": "markdown",
   "id": "47ea69f2",
   "metadata": {},
   "source": [
    "**BONUS TRACK**: What happens if we include an independent continuous variable to the regression model above? "
   ]
  },
  {
   "cell_type": "code",
   "execution_count": 18,
   "id": "5769c64e",
   "metadata": {},
   "outputs": [
    {
     "name": "stderr",
     "output_type": "stream",
     "text": [
      "── \u001b[1mAttaching packages\u001b[22m ─────────────────────────────────────── tidyverse 1.3.2 ──\n",
      "\u001b[32m✔\u001b[39m \u001b[34mggplot2\u001b[39m 3.4.0      \u001b[32m✔\u001b[39m \u001b[34mpurrr  \u001b[39m 1.0.1 \n",
      "\u001b[32m✔\u001b[39m \u001b[34mtibble \u001b[39m 3.1.8      \u001b[32m✔\u001b[39m \u001b[34mdplyr  \u001b[39m 1.0.10\n",
      "\u001b[32m✔\u001b[39m \u001b[34mtidyr  \u001b[39m 1.2.1      \u001b[32m✔\u001b[39m \u001b[34mstringr\u001b[39m 1.5.0 \n",
      "\u001b[32m✔\u001b[39m \u001b[34mreadr  \u001b[39m 2.1.3      \u001b[32m✔\u001b[39m \u001b[34mforcats\u001b[39m 0.5.2 \n",
      "── \u001b[1mConflicts\u001b[22m ────────────────────────────────────────── tidyverse_conflicts() ──\n",
      "\u001b[31m✖\u001b[39m \u001b[34mdplyr\u001b[39m::\u001b[32mfilter()\u001b[39m masks \u001b[34mstats\u001b[39m::filter()\n",
      "\u001b[31m✖\u001b[39m \u001b[34mdplyr\u001b[39m::\u001b[32mlag()\u001b[39m    masks \u001b[34mstats\u001b[39m::lag()\n"
     ]
    },
    {
     "data": {
      "text/plain": [
       "\n",
       "Call:\n",
       "lm(formula = value ~ group + covariate, data = anova.data.bonus)\n",
       "\n",
       "Residuals:\n",
       "   Min     1Q Median     3Q    Max \n",
       "-4.037 -1.404 -0.254  1.253  4.682 \n",
       "\n",
       "Coefficients:\n",
       "            Estimate Std. Error t value Pr(>|t|)    \n",
       "(Intercept) 10.42283    0.39320  26.508   <2e-16 ***\n",
       "groupb       1.71052    0.55657   3.073    0.003 ** \n",
       "groupc      -0.31153    0.55611  -0.560    0.577    \n",
       "covariate    0.02302    0.20822   0.111    0.912    \n",
       "---\n",
       "Signif. codes:  0 ‘***’ 0.001 ‘**’ 0.01 ‘*’ 0.05 ‘.’ 0.1 ‘ ’ 1\n",
       "\n",
       "Residual standard error: 1.966 on 71 degrees of freedom\n",
       "Multiple R-squared:  0.1781,\tAdjusted R-squared:  0.1433 \n",
       "F-statistic: 5.127 on 3 and 71 DF,  p-value: 0.002882\n"
      ]
     },
     "metadata": {},
     "output_type": "display_data"
    }
   ],
   "source": [
    "library(tidyverse)\n",
    "anova.data.bonus<- anova.data %>% mutate(covariate=rnorm(nrow(anova.data)))\n",
    "summary(lm(value~group + covariate, data = anova.data.bonus))"
   ]
  },
  {
   "cell_type": "markdown",
   "id": "b60652ee",
   "metadata": {},
   "source": [
    "Say we want to compute the p-value for the entire independent categorical variable. We can compare again the above regression model with a model that does not include it."
   ]
  },
  {
   "cell_type": "code",
   "execution_count": 19,
   "id": "9cdd5e3b",
   "metadata": {},
   "outputs": [
    {
     "data": {
      "text/html": [
       "<table class=\"dataframe\">\n",
       "<caption>A anova: 2 × 6</caption>\n",
       "<thead>\n",
       "\t<tr><th></th><th scope=col>Res.Df</th><th scope=col>RSS</th><th scope=col>Df</th><th scope=col>Sum of Sq</th><th scope=col>F</th><th scope=col>Pr(&gt;F)</th></tr>\n",
       "\t<tr><th></th><th scope=col>&lt;dbl&gt;</th><th scope=col>&lt;dbl&gt;</th><th scope=col>&lt;dbl&gt;</th><th scope=col>&lt;dbl&gt;</th><th scope=col>&lt;dbl&gt;</th><th scope=col>&lt;dbl&gt;</th></tr>\n",
       "</thead>\n",
       "<tbody>\n",
       "\t<tr><th scope=row>1</th><td>73</td><td>333.5758</td><td>NA</td><td>      NA</td><td>      NA</td><td>         NA</td></tr>\n",
       "\t<tr><th scope=row>2</th><td>71</td><td>274.4018</td><td> 2</td><td>59.17398</td><td>7.655474</td><td>0.000975736</td></tr>\n",
       "</tbody>\n",
       "</table>\n"
      ],
      "text/latex": [
       "A anova: 2 × 6\n",
       "\\begin{tabular}{r|llllll}\n",
       "  & Res.Df & RSS & Df & Sum of Sq & F & Pr(>F)\\\\\n",
       "  & <dbl> & <dbl> & <dbl> & <dbl> & <dbl> & <dbl>\\\\\n",
       "\\hline\n",
       "\t1 & 73 & 333.5758 & NA &       NA &       NA &          NA\\\\\n",
       "\t2 & 71 & 274.4018 &  2 & 59.17398 & 7.655474 & 0.000975736\\\\\n",
       "\\end{tabular}\n"
      ],
      "text/markdown": [
       "\n",
       "A anova: 2 × 6\n",
       "\n",
       "| <!--/--> | Res.Df &lt;dbl&gt; | RSS &lt;dbl&gt; | Df &lt;dbl&gt; | Sum of Sq &lt;dbl&gt; | F &lt;dbl&gt; | Pr(&gt;F) &lt;dbl&gt; |\n",
       "|---|---|---|---|---|---|---|\n",
       "| 1 | 73 | 333.5758 | NA |       NA |       NA |          NA |\n",
       "| 2 | 71 | 274.4018 |  2 | 59.17398 | 7.655474 | 0.000975736 |\n",
       "\n"
      ],
      "text/plain": [
       "  Res.Df RSS      Df Sum of Sq F        Pr(>F)     \n",
       "1 73     333.5758 NA       NA        NA          NA\n",
       "2 71     274.4018  2 59.17398  7.655474 0.000975736"
      ]
     },
     "metadata": {},
     "output_type": "display_data"
    }
   ],
   "source": [
    "reg.full<-lm(value~group + covariate, data = anova.data.bonus)\n",
    "reg.null<-lm(value~covariate, data = anova.data.bonus)\n",
    "\n",
    "anova(reg.null, reg.full)"
   ]
  },
  {
   "cell_type": "markdown",
   "id": "cb3c272a",
   "metadata": {},
   "source": [
    "This is the same as running the following code:"
   ]
  },
  {
   "cell_type": "code",
   "execution_count": 20,
   "id": "4db2b388",
   "metadata": {},
   "outputs": [
    {
     "data": {
      "text/html": [
       "<table class=\"dataframe\">\n",
       "<caption>A anova: 3 × 4</caption>\n",
       "<thead>\n",
       "\t<tr><th></th><th scope=col>Sum Sq</th><th scope=col>Df</th><th scope=col>F value</th><th scope=col>Pr(&gt;F)</th></tr>\n",
       "\t<tr><th></th><th scope=col>&lt;dbl&gt;</th><th scope=col>&lt;dbl&gt;</th><th scope=col>&lt;dbl&gt;</th><th scope=col>&lt;dbl&gt;</th></tr>\n",
       "</thead>\n",
       "<tbody>\n",
       "\t<tr><th scope=row>group</th><td> 59.17397550</td><td> 2</td><td>7.65547416</td><td>0.000975736</td></tr>\n",
       "\t<tr><th scope=row>covariate</th><td>  0.04723915</td><td> 1</td><td>0.01222288</td><td>0.912279478</td></tr>\n",
       "\t<tr><th scope=row>Residuals</th><td>274.40183148</td><td>71</td><td>        NA</td><td>         NA</td></tr>\n",
       "</tbody>\n",
       "</table>\n"
      ],
      "text/latex": [
       "A anova: 3 × 4\n",
       "\\begin{tabular}{r|llll}\n",
       "  & Sum Sq & Df & F value & Pr(>F)\\\\\n",
       "  & <dbl> & <dbl> & <dbl> & <dbl>\\\\\n",
       "\\hline\n",
       "\tgroup &  59.17397550 &  2 & 7.65547416 & 0.000975736\\\\\n",
       "\tcovariate &   0.04723915 &  1 & 0.01222288 & 0.912279478\\\\\n",
       "\tResiduals & 274.40183148 & 71 &         NA &          NA\\\\\n",
       "\\end{tabular}\n"
      ],
      "text/markdown": [
       "\n",
       "A anova: 3 × 4\n",
       "\n",
       "| <!--/--> | Sum Sq &lt;dbl&gt; | Df &lt;dbl&gt; | F value &lt;dbl&gt; | Pr(&gt;F) &lt;dbl&gt; |\n",
       "|---|---|---|---|---|\n",
       "| group |  59.17397550 |  2 | 7.65547416 | 0.000975736 |\n",
       "| covariate |   0.04723915 |  1 | 0.01222288 | 0.912279478 |\n",
       "| Residuals | 274.40183148 | 71 |         NA |          NA |\n",
       "\n"
      ],
      "text/plain": [
       "          Sum Sq       Df F value    Pr(>F)     \n",
       "group      59.17397550  2 7.65547416 0.000975736\n",
       "covariate   0.04723915  1 0.01222288 0.912279478\n",
       "Residuals 274.40183148 71         NA          NA"
      ]
     },
     "metadata": {},
     "output_type": "display_data"
    }
   ],
   "source": [
    "car::Anova(aov(value~group + covariate, data = anova.data.bonus))"
   ]
  },
  {
   "cell_type": "markdown",
   "id": "66f379db",
   "metadata": {},
   "source": [
    "This is an ANCOVA test. We have not covered this type of test in the course, but FYI, it is just a usual ANOVA test in which we have a continuous variable that acts as a covariate, that is, as an effect we want to control for. And as we have just seen, we can easily run this kind of tests as a linear regression model using the `lm` function."
   ]
  },
  {
   "cell_type": "markdown",
   "id": "b5ab7350",
   "metadata": {},
   "source": [
    "# Week 8: Statistical test for two variables (categorical vs categorical)"
   ]
  },
  {
   "cell_type": "markdown",
   "id": "f5b0d66b",
   "metadata": {},
   "source": [
    "Let's import the data that we used for the tutorial that week:"
   ]
  },
  {
   "cell_type": "code",
   "execution_count": 21,
   "id": "e34daa25",
   "metadata": {},
   "outputs": [
    {
     "data": {
      "text/plain": [
       "         evolution\n",
       "group     Better Same Worse\n",
       "  Drug        30   28    11\n",
       "  Placebo     25   44    33"
      ]
     },
     "metadata": {},
     "output_type": "display_data"
    }
   ],
   "source": [
    "dat<-read.csv(\"https://raw.githubusercontent.com/jrasero/cm-85309-2023/main/datasets/tutorial8chisquare.csv\")\n",
    "dat.table<-xtabs(~group + evolution, dat)\n",
    "dat.table"
   ]
  },
  {
   "cell_type": "markdown",
   "id": "3748f291",
   "metadata": {},
   "source": [
    "We can run a $\\chi^2$-test of independence to address the association between both categorical variables."
   ]
  },
  {
   "cell_type": "code",
   "execution_count": 22,
   "id": "66f81cec",
   "metadata": {},
   "outputs": [
    {
     "data": {
      "text/plain": [
       "\n",
       "\tPearson's Chi-squared test\n",
       "\n",
       "data:  dat.table\n",
       "X-squared = 8.976, df = 2, p-value = 0.01124\n"
      ]
     },
     "metadata": {},
     "output_type": "display_data"
    }
   ],
   "source": [
    "chisq.test(dat.table)"
   ]
  },
  {
   "cell_type": "markdown",
   "id": "90bba59e",
   "metadata": {},
   "source": [
    "Similar to the case where we had just one categorical variable, this analysis involves running a regression model with the number of occurrences for all possible pairs of categories between both categorical variables as the dependent variable, and the actual categories for the two categorical variables as independent variables. To do so, we can create a data frame that contains all this necessary information:"
   ]
  },
  {
   "cell_type": "code",
   "execution_count": 23,
   "id": "4b4c10c7",
   "metadata": {},
   "outputs": [
    {
     "data": {
      "text/html": [
       "<table class=\"dataframe\">\n",
       "<caption>A data.frame: 6 × 3</caption>\n",
       "<thead>\n",
       "\t<tr><th scope=col>group</th><th scope=col>evolution</th><th scope=col>Freq</th></tr>\n",
       "\t<tr><th scope=col>&lt;fct&gt;</th><th scope=col>&lt;fct&gt;</th><th scope=col>&lt;int&gt;</th></tr>\n",
       "</thead>\n",
       "<tbody>\n",
       "\t<tr><td>Drug   </td><td>Better</td><td>30</td></tr>\n",
       "\t<tr><td>Placebo</td><td>Better</td><td>25</td></tr>\n",
       "\t<tr><td>Drug   </td><td>Same  </td><td>28</td></tr>\n",
       "\t<tr><td>Placebo</td><td>Same  </td><td>44</td></tr>\n",
       "\t<tr><td>Drug   </td><td>Worse </td><td>11</td></tr>\n",
       "\t<tr><td>Placebo</td><td>Worse </td><td>33</td></tr>\n",
       "</tbody>\n",
       "</table>\n"
      ],
      "text/latex": [
       "A data.frame: 6 × 3\n",
       "\\begin{tabular}{lll}\n",
       " group & evolution & Freq\\\\\n",
       " <fct> & <fct> & <int>\\\\\n",
       "\\hline\n",
       "\t Drug    & Better & 30\\\\\n",
       "\t Placebo & Better & 25\\\\\n",
       "\t Drug    & Same   & 28\\\\\n",
       "\t Placebo & Same   & 44\\\\\n",
       "\t Drug    & Worse  & 11\\\\\n",
       "\t Placebo & Worse  & 33\\\\\n",
       "\\end{tabular}\n"
      ],
      "text/markdown": [
       "\n",
       "A data.frame: 6 × 3\n",
       "\n",
       "| group &lt;fct&gt; | evolution &lt;fct&gt; | Freq &lt;int&gt; |\n",
       "|---|---|---|\n",
       "| Drug    | Better | 30 |\n",
       "| Placebo | Better | 25 |\n",
       "| Drug    | Same   | 28 |\n",
       "| Placebo | Same   | 44 |\n",
       "| Drug    | Worse  | 11 |\n",
       "| Placebo | Worse  | 33 |\n",
       "\n"
      ],
      "text/plain": [
       "  group   evolution Freq\n",
       "1 Drug    Better    30  \n",
       "2 Placebo Better    25  \n",
       "3 Drug    Same      28  \n",
       "4 Placebo Same      44  \n",
       "5 Drug    Worse     11  \n",
       "6 Placebo Worse     33  "
      ]
     },
     "metadata": {},
     "output_type": "display_data"
    }
   ],
   "source": [
    "dat.occurences<-as.data.frame(xtabs(~group + evolution, dat))\n",
    "dat.occurences"
   ]
  },
  {
   "cell_type": "markdown",
   "id": "bc54da42",
   "metadata": {},
   "source": [
    "As we learned, the purpose of the $\\chi^2$-test is to examine the association between two independent variables. To account for this type of effect in a regression model, we require a term that considers the interaction between the two categorical variables. This is because the $\\beta$ for each individual categorical variable alone cannot account for such an effect, as that would be equivalent to conducting a Pearson's $\\chi^2$-test. The interaction term would enable us to study the combined effect of both categorical variables on the observed occurrences."
   ]
  },
  {
   "cell_type": "code",
   "execution_count": 24,
   "id": "b61bad2e",
   "metadata": {},
   "outputs": [
    {
     "data": {
      "text/html": [
       "<table class=\"dataframe\">\n",
       "<caption>A anova: 2 × 6</caption>\n",
       "<thead>\n",
       "\t<tr><th></th><th scope=col>Resid. Df</th><th scope=col>Resid. Dev</th><th scope=col>Df</th><th scope=col>Deviance</th><th scope=col>Rao</th><th scope=col>Pr(&gt;Chi)</th></tr>\n",
       "\t<tr><th></th><th scope=col>&lt;dbl&gt;</th><th scope=col>&lt;dbl&gt;</th><th scope=col>&lt;dbl&gt;</th><th scope=col>&lt;dbl&gt;</th><th scope=col>&lt;dbl&gt;</th><th scope=col>&lt;dbl&gt;</th></tr>\n",
       "</thead>\n",
       "<tbody>\n",
       "\t<tr><th scope=row>1</th><td>2</td><td>9.143495e+00</td><td>NA</td><td>      NA</td><td>      NA</td><td>        NA</td></tr>\n",
       "\t<tr><th scope=row>2</th><td>0</td><td>1.754152e-14</td><td> 2</td><td>9.143495</td><td>8.975973</td><td>0.01124326</td></tr>\n",
       "</tbody>\n",
       "</table>\n"
      ],
      "text/latex": [
       "A anova: 2 × 6\n",
       "\\begin{tabular}{r|llllll}\n",
       "  & Resid. Df & Resid. Dev & Df & Deviance & Rao & Pr(>Chi)\\\\\n",
       "  & <dbl> & <dbl> & <dbl> & <dbl> & <dbl> & <dbl>\\\\\n",
       "\\hline\n",
       "\t1 & 2 & 9.143495e+00 & NA &       NA &       NA &         NA\\\\\n",
       "\t2 & 0 & 1.754152e-14 &  2 & 9.143495 & 8.975973 & 0.01124326\\\\\n",
       "\\end{tabular}\n"
      ],
      "text/markdown": [
       "\n",
       "A anova: 2 × 6\n",
       "\n",
       "| <!--/--> | Resid. Df &lt;dbl&gt; | Resid. Dev &lt;dbl&gt; | Df &lt;dbl&gt; | Deviance &lt;dbl&gt; | Rao &lt;dbl&gt; | Pr(&gt;Chi) &lt;dbl&gt; |\n",
       "|---|---|---|---|---|---|---|\n",
       "| 1 | 2 | 9.143495e+00 | NA |       NA |       NA |         NA |\n",
       "| 2 | 0 | 1.754152e-14 |  2 | 9.143495 | 8.975973 | 0.01124326 |\n",
       "\n"
      ],
      "text/plain": [
       "  Resid. Df Resid. Dev   Df Deviance Rao      Pr(>Chi)  \n",
       "1 2         9.143495e+00 NA       NA       NA         NA\n",
       "2 0         1.754152e-14  2 9.143495 8.975973 0.01124326"
      ]
     },
     "metadata": {},
     "output_type": "display_data"
    }
   ],
   "source": [
    "reg.full<-glm(Freq ~ group*evolution, data=dat.occurences, family = poisson())\n",
    "reg.null<-glm(Freq ~ group + evolution, data=dat.occurences, family = poisson())\n",
    "anova(reg.null, reg.full, test = 'Rao')"
   ]
  },
  {
   "cell_type": "markdown",
   "id": "add450c1",
   "metadata": {},
   "source": [
    "In this case, the p-value for the interaction term is the same as that from running the `chisq.test` function on the contingency table."
   ]
  },
  {
   "cell_type": "markdown",
   "id": "e97473bb",
   "metadata": {},
   "source": [
    "# Week 8: Statistical test for two variables (continuous vs continuous)"
   ]
  },
  {
   "cell_type": "markdown",
   "id": "b80860a5",
   "metadata": {},
   "source": [
    "Let's recreate the data that we used back then for the tutorial on this scenario:"
   ]
  },
  {
   "cell_type": "code",
   "execution_count": 25,
   "id": "004045a5",
   "metadata": {},
   "outputs": [
    {
     "data": {
      "text/html": [
       "<table class=\"dataframe\">\n",
       "<caption>A data.frame: 6 × 3</caption>\n",
       "<thead>\n",
       "\t<tr><th></th><th scope=col>x</th><th scope=col>y</th><th scope=col>z</th></tr>\n",
       "\t<tr><th></th><th scope=col>&lt;dbl&gt;</th><th scope=col>&lt;dbl&gt;</th><th scope=col>&lt;dbl&gt;</th></tr>\n",
       "</thead>\n",
       "<tbody>\n",
       "\t<tr><th scope=row>1</th><td>-1.2070657</td><td>-0.301309701</td><td> 0.41452353</td></tr>\n",
       "\t<tr><th scope=row>2</th><td> 0.2774292</td><td>-0.030464668</td><td>-0.47471847</td></tr>\n",
       "\t<tr><th scope=row>3</th><td> 1.0844412</td><td>-0.002444845</td><td> 0.06599349</td></tr>\n",
       "\t<tr><th scope=row>4</th><td>-2.3456977</td><td>-0.336065971</td><td>-0.50247778</td></tr>\n",
       "\t<tr><th scope=row>5</th><td> 0.4291247</td><td> 0.026681517</td><td>-0.82599859</td></tr>\n",
       "\t<tr><th scope=row>6</th><td> 0.5060559</td><td> 0.106911171</td><td> 0.16698928</td></tr>\n",
       "</tbody>\n",
       "</table>\n"
      ],
      "text/latex": [
       "A data.frame: 6 × 3\n",
       "\\begin{tabular}{r|lll}\n",
       "  & x & y & z\\\\\n",
       "  & <dbl> & <dbl> & <dbl>\\\\\n",
       "\\hline\n",
       "\t1 & -1.2070657 & -0.301309701 &  0.41452353\\\\\n",
       "\t2 &  0.2774292 & -0.030464668 & -0.47471847\\\\\n",
       "\t3 &  1.0844412 & -0.002444845 &  0.06599349\\\\\n",
       "\t4 & -2.3456977 & -0.336065971 & -0.50247778\\\\\n",
       "\t5 &  0.4291247 &  0.026681517 & -0.82599859\\\\\n",
       "\t6 &  0.5060559 &  0.106911171 &  0.16698928\\\\\n",
       "\\end{tabular}\n"
      ],
      "text/markdown": [
       "\n",
       "A data.frame: 6 × 3\n",
       "\n",
       "| <!--/--> | x &lt;dbl&gt; | y &lt;dbl&gt; | z &lt;dbl&gt; |\n",
       "|---|---|---|---|\n",
       "| 1 | -1.2070657 | -0.301309701 |  0.41452353 |\n",
       "| 2 |  0.2774292 | -0.030464668 | -0.47471847 |\n",
       "| 3 |  1.0844412 | -0.002444845 |  0.06599349 |\n",
       "| 4 | -2.3456977 | -0.336065971 | -0.50247778 |\n",
       "| 5 |  0.4291247 |  0.026681517 | -0.82599859 |\n",
       "| 6 |  0.5060559 |  0.106911171 |  0.16698928 |\n",
       "\n"
      ],
      "text/plain": [
       "  x          y            z          \n",
       "1 -1.2070657 -0.301309701  0.41452353\n",
       "2  0.2774292 -0.030464668 -0.47471847\n",
       "3  1.0844412 -0.002444845  0.06599349\n",
       "4 -2.3456977 -0.336065971 -0.50247778\n",
       "5  0.4291247  0.026681517 -0.82599859\n",
       "6  0.5060559  0.106911171  0.16698928"
      ]
     },
     "metadata": {},
     "output_type": "display_data"
    }
   ],
   "source": [
    "set.seed(1234)\n",
    "x<-rnorm(50)\n",
    "y<- 0.1*x + rnorm(50, sd = 1e-1)\n",
    "z<-rnorm(50)\n",
    "\n",
    "dat<-data.frame(x,y,z)\n",
    "head(dat)"
   ]
  },
  {
   "cell_type": "markdown",
   "id": "f3aad6b4",
   "metadata": {},
   "source": [
    "In our study of assessing the statistical association between two continuous variables, we learned about Pearson's correlation test. This test can be conducted in R using the `cor.test` function."
   ]
  },
  {
   "cell_type": "code",
   "execution_count": 26,
   "id": "fb65d277",
   "metadata": {},
   "outputs": [
    {
     "data": {
      "text/plain": [
       "\n",
       "\tPearson's product-moment correlation\n",
       "\n",
       "data:  x and y\n",
       "t = 5.4891, df = 48, p-value = 1.497e-06\n",
       "alternative hypothesis: true correlation is not equal to 0\n",
       "95 percent confidence interval:\n",
       " 0.4142598 0.7668035\n",
       "sample estimates:\n",
       "     cor \n",
       "0.621001 \n"
      ]
     },
     "metadata": {},
     "output_type": "display_data"
    }
   ],
   "source": [
    "cor.test(x, y)"
   ]
  },
  {
   "cell_type": "markdown",
   "id": "7cc76d54",
   "metadata": {},
   "source": [
    "In terms of a linear model, this is not different from the scenario where the independent variable was categorical but having instead an independent continuous variable. That is, we should run `lm(y~x)`, where *y* is one continuous variable and *x* is the other continuous variable:"
   ]
  },
  {
   "cell_type": "code",
   "execution_count": 27,
   "id": "4fc01944",
   "metadata": {},
   "outputs": [
    {
     "data": {
      "text/plain": [
       "\n",
       "Call:\n",
       "lm(formula = y ~ x, data = dat)\n",
       "\n",
       "Residuals:\n",
       "     Min       1Q   Median       3Q      Max \n",
       "-0.20009 -0.06731 -0.01438  0.06123  0.23695 \n",
       "\n",
       "Coefficients:\n",
       "            Estimate Std. Error t value Pr(>|t|)    \n",
       "(Intercept)  0.01063    0.01665   0.638    0.526    \n",
       "x            0.09267    0.01688   5.489  1.5e-06 ***\n",
       "---\n",
       "Signif. codes:  0 ‘***’ 0.001 ‘**’ 0.01 ‘*’ 0.05 ‘.’ 0.1 ‘ ’ 1\n",
       "\n",
       "Residual standard error: 0.1046 on 48 degrees of freedom\n",
       "Multiple R-squared:  0.3856,\tAdjusted R-squared:  0.3728 \n",
       "F-statistic: 30.13 on 1 and 48 DF,  p-value: 1.497e-06\n"
      ]
     },
     "metadata": {},
     "output_type": "display_data"
    }
   ],
   "source": [
    "summary(lm(y~x, data = dat))"
   ]
  },
  {
   "cell_type": "markdown",
   "id": "542e5ff6",
   "metadata": {},
   "source": [
    "**Important**: The p-value to compare here is again the one from the entire model. And this makes sense, because what defines the correlation coefficient is the entire line, parametrized by the slope and intercept. Similarly, keep in mind that for the linear regression case, $R2$ was equal to the square of the Pearson correlation, so it makes sense again to look at what happens to the model as a whole."
   ]
  },
  {
   "cell_type": "code",
   "execution_count": 28,
   "id": "541b9230",
   "metadata": {},
   "outputs": [
    {
     "data": {
      "text/html": [
       "0.621001002293932"
      ],
      "text/latex": [
       "0.621001002293932"
      ],
      "text/markdown": [
       "0.621001002293932"
      ],
      "text/plain": [
       "[1] 0.621001"
      ]
     },
     "metadata": {},
     "output_type": "display_data"
    },
    {
     "data": {
      "text/html": [
       "<strong>cor:</strong> 0.621001002293932"
      ],
      "text/latex": [
       "\\textbf{cor:} 0.621001002293932"
      ],
      "text/markdown": [
       "**cor:** 0.621001002293932"
      ],
      "text/plain": [
       "     cor \n",
       "0.621001 "
      ]
     },
     "metadata": {},
     "output_type": "display_data"
    }
   ],
   "source": [
    "sqrt(summary(lm(y~x, data = dat))$r.squared)\n",
    "\n",
    "cor.test(x, y)$estimate"
   ]
  }
 ],
 "metadata": {
  "kernelspec": {
   "display_name": "R",
   "language": "R",
   "name": "ir"
  },
  "language_info": {
   "codemirror_mode": "r",
   "file_extension": ".r",
   "mimetype": "text/x-r-source",
   "name": "R",
   "pygments_lexer": "r",
   "version": "4.2.2"
  }
 },
 "nbformat": 4,
 "nbformat_minor": 5
}
