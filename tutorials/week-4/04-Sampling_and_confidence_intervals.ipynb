{
 "cells": [
  {
   "cell_type": "markdown",
   "metadata": {},
   "source": [
    "In this tutorial we are going to see how to take samples from our data and compute and plot confidence intervals. In addition, you guys are going to demonstrate a few concepts and statements introduced in the lectures."
   ]
  },
  {
   "cell_type": "code",
   "execution_count": 1,
   "metadata": {},
   "outputs": [],
   "source": [
    "sat.dat<-read.csv(\"https://vincentarelbundock.github.io/Rdatasets/csv/psych/sat.act.csv\")\n",
    "\n",
    "sat.dat$gender<-as.factor(sat.dat$gender)\n",
    "sat.dat$education<-as.factor(sat.dat$education)"
   ]
  },
  {
   "cell_type": "markdown",
   "metadata": {},
   "source": [
    "# Sampling"
   ]
  },
  {
   "cell_type": "markdown",
   "metadata": {},
   "source": [
    "The R built-in function `sample` allows you to get samples from a given **vector** of values. For example, let's take a sample of 100 observations from the ACT scores."
   ]
  },
  {
   "cell_type": "code",
   "execution_count": 2,
   "metadata": {},
   "outputs": [
    {
     "data": {
      "text/html": [
       "<style>\n",
       ".list-inline {list-style: none; margin:0; padding: 0}\n",
       ".list-inline>li {display: inline-block}\n",
       ".list-inline>li:not(:last-child)::after {content: \"\\00b7\"; padding: 0 .5ex}\n",
       "</style>\n",
       "<ol class=list-inline><li>21</li><li>23</li><li>20</li><li>26</li><li>35</li><li>23</li><li>23</li><li>32</li><li>25</li><li>25</li><li>28</li><li>35</li><li>20</li><li>27</li><li>26</li><li>24</li><li>27</li><li>36</li><li>30</li><li>28</li><li>27</li><li>28</li><li>30</li><li>30</li><li>26</li><li>23</li><li>28</li><li>18</li><li>35</li><li>28</li><li>35</li><li>34</li><li>28</li><li>30</li><li>32</li><li>20</li><li>32</li><li>29</li><li>26</li><li>28</li><li>26</li><li>29</li><li>20</li><li>28</li><li>31</li><li>32</li><li>31</li><li>16</li><li>33</li><li>24</li><li>28</li><li>26</li><li>26</li><li>33</li><li>28</li><li>34</li><li>35</li><li>17</li><li>35</li><li>30</li><li>36</li><li>31</li><li>25</li><li>34</li><li>27</li><li>33</li><li>32</li><li>35</li><li>28</li><li>27</li><li>19</li><li>28</li><li>34</li><li>31</li><li>25</li><li>32</li><li>28</li><li>35</li><li>19</li><li>30</li><li>31</li><li>23</li><li>31</li><li>22</li><li>35</li><li>33</li><li>36</li><li>24</li><li>24</li><li>25</li><li>25</li><li>25</li><li>24</li><li>34</li><li>26</li><li>29</li><li>32</li><li>35</li><li>18</li><li>23</li></ol>\n"
      ],
      "text/latex": [
       "\\begin{enumerate*}\n",
       "\\item 21\n",
       "\\item 23\n",
       "\\item 20\n",
       "\\item 26\n",
       "\\item 35\n",
       "\\item 23\n",
       "\\item 23\n",
       "\\item 32\n",
       "\\item 25\n",
       "\\item 25\n",
       "\\item 28\n",
       "\\item 35\n",
       "\\item 20\n",
       "\\item 27\n",
       "\\item 26\n",
       "\\item 24\n",
       "\\item 27\n",
       "\\item 36\n",
       "\\item 30\n",
       "\\item 28\n",
       "\\item 27\n",
       "\\item 28\n",
       "\\item 30\n",
       "\\item 30\n",
       "\\item 26\n",
       "\\item 23\n",
       "\\item 28\n",
       "\\item 18\n",
       "\\item 35\n",
       "\\item 28\n",
       "\\item 35\n",
       "\\item 34\n",
       "\\item 28\n",
       "\\item 30\n",
       "\\item 32\n",
       "\\item 20\n",
       "\\item 32\n",
       "\\item 29\n",
       "\\item 26\n",
       "\\item 28\n",
       "\\item 26\n",
       "\\item 29\n",
       "\\item 20\n",
       "\\item 28\n",
       "\\item 31\n",
       "\\item 32\n",
       "\\item 31\n",
       "\\item 16\n",
       "\\item 33\n",
       "\\item 24\n",
       "\\item 28\n",
       "\\item 26\n",
       "\\item 26\n",
       "\\item 33\n",
       "\\item 28\n",
       "\\item 34\n",
       "\\item 35\n",
       "\\item 17\n",
       "\\item 35\n",
       "\\item 30\n",
       "\\item 36\n",
       "\\item 31\n",
       "\\item 25\n",
       "\\item 34\n",
       "\\item 27\n",
       "\\item 33\n",
       "\\item 32\n",
       "\\item 35\n",
       "\\item 28\n",
       "\\item 27\n",
       "\\item 19\n",
       "\\item 28\n",
       "\\item 34\n",
       "\\item 31\n",
       "\\item 25\n",
       "\\item 32\n",
       "\\item 28\n",
       "\\item 35\n",
       "\\item 19\n",
       "\\item 30\n",
       "\\item 31\n",
       "\\item 23\n",
       "\\item 31\n",
       "\\item 22\n",
       "\\item 35\n",
       "\\item 33\n",
       "\\item 36\n",
       "\\item 24\n",
       "\\item 24\n",
       "\\item 25\n",
       "\\item 25\n",
       "\\item 25\n",
       "\\item 24\n",
       "\\item 34\n",
       "\\item 26\n",
       "\\item 29\n",
       "\\item 32\n",
       "\\item 35\n",
       "\\item 18\n",
       "\\item 23\n",
       "\\end{enumerate*}\n"
      ],
      "text/markdown": [
       "1. 21\n",
       "2. 23\n",
       "3. 20\n",
       "4. 26\n",
       "5. 35\n",
       "6. 23\n",
       "7. 23\n",
       "8. 32\n",
       "9. 25\n",
       "10. 25\n",
       "11. 28\n",
       "12. 35\n",
       "13. 20\n",
       "14. 27\n",
       "15. 26\n",
       "16. 24\n",
       "17. 27\n",
       "18. 36\n",
       "19. 30\n",
       "20. 28\n",
       "21. 27\n",
       "22. 28\n",
       "23. 30\n",
       "24. 30\n",
       "25. 26\n",
       "26. 23\n",
       "27. 28\n",
       "28. 18\n",
       "29. 35\n",
       "30. 28\n",
       "31. 35\n",
       "32. 34\n",
       "33. 28\n",
       "34. 30\n",
       "35. 32\n",
       "36. 20\n",
       "37. 32\n",
       "38. 29\n",
       "39. 26\n",
       "40. 28\n",
       "41. 26\n",
       "42. 29\n",
       "43. 20\n",
       "44. 28\n",
       "45. 31\n",
       "46. 32\n",
       "47. 31\n",
       "48. 16\n",
       "49. 33\n",
       "50. 24\n",
       "51. 28\n",
       "52. 26\n",
       "53. 26\n",
       "54. 33\n",
       "55. 28\n",
       "56. 34\n",
       "57. 35\n",
       "58. 17\n",
       "59. 35\n",
       "60. 30\n",
       "61. 36\n",
       "62. 31\n",
       "63. 25\n",
       "64. 34\n",
       "65. 27\n",
       "66. 33\n",
       "67. 32\n",
       "68. 35\n",
       "69. 28\n",
       "70. 27\n",
       "71. 19\n",
       "72. 28\n",
       "73. 34\n",
       "74. 31\n",
       "75. 25\n",
       "76. 32\n",
       "77. 28\n",
       "78. 35\n",
       "79. 19\n",
       "80. 30\n",
       "81. 31\n",
       "82. 23\n",
       "83. 31\n",
       "84. 22\n",
       "85. 35\n",
       "86. 33\n",
       "87. 36\n",
       "88. 24\n",
       "89. 24\n",
       "90. 25\n",
       "91. 25\n",
       "92. 25\n",
       "93. 24\n",
       "94. 34\n",
       "95. 26\n",
       "96. 29\n",
       "97. 32\n",
       "98. 35\n",
       "99. 18\n",
       "100. 23\n",
       "\n",
       "\n"
      ],
      "text/plain": [
       "  [1] 21 23 20 26 35 23 23 32 25 25 28 35 20 27 26 24 27 36 30 28 27 28 30 30 26\n",
       " [26] 23 28 18 35 28 35 34 28 30 32 20 32 29 26 28 26 29 20 28 31 32 31 16 33 24\n",
       " [51] 28 26 26 33 28 34 35 17 35 30 36 31 25 34 27 33 32 35 28 27 19 28 34 31 25\n",
       " [76] 32 28 35 19 30 31 23 31 22 35 33 36 24 24 25 25 25 24 34 26 29 32 35 18 23"
      ]
     },
     "metadata": {},
     "output_type": "display_data"
    }
   ],
   "source": [
    "sample(sat.dat$ACT, size=100)"
   ]
  },
  {
   "cell_type": "markdown",
   "metadata": {},
   "source": [
    "This, however, is restricted to vectors, but what if we want to sample a data frame? We can do it with the function `sample_n` from tidyverse."
   ]
  },
  {
   "cell_type": "code",
   "execution_count": 3,
   "metadata": {},
   "outputs": [
    {
     "name": "stderr",
     "output_type": "stream",
     "text": [
      "── \u001b[1mAttaching packages\u001b[22m ─────────────────────────────────────── tidyverse 1.3.2 ──\n",
      "\u001b[32m✔\u001b[39m \u001b[34mggplot2\u001b[39m 3.4.0      \u001b[32m✔\u001b[39m \u001b[34mpurrr  \u001b[39m 1.0.1 \n",
      "\u001b[32m✔\u001b[39m \u001b[34mtibble \u001b[39m 3.1.8      \u001b[32m✔\u001b[39m \u001b[34mdplyr  \u001b[39m 1.0.10\n",
      "\u001b[32m✔\u001b[39m \u001b[34mtidyr  \u001b[39m 1.3.0      \u001b[32m✔\u001b[39m \u001b[34mstringr\u001b[39m 1.5.0 \n",
      "\u001b[32m✔\u001b[39m \u001b[34mreadr  \u001b[39m 2.1.3      \u001b[32m✔\u001b[39m \u001b[34mforcats\u001b[39m 0.5.2 \n",
      "── \u001b[1mConflicts\u001b[22m ────────────────────────────────────────── tidyverse_conflicts() ──\n",
      "\u001b[31m✖\u001b[39m \u001b[34mdplyr\u001b[39m::\u001b[32mfilter()\u001b[39m masks \u001b[34mstats\u001b[39m::filter()\n",
      "\u001b[31m✖\u001b[39m \u001b[34mdplyr\u001b[39m::\u001b[32mlag()\u001b[39m    masks \u001b[34mstats\u001b[39m::lag()\n"
     ]
    },
    {
     "data": {
      "text/html": [
       "<table class=\"dataframe\">\n",
       "<caption>A data.frame: 10 × 7</caption>\n",
       "<thead>\n",
       "\t<tr><th scope=col>X</th><th scope=col>gender</th><th scope=col>education</th><th scope=col>age</th><th scope=col>ACT</th><th scope=col>SATV</th><th scope=col>SATQ</th></tr>\n",
       "\t<tr><th scope=col>&lt;int&gt;</th><th scope=col>&lt;fct&gt;</th><th scope=col>&lt;fct&gt;</th><th scope=col>&lt;int&gt;</th><th scope=col>&lt;int&gt;</th><th scope=col>&lt;int&gt;</th><th scope=col>&lt;int&gt;</th></tr>\n",
       "</thead>\n",
       "<tbody>\n",
       "\t<tr><td>35910</td><td>2</td><td>0</td><td>16</td><td>24</td><td>800</td><td>800</td></tr>\n",
       "\t<tr><td>39772</td><td>2</td><td>3</td><td>20</td><td>36</td><td>760</td><td>760</td></tr>\n",
       "\t<tr><td>33352</td><td>2</td><td>3</td><td>28</td><td>27</td><td>445</td><td>525</td></tr>\n",
       "\t<tr><td>35380</td><td>2</td><td>3</td><td>27</td><td>17</td><td>300</td><td>300</td></tr>\n",
       "\t<tr><td>38404</td><td>2</td><td>3</td><td>20</td><td>34</td><td>700</td><td>670</td></tr>\n",
       "\t<tr><td>39238</td><td>1</td><td>5</td><td>43</td><td>32</td><td>400</td><td>500</td></tr>\n",
       "\t<tr><td>38894</td><td>2</td><td>5</td><td>30</td><td>26</td><td>570</td><td>430</td></tr>\n",
       "\t<tr><td>29518</td><td>1</td><td>5</td><td>26</td><td>28</td><td>640</td><td>640</td></tr>\n",
       "\t<tr><td>31080</td><td>2</td><td>4</td><td>33</td><td>36</td><td>500</td><td>500</td></tr>\n",
       "\t<tr><td>38198</td><td>1</td><td>3</td><td>19</td><td>33</td><td>780</td><td>800</td></tr>\n",
       "</tbody>\n",
       "</table>\n"
      ],
      "text/latex": [
       "A data.frame: 10 × 7\n",
       "\\begin{tabular}{lllllll}\n",
       " X & gender & education & age & ACT & SATV & SATQ\\\\\n",
       " <int> & <fct> & <fct> & <int> & <int> & <int> & <int>\\\\\n",
       "\\hline\n",
       "\t 35910 & 2 & 0 & 16 & 24 & 800 & 800\\\\\n",
       "\t 39772 & 2 & 3 & 20 & 36 & 760 & 760\\\\\n",
       "\t 33352 & 2 & 3 & 28 & 27 & 445 & 525\\\\\n",
       "\t 35380 & 2 & 3 & 27 & 17 & 300 & 300\\\\\n",
       "\t 38404 & 2 & 3 & 20 & 34 & 700 & 670\\\\\n",
       "\t 39238 & 1 & 5 & 43 & 32 & 400 & 500\\\\\n",
       "\t 38894 & 2 & 5 & 30 & 26 & 570 & 430\\\\\n",
       "\t 29518 & 1 & 5 & 26 & 28 & 640 & 640\\\\\n",
       "\t 31080 & 2 & 4 & 33 & 36 & 500 & 500\\\\\n",
       "\t 38198 & 1 & 3 & 19 & 33 & 780 & 800\\\\\n",
       "\\end{tabular}\n"
      ],
      "text/markdown": [
       "\n",
       "A data.frame: 10 × 7\n",
       "\n",
       "| X &lt;int&gt; | gender &lt;fct&gt; | education &lt;fct&gt; | age &lt;int&gt; | ACT &lt;int&gt; | SATV &lt;int&gt; | SATQ &lt;int&gt; |\n",
       "|---|---|---|---|---|---|---|\n",
       "| 35910 | 2 | 0 | 16 | 24 | 800 | 800 |\n",
       "| 39772 | 2 | 3 | 20 | 36 | 760 | 760 |\n",
       "| 33352 | 2 | 3 | 28 | 27 | 445 | 525 |\n",
       "| 35380 | 2 | 3 | 27 | 17 | 300 | 300 |\n",
       "| 38404 | 2 | 3 | 20 | 34 | 700 | 670 |\n",
       "| 39238 | 1 | 5 | 43 | 32 | 400 | 500 |\n",
       "| 38894 | 2 | 5 | 30 | 26 | 570 | 430 |\n",
       "| 29518 | 1 | 5 | 26 | 28 | 640 | 640 |\n",
       "| 31080 | 2 | 4 | 33 | 36 | 500 | 500 |\n",
       "| 38198 | 1 | 3 | 19 | 33 | 780 | 800 |\n",
       "\n"
      ],
      "text/plain": [
       "   X     gender education age ACT SATV SATQ\n",
       "1  35910 2      0         16  24  800  800 \n",
       "2  39772 2      3         20  36  760  760 \n",
       "3  33352 2      3         28  27  445  525 \n",
       "4  35380 2      3         27  17  300  300 \n",
       "5  38404 2      3         20  34  700  670 \n",
       "6  39238 1      5         43  32  400  500 \n",
       "7  38894 2      5         30  26  570  430 \n",
       "8  29518 1      5         26  28  640  640 \n",
       "9  31080 2      4         33  36  500  500 \n",
       "10 38198 1      3         19  33  780  800 "
      ]
     },
     "metadata": {},
     "output_type": "display_data"
    }
   ],
   "source": [
    "library(tidyverse)\n",
    "sample_n(sat.dat, size=10)"
   ]
  },
  {
   "cell_type": "code",
   "execution_count": 5,
   "metadata": {},
   "outputs": [
    {
     "data": {
      "text/html": [
       "<table class=\"dataframe\">\n",
       "<caption>A data.frame: 10 × 7</caption>\n",
       "<thead>\n",
       "\t<tr><th scope=col>X</th><th scope=col>gender</th><th scope=col>education</th><th scope=col>age</th><th scope=col>ACT</th><th scope=col>SATV</th><th scope=col>SATQ</th></tr>\n",
       "\t<tr><th scope=col>&lt;int&gt;</th><th scope=col>&lt;fct&gt;</th><th scope=col>&lt;fct&gt;</th><th scope=col>&lt;int&gt;</th><th scope=col>&lt;int&gt;</th><th scope=col>&lt;int&gt;</th><th scope=col>&lt;int&gt;</th></tr>\n",
       "</thead>\n",
       "<tbody>\n",
       "\t<tr><td>34812</td><td>2</td><td>3</td><td>22</td><td>32</td><td>700</td><td>690</td></tr>\n",
       "\t<tr><td>30129</td><td>2</td><td>5</td><td>30</td><td>36</td><td>660</td><td>610</td></tr>\n",
       "\t<tr><td>35574</td><td>2</td><td>3</td><td>32</td><td>33</td><td>650</td><td>635</td></tr>\n",
       "\t<tr><td>34628</td><td>2</td><td>3</td><td>21</td><td>20</td><td>300</td><td>300</td></tr>\n",
       "\t<tr><td>32429</td><td>1</td><td>3</td><td>24</td><td>29</td><td>650</td><td>610</td></tr>\n",
       "\t<tr><td>32811</td><td>1</td><td>4</td><td>36</td><td>22</td><td>450</td><td>460</td></tr>\n",
       "\t<tr><td>35977</td><td>2</td><td>3</td><td>21</td><td>25</td><td>580</td><td>660</td></tr>\n",
       "\t<tr><td>39242</td><td>2</td><td>3</td><td>21</td><td>27</td><td>610</td><td> NA</td></tr>\n",
       "\t<tr><td>37229</td><td>2</td><td>5</td><td>23</td><td>25</td><td>530</td><td> NA</td></tr>\n",
       "\t<tr><td>34183</td><td>2</td><td>4</td><td>45</td><td>30</td><td>750</td><td>420</td></tr>\n",
       "</tbody>\n",
       "</table>\n"
      ],
      "text/latex": [
       "A data.frame: 10 × 7\n",
       "\\begin{tabular}{lllllll}\n",
       " X & gender & education & age & ACT & SATV & SATQ\\\\\n",
       " <int> & <fct> & <fct> & <int> & <int> & <int> & <int>\\\\\n",
       "\\hline\n",
       "\t 34812 & 2 & 3 & 22 & 32 & 700 & 690\\\\\n",
       "\t 30129 & 2 & 5 & 30 & 36 & 660 & 610\\\\\n",
       "\t 35574 & 2 & 3 & 32 & 33 & 650 & 635\\\\\n",
       "\t 34628 & 2 & 3 & 21 & 20 & 300 & 300\\\\\n",
       "\t 32429 & 1 & 3 & 24 & 29 & 650 & 610\\\\\n",
       "\t 32811 & 1 & 4 & 36 & 22 & 450 & 460\\\\\n",
       "\t 35977 & 2 & 3 & 21 & 25 & 580 & 660\\\\\n",
       "\t 39242 & 2 & 3 & 21 & 27 & 610 &  NA\\\\\n",
       "\t 37229 & 2 & 5 & 23 & 25 & 530 &  NA\\\\\n",
       "\t 34183 & 2 & 4 & 45 & 30 & 750 & 420\\\\\n",
       "\\end{tabular}\n"
      ],
      "text/markdown": [
       "\n",
       "A data.frame: 10 × 7\n",
       "\n",
       "| X &lt;int&gt; | gender &lt;fct&gt; | education &lt;fct&gt; | age &lt;int&gt; | ACT &lt;int&gt; | SATV &lt;int&gt; | SATQ &lt;int&gt; |\n",
       "|---|---|---|---|---|---|---|\n",
       "| 34812 | 2 | 3 | 22 | 32 | 700 | 690 |\n",
       "| 30129 | 2 | 5 | 30 | 36 | 660 | 610 |\n",
       "| 35574 | 2 | 3 | 32 | 33 | 650 | 635 |\n",
       "| 34628 | 2 | 3 | 21 | 20 | 300 | 300 |\n",
       "| 32429 | 1 | 3 | 24 | 29 | 650 | 610 |\n",
       "| 32811 | 1 | 4 | 36 | 22 | 450 | 460 |\n",
       "| 35977 | 2 | 3 | 21 | 25 | 580 | 660 |\n",
       "| 39242 | 2 | 3 | 21 | 27 | 610 |  NA |\n",
       "| 37229 | 2 | 5 | 23 | 25 | 530 |  NA |\n",
       "| 34183 | 2 | 4 | 45 | 30 | 750 | 420 |\n",
       "\n"
      ],
      "text/plain": [
       "   X     gender education age ACT SATV SATQ\n",
       "1  34812 2      3         22  32  700  690 \n",
       "2  30129 2      5         30  36  660  610 \n",
       "3  35574 2      3         32  33  650  635 \n",
       "4  34628 2      3         21  20  300  300 \n",
       "5  32429 1      3         24  29  650  610 \n",
       "6  32811 1      4         36  22  450  460 \n",
       "7  35977 2      3         21  25  580  660 \n",
       "8  39242 2      3         21  27  610   NA \n",
       "9  37229 2      5         23  25  530   NA \n",
       "10 34183 2      4         45  30  750  420 "
      ]
     },
     "metadata": {},
     "output_type": "display_data"
    }
   ],
   "source": [
    "# Here using the pipe operator\n",
    "sat.dat %>% sample_n(size=10)"
   ]
  },
  {
   "cell_type": "markdown",
   "metadata": {},
   "source": [
    "# Confidence Intervals"
   ]
  },
  {
   "cell_type": "markdown",
   "metadata": {},
   "source": [
    "As we saw in the lectures, our estimations of the mean will never be accurate, so it is a common practice to build confidence intervals around this measure, so that we have some degree of confidence about the observed value.\n",
    "\n",
    "As noted in the lectures, the confidence intervals are usually given in terms of percentage, (1-$\\alpha$)$\\cdot$100%, which tells you that if you are to repeat the sampling many times, the given percentage of samples would contain the population mean.\n",
    "\n",
    "To calculate these confidence intervals, one basically has to take the estimated mean and build a symmetrical distribution around it. Then, one just needs to calculate the cut-off values in this distribution such that it contains the  (1-$\\alpha$)$\\cdot$100 of the points. This can be very easily accomplished using the quantile function. (**N.B.** This is one way of calculating confidence intervals that works well for the mean. However, you can always build confidence intervals around ANY statistics, so for some cases, you may need to use a different method, e.g. using a procedure called \"bootstrapping\". This is beyond the scope of this course.)\n",
    "\n",
    "We also showed that one has to use different quantile functions depending on the situation encountered. Let's see this for the calculation of the 95% confidence intervals of the mean (say equal to 10), from a sample of size 30."
   ]
  },
  {
   "cell_type": "code",
   "execution_count": 6,
   "metadata": {},
   "outputs": [],
   "source": [
    "alpha<-0.05 # because of 95% = 100*(1-0.05)\n",
    "n<-30 # sample size"
   ]
  },
  {
   "cell_type": "markdown",
   "metadata": {},
   "source": [
    "- Data follow a GAUSSIAN DISTRIBUTION and standard deviation of the population is KNOWN. Here we use the quantiles from the standard gaussian distribution, which in R is computed with the function `qnorm`."
   ]
  },
  {
   "cell_type": "code",
   "execution_count": 7,
   "metadata": {},
   "outputs": [
    {
     "data": {
      "text/html": [
       "-1.95996398454005"
      ],
      "text/latex": [
       "-1.95996398454005"
      ],
      "text/markdown": [
       "-1.95996398454005"
      ],
      "text/plain": [
       "[1] -1.959964"
      ]
     },
     "metadata": {},
     "output_type": "display_data"
    }
   ],
   "source": [
    "z.alpha052<-qnorm(alpha/2)\n",
    "z.alpha052"
   ]
  },
  {
   "cell_type": "markdown",
   "metadata": {},
   "source": [
    "For this then we would build our 95% confidence intervals for a given sample like this:\n",
    "\n",
    "< X > $\\pm$ 1.95996398454005 * $\\frac{\\sigma}{\\sqrt{n}}$"
   ]
  },
  {
   "cell_type": "markdown",
   "metadata": {},
   "source": [
    "- GAUSSIAN distribution and standard deviation of the population is UNKNOWN.\n",
    "- NON-GAUSSIAN distribution.\n",
    "\n",
    "Here we would use the quantiles from the Student's t-distribution. In R this is calculated with the function `qt`."
   ]
  },
  {
   "cell_type": "code",
   "execution_count": 8,
   "metadata": {},
   "outputs": [
    {
     "data": {
      "text/html": [
       "-2.0452296421327"
      ],
      "text/latex": [
       "-2.0452296421327"
      ],
      "text/markdown": [
       "-2.0452296421327"
      ],
      "text/plain": [
       "[1] -2.04523"
      ]
     },
     "metadata": {},
     "output_type": "display_data"
    }
   ],
   "source": [
    "t.29.alpha052<-qt(alpha/2, df = n-1)\n",
    "t.29.alpha052"
   ]
  },
  {
   "cell_type": "markdown",
   "metadata": {},
   "source": [
    "And the 95% confidence intervals would be expressed in this case like:\n",
    "\n",
    "< X > $\\pm$ 2.0452296421327 * $\\frac{\\hat{\\sigma}}{\\sqrt{n}}$\n",
    "\n",
    "Here, since we don't know the standard deviation from the population, we will estimate it from the sample. That's why we have a hat, i.e. $\\hat{\\sigma}$. This is calculated with the R function `sd`. "
   ]
  },
  {
   "cell_type": "markdown",
   "metadata": {},
   "source": [
    "As you can see, this result is way different from the previous one, because the t-distribution has heavier tails than the gaussian distribution. However, as the sample sizes increase, the t-distribution converges to a gaussian distribution, so results should not differ that much in such scenarios. Let's see this."
   ]
  },
  {
   "cell_type": "code",
   "execution_count": 9,
   "metadata": {},
   "outputs": [
    {
     "name": "stdout",
     "output_type": "stream",
     "text": [
      "[1] -1.959964\n",
      "[1] -2.04523\n",
      "[1] -2.009575\n",
      "[1] -1.984217\n",
      "[1] -1.964729\n"
     ]
    }
   ],
   "source": [
    "sample.size<-c(30, 50, 100, 500)\n",
    "print(z.alpha052)\n",
    "\n",
    "for (sample.size in sample.size)\n",
    "{\n",
    "    print(qt(alpha/2, df = sample.size-1))\n",
    "}"
   ]
  },
  {
   "cell_type": "markdown",
   "metadata": {},
   "source": [
    "<div class=\"alert alert-info\"> <b>Demonstration</b>: The (1-$\\alpha$)$\\cdot$100% confidence intervals could be interpreted as the (1-$\\alpha$)$\\cdot$100% of the experiments that will include the real mean, if we are to replicate an experiment many times and compute the confidence intervals each time.\n",
    "\n",
    "Let's demonstrate this for a population that follows a Gaussian distribution with mean=100 and standard deviation=15. Consider 500 experiments. In each experiment, sample 100 observations from a population with the aforementioned parameters (mean=100, standard deviation=15), calculate the sample mean and standard deviation. These will be the estimated parameters for our population. Then, calculate the 95% confidence interval. Finally, check - i.e you should obtain a logical value (i.e. TRUE or FALSE) - whether this confidence interval contains the population mean (100). For each experiment, store the final logic value into a vector. With this vector of 500 logical values (one for each experiment), calculate the proportion of TRUES in the vector. It should give approximately 95%.  \n",
    "</div>"
   ]
  },
  {
   "cell_type": "markdown",
   "metadata": {},
   "source": [
    "# Plotting confidence intervals\n",
    "\n",
    "Some times, you may want to plot the confidence intervals. We are going to see now how to do this using the libraries **ggplot** and **dplyr**."
   ]
  },
  {
   "cell_type": "code",
   "execution_count": 10,
   "metadata": {},
   "outputs": [],
   "source": [
    "library(tidyverse)"
   ]
  },
  {
   "cell_type": "code",
   "execution_count": 11,
   "metadata": {},
   "outputs": [
    {
     "data": {
      "text/html": [
       "<table class=\"dataframe\">\n",
       "<caption>A tibble: 6 × 6</caption>\n",
       "<thead>\n",
       "\t<tr><th scope=col>education</th><th scope=col>mu</th><th scope=col>std</th><th scope=col>N</th><th scope=col>se</th><th scope=col>tn1.alpha2</th></tr>\n",
       "\t<tr><th scope=col>&lt;fct&gt;</th><th scope=col>&lt;dbl&gt;</th><th scope=col>&lt;dbl&gt;</th><th scope=col>&lt;int&gt;</th><th scope=col>&lt;dbl&gt;</th><th scope=col>&lt;dbl&gt;</th></tr>\n",
       "</thead>\n",
       "<tbody>\n",
       "\t<tr><td>0</td><td>27.47368</td><td>5.206813</td><td> 57</td><td>0.6896592</td><td>-2.003241</td></tr>\n",
       "\t<tr><td>1</td><td>27.48889</td><td>6.055134</td><td> 45</td><td>0.9026461</td><td>-2.015368</td></tr>\n",
       "\t<tr><td>2</td><td>26.97727</td><td>5.808929</td><td> 44</td><td>0.8757290</td><td>-2.016692</td></tr>\n",
       "\t<tr><td>3</td><td>28.29455</td><td>4.846227</td><td>275</td><td>0.2922385</td><td>-1.968660</td></tr>\n",
       "\t<tr><td>4</td><td>29.26087</td><td>4.345153</td><td>138</td><td>0.3698840</td><td>-1.977431</td></tr>\n",
       "\t<tr><td>5</td><td>29.60284</td><td>3.954887</td><td>141</td><td>0.3330616</td><td>-1.977054</td></tr>\n",
       "</tbody>\n",
       "</table>\n"
      ],
      "text/latex": [
       "A tibble: 6 × 6\n",
       "\\begin{tabular}{llllll}\n",
       " education & mu & std & N & se & tn1.alpha2\\\\\n",
       " <fct> & <dbl> & <dbl> & <int> & <dbl> & <dbl>\\\\\n",
       "\\hline\n",
       "\t 0 & 27.47368 & 5.206813 &  57 & 0.6896592 & -2.003241\\\\\n",
       "\t 1 & 27.48889 & 6.055134 &  45 & 0.9026461 & -2.015368\\\\\n",
       "\t 2 & 26.97727 & 5.808929 &  44 & 0.8757290 & -2.016692\\\\\n",
       "\t 3 & 28.29455 & 4.846227 & 275 & 0.2922385 & -1.968660\\\\\n",
       "\t 4 & 29.26087 & 4.345153 & 138 & 0.3698840 & -1.977431\\\\\n",
       "\t 5 & 29.60284 & 3.954887 & 141 & 0.3330616 & -1.977054\\\\\n",
       "\\end{tabular}\n"
      ],
      "text/markdown": [
       "\n",
       "A tibble: 6 × 6\n",
       "\n",
       "| education &lt;fct&gt; | mu &lt;dbl&gt; | std &lt;dbl&gt; | N &lt;int&gt; | se &lt;dbl&gt; | tn1.alpha2 &lt;dbl&gt; |\n",
       "|---|---|---|---|---|---|\n",
       "| 0 | 27.47368 | 5.206813 |  57 | 0.6896592 | -2.003241 |\n",
       "| 1 | 27.48889 | 6.055134 |  45 | 0.9026461 | -2.015368 |\n",
       "| 2 | 26.97727 | 5.808929 |  44 | 0.8757290 | -2.016692 |\n",
       "| 3 | 28.29455 | 4.846227 | 275 | 0.2922385 | -1.968660 |\n",
       "| 4 | 29.26087 | 4.345153 | 138 | 0.3698840 | -1.977431 |\n",
       "| 5 | 29.60284 | 3.954887 | 141 | 0.3330616 | -1.977054 |\n",
       "\n"
      ],
      "text/plain": [
       "  education mu       std      N   se        tn1.alpha2\n",
       "1 0         27.47368 5.206813  57 0.6896592 -2.003241 \n",
       "2 1         27.48889 6.055134  45 0.9026461 -2.015368 \n",
       "3 2         26.97727 5.808929  44 0.8757290 -2.016692 \n",
       "4 3         28.29455 4.846227 275 0.2922385 -1.968660 \n",
       "5 4         29.26087 4.345153 138 0.3698840 -1.977431 \n",
       "6 5         29.60284 3.954887 141 0.3330616 -1.977054 "
      ]
     },
     "metadata": {},
     "output_type": "display_data"
    }
   ],
   "source": [
    "act.summary<-sat.dat %>% \n",
    "group_by(education) %>%\n",
    "summarize(mu=mean(ACT), \n",
    "       std=sd(ACT), \n",
    "       N=n(), \n",
    "       se=std/sqrt(N),\n",
    "       tn1.alpha2=qt(0.025, df = N-1))\n",
    "\n",
    "act.summary"
   ]
  },
  {
   "cell_type": "code",
   "execution_count": 12,
   "metadata": {},
   "outputs": [
    {
     "data": {
      "image/png": "[encoded data removed]",
      "text/plain": [
       "plot without title"
      ]
     },
     "metadata": {
      "image/png": {
       "height": 420,
       "width": 420
      }
     },
     "output_type": "display_data"
    }
   ],
   "source": [
    "ggplot(data = act.summary, aes(x=education, y=mu)) + \n",
    "geom_errorbar(aes(ymin=mu-1.96*se, ymax=mu+1.96*se), width=.1) + \n",
    "geom_point(size=5)"
   ]
  },
  {
   "cell_type": "code",
   "execution_count": 13,
   "metadata": {},
   "outputs": [
    {
     "data": {
      "image/png": "[encoded data removed]",
      "text/plain": [
       "plot without title"
      ]
     },
     "metadata": {
      "image/png": {
       "height": 420,
       "width": 420
      }
     },
     "output_type": "display_data"
    }
   ],
   "source": [
    "ggplot(data = act.summary, aes(x=education, y=mu)) + \n",
    "geom_errorbar(aes(ymin=mu+tn1.alpha2*se, ymax=mu-tn1.alpha2*se), width=.1) + \n",
    "geom_point(size=5)"
   ]
  },
  {
   "cell_type": "code",
   "execution_count": 14,
   "metadata": {},
   "outputs": [
    {
     "data": {
      "image/png": "[encoded data removed]",
      "text/plain": [
       "plot without title"
      ]
     },
     "metadata": {
      "image/png": {
       "height": 420,
       "width": 420
      }
     },
     "output_type": "display_data"
    }
   ],
   "source": [
    "# This is the  same as above\n",
    "ggplot(data = act.summary, aes(x=education, y=mu)) + \n",
    "geom_errorbar(aes(ymin=mu-abs(qt(0.025, df = N-1))*se, ymax=mu+abs(qt(0.025, df = N-1))*se), width=.1) + \n",
    "geom_point(size=5)"
   ]
  },
  {
   "cell_type": "markdown",
   "metadata": {},
   "source": [
    "As you can see, the confidence intervals for education > 2 are similar to the gaussian case; and that's because for those categories, the sample sizes were large."
   ]
  },
  {
   "cell_type": "markdown",
   "metadata": {},
   "source": [
    "<div class=\"alert alert-info\"> <b>Demonstration</b>: As the sample size increases, the sample mean tends to the population mean.\n",
    "\n",
    "Let's demonstrate this for a population whose weight follows a gaussian distribution with mean = 70kg and standard deviation=10kg. \n",
    "    \n",
    "Consider the following sequence of samples sizes: (5, 10, 50, 100, 200, 500, 1000, 5000, 10000). For each of these sample sizes, generate a random sample and take the mean. Plot these against the sample sizes.\n",
    "</div>"
   ]
  },
  {
   "cell_type": "markdown",
   "metadata": {},
   "source": [
    "<div class=\"alert alert-info\"> <b>Demonstration</b>: The estimation of the standard deviation of the population goes with N-1 instead of N.\n",
    "    \n",
    "To demonstrate this, consider sampling from the population of IQ's, that is, from a normal distribution with mean=100 and standard deviation=15. Now, using `rnorm`, extract 10,000 samples with 2 observation, 10,000 more with 3 observations, and so on up to a sample size of 10. In each of these samples, calculate the mean, the standard deviation using the built-in R function `sd` (which divides by N-1), and the standard deviation divided by N (you will need to implement it yourself). \n",
    "    \n",
    "Then, plot the average of the sample means and the average of the standard deviations versus the sample size. You should see that, on average, the sample means are always around 100, regardless of the sample size.  However, the estimated standard deviations calculated dividing by N turn out to be systematically too small, especially for small sample sizes. Dividing by N-1 tries to circumvent this.\n",
    "</div>"
   ]
  }
 ],
 "metadata": {
  "kernelspec": {
   "display_name": "R",
   "language": "R",
   "name": "ir"
  },
  "language_info": {
   "codemirror_mode": "r",
   "file_extension": ".r",
   "mimetype": "text/x-r-source",
   "name": "R",
   "pygments_lexer": "r",
   "version": "4.2.2"
  }
 },
 "nbformat": 4,
 "nbformat_minor": 5
}
