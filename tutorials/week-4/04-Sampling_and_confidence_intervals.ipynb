{
 "cells": [
  {
   "cell_type": "markdown",
   "id": "fc01f566",
   "metadata": {},
   "source": [
    "In this tutorial we are going to see how to take samples from our data and compute and plot confidence intervals. In addition, you guys are going to demonstrate a few concepts and statements introduced in the lectures."
   ]
  },
  {
   "cell_type": "code",
   "execution_count": 1,
   "id": "019b5264",
   "metadata": {},
   "outputs": [],
   "source": [
    "sat.dat<-read.csv(\"https://vincentarelbundock.github.io/Rdatasets/csv/psych/sat.act.csv\")\n",
    "\n",
    "sat.dat$gender<-as.factor(sat.dat$gender)\n",
    "sat.dat$education<-as.factor(sat.dat$education)"
   ]
  },
  {
   "cell_type": "markdown",
   "id": "32c3e2a3",
   "metadata": {},
   "source": [
    "# Sampling"
   ]
  },
  {
   "cell_type": "markdown",
   "id": "5b10153e",
   "metadata": {},
   "source": [
    "The R built-in function `sample` allows you to get samples from a given **vector** of values. For example, let's take a sample of 100 observations from the ACT scores."
   ]
  },
  {
   "cell_type": "code",
   "execution_count": 2,
   "id": "2ff37c3b",
   "metadata": {},
   "outputs": [
    {
     "data": {
      "text/html": [
       "<style>\n",
       ".list-inline {list-style: none; margin:0; padding: 0}\n",
       ".list-inline>li {display: inline-block}\n",
       ".list-inline>li:not(:last-child)::after {content: \"\\00b7\"; padding: 0 .5ex}\n",
       "</style>\n",
       "<ol class=list-inline><li>30</li><li>25</li><li>25</li><li>31</li><li>29</li><li>29</li><li>28</li><li>19</li><li>26</li><li>27</li><li>31</li><li>29</li><li>21</li><li>26</li><li>30</li><li>28</li><li>30</li><li>28</li><li>26</li><li>35</li><li>33</li><li>23</li><li>27</li><li>32</li><li>28</li><li>28</li><li>23</li><li>30</li><li>31</li><li>18</li><li>35</li><li>35</li><li>25</li><li>25</li><li>34</li><li>27</li><li>35</li><li>25</li><li>35</li><li>18</li><li>33</li><li>24</li><li>33</li><li>29</li><li>31</li><li>35</li><li>28</li><li>29</li><li>26</li><li>29</li><li>27</li><li>27</li><li>26</li><li>28</li><li>18</li><li>31</li><li>32</li><li>34</li><li>33</li><li>22</li><li>20</li><li>28</li><li>24</li><li>21</li><li>29</li><li>35</li><li>30</li><li>27</li><li>31</li><li>31</li><li>24</li><li>21</li><li>30</li><li>32</li><li>30</li><li>34</li><li>36</li><li>36</li><li>36</li><li>23</li><li>25</li><li>36</li><li>30</li><li>29</li><li>32</li><li>15</li><li>34</li><li>35</li><li>27</li><li>35</li><li>34</li><li>36</li><li>27</li><li>28</li><li>22</li><li>20</li><li>32</li><li>31</li><li>35</li><li>25</li></ol>\n"
      ],
      "text/latex": [
       "\\begin{enumerate*}\n",
       "\\item 30\n",
       "\\item 25\n",
       "\\item 25\n",
       "\\item 31\n",
       "\\item 29\n",
       "\\item 29\n",
       "\\item 28\n",
       "\\item 19\n",
       "\\item 26\n",
       "\\item 27\n",
       "\\item 31\n",
       "\\item 29\n",
       "\\item 21\n",
       "\\item 26\n",
       "\\item 30\n",
       "\\item 28\n",
       "\\item 30\n",
       "\\item 28\n",
       "\\item 26\n",
       "\\item 35\n",
       "\\item 33\n",
       "\\item 23\n",
       "\\item 27\n",
       "\\item 32\n",
       "\\item 28\n",
       "\\item 28\n",
       "\\item 23\n",
       "\\item 30\n",
       "\\item 31\n",
       "\\item 18\n",
       "\\item 35\n",
       "\\item 35\n",
       "\\item 25\n",
       "\\item 25\n",
       "\\item 34\n",
       "\\item 27\n",
       "\\item 35\n",
       "\\item 25\n",
       "\\item 35\n",
       "\\item 18\n",
       "\\item 33\n",
       "\\item 24\n",
       "\\item 33\n",
       "\\item 29\n",
       "\\item 31\n",
       "\\item 35\n",
       "\\item 28\n",
       "\\item 29\n",
       "\\item 26\n",
       "\\item 29\n",
       "\\item 27\n",
       "\\item 27\n",
       "\\item 26\n",
       "\\item 28\n",
       "\\item 18\n",
       "\\item 31\n",
       "\\item 32\n",
       "\\item 34\n",
       "\\item 33\n",
       "\\item 22\n",
       "\\item 20\n",
       "\\item 28\n",
       "\\item 24\n",
       "\\item 21\n",
       "\\item 29\n",
       "\\item 35\n",
       "\\item 30\n",
       "\\item 27\n",
       "\\item 31\n",
       "\\item 31\n",
       "\\item 24\n",
       "\\item 21\n",
       "\\item 30\n",
       "\\item 32\n",
       "\\item 30\n",
       "\\item 34\n",
       "\\item 36\n",
       "\\item 36\n",
       "\\item 36\n",
       "\\item 23\n",
       "\\item 25\n",
       "\\item 36\n",
       "\\item 30\n",
       "\\item 29\n",
       "\\item 32\n",
       "\\item 15\n",
       "\\item 34\n",
       "\\item 35\n",
       "\\item 27\n",
       "\\item 35\n",
       "\\item 34\n",
       "\\item 36\n",
       "\\item 27\n",
       "\\item 28\n",
       "\\item 22\n",
       "\\item 20\n",
       "\\item 32\n",
       "\\item 31\n",
       "\\item 35\n",
       "\\item 25\n",
       "\\end{enumerate*}\n"
      ],
      "text/markdown": [
       "1. 30\n",
       "2. 25\n",
       "3. 25\n",
       "4. 31\n",
       "5. 29\n",
       "6. 29\n",
       "7. 28\n",
       "8. 19\n",
       "9. 26\n",
       "10. 27\n",
       "11. 31\n",
       "12. 29\n",
       "13. 21\n",
       "14. 26\n",
       "15. 30\n",
       "16. 28\n",
       "17. 30\n",
       "18. 28\n",
       "19. 26\n",
       "20. 35\n",
       "21. 33\n",
       "22. 23\n",
       "23. 27\n",
       "24. 32\n",
       "25. 28\n",
       "26. 28\n",
       "27. 23\n",
       "28. 30\n",
       "29. 31\n",
       "30. 18\n",
       "31. 35\n",
       "32. 35\n",
       "33. 25\n",
       "34. 25\n",
       "35. 34\n",
       "36. 27\n",
       "37. 35\n",
       "38. 25\n",
       "39. 35\n",
       "40. 18\n",
       "41. 33\n",
       "42. 24\n",
       "43. 33\n",
       "44. 29\n",
       "45. 31\n",
       "46. 35\n",
       "47. 28\n",
       "48. 29\n",
       "49. 26\n",
       "50. 29\n",
       "51. 27\n",
       "52. 27\n",
       "53. 26\n",
       "54. 28\n",
       "55. 18\n",
       "56. 31\n",
       "57. 32\n",
       "58. 34\n",
       "59. 33\n",
       "60. 22\n",
       "61. 20\n",
       "62. 28\n",
       "63. 24\n",
       "64. 21\n",
       "65. 29\n",
       "66. 35\n",
       "67. 30\n",
       "68. 27\n",
       "69. 31\n",
       "70. 31\n",
       "71. 24\n",
       "72. 21\n",
       "73. 30\n",
       "74. 32\n",
       "75. 30\n",
       "76. 34\n",
       "77. 36\n",
       "78. 36\n",
       "79. 36\n",
       "80. 23\n",
       "81. 25\n",
       "82. 36\n",
       "83. 30\n",
       "84. 29\n",
       "85. 32\n",
       "86. 15\n",
       "87. 34\n",
       "88. 35\n",
       "89. 27\n",
       "90. 35\n",
       "91. 34\n",
       "92. 36\n",
       "93. 27\n",
       "94. 28\n",
       "95. 22\n",
       "96. 20\n",
       "97. 32\n",
       "98. 31\n",
       "99. 35\n",
       "100. 25\n",
       "\n",
       "\n"
      ],
      "text/plain": [
       "  [1] 30 25 25 31 29 29 28 19 26 27 31 29 21 26 30 28 30 28 26 35 33 23 27 32 28\n",
       " [26] 28 23 30 31 18 35 35 25 25 34 27 35 25 35 18 33 24 33 29 31 35 28 29 26 29\n",
       " [51] 27 27 26 28 18 31 32 34 33 22 20 28 24 21 29 35 30 27 31 31 24 21 30 32 30\n",
       " [76] 34 36 36 36 23 25 36 30 29 32 15 34 35 27 35 34 36 27 28 22 20 32 31 35 25"
      ]
     },
     "metadata": {},
     "output_type": "display_data"
    }
   ],
   "source": [
    "sample(sat.dat$ACT, size=100)"
   ]
  },
  {
   "cell_type": "markdown",
   "id": "51d5a3ab",
   "metadata": {},
   "source": [
    "This, however, is restricted to vectors, but what if we want to sample a data frame? We can do it with the function `sample_n` from tidyverse."
   ]
  },
  {
   "cell_type": "code",
   "execution_count": 3,
   "id": "041e1983",
   "metadata": {},
   "outputs": [
    {
     "name": "stderr",
     "output_type": "stream",
     "text": [
      "── \u001b[1mAttaching packages\u001b[22m ─────────────────────────────────────── tidyverse 1.3.2 ──\n",
      "\u001b[32m✔\u001b[39m \u001b[34mggplot2\u001b[39m 3.4.0      \u001b[32m✔\u001b[39m \u001b[34mpurrr  \u001b[39m 1.0.1 \n",
      "\u001b[32m✔\u001b[39m \u001b[34mtibble \u001b[39m 3.1.8      \u001b[32m✔\u001b[39m \u001b[34mdplyr  \u001b[39m 1.0.10\n",
      "\u001b[32m✔\u001b[39m \u001b[34mtidyr  \u001b[39m 1.2.1      \u001b[32m✔\u001b[39m \u001b[34mstringr\u001b[39m 1.5.0 \n",
      "\u001b[32m✔\u001b[39m \u001b[34mreadr  \u001b[39m 2.1.3      \u001b[32m✔\u001b[39m \u001b[34mforcats\u001b[39m 0.5.2 \n",
      "── \u001b[1mConflicts\u001b[22m ────────────────────────────────────────── tidyverse_conflicts() ──\n",
      "\u001b[31m✖\u001b[39m \u001b[34mdplyr\u001b[39m::\u001b[32mfilter()\u001b[39m masks \u001b[34mstats\u001b[39m::filter()\n",
      "\u001b[31m✖\u001b[39m \u001b[34mdplyr\u001b[39m::\u001b[32mlag()\u001b[39m    masks \u001b[34mstats\u001b[39m::lag()\n"
     ]
    },
    {
     "data": {
      "text/html": [
       "<table class=\"dataframe\">\n",
       "<caption>A data.frame: 10 × 7</caption>\n",
       "<thead>\n",
       "\t<tr><th scope=col>X</th><th scope=col>gender</th><th scope=col>education</th><th scope=col>age</th><th scope=col>ACT</th><th scope=col>SATV</th><th scope=col>SATQ</th></tr>\n",
       "\t<tr><th scope=col>&lt;int&gt;</th><th scope=col>&lt;fct&gt;</th><th scope=col>&lt;fct&gt;</th><th scope=col>&lt;int&gt;</th><th scope=col>&lt;int&gt;</th><th scope=col>&lt;int&gt;</th><th scope=col>&lt;int&gt;</th></tr>\n",
       "</thead>\n",
       "<tbody>\n",
       "\t<tr><td>38583</td><td>2</td><td>3</td><td>24</td><td>25</td><td>300</td><td>300</td></tr>\n",
       "\t<tr><td>36658</td><td>2</td><td>5</td><td>24</td><td>29</td><td>690</td><td>640</td></tr>\n",
       "\t<tr><td>29990</td><td>1</td><td>4</td><td>54</td><td>33</td><td>660</td><td>580</td></tr>\n",
       "\t<tr><td>33949</td><td>2</td><td>1</td><td>18</td><td>25</td><td>540</td><td>550</td></tr>\n",
       "\t<tr><td>34583</td><td>2</td><td>3</td><td>25</td><td>27</td><td>500</td><td>500</td></tr>\n",
       "\t<tr><td>35563</td><td>2</td><td>5</td><td>37</td><td>20</td><td>500</td><td>490</td></tr>\n",
       "\t<tr><td>36249</td><td>2</td><td>3</td><td>18</td><td>31</td><td>800</td><td>750</td></tr>\n",
       "\t<tr><td>32393</td><td>2</td><td>3</td><td>22</td><td>34</td><td>740</td><td>560</td></tr>\n",
       "\t<tr><td>32220</td><td>1</td><td>4</td><td>38</td><td>35</td><td>600</td><td>600</td></tr>\n",
       "\t<tr><td>34989</td><td>2</td><td>3</td><td>21</td><td>22</td><td>530</td><td>520</td></tr>\n",
       "</tbody>\n",
       "</table>\n"
      ],
      "text/latex": [
       "A data.frame: 10 × 7\n",
       "\\begin{tabular}{lllllll}\n",
       " X & gender & education & age & ACT & SATV & SATQ\\\\\n",
       " <int> & <fct> & <fct> & <int> & <int> & <int> & <int>\\\\\n",
       "\\hline\n",
       "\t 38583 & 2 & 3 & 24 & 25 & 300 & 300\\\\\n",
       "\t 36658 & 2 & 5 & 24 & 29 & 690 & 640\\\\\n",
       "\t 29990 & 1 & 4 & 54 & 33 & 660 & 580\\\\\n",
       "\t 33949 & 2 & 1 & 18 & 25 & 540 & 550\\\\\n",
       "\t 34583 & 2 & 3 & 25 & 27 & 500 & 500\\\\\n",
       "\t 35563 & 2 & 5 & 37 & 20 & 500 & 490\\\\\n",
       "\t 36249 & 2 & 3 & 18 & 31 & 800 & 750\\\\\n",
       "\t 32393 & 2 & 3 & 22 & 34 & 740 & 560\\\\\n",
       "\t 32220 & 1 & 4 & 38 & 35 & 600 & 600\\\\\n",
       "\t 34989 & 2 & 3 & 21 & 22 & 530 & 520\\\\\n",
       "\\end{tabular}\n"
      ],
      "text/markdown": [
       "\n",
       "A data.frame: 10 × 7\n",
       "\n",
       "| X &lt;int&gt; | gender &lt;fct&gt; | education &lt;fct&gt; | age &lt;int&gt; | ACT &lt;int&gt; | SATV &lt;int&gt; | SATQ &lt;int&gt; |\n",
       "|---|---|---|---|---|---|---|\n",
       "| 38583 | 2 | 3 | 24 | 25 | 300 | 300 |\n",
       "| 36658 | 2 | 5 | 24 | 29 | 690 | 640 |\n",
       "| 29990 | 1 | 4 | 54 | 33 | 660 | 580 |\n",
       "| 33949 | 2 | 1 | 18 | 25 | 540 | 550 |\n",
       "| 34583 | 2 | 3 | 25 | 27 | 500 | 500 |\n",
       "| 35563 | 2 | 5 | 37 | 20 | 500 | 490 |\n",
       "| 36249 | 2 | 3 | 18 | 31 | 800 | 750 |\n",
       "| 32393 | 2 | 3 | 22 | 34 | 740 | 560 |\n",
       "| 32220 | 1 | 4 | 38 | 35 | 600 | 600 |\n",
       "| 34989 | 2 | 3 | 21 | 22 | 530 | 520 |\n",
       "\n"
      ],
      "text/plain": [
       "   X     gender education age ACT SATV SATQ\n",
       "1  38583 2      3         24  25  300  300 \n",
       "2  36658 2      5         24  29  690  640 \n",
       "3  29990 1      4         54  33  660  580 \n",
       "4  33949 2      1         18  25  540  550 \n",
       "5  34583 2      3         25  27  500  500 \n",
       "6  35563 2      5         37  20  500  490 \n",
       "7  36249 2      3         18  31  800  750 \n",
       "8  32393 2      3         22  34  740  560 \n",
       "9  32220 1      4         38  35  600  600 \n",
       "10 34989 2      3         21  22  530  520 "
      ]
     },
     "metadata": {},
     "output_type": "display_data"
    }
   ],
   "source": [
    "library(tidyverse)\n",
    "sample_n(sat.dat, size=10)"
   ]
  },
  {
   "cell_type": "code",
   "execution_count": 4,
   "id": "671b4ebf",
   "metadata": {},
   "outputs": [
    {
     "data": {
      "text/html": [
       "<table class=\"dataframe\">\n",
       "<caption>A data.frame: 10 × 7</caption>\n",
       "<thead>\n",
       "\t<tr><th scope=col>X</th><th scope=col>gender</th><th scope=col>education</th><th scope=col>age</th><th scope=col>ACT</th><th scope=col>SATV</th><th scope=col>SATQ</th></tr>\n",
       "\t<tr><th scope=col>&lt;int&gt;</th><th scope=col>&lt;fct&gt;</th><th scope=col>&lt;fct&gt;</th><th scope=col>&lt;int&gt;</th><th scope=col>&lt;int&gt;</th><th scope=col>&lt;int&gt;</th><th scope=col>&lt;int&gt;</th></tr>\n",
       "</thead>\n",
       "<tbody>\n",
       "\t<tr><td>36843</td><td>1</td><td>3</td><td>18</td><td>34</td><td>700</td><td>800</td></tr>\n",
       "\t<tr><td>35091</td><td>1</td><td>3</td><td>29</td><td>33</td><td>590</td><td>770</td></tr>\n",
       "\t<tr><td>36126</td><td>1</td><td>3</td><td>25</td><td>27</td><td>620</td><td>500</td></tr>\n",
       "\t<tr><td>34989</td><td>2</td><td>3</td><td>21</td><td>22</td><td>530</td><td>520</td></tr>\n",
       "\t<tr><td>33341</td><td>2</td><td>3</td><td>21</td><td>28</td><td>640</td><td>690</td></tr>\n",
       "\t<tr><td>30836</td><td>2</td><td>4</td><td>29</td><td>27</td><td>640</td><td>600</td></tr>\n",
       "\t<tr><td>34407</td><td>1</td><td>3</td><td>21</td><td>32</td><td>670</td><td>750</td></tr>\n",
       "\t<tr><td>30129</td><td>2</td><td>5</td><td>30</td><td>36</td><td>660</td><td>610</td></tr>\n",
       "\t<tr><td>39691</td><td>2</td><td>3</td><td>19</td><td>33</td><td>740</td><td>700</td></tr>\n",
       "\t<tr><td>39651</td><td>2</td><td>4</td><td>28</td><td>36</td><td>590</td><td>620</td></tr>\n",
       "</tbody>\n",
       "</table>\n"
      ],
      "text/latex": [
       "A data.frame: 10 × 7\n",
       "\\begin{tabular}{lllllll}\n",
       " X & gender & education & age & ACT & SATV & SATQ\\\\\n",
       " <int> & <fct> & <fct> & <int> & <int> & <int> & <int>\\\\\n",
       "\\hline\n",
       "\t 36843 & 1 & 3 & 18 & 34 & 700 & 800\\\\\n",
       "\t 35091 & 1 & 3 & 29 & 33 & 590 & 770\\\\\n",
       "\t 36126 & 1 & 3 & 25 & 27 & 620 & 500\\\\\n",
       "\t 34989 & 2 & 3 & 21 & 22 & 530 & 520\\\\\n",
       "\t 33341 & 2 & 3 & 21 & 28 & 640 & 690\\\\\n",
       "\t 30836 & 2 & 4 & 29 & 27 & 640 & 600\\\\\n",
       "\t 34407 & 1 & 3 & 21 & 32 & 670 & 750\\\\\n",
       "\t 30129 & 2 & 5 & 30 & 36 & 660 & 610\\\\\n",
       "\t 39691 & 2 & 3 & 19 & 33 & 740 & 700\\\\\n",
       "\t 39651 & 2 & 4 & 28 & 36 & 590 & 620\\\\\n",
       "\\end{tabular}\n"
      ],
      "text/markdown": [
       "\n",
       "A data.frame: 10 × 7\n",
       "\n",
       "| X &lt;int&gt; | gender &lt;fct&gt; | education &lt;fct&gt; | age &lt;int&gt; | ACT &lt;int&gt; | SATV &lt;int&gt; | SATQ &lt;int&gt; |\n",
       "|---|---|---|---|---|---|---|\n",
       "| 36843 | 1 | 3 | 18 | 34 | 700 | 800 |\n",
       "| 35091 | 1 | 3 | 29 | 33 | 590 | 770 |\n",
       "| 36126 | 1 | 3 | 25 | 27 | 620 | 500 |\n",
       "| 34989 | 2 | 3 | 21 | 22 | 530 | 520 |\n",
       "| 33341 | 2 | 3 | 21 | 28 | 640 | 690 |\n",
       "| 30836 | 2 | 4 | 29 | 27 | 640 | 600 |\n",
       "| 34407 | 1 | 3 | 21 | 32 | 670 | 750 |\n",
       "| 30129 | 2 | 5 | 30 | 36 | 660 | 610 |\n",
       "| 39691 | 2 | 3 | 19 | 33 | 740 | 700 |\n",
       "| 39651 | 2 | 4 | 28 | 36 | 590 | 620 |\n",
       "\n"
      ],
      "text/plain": [
       "   X     gender education age ACT SATV SATQ\n",
       "1  36843 1      3         18  34  700  800 \n",
       "2  35091 1      3         29  33  590  770 \n",
       "3  36126 1      3         25  27  620  500 \n",
       "4  34989 2      3         21  22  530  520 \n",
       "5  33341 2      3         21  28  640  690 \n",
       "6  30836 2      4         29  27  640  600 \n",
       "7  34407 1      3         21  32  670  750 \n",
       "8  30129 2      5         30  36  660  610 \n",
       "9  39691 2      3         19  33  740  700 \n",
       "10 39651 2      4         28  36  590  620 "
      ]
     },
     "metadata": {},
     "output_type": "display_data"
    }
   ],
   "source": [
    "# Here using the pipe operator\n",
    "sat.dat %>% sample_n(size=10)"
   ]
  },
  {
   "cell_type": "markdown",
   "id": "4aa7ec08",
   "metadata": {},
   "source": [
    "# Confidence Intervals"
   ]
  },
  {
   "cell_type": "markdown",
   "id": "b1dd9d4d",
   "metadata": {},
   "source": [
    "As we saw in the lectures, our estimations of the mean will never be accurate, so it is a common practice to build confidence intervals around this measure, so that we have some degree of confidence about the observed value.\n",
    "\n",
    "As noted in the lectures, the confidence intervals are usually given in terms of percentage, (1-$\\alpha$)$\\cdot$100%, which tells you that if you are to repeat the sampling many times, the given percentage of samples would contain the population mean.\n",
    "\n",
    "To calculate these confidence intervals, one basically has to take the estimated mean and build a symmetrical distribution around it. Then, one just needs to calculate the cut-off values in this distribution such that it contains the  (1-$\\alpha$)$\\cdot$100 of the points. This can be very easily accomplished using the quantile function. (**N.B.** This is one way of calculating confidence intervals that works well for the mean. However, you can always build confidence intervals around ANY statistics, so for some cases, you may need to use a different method, e.g. using a procedure called \"bootstrapping\". This is beyond the scope of this course.)\n",
    "\n",
    "We also showed that one had to use different quantile functions depending on the situation encountered. Let's see this for the calculation of the 95% confidence intervals of the mean (say equal to 10), from a sample of size 30."
   ]
  },
  {
   "cell_type": "code",
   "execution_count": 5,
   "id": "e416ffb4",
   "metadata": {},
   "outputs": [],
   "source": [
    "alpha<-0.05 # because of 95% = 100*(1-0.05)\n",
    "n<-30 # sample size"
   ]
  },
  {
   "cell_type": "markdown",
   "id": "b0128376",
   "metadata": {},
   "source": [
    "- Data follow a GAUSSIAN DISTRIBUTION and standard deviation of the population is KNOWN. Here we use the quantiles from the standard gaussian distribution, which in R is computed with the function `qnorm`."
   ]
  },
  {
   "cell_type": "code",
   "execution_count": 6,
   "id": "e93869dc",
   "metadata": {},
   "outputs": [
    {
     "data": {
      "text/html": [
       "-1.95996398454005"
      ],
      "text/latex": [
       "-1.95996398454005"
      ],
      "text/markdown": [
       "-1.95996398454005"
      ],
      "text/plain": [
       "[1] -1.959964"
      ]
     },
     "metadata": {},
     "output_type": "display_data"
    }
   ],
   "source": [
    "z.alpha052<-qnorm(alpha/2)\n",
    "z.alpha052"
   ]
  },
  {
   "cell_type": "markdown",
   "id": "d87263c2",
   "metadata": {},
   "source": [
    "For this then we would build our 95% confidence intervals for a given sample like this:\n",
    "\n",
    "< X > $\\pm$ 1.95996398454005 * $\\frac{\\sigma}{\\sqrt{n}}$"
   ]
  },
  {
   "cell_type": "markdown",
   "id": "ed80f950",
   "metadata": {},
   "source": [
    "- GAUSSIAN distribution and standard deviation of the population is UNKOWN.\n",
    "- NON-GAUSSIAN distribution.\n",
    "\n",
    "Here we would use the quantiles from the Student's t-distribution. In R this is calculated with the function `qt`."
   ]
  },
  {
   "cell_type": "code",
   "execution_count": 7,
   "id": "d7bb5d3c",
   "metadata": {},
   "outputs": [
    {
     "data": {
      "text/html": [
       "-2.0452296421327"
      ],
      "text/latex": [
       "-2.0452296421327"
      ],
      "text/markdown": [
       "-2.0452296421327"
      ],
      "text/plain": [
       "[1] -2.04523"
      ]
     },
     "metadata": {},
     "output_type": "display_data"
    }
   ],
   "source": [
    "t.29.alpha052<-qt(alpha/2, df = n-1)\n",
    "t.29.alpha052"
   ]
  },
  {
   "cell_type": "markdown",
   "id": "754e946b",
   "metadata": {},
   "source": [
    "And the 95% confidence intervals would be expressed in this case like:\n",
    "\n",
    "< X > $\\pm$ 2.0452296421327* $\\frac{\\hat{\\sigma}}{\\sqrt{n}}$\n",
    "\n",
    "Here, since we don't know the standard deviation from the population, we will estimate it from the sample. That's why we have a hat, i.e. \\hat{\\sigma}. This is calculated with the R function `sd`. "
   ]
  },
  {
   "cell_type": "markdown",
   "id": "14aa18ce",
   "metadata": {},
   "source": [
    "As you can see, this result is way different from the previous one, because the t-distribution has heavier tails than the gaussian distribution. However, as the sample sizes increase, the t-distribution converges to a gaussian distribution, so results should not differ that much in such scenarios. Let's see this."
   ]
  },
  {
   "cell_type": "code",
   "execution_count": 8,
   "id": "bfb5a33b",
   "metadata": {},
   "outputs": [
    {
     "name": "stdout",
     "output_type": "stream",
     "text": [
      "[1] -1.959964\n",
      "[1] -2.04523\n",
      "[1] -2.009575\n",
      "[1] -1.984217\n",
      "[1] -1.964729\n"
     ]
    }
   ],
   "source": [
    "sample.size<-c(30, 50, 100, 500)\n",
    "print(z.alpha052)\n",
    "\n",
    "for (sample.size in sample.size)\n",
    "{\n",
    "    print(qt(alpha/2, df = sample.size-1))\n",
    "}"
   ]
  },
  {
   "cell_type": "markdown",
   "id": "0cc5951f",
   "metadata": {},
   "source": [
    "<div class=\"alert alert-info\"> <b>Demonstration</b>: The (1-$\\alpha$)$\\cdot$100% confidence intervals could be interpreted as the (1-$\\alpha$)$\\cdot$100% of the experiments that will include the real mean, if we are to replicate an experiment many times and compute the confidence intervals each time.\n",
    "\n",
    "Let's demonstrate this for a population that follows a Gaussian distribution with mean=100 and standard deviation=15. Consider 500 experiments. In each experiment, sample 100 observations from a population with the aforementioned parameters (mean=100, standard deviation=15), calculate the sample mean and standard deviation. These will be the estimated parameters for our population. Then, calculate the 95% confidence interval. Finally, check - i.e you should obtain a logical value (i.e. TRUE or FALSE) - whether this confidence interval contains the population mean (100). For each experiment, store the final logic value into a vector. With this vector of 500 logical values (one for each experiment), calculate the proportion of TRUES in the vector. It should give approximately 95%.  \n",
    "</div>"
   ]
  },
  {
   "cell_type": "markdown",
   "id": "a8d193ba",
   "metadata": {},
   "source": [
    "# Plotting confidence intervals\n",
    "\n",
    "Some times, you may want to plot the confidence intervals. We are going to see now how to do this using the libraries **ggplot** and **dplyr**."
   ]
  },
  {
   "cell_type": "code",
   "execution_count": 2,
   "id": "edbfa19c",
   "metadata": {},
   "outputs": [
    {
     "name": "stderr",
     "output_type": "stream",
     "text": [
      "── \u001b[1mAttaching packages\u001b[22m ────────────────────────────────────────────────────────────────────────────────────────────────────────────────────────────────────────────────────────────────── tidyverse 1.3.2 ──\n",
      "\u001b[32m✔\u001b[39m \u001b[34mggplot2\u001b[39m 3.4.0      \u001b[32m✔\u001b[39m \u001b[34mpurrr  \u001b[39m 0.3.4 \n",
      "\u001b[32m✔\u001b[39m \u001b[34mtibble \u001b[39m 3.1.8      \u001b[32m✔\u001b[39m \u001b[34mdplyr  \u001b[39m 1.0.10\n",
      "\u001b[32m✔\u001b[39m \u001b[34mtidyr  \u001b[39m 1.2.1      \u001b[32m✔\u001b[39m \u001b[34mstringr\u001b[39m 1.4.0 \n",
      "\u001b[32m✔\u001b[39m \u001b[34mreadr  \u001b[39m 2.1.3      \u001b[32m✔\u001b[39m \u001b[34mforcats\u001b[39m 0.5.1 \n",
      "── \u001b[1mConflicts\u001b[22m ───────────────────────────────────────────────────────────────────────────────────────────────────────────────────────────────────────────────────────────────────── tidyverse_conflicts() ──\n",
      "\u001b[31m✖\u001b[39m \u001b[34mdplyr\u001b[39m::\u001b[32mfilter()\u001b[39m masks \u001b[34mstats\u001b[39m::filter()\n",
      "\u001b[31m✖\u001b[39m \u001b[34mdplyr\u001b[39m::\u001b[32mlag()\u001b[39m    masks \u001b[34mstats\u001b[39m::lag()\n"
     ]
    }
   ],
   "source": [
    "library(tidyverse)"
   ]
  },
  {
   "cell_type": "code",
   "execution_count": 8,
   "id": "8158bb23",
   "metadata": {},
   "outputs": [
    {
     "data": {
      "text/html": [
       "<table class=\"dataframe\">\n",
       "<caption>A tibble: 6 × 6</caption>\n",
       "<thead>\n",
       "\t<tr><th scope=col>education</th><th scope=col>mu</th><th scope=col>std</th><th scope=col>N</th><th scope=col>se</th><th scope=col>tn1.alpha2</th></tr>\n",
       "\t<tr><th scope=col>&lt;fct&gt;</th><th scope=col>&lt;dbl&gt;</th><th scope=col>&lt;dbl&gt;</th><th scope=col>&lt;int&gt;</th><th scope=col>&lt;dbl&gt;</th><th scope=col>&lt;dbl&gt;</th></tr>\n",
       "</thead>\n",
       "<tbody>\n",
       "\t<tr><td>0</td><td>27.47368</td><td>5.206813</td><td> 57</td><td>0.6896592</td><td>-2.003241</td></tr>\n",
       "\t<tr><td>1</td><td>27.48889</td><td>6.055134</td><td> 45</td><td>0.9026461</td><td>-2.015368</td></tr>\n",
       "\t<tr><td>2</td><td>26.97727</td><td>5.808929</td><td> 44</td><td>0.8757290</td><td>-2.016692</td></tr>\n",
       "\t<tr><td>3</td><td>28.29455</td><td>4.846227</td><td>275</td><td>0.2922385</td><td>-1.968660</td></tr>\n",
       "\t<tr><td>4</td><td>29.26087</td><td>4.345153</td><td>138</td><td>0.3698840</td><td>-1.977431</td></tr>\n",
       "\t<tr><td>5</td><td>29.60284</td><td>3.954887</td><td>141</td><td>0.3330616</td><td>-1.977054</td></tr>\n",
       "</tbody>\n",
       "</table>\n"
      ],
      "text/latex": [
       "A tibble: 6 × 6\n",
       "\\begin{tabular}{llllll}\n",
       " education & mu & std & N & se & tn1.alpha2\\\\\n",
       " <fct> & <dbl> & <dbl> & <int> & <dbl> & <dbl>\\\\\n",
       "\\hline\n",
       "\t 0 & 27.47368 & 5.206813 &  57 & 0.6896592 & -2.003241\\\\\n",
       "\t 1 & 27.48889 & 6.055134 &  45 & 0.9026461 & -2.015368\\\\\n",
       "\t 2 & 26.97727 & 5.808929 &  44 & 0.8757290 & -2.016692\\\\\n",
       "\t 3 & 28.29455 & 4.846227 & 275 & 0.2922385 & -1.968660\\\\\n",
       "\t 4 & 29.26087 & 4.345153 & 138 & 0.3698840 & -1.977431\\\\\n",
       "\t 5 & 29.60284 & 3.954887 & 141 & 0.3330616 & -1.977054\\\\\n",
       "\\end{tabular}\n"
      ],
      "text/markdown": [
       "\n",
       "A tibble: 6 × 6\n",
       "\n",
       "| education &lt;fct&gt; | mu &lt;dbl&gt; | std &lt;dbl&gt; | N &lt;int&gt; | se &lt;dbl&gt; | tn1.alpha2 &lt;dbl&gt; |\n",
       "|---|---|---|---|---|---|\n",
       "| 0 | 27.47368 | 5.206813 |  57 | 0.6896592 | -2.003241 |\n",
       "| 1 | 27.48889 | 6.055134 |  45 | 0.9026461 | -2.015368 |\n",
       "| 2 | 26.97727 | 5.808929 |  44 | 0.8757290 | -2.016692 |\n",
       "| 3 | 28.29455 | 4.846227 | 275 | 0.2922385 | -1.968660 |\n",
       "| 4 | 29.26087 | 4.345153 | 138 | 0.3698840 | -1.977431 |\n",
       "| 5 | 29.60284 | 3.954887 | 141 | 0.3330616 | -1.977054 |\n",
       "\n"
      ],
      "text/plain": [
       "  education mu       std      N   se        tn1.alpha2\n",
       "1 0         27.47368 5.206813  57 0.6896592 -2.003241 \n",
       "2 1         27.48889 6.055134  45 0.9026461 -2.015368 \n",
       "3 2         26.97727 5.808929  44 0.8757290 -2.016692 \n",
       "4 3         28.29455 4.846227 275 0.2922385 -1.968660 \n",
       "5 4         29.26087 4.345153 138 0.3698840 -1.977431 \n",
       "6 5         29.60284 3.954887 141 0.3330616 -1.977054 "
      ]
     },
     "metadata": {},
     "output_type": "display_data"
    }
   ],
   "source": [
    "act.summary<-sat.dat %>% \n",
    "group_by(education) %>%\n",
    "summarize(mu=mean(ACT), \n",
    "       std=sd(ACT), \n",
    "       N=n(), \n",
    "       se=std/sqrt(N),\n",
    "       tn1.alpha2=qt(0.025, df = N-1))\n",
    "\n",
    "act.summary"
   ]
  },
  {
   "cell_type": "code",
   "execution_count": 4,
   "id": "00fb19a2",
   "metadata": {},
   "outputs": [
    {
     "data": {
      "image/png": "[encoded data removed]",
      "text/plain": [
       "plot without title"
      ]
     },
     "metadata": {
      "image/png": {
       "height": 420,
       "width": 420
      }
     },
     "output_type": "display_data"
    }
   ],
   "source": [
    "ggplot(data = act.summary, aes(x=education, y=mu)) + \n",
    "geom_errorbar(aes(ymin=mu-1.96*se, ymax=mu+1.96*se), width=.1) + \n",
    "geom_point(size=5)"
   ]
  },
  {
   "cell_type": "code",
   "execution_count": 11,
   "id": "5babd20d",
   "metadata": {},
   "outputs": [
    {
     "data": {
      "image/png": "[encoded data removed]",
      "text/plain": [
       "plot without title"
      ]
     },
     "metadata": {
      "image/png": {
       "height": 420,
       "width": 420
      }
     },
     "output_type": "display_data"
    }
   ],
   "source": [
    "ggplot(data = act.summary, aes(x=education, y=mu)) + \n",
    "geom_errorbar(aes(ymin=mu+tn1.alpha2*se, ymax=mu-tn1.alpha2*se), width=.1) + \n",
    "geom_point(size=5)"
   ]
  },
  {
   "cell_type": "code",
   "execution_count": 12,
   "id": "f2d74c4a",
   "metadata": {},
   "outputs": [
    {
     "data": {
      "image/png": "[encoded data removed]",
      "text/plain": [
       "plot without title"
      ]
     },
     "metadata": {
      "image/png": {
       "height": 420,
       "width": 420
      }
     },
     "output_type": "display_data"
    }
   ],
   "source": [
    "# This is the  same as above\n",
    "ggplot(data = act.summary, aes(x=education, y=mu)) + \n",
    "geom_errorbar(aes(ymin=mu-abs(qt(0.025, df = N-1))*se, ymax=mu+abs(qt(0.025, df = N-1))*se), width=.1) + \n",
    "geom_point(size=5)"
   ]
  },
  {
   "cell_type": "markdown",
   "id": "700b8905",
   "metadata": {},
   "source": [
    "As you can see, the confidence intervals for education > 2 are similar to the gaussian case; and that's because for those categories, the sample sizes were large."
   ]
  },
  {
   "cell_type": "markdown",
   "id": "62d2fec1",
   "metadata": {},
   "source": [
    "<div class=\"alert alert-info\"> <b>Demonstration</b>: As the sample size increases, the sample mean tends to the population mean.\n",
    "\n",
    "Let's demonstrate this for a population whose weight follows a gaussian distribution with mean = 70kg and standard deviation=10kg. \n",
    "    \n",
    "Consider the following sequence of samples sizes: (5, 10, 50, 100, 200, 500, 1000, 5000, 10000). For each of these sample sizes, generate a random sample and take the mean. Plot these against the sample sizes.\n",
    "</div>"
   ]
  },
  {
   "cell_type": "markdown",
   "id": "80222555",
   "metadata": {},
   "source": [
    "<div class=\"alert alert-info\"> <b>Demonstration</b>: The estimation of the standard deviation of the population goes with N-1 instead of N.\n",
    "    \n",
    "To demonstrate this, consider sampling from the population of IQ's, that is, from a normal distribution with mean=100 and standard deviation=15. Now, using `rnorm`, extract 10,000 samples with 2 observation, 10,000 more with 3 observations, and so on up to a sample size of 10. In each of these samples, calculate the mean, the standard deviation using the built-in R function `sd` (which divides by N-1), and the standard deviation divided by N (you will need to implement it yourself). \n",
    "    \n",
    "Then, plot the average of the sample means and the average of the standard deviations versus the sample size. You should see that, on average, the sample means are always around 100, regardless of the sample size.  However, the estimated standard deviations calculated dividing by N turn out to be systematically too small, especially for small sample sizes. Dividing by N-1 tries to circumvent this.\n",
    "</div>"
   ]
  }
 ],
 "metadata": {
  "kernelspec": {
   "display_name": "R",
   "language": "R",
   "name": "ir"
  },
  "language_info": {
   "codemirror_mode": "r",
   "file_extension": ".r",
   "mimetype": "text/x-r-source",
   "name": "R",
   "pygments_lexer": "r",
   "version": "3.6.3"
  }
 },
 "nbformat": 4,
 "nbformat_minor": 5
}
