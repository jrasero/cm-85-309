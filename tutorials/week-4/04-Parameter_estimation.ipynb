{
 "cells": [
  {
   "cell_type": "markdown",
   "id": "fb66ee57",
   "metadata": {},
   "source": [
    "- sampling distributions?\n",
    "- Standard Error\n",
    "- Confidence intervals"
   ]
  },
  {
   "cell_type": "code",
   "execution_count": 71,
   "id": "019b5264",
   "metadata": {},
   "outputs": [],
   "source": [
    "sat.dat<-read.csv(\"https://vincentarelbundock.github.io/Rdatasets/csv/psych/sat.act.csv\")\n",
    "\n",
    "sat.dat$gender<-as.factor(sat.dat$gender)\n",
    "sat.dat$education<-as.factor(sat.dat$education)"
   ]
  },
  {
   "cell_type": "markdown",
   "id": "32c3e2a3",
   "metadata": {},
   "source": [
    "# Sample distributions"
   ]
  },
  {
   "cell_type": "code",
   "execution_count": 183,
   "id": "26e85571",
   "metadata": {},
   "outputs": [],
   "source": [
    "#ames <- read.csv(\"https://dyurovsky.github.io/85309/data/lab4/ames.csv\")\n",
    "#ames"
   ]
  },
  {
   "cell_type": "markdown",
   "id": "5b10153e",
   "metadata": {},
   "source": [
    "`sample`\n",
    "\n",
    "This is an R built-in function that allows you to get samples from a given vector of values. For example, let's take a sample of 100 observations from the ACT results data"
   ]
  },
  {
   "cell_type": "code",
   "execution_count": 194,
   "id": "2ff37c3b",
   "metadata": {},
   "outputs": [
    {
     "data": {
      "text/html": [
       "<ol class=list-inline>\n",
       "\t<li>32</li>\n",
       "\t<li>34</li>\n",
       "\t<li>30</li>\n",
       "\t<li>28</li>\n",
       "\t<li>35</li>\n",
       "\t<li>30</li>\n",
       "\t<li>30</li>\n",
       "\t<li>32</li>\n",
       "\t<li>22</li>\n",
       "\t<li>36</li>\n",
       "\t<li>26</li>\n",
       "\t<li>33</li>\n",
       "\t<li>29</li>\n",
       "\t<li>21</li>\n",
       "\t<li>29</li>\n",
       "\t<li>21</li>\n",
       "\t<li>20</li>\n",
       "\t<li>25</li>\n",
       "\t<li>23</li>\n",
       "\t<li>19</li>\n",
       "\t<li>35</li>\n",
       "\t<li>36</li>\n",
       "\t<li>23</li>\n",
       "\t<li>33</li>\n",
       "\t<li>28</li>\n",
       "\t<li>27</li>\n",
       "\t<li>35</li>\n",
       "\t<li>35</li>\n",
       "\t<li>32</li>\n",
       "\t<li>36</li>\n",
       "\t<li>34</li>\n",
       "\t<li>26</li>\n",
       "\t<li>24</li>\n",
       "\t<li>28</li>\n",
       "\t<li>32</li>\n",
       "\t<li>29</li>\n",
       "\t<li>34</li>\n",
       "\t<li>31</li>\n",
       "\t<li>35</li>\n",
       "\t<li>23</li>\n",
       "\t<li>30</li>\n",
       "\t<li>32</li>\n",
       "\t<li>36</li>\n",
       "\t<li>21</li>\n",
       "\t<li>34</li>\n",
       "\t<li>32</li>\n",
       "\t<li>33</li>\n",
       "\t<li>23</li>\n",
       "\t<li>36</li>\n",
       "\t<li>16</li>\n",
       "\t<li>21</li>\n",
       "\t<li>28</li>\n",
       "\t<li>33</li>\n",
       "\t<li>31</li>\n",
       "\t<li>35</li>\n",
       "\t<li>26</li>\n",
       "\t<li>30</li>\n",
       "\t<li>28</li>\n",
       "\t<li>28</li>\n",
       "\t<li>35</li>\n",
       "\t<li>25</li>\n",
       "\t<li>35</li>\n",
       "\t<li>27</li>\n",
       "\t<li>28</li>\n",
       "\t<li>20</li>\n",
       "\t<li>31</li>\n",
       "\t<li>32</li>\n",
       "\t<li>33</li>\n",
       "\t<li>32</li>\n",
       "\t<li>30</li>\n",
       "\t<li>26</li>\n",
       "\t<li>18</li>\n",
       "\t<li>35</li>\n",
       "\t<li>36</li>\n",
       "\t<li>27</li>\n",
       "\t<li>33</li>\n",
       "\t<li>30</li>\n",
       "\t<li>32</li>\n",
       "\t<li>35</li>\n",
       "\t<li>34</li>\n",
       "\t<li>15</li>\n",
       "\t<li>30</li>\n",
       "\t<li>23</li>\n",
       "\t<li>30</li>\n",
       "\t<li>34</li>\n",
       "\t<li>28</li>\n",
       "\t<li>33</li>\n",
       "\t<li>22</li>\n",
       "\t<li>22</li>\n",
       "\t<li>26</li>\n",
       "\t<li>28</li>\n",
       "\t<li>29</li>\n",
       "\t<li>25</li>\n",
       "\t<li>29</li>\n",
       "\t<li>35</li>\n",
       "\t<li>29</li>\n",
       "\t<li>20</li>\n",
       "\t<li>28</li>\n",
       "\t<li>27</li>\n",
       "\t<li>29</li>\n",
       "</ol>\n"
      ],
      "text/latex": [
       "\\begin{enumerate*}\n",
       "\\item 32\n",
       "\\item 34\n",
       "\\item 30\n",
       "\\item 28\n",
       "\\item 35\n",
       "\\item 30\n",
       "\\item 30\n",
       "\\item 32\n",
       "\\item 22\n",
       "\\item 36\n",
       "\\item 26\n",
       "\\item 33\n",
       "\\item 29\n",
       "\\item 21\n",
       "\\item 29\n",
       "\\item 21\n",
       "\\item 20\n",
       "\\item 25\n",
       "\\item 23\n",
       "\\item 19\n",
       "\\item 35\n",
       "\\item 36\n",
       "\\item 23\n",
       "\\item 33\n",
       "\\item 28\n",
       "\\item 27\n",
       "\\item 35\n",
       "\\item 35\n",
       "\\item 32\n",
       "\\item 36\n",
       "\\item 34\n",
       "\\item 26\n",
       "\\item 24\n",
       "\\item 28\n",
       "\\item 32\n",
       "\\item 29\n",
       "\\item 34\n",
       "\\item 31\n",
       "\\item 35\n",
       "\\item 23\n",
       "\\item 30\n",
       "\\item 32\n",
       "\\item 36\n",
       "\\item 21\n",
       "\\item 34\n",
       "\\item 32\n",
       "\\item 33\n",
       "\\item 23\n",
       "\\item 36\n",
       "\\item 16\n",
       "\\item 21\n",
       "\\item 28\n",
       "\\item 33\n",
       "\\item 31\n",
       "\\item 35\n",
       "\\item 26\n",
       "\\item 30\n",
       "\\item 28\n",
       "\\item 28\n",
       "\\item 35\n",
       "\\item 25\n",
       "\\item 35\n",
       "\\item 27\n",
       "\\item 28\n",
       "\\item 20\n",
       "\\item 31\n",
       "\\item 32\n",
       "\\item 33\n",
       "\\item 32\n",
       "\\item 30\n",
       "\\item 26\n",
       "\\item 18\n",
       "\\item 35\n",
       "\\item 36\n",
       "\\item 27\n",
       "\\item 33\n",
       "\\item 30\n",
       "\\item 32\n",
       "\\item 35\n",
       "\\item 34\n",
       "\\item 15\n",
       "\\item 30\n",
       "\\item 23\n",
       "\\item 30\n",
       "\\item 34\n",
       "\\item 28\n",
       "\\item 33\n",
       "\\item 22\n",
       "\\item 22\n",
       "\\item 26\n",
       "\\item 28\n",
       "\\item 29\n",
       "\\item 25\n",
       "\\item 29\n",
       "\\item 35\n",
       "\\item 29\n",
       "\\item 20\n",
       "\\item 28\n",
       "\\item 27\n",
       "\\item 29\n",
       "\\end{enumerate*}\n"
      ],
      "text/markdown": [
       "1. 32\n",
       "2. 34\n",
       "3. 30\n",
       "4. 28\n",
       "5. 35\n",
       "6. 30\n",
       "7. 30\n",
       "8. 32\n",
       "9. 22\n",
       "10. 36\n",
       "11. 26\n",
       "12. 33\n",
       "13. 29\n",
       "14. 21\n",
       "15. 29\n",
       "16. 21\n",
       "17. 20\n",
       "18. 25\n",
       "19. 23\n",
       "20. 19\n",
       "21. 35\n",
       "22. 36\n",
       "23. 23\n",
       "24. 33\n",
       "25. 28\n",
       "26. 27\n",
       "27. 35\n",
       "28. 35\n",
       "29. 32\n",
       "30. 36\n",
       "31. 34\n",
       "32. 26\n",
       "33. 24\n",
       "34. 28\n",
       "35. 32\n",
       "36. 29\n",
       "37. 34\n",
       "38. 31\n",
       "39. 35\n",
       "40. 23\n",
       "41. 30\n",
       "42. 32\n",
       "43. 36\n",
       "44. 21\n",
       "45. 34\n",
       "46. 32\n",
       "47. 33\n",
       "48. 23\n",
       "49. 36\n",
       "50. 16\n",
       "51. 21\n",
       "52. 28\n",
       "53. 33\n",
       "54. 31\n",
       "55. 35\n",
       "56. 26\n",
       "57. 30\n",
       "58. 28\n",
       "59. 28\n",
       "60. 35\n",
       "61. 25\n",
       "62. 35\n",
       "63. 27\n",
       "64. 28\n",
       "65. 20\n",
       "66. 31\n",
       "67. 32\n",
       "68. 33\n",
       "69. 32\n",
       "70. 30\n",
       "71. 26\n",
       "72. 18\n",
       "73. 35\n",
       "74. 36\n",
       "75. 27\n",
       "76. 33\n",
       "77. 30\n",
       "78. 32\n",
       "79. 35\n",
       "80. 34\n",
       "81. 15\n",
       "82. 30\n",
       "83. 23\n",
       "84. 30\n",
       "85. 34\n",
       "86. 28\n",
       "87. 33\n",
       "88. 22\n",
       "89. 22\n",
       "90. 26\n",
       "91. 28\n",
       "92. 29\n",
       "93. 25\n",
       "94. 29\n",
       "95. 35\n",
       "96. 29\n",
       "97. 20\n",
       "98. 28\n",
       "99. 27\n",
       "100. 29\n",
       "\n",
       "\n"
      ],
      "text/plain": [
       "  [1] 32 34 30 28 35 30 30 32 22 36 26 33 29 21 29 21 20 25 23 19 35 36 23 33 28\n",
       " [26] 27 35 35 32 36 34 26 24 28 32 29 34 31 35 23 30 32 36 21 34 32 33 23 36 16\n",
       " [51] 21 28 33 31 35 26 30 28 28 35 25 35 27 28 20 31 32 33 32 30 26 18 35 36 27\n",
       " [76] 33 30 32 35 34 15 30 23 30 34 28 33 22 22 26 28 29 25 29 35 29 20 28 27 29"
      ]
     },
     "metadata": {},
     "output_type": "display_data"
    }
   ],
   "source": [
    "sample(sat.dat$ACT, size=100)"
   ]
  },
  {
   "cell_type": "markdown",
   "id": "51d5a3ab",
   "metadata": {},
   "source": [
    "This, however, is restricted to one vectors, but how can we sample a data frame?"
   ]
  },
  {
   "cell_type": "code",
   "execution_count": 184,
   "id": "041e1983",
   "metadata": {},
   "outputs": [
    {
     "data": {
      "text/html": [
       "<table>\n",
       "<thead><tr><th scope=col>X</th><th scope=col>gender</th><th scope=col>education</th><th scope=col>age</th><th scope=col>ACT</th><th scope=col>SATV</th><th scope=col>SATQ</th></tr></thead>\n",
       "<tbody>\n",
       "\t<tr><td>30660</td><td>1    </td><td>5    </td><td>30   </td><td>25   </td><td>600  </td><td>500  </td></tr>\n",
       "\t<tr><td>36524</td><td>2    </td><td>3    </td><td>44   </td><td>25   </td><td>600  </td><td>600  </td></tr>\n",
       "\t<tr><td>38085</td><td>1    </td><td>3    </td><td>20   </td><td>20   </td><td>400  </td><td>400  </td></tr>\n",
       "\t<tr><td>39242</td><td>2    </td><td>3    </td><td>21   </td><td>27   </td><td>610  </td><td> NA  </td></tr>\n",
       "\t<tr><td>35077</td><td>2    </td><td>2    </td><td>25   </td><td>26   </td><td>500  </td><td>580  </td></tr>\n",
       "\t<tr><td>34225</td><td>2    </td><td>5    </td><td>25   </td><td>23   </td><td>480  </td><td>450  </td></tr>\n",
       "\t<tr><td>35345</td><td>2    </td><td>5    </td><td>28   </td><td>29   </td><td>410  </td><td>760  </td></tr>\n",
       "\t<tr><td>35848</td><td>1    </td><td>1    </td><td>18   </td><td>33   </td><td>720  </td><td>710  </td></tr>\n",
       "\t<tr><td>30136</td><td>1    </td><td>5    </td><td>53   </td><td>36   </td><td>560  </td><td>740  </td></tr>\n",
       "\t<tr><td>30705</td><td>2    </td><td>5    </td><td>32   </td><td>33   </td><td>650  </td><td>700  </td></tr>\n",
       "</tbody>\n",
       "</table>\n"
      ],
      "text/latex": [
       "\\begin{tabular}{r|lllllll}\n",
       " X & gender & education & age & ACT & SATV & SATQ\\\\\n",
       "\\hline\n",
       "\t 30660 & 1     & 5     & 30    & 25    & 600   & 500  \\\\\n",
       "\t 36524 & 2     & 3     & 44    & 25    & 600   & 600  \\\\\n",
       "\t 38085 & 1     & 3     & 20    & 20    & 400   & 400  \\\\\n",
       "\t 39242 & 2     & 3     & 21    & 27    & 610   &  NA  \\\\\n",
       "\t 35077 & 2     & 2     & 25    & 26    & 500   & 580  \\\\\n",
       "\t 34225 & 2     & 5     & 25    & 23    & 480   & 450  \\\\\n",
       "\t 35345 & 2     & 5     & 28    & 29    & 410   & 760  \\\\\n",
       "\t 35848 & 1     & 1     & 18    & 33    & 720   & 710  \\\\\n",
       "\t 30136 & 1     & 5     & 53    & 36    & 560   & 740  \\\\\n",
       "\t 30705 & 2     & 5     & 32    & 33    & 650   & 700  \\\\\n",
       "\\end{tabular}\n"
      ],
      "text/markdown": [
       "\n",
       "| X | gender | education | age | ACT | SATV | SATQ |\n",
       "|---|---|---|---|---|---|---|\n",
       "| 30660 | 1     | 5     | 30    | 25    | 600   | 500   |\n",
       "| 36524 | 2     | 3     | 44    | 25    | 600   | 600   |\n",
       "| 38085 | 1     | 3     | 20    | 20    | 400   | 400   |\n",
       "| 39242 | 2     | 3     | 21    | 27    | 610   |  NA   |\n",
       "| 35077 | 2     | 2     | 25    | 26    | 500   | 580   |\n",
       "| 34225 | 2     | 5     | 25    | 23    | 480   | 450   |\n",
       "| 35345 | 2     | 5     | 28    | 29    | 410   | 760   |\n",
       "| 35848 | 1     | 1     | 18    | 33    | 720   | 710   |\n",
       "| 30136 | 1     | 5     | 53    | 36    | 560   | 740   |\n",
       "| 30705 | 2     | 5     | 32    | 33    | 650   | 700   |\n",
       "\n"
      ],
      "text/plain": [
       "   X     gender education age ACT SATV SATQ\n",
       "1  30660 1      5         30  25  600  500 \n",
       "2  36524 2      3         44  25  600  600 \n",
       "3  38085 1      3         20  20  400  400 \n",
       "4  39242 2      3         21  27  610   NA \n",
       "5  35077 2      2         25  26  500  580 \n",
       "6  34225 2      5         25  23  480  450 \n",
       "7  35345 2      5         28  29  410  760 \n",
       "8  35848 1      1         18  33  720  710 \n",
       "9  30136 1      5         53  36  560  740 \n",
       "10 30705 2      5         32  33  650  700 "
      ]
     },
     "metadata": {},
     "output_type": "display_data"
    }
   ],
   "source": [
    "library(tidyverse)\n",
    "sample_n(sat.dat, size=10)"
   ]
  },
  {
   "cell_type": "code",
   "execution_count": 188,
   "id": "671b4ebf",
   "metadata": {},
   "outputs": [
    {
     "data": {
      "text/html": [
       "<table>\n",
       "<thead><tr><th scope=col>X</th><th scope=col>gender</th><th scope=col>education</th><th scope=col>age</th><th scope=col>ACT</th><th scope=col>SATV</th><th scope=col>SATQ</th></tr></thead>\n",
       "<tbody>\n",
       "\t<tr><td>31294</td><td>2    </td><td>5    </td><td>28   </td><td>23   </td><td>500  </td><td> NA  </td></tr>\n",
       "\t<tr><td>39951</td><td>2    </td><td>3    </td><td>24   </td><td>31   </td><td>700  </td><td>630  </td></tr>\n",
       "\t<tr><td>31204</td><td>2    </td><td>3    </td><td>19   </td><td>29   </td><td>570  </td><td>560  </td></tr>\n",
       "\t<tr><td>38895</td><td>2    </td><td>3    </td><td>20   </td><td>35   </td><td>720  </td><td>780  </td></tr>\n",
       "\t<tr><td>30981</td><td>2    </td><td>3    </td><td>20   </td><td>23   </td><td>520  </td><td>550  </td></tr>\n",
       "\t<tr><td>38227</td><td>2    </td><td>3    </td><td>18   </td><td>33   </td><td>700  </td><td>680  </td></tr>\n",
       "\t<tr><td>32388</td><td>2    </td><td>5    </td><td>33   </td><td>32   </td><td>640  </td><td>630  </td></tr>\n",
       "\t<tr><td>39937</td><td>1    </td><td>4    </td><td>40   </td><td>27   </td><td>613  </td><td>630  </td></tr>\n",
       "\t<tr><td>30412</td><td>2    </td><td>4    </td><td>31   </td><td>31   </td><td>560  </td><td>680  </td></tr>\n",
       "\t<tr><td>36924</td><td>2    </td><td>4    </td><td>25   </td><td>32   </td><td>630  </td><td>730  </td></tr>\n",
       "</tbody>\n",
       "</table>\n"
      ],
      "text/latex": [
       "\\begin{tabular}{r|lllllll}\n",
       " X & gender & education & age & ACT & SATV & SATQ\\\\\n",
       "\\hline\n",
       "\t 31294 & 2     & 5     & 28    & 23    & 500   &  NA  \\\\\n",
       "\t 39951 & 2     & 3     & 24    & 31    & 700   & 630  \\\\\n",
       "\t 31204 & 2     & 3     & 19    & 29    & 570   & 560  \\\\\n",
       "\t 38895 & 2     & 3     & 20    & 35    & 720   & 780  \\\\\n",
       "\t 30981 & 2     & 3     & 20    & 23    & 520   & 550  \\\\\n",
       "\t 38227 & 2     & 3     & 18    & 33    & 700   & 680  \\\\\n",
       "\t 32388 & 2     & 5     & 33    & 32    & 640   & 630  \\\\\n",
       "\t 39937 & 1     & 4     & 40    & 27    & 613   & 630  \\\\\n",
       "\t 30412 & 2     & 4     & 31    & 31    & 560   & 680  \\\\\n",
       "\t 36924 & 2     & 4     & 25    & 32    & 630   & 730  \\\\\n",
       "\\end{tabular}\n"
      ],
      "text/markdown": [
       "\n",
       "| X | gender | education | age | ACT | SATV | SATQ |\n",
       "|---|---|---|---|---|---|---|\n",
       "| 31294 | 2     | 5     | 28    | 23    | 500   |  NA   |\n",
       "| 39951 | 2     | 3     | 24    | 31    | 700   | 630   |\n",
       "| 31204 | 2     | 3     | 19    | 29    | 570   | 560   |\n",
       "| 38895 | 2     | 3     | 20    | 35    | 720   | 780   |\n",
       "| 30981 | 2     | 3     | 20    | 23    | 520   | 550   |\n",
       "| 38227 | 2     | 3     | 18    | 33    | 700   | 680   |\n",
       "| 32388 | 2     | 5     | 33    | 32    | 640   | 630   |\n",
       "| 39937 | 1     | 4     | 40    | 27    | 613   | 630   |\n",
       "| 30412 | 2     | 4     | 31    | 31    | 560   | 680   |\n",
       "| 36924 | 2     | 4     | 25    | 32    | 630   | 730   |\n",
       "\n"
      ],
      "text/plain": [
       "   X     gender education age ACT SATV SATQ\n",
       "1  31294 2      5         28  23  500   NA \n",
       "2  39951 2      3         24  31  700  630 \n",
       "3  31204 2      3         19  29  570  560 \n",
       "4  38895 2      3         20  35  720  780 \n",
       "5  30981 2      3         20  23  520  550 \n",
       "6  38227 2      3         18  33  700  680 \n",
       "7  32388 2      5         33  32  640  630 \n",
       "8  39937 1      4         40  27  613  630 \n",
       "9  30412 2      4         31  31  560  680 \n",
       "10 36924 2      4         25  32  630  730 "
      ]
     },
     "metadata": {},
     "output_type": "display_data"
    }
   ],
   "source": [
    "sat.dat %>% sample_n(size=10)"
   ]
  },
  {
   "cell_type": "markdown",
   "id": "4aa7ec08",
   "metadata": {},
   "source": [
    "# Confidence Intervals"
   ]
  },
  {
   "cell_type": "code",
   "execution_count": 80,
   "id": "12b2acd7",
   "metadata": {},
   "outputs": [],
   "source": [
    "library(lsr)"
   ]
  },
  {
   "cell_type": "code",
   "execution_count": 44,
   "id": "c889e5b6",
   "metadata": {},
   "outputs": [],
   "source": [
    "guassian.sample<-rnorm(100, mean = 100, sd=15)"
   ]
  },
  {
   "cell_type": "code",
   "execution_count": 45,
   "id": "9a8f6fa8",
   "metadata": {},
   "outputs": [],
   "source": [
    "z.alpha052<-qnorm(c(0.025, 0.975))"
   ]
  },
  {
   "cell_type": "code",
   "execution_count": 67,
   "id": "4dcd4eb8",
   "metadata": {},
   "outputs": [
    {
     "data": {
      "text/html": [
       "95.5246366431695"
      ],
      "text/latex": [
       "95.5246366431695"
      ],
      "text/markdown": [
       "95.5246366431695"
      ],
      "text/plain": [
       "[1] 95.52464"
      ]
     },
     "metadata": {},
     "output_type": "display_data"
    },
    {
     "data": {
      "text/html": [
       "101.40452859679"
      ],
      "text/latex": [
       "101.40452859679"
      ],
      "text/markdown": [
       "101.40452859679"
      ],
      "text/plain": [
       "[1] 101.4045"
      ]
     },
     "metadata": {},
     "output_type": "display_data"
    }
   ],
   "source": [
    "mean(guassian.sample) + z.alpha052[1]*15/sqrt(length(guassian.sample))\n",
    "mean(guassian.sample) +  z.alpha052[2]*15/sqrt(length(guassian.sample))"
   ]
  },
  {
   "cell_type": "code",
   "execution_count": 65,
   "id": "27dd3f1c",
   "metadata": {},
   "outputs": [
    {
     "data": {
      "text/html": [
       "<table>\n",
       "<thead><tr><th></th><th scope=col>2.5%</th><th scope=col>97.5%</th></tr></thead>\n",
       "<tbody>\n",
       "\t<tr><th scope=row>guassian.sample</th><td>95.44053</td><td>101.4886</td></tr>\n",
       "</tbody>\n",
       "</table>\n"
      ],
      "text/latex": [
       "\\begin{tabular}{r|ll}\n",
       "  & 2.5\\% & 97.5\\%\\\\\n",
       "\\hline\n",
       "\tguassian.sample & 95.44053 & 101.4886\\\\\n",
       "\\end{tabular}\n"
      ],
      "text/markdown": [
       "\n",
       "| <!--/--> | 2.5% | 97.5% |\n",
       "|---|---|---|\n",
       "| guassian.sample | 95.44053 | 101.4886 |\n",
       "\n"
      ],
      "text/plain": [
       "                2.5%     97.5%   \n",
       "guassian.sample 95.44053 101.4886"
      ]
     },
     "metadata": {},
     "output_type": "display_data"
    }
   ],
   "source": [
    "ciMean(guassian.sample)"
   ]
  },
  {
   "cell_type": "markdown",
   "id": "6448c4c8",
   "metadata": {},
   "source": [
    "**Question:** Why are they different? (You'll see this in the assigments!)"
   ]
  },
  {
   "cell_type": "code",
   "execution_count": 53,
   "id": "e8ddf97c",
   "metadata": {},
   "outputs": [],
   "source": [
    "t.alpha052<-qt(c(0.025, 0.975), df = 100-1)"
   ]
  },
  {
   "cell_type": "code",
   "execution_count": 54,
   "id": "bee7568d",
   "metadata": {},
   "outputs": [
    {
     "data": {
      "text/html": [
       "95.4405345432091"
      ],
      "text/latex": [
       "95.4405345432091"
      ],
      "text/markdown": [
       "95.4405345432091"
      ],
      "text/plain": [
       "[1] 95.44053"
      ]
     },
     "metadata": {},
     "output_type": "display_data"
    },
    {
     "data": {
      "text/html": [
       "101.48863069675"
      ],
      "text/latex": [
       "101.48863069675"
      ],
      "text/markdown": [
       "101.48863069675"
      ],
      "text/plain": [
       "[1] 101.4886"
      ]
     },
     "metadata": {},
     "output_type": "display_data"
    }
   ],
   "source": [
    "mean(guassian.sample) + t.alpha052[1]*sd(guassian.sample)/sqrt(length(guassian.sample))\n",
    "mean(guassian.sample) +  t.alpha052[2]*sd(guassian.sample)/sqrt(length(guassian.sample))"
   ]
  },
  {
   "cell_type": "markdown",
   "id": "a8d193ba",
   "metadata": {},
   "source": [
    "## Plotting confidence intervals\n",
    "\n",
    "We are going to see now how to plot confidence intervals using `ggplot`. This `geom_errorbar` "
   ]
  },
  {
   "cell_type": "code",
   "execution_count": 113,
   "id": "edbfa19c",
   "metadata": {},
   "outputs": [
    {
     "ename": "ERROR",
     "evalue": "Error in library(Rmisc): there is no package called ‘Rmisc’\n",
     "output_type": "error",
     "traceback": [
      "Error in library(Rmisc): there is no package called ‘Rmisc’\nTraceback:\n",
      "1. library(Rmisc)"
     ]
    }
   ],
   "source": [
    "library(ggplot2)\n",
    "library(psych)\n",
    "library(Rmisc)"
   ]
  },
  {
   "cell_type": "code",
   "execution_count": 2,
   "id": "fa86fc5d",
   "metadata": {},
   "outputs": [
    {
     "name": "stderr",
     "output_type": "stream",
     "text": [
      "Loading required package: lattice\n",
      "\n",
      "Loading required package: plyr\n",
      "\n"
     ]
    }
   ],
   "source": [
    "library(Rmisc)"
   ]
  },
  {
   "cell_type": "code",
   "execution_count": 119,
   "id": "347c6885",
   "metadata": {},
   "outputs": [
    {
     "data": {
      "text/html": [
       "<table>\n",
       "<thead><tr><th scope=col>education</th><th scope=col>N</th><th scope=col>ACT</th><th scope=col>sd</th><th scope=col>se</th><th scope=col>ci</th></tr></thead>\n",
       "<tbody>\n",
       "\t<tr><td>0        </td><td> 57      </td><td>27.47368 </td><td>5.206813 </td><td>0.6896592</td><td>1.3815535</td></tr>\n",
       "\t<tr><td>1        </td><td> 45      </td><td>27.48889 </td><td>6.055134 </td><td>0.9026461</td><td>1.8191636</td></tr>\n",
       "\t<tr><td>2        </td><td> 44      </td><td>26.97727 </td><td>5.808929 </td><td>0.8757290</td><td>1.7660759</td></tr>\n",
       "\t<tr><td>3        </td><td>275      </td><td>28.29455 </td><td>4.846227 </td><td>0.2922385</td><td>0.5753181</td></tr>\n",
       "\t<tr><td>4        </td><td>138      </td><td>29.26087 </td><td>4.345153 </td><td>0.3698840</td><td>0.7314202</td></tr>\n",
       "\t<tr><td>5        </td><td>141      </td><td>29.60284 </td><td>3.954887 </td><td>0.3330616</td><td>0.6584807</td></tr>\n",
       "</tbody>\n",
       "</table>\n"
      ],
      "text/latex": [
       "\\begin{tabular}{r|llllll}\n",
       " education & N & ACT & sd & se & ci\\\\\n",
       "\\hline\n",
       "\t 0         &  57       & 27.47368  & 5.206813  & 0.6896592 & 1.3815535\\\\\n",
       "\t 1         &  45       & 27.48889  & 6.055134  & 0.9026461 & 1.8191636\\\\\n",
       "\t 2         &  44       & 26.97727  & 5.808929  & 0.8757290 & 1.7660759\\\\\n",
       "\t 3         & 275       & 28.29455  & 4.846227  & 0.2922385 & 0.5753181\\\\\n",
       "\t 4         & 138       & 29.26087  & 4.345153  & 0.3698840 & 0.7314202\\\\\n",
       "\t 5         & 141       & 29.60284  & 3.954887  & 0.3330616 & 0.6584807\\\\\n",
       "\\end{tabular}\n"
      ],
      "text/markdown": [
       "\n",
       "| education | N | ACT | sd | se | ci |\n",
       "|---|---|---|---|---|---|\n",
       "| 0         |  57       | 27.47368  | 5.206813  | 0.6896592 | 1.3815535 |\n",
       "| 1         |  45       | 27.48889  | 6.055134  | 0.9026461 | 1.8191636 |\n",
       "| 2         |  44       | 26.97727  | 5.808929  | 0.8757290 | 1.7660759 |\n",
       "| 3         | 275       | 28.29455  | 4.846227  | 0.2922385 | 0.5753181 |\n",
       "| 4         | 138       | 29.26087  | 4.345153  | 0.3698840 | 0.7314202 |\n",
       "| 5         | 141       | 29.60284  | 3.954887  | 0.3330616 | 0.6584807 |\n",
       "\n"
      ],
      "text/plain": [
       "  education N   ACT      sd       se        ci       \n",
       "1 0          57 27.47368 5.206813 0.6896592 1.3815535\n",
       "2 1          45 27.48889 6.055134 0.9026461 1.8191636\n",
       "3 2          44 26.97727 5.808929 0.8757290 1.7660759\n",
       "4 3         275 28.29455 4.846227 0.2922385 0.5753181\n",
       "5 4         138 29.26087 4.345153 0.3698840 0.7314202\n",
       "6 5         141 29.60284 3.954887 0.3330616 0.6584807"
      ]
     },
     "metadata": {},
     "output_type": "display_data"
    }
   ],
   "source": [
    "act.summary<-summarySE(sat.dat, groupvars = \"education\", measurevar = \"ACT\")\n",
    "act.summary"
   ]
  },
  {
   "cell_type": "code",
   "execution_count": 176,
   "id": "b274b6f2",
   "metadata": {},
   "outputs": [
    {
     "data": {
      "image/png": "[encoded data removed]",
      "text/plain": [
       "plot without title"
      ]
     },
     "metadata": {
      "image/png": {
       "height": 420,
       "width": 420
      }
     },
     "output_type": "display_data"
    }
   ],
   "source": [
    "#act.mean<-sapply(describeBy(sat.dat$ACT, group = sat.dat$education), function(x) x[,\"mean\"])\n",
    "#act.se<-sapply(describeBy(sat.dat$ACT, group = sat.dat$education), function(x) x[,\"se\"])\n",
    "\n",
    "ggplot(data = act.summary, aes(x=education, y=ACT)) + \n",
    "geom_errorbar(aes(ymin=ACT-se, ymax=ACT+se), width=.1) + \n",
    "geom_point(size=5)"
   ]
  },
  {
   "cell_type": "code",
   "execution_count": 177,
   "id": "921066a4",
   "metadata": {},
   "outputs": [
    {
     "data": {
      "image/png": "[encoded data removed]",
      "text/plain": [
       "plot without title"
      ]
     },
     "metadata": {
      "image/png": {
       "height": 420,
       "width": 420
      }
     },
     "output_type": "display_data"
    }
   ],
   "source": [
    "ggplot(data = act.summary, aes(x=education, y=ACT)) + \n",
    "geom_errorbar(aes(ymin=ACT-ci, ymax=ACT+ci), width=.1) + \n",
    "geom_point(size=5)"
   ]
  },
  {
   "cell_type": "markdown",
   "id": "6b8a140d",
   "metadata": {},
   "source": [
    "## Assigment: barplots!\n",
    "## Assigment: Use above data to plot confidence intervals with respect to education 0. Así, pueden ver cuál es significativo o no...\n",
    "\n",
    "Por ejemplo, cread un dataframe con las medidas ACT, SATV y SATQ de los puntos de education > 0, al que se le substrae la media de cada uno "
   ]
  },
  {
   "cell_type": "code",
   "execution_count": 151,
   "id": "7c175471",
   "metadata": {},
   "outputs": [],
   "source": [
    "mean.act.0<-summarySE(sat.dat, groupvars = \"education\", measurevar = c(\"ACT\"))[1, \"ACT\"]"
   ]
  },
  {
   "cell_type": "code",
   "execution_count": 161,
   "id": "7c4721eb",
   "metadata": {},
   "outputs": [
    {
     "data": {
      "text/html": [
       "<table>\n",
       "<thead><tr><th></th><th scope=col>gender</th><th scope=col>education</th><th scope=col>ACT</th><th scope=col>ACTminusACT0</th></tr></thead>\n",
       "<tbody>\n",
       "\t<tr><th scope=row>29442</th><td>2         </td><td>3         </td><td>24        </td><td>-3.4736842</td></tr>\n",
       "\t<tr><th scope=row>29457</th><td>2         </td><td>3         </td><td>35        </td><td> 7.5263158</td></tr>\n",
       "\t<tr><th scope=row>29498</th><td>2         </td><td>3         </td><td>21        </td><td>-6.4736842</td></tr>\n",
       "\t<tr><th scope=row>29503</th><td>1         </td><td>4         </td><td>26        </td><td>-1.4736842</td></tr>\n",
       "\t<tr><th scope=row>29504</th><td>1         </td><td>2         </td><td>31        </td><td> 3.5263158</td></tr>\n",
       "\t<tr><th scope=row>29518</th><td>1         </td><td>5         </td><td>28        </td><td> 0.5263158</td></tr>\n",
       "</tbody>\n",
       "</table>\n"
      ],
      "text/latex": [
       "\\begin{tabular}{r|llll}\n",
       "  & gender & education & ACT & ACTminusACT0\\\\\n",
       "\\hline\n",
       "\t29442 & 2          & 3          & 24         & -3.4736842\\\\\n",
       "\t29457 & 2          & 3          & 35         &  7.5263158\\\\\n",
       "\t29498 & 2          & 3          & 21         & -6.4736842\\\\\n",
       "\t29503 & 1          & 4          & 26         & -1.4736842\\\\\n",
       "\t29504 & 1          & 2          & 31         &  3.5263158\\\\\n",
       "\t29518 & 1          & 5          & 28         &  0.5263158\\\\\n",
       "\\end{tabular}\n"
      ],
      "text/markdown": [
       "\n",
       "| <!--/--> | gender | education | ACT | ACTminusACT0 |\n",
       "|---|---|---|---|---|\n",
       "| 29442 | 2          | 3          | 24         | -3.4736842 |\n",
       "| 29457 | 2          | 3          | 35         |  7.5263158 |\n",
       "| 29498 | 2          | 3          | 21         | -6.4736842 |\n",
       "| 29503 | 1          | 4          | 26         | -1.4736842 |\n",
       "| 29504 | 1          | 2          | 31         |  3.5263158 |\n",
       "| 29518 | 1          | 5          | 28         |  0.5263158 |\n",
       "\n"
      ],
      "text/plain": [
       "      gender education ACT ACTminusACT0\n",
       "29442 2      3         24  -3.4736842  \n",
       "29457 2      3         35   7.5263158  \n",
       "29498 2      3         21  -6.4736842  \n",
       "29503 1      4         26  -1.4736842  \n",
       "29504 1      2         31   3.5263158  \n",
       "29518 1      5         28   0.5263158  "
      ]
     },
     "metadata": {},
     "output_type": "display_data"
    }
   ],
   "source": [
    "sat.act.nozero <- sat.act[sat.act$education>0, c(\"gender\", \"education\", \"ACT\")]\n",
    "sat.act.nozero$ACTminusACT0 <- sat.act.nozero$ACT - mean.act.0\n",
    "\n",
    "head(sat.act.nozero)"
   ]
  },
  {
   "cell_type": "code",
   "execution_count": 163,
   "id": "34e8ed03",
   "metadata": {},
   "outputs": [
    {
     "data": {
      "text/html": [
       "<table>\n",
       "<thead><tr><th scope=col>education</th><th scope=col>N</th><th scope=col>ACTminusACT0</th><th scope=col>sd</th><th scope=col>se</th><th scope=col>ci</th></tr></thead>\n",
       "<tbody>\n",
       "\t<tr><td>1          </td><td> 45        </td><td> 0.01520468</td><td>6.055134   </td><td>0.9026461  </td><td>1.8191636  </td></tr>\n",
       "\t<tr><td>2          </td><td> 44        </td><td>-0.49641148</td><td>5.808929   </td><td>0.8757290  </td><td>1.7660759  </td></tr>\n",
       "\t<tr><td>3          </td><td>275        </td><td> 0.82086124</td><td>4.846227   </td><td>0.2922385  </td><td>0.5753181  </td></tr>\n",
       "\t<tr><td>4          </td><td>138        </td><td> 1.78718535</td><td>4.345153   </td><td>0.3698840  </td><td>0.7314202  </td></tr>\n",
       "\t<tr><td>5          </td><td>141        </td><td> 2.12915267</td><td>3.954887   </td><td>0.3330616  </td><td>0.6584807  </td></tr>\n",
       "</tbody>\n",
       "</table>\n"
      ],
      "text/latex": [
       "\\begin{tabular}{r|llllll}\n",
       " education & N & ACTminusACT0 & sd & se & ci\\\\\n",
       "\\hline\n",
       "\t 1           &  45         &  0.01520468 & 6.055134    & 0.9026461   & 1.8191636  \\\\\n",
       "\t 2           &  44         & -0.49641148 & 5.808929    & 0.8757290   & 1.7660759  \\\\\n",
       "\t 3           & 275         &  0.82086124 & 4.846227    & 0.2922385   & 0.5753181  \\\\\n",
       "\t 4           & 138         &  1.78718535 & 4.345153    & 0.3698840   & 0.7314202  \\\\\n",
       "\t 5           & 141         &  2.12915267 & 3.954887    & 0.3330616   & 0.6584807  \\\\\n",
       "\\end{tabular}\n"
      ],
      "text/markdown": [
       "\n",
       "| education | N | ACTminusACT0 | sd | se | ci |\n",
       "|---|---|---|---|---|---|\n",
       "| 1           |  45         |  0.01520468 | 6.055134    | 0.9026461   | 1.8191636   |\n",
       "| 2           |  44         | -0.49641148 | 5.808929    | 0.8757290   | 1.7660759   |\n",
       "| 3           | 275         |  0.82086124 | 4.846227    | 0.2922385   | 0.5753181   |\n",
       "| 4           | 138         |  1.78718535 | 4.345153    | 0.3698840   | 0.7314202   |\n",
       "| 5           | 141         |  2.12915267 | 3.954887    | 0.3330616   | 0.6584807   |\n",
       "\n"
      ],
      "text/plain": [
       "  education N   ACTminusACT0 sd       se        ci       \n",
       "1 1          45  0.01520468  6.055134 0.9026461 1.8191636\n",
       "2 2          44 -0.49641148  5.808929 0.8757290 1.7660759\n",
       "3 3         275  0.82086124  4.846227 0.2922385 0.5753181\n",
       "4 4         138  1.78718535  4.345153 0.3698840 0.7314202\n",
       "5 5         141  2.12915267  3.954887 0.3330616 0.6584807"
      ]
     },
     "metadata": {},
     "output_type": "display_data"
    }
   ],
   "source": [
    "    act.nonzero.summary<-summarySE(sat.act.nozero, groupvars = \"education\", measurevar = \"ACTminusACT0\")\n",
    "act.nonzero.summary"
   ]
  },
  {
   "cell_type": "code",
   "execution_count": 173,
   "id": "174c71d3",
   "metadata": {},
   "outputs": [
    {
     "data": {
      "image/png": "[encoded data removed]",
      "text/plain": [
       "plot without title"
      ]
     },
     "metadata": {
      "image/png": {
       "height": 420,
       "width": 420
      }
     },
     "output_type": "display_data"
    }
   ],
   "source": [
    "ggplot(data = act.nonzero.summary, aes(x=education, y=ACTminusACT0)) + \n",
    "geom_errorbar(aes(ymin=ACTminusACT0-ci, ymax=ACTminusACT0+ci), width=.1) + \n",
    "geom_point(size=5) + \n",
    "geom_hline(yintercept=0, color=\"red\", linetype=\"dashed\")"
   ]
  },
  {
   "cell_type": "markdown",
   "id": "62d2fec1",
   "metadata": {},
   "source": [
    "<div class=\"alert alert-info\"> <b>Demonstration</b>: As the sample size increases, the sample mean tends to the population mean.\n",
    "\n",
    "Let's demonstrate this for a population whose weight follows a gaussian distribution with mean=70kg and standard deviation=10. \n",
    "    \n",
    "Consider the following sequence of samples sizes: (5, 10, 50, 100, 200, 500, 1000, 5000, 10000, 100000). For each of these sample sizes, generate a random sample and take the mean. Plot these against the sample sizes.\n",
    "</div>"
   ]
  },
  {
   "cell_type": "code",
   "execution_count": 6,
   "id": "32aa5e44",
   "metadata": {},
   "outputs": [
    {
     "name": "stderr",
     "output_type": "stream",
     "text": [
      "Registered S3 methods overwritten by 'tibble':\n",
      "  method     from  \n",
      "  format.tbl pillar\n",
      "  print.tbl  pillar\n",
      "\n",
      "Registered S3 methods overwritten by 'ggplot2':\n",
      "  method         from \n",
      "  [.quosures     rlang\n",
      "  c.quosures     rlang\n",
      "  print.quosures rlang\n",
      "\n",
      "Registered S3 method overwritten by 'rvest':\n",
      "  method            from\n",
      "  read_xml.response xml2\n",
      "\n",
      "── \u001b[1mAttaching packages\u001b[22m ─────────────────────────────────────── tidyverse 1.2.1 ──\n",
      "\n",
      "\u001b[32m✔\u001b[39m \u001b[34mggplot2\u001b[39m 3.1.1       \u001b[32m✔\u001b[39m \u001b[34mpurrr  \u001b[39m 0.3.2  \n",
      "\u001b[32m✔\u001b[39m \u001b[34mtibble \u001b[39m 2.1.1       \u001b[32m✔\u001b[39m \u001b[34mdplyr  \u001b[39m 0.8.0.\u001b[31m1\u001b[39m\n",
      "\u001b[32m✔\u001b[39m \u001b[34mtidyr  \u001b[39m 0.8.3       \u001b[32m✔\u001b[39m \u001b[34mstringr\u001b[39m 1.4.0  \n",
      "\u001b[32m✔\u001b[39m \u001b[34mreadr  \u001b[39m 1.3.1       \u001b[32m✔\u001b[39m \u001b[34mforcats\u001b[39m 0.4.0  \n",
      "\n",
      "── \u001b[1mConflicts\u001b[22m ────────────────────────────────────────── tidyverse_conflicts() ──\n",
      "\u001b[31m✖\u001b[39m \u001b[34mdplyr\u001b[39m::\u001b[32marrange()\u001b[39m   masks \u001b[34mplyr\u001b[39m::arrange()\n",
      "\u001b[31m✖\u001b[39m \u001b[34mpurrr\u001b[39m::\u001b[32mcompact()\u001b[39m   masks \u001b[34mplyr\u001b[39m::compact()\n",
      "\u001b[31m✖\u001b[39m \u001b[34mdplyr\u001b[39m::\u001b[32mcount()\u001b[39m     masks \u001b[34mplyr\u001b[39m::count()\n",
      "\u001b[31m✖\u001b[39m \u001b[34mdplyr\u001b[39m::\u001b[32mfailwith()\u001b[39m  masks \u001b[34mplyr\u001b[39m::failwith()\n",
      "\u001b[31m✖\u001b[39m \u001b[34mdplyr\u001b[39m::\u001b[32mfilter()\u001b[39m    masks \u001b[34mstats\u001b[39m::filter()\n",
      "\u001b[31m✖\u001b[39m \u001b[34mdplyr\u001b[39m::\u001b[32mid()\u001b[39m        masks \u001b[34mplyr\u001b[39m::id()\n",
      "\u001b[31m✖\u001b[39m \u001b[34mdplyr\u001b[39m::\u001b[32mlag()\u001b[39m       masks \u001b[34mstats\u001b[39m::lag()\n",
      "\u001b[31m✖\u001b[39m \u001b[34mdplyr\u001b[39m::\u001b[32mmutate()\u001b[39m    masks \u001b[34mplyr\u001b[39m::mutate()\n",
      "\u001b[31m✖\u001b[39m \u001b[34mdplyr\u001b[39m::\u001b[32mrename()\u001b[39m    masks \u001b[34mplyr\u001b[39m::rename()\n",
      "\u001b[31m✖\u001b[39m \u001b[34mdplyr\u001b[39m::\u001b[32msummarise()\u001b[39m masks \u001b[34mplyr\u001b[39m::summarise()\n",
      "\u001b[31m✖\u001b[39m \u001b[34mdplyr\u001b[39m::\u001b[32msummarize()\u001b[39m masks \u001b[34mplyr\u001b[39m::summarize()\n",
      "\n"
     ]
    },
    {
     "data": {
      "image/png": "[encoded data removed]",
      "text/plain": [
       "plot without title"
      ]
     },
     "metadata": {
      "image/png": {
       "height": 420,
       "width": 420
      }
     },
     "output_type": "display_data"
    }
   ],
   "source": [
    "library(tidyverse)\n",
    "sample.sizes<-c(5, 10, 50, 100, 200, 500, 1000, 5000, 10000, 100000)\n",
    "set.seed(1234)\n",
    "dat<-data.frame(n=sample.sizes, \n",
    "                mean=sapply(sample.sizes, function(x) mean(rnorm(x, mean = 70, sd = 10))))\n",
    "ggplot(dat, aes(x=n, y=mean)) + geom_point() + geom_line() +  scale_x_continuous(trans='log2')       "
   ]
  },
  {
   "cell_type": "markdown",
   "id": "80222555",
   "metadata": {},
   "source": [
    "<div class=\"alert alert-info\"> <b>Demonstration</b>: The estimation of the standard deviation population is N-1 instead of N.\n",
    "    \n",
    "To demonstrate this, generate 10,000 simulated data sets with 1 observation each, 10,000 more with 2 observations, and so on up to a sample size of 10. Each data set consisted of fake IQ data: that is, the data were normally distributed with a true population mean of 100 and standard deviation 15. On average, the sample means should turn out to be 100, regardless of sample size.  However, the sample standard deviations should turn out to be systematically too small, especially for small sample sizes (Define a the standard deviation formula that divide by N and not N-1, that is, do not use the built-in R function `sd`.\n",
    "</div>"
   ]
  },
  {
   "cell_type": "code",
   "execution_count": 50,
   "id": "69b49ce5",
   "metadata": {},
   "outputs": [],
   "source": [
    "sd.N<-function(x){\n",
    "    N<-length(x)\n",
    "    mu<-mean(x)\n",
    "    return(sqrt(mean((mu-x)**2)))\n",
    "}\n",
    "sample.sizes<-c(2:10)\n",
    "\n",
    "set.seed(1234)\n",
    "means<-c()\n",
    "sdsN<-c()\n",
    "sds<-c()\n",
    "\n",
    "for(n in sample.sizes){\n",
    "    datasets<-lapply(c(1:10000), function(x) rnorm(n, mean = 100, sd=15))\n",
    "    means<-c(means, mean(sapply(datasets, mean)))\n",
    "    sdsN<-c(sdsN, mean(sapply(datasets, sd.N)))\n",
    "    sds<-c(sds, mean(sapply(datasets, sd)))\n",
    "             \n",
    "}"
   ]
  },
  {
   "cell_type": "code",
   "execution_count": 51,
   "id": "a53a1b0d",
   "metadata": {},
   "outputs": [
    {
     "data": {
      "image/png": "[encoded data removed]",
      "text/plain": [
       "plot without title"
      ]
     },
     "metadata": {
      "image/png": {
       "height": 420,
       "width": 420
      }
     },
     "output_type": "display_data"
    }
   ],
   "source": [
    "ggplot(data = data.frame(x=sample.sizes, y=means), aes(x=x, y=y)) + \n",
    "geom_point() + \n",
    "geom_line() + \n",
    "geom_hline(yintercept = 100) + ylim(95, 105)"
   ]
  },
  {
   "cell_type": "code",
   "execution_count": 52,
   "id": "1ec2c990",
   "metadata": {},
   "outputs": [
    {
     "data": {
      "image/png": "[encoded data removed]",
      "text/plain": [
       "plot without title"
      ]
     },
     "metadata": {
      "image/png": {
       "height": 420,
       "width": 420
      }
     },
     "output_type": "display_data"
    }
   ],
   "source": [
    "ggplot(data = data.frame(x=sample.sizes, y=sdsN), aes(x=x, y=y)) + \n",
    "geom_point() + \n",
    "geom_line() + \n",
    "geom_hline(yintercept = 15) + ylim(5, 15)"
   ]
  },
  {
   "cell_type": "code",
   "execution_count": 53,
   "id": "6d4f1274",
   "metadata": {},
   "outputs": [
    {
     "data": {
      "image/png": "[encoded data removed]",
      "text/plain": [
       "plot without title"
      ]
     },
     "metadata": {
      "image/png": {
       "height": 420,
       "width": 420
      }
     },
     "output_type": "display_data"
    }
   ],
   "source": [
    "ggplot(data = data.frame(x=sample.sizes, y=sds), aes(x=x, y=y)) + \n",
    "geom_point() + \n",
    "geom_line() + \n",
    "geom_hline(yintercept = 15) + ylim(5, 15)"
   ]
  },
  {
   "cell_type": "code",
   "execution_count": 54,
   "id": "4dae2df4",
   "metadata": {},
   "outputs": [
    {
     "data": {
      "image/png": "[encoded data removed]",
      "text/plain": [
       "plot without title"
      ]
     },
     "metadata": {
      "image/png": {
       "height": 420,
       "width": 420
      }
     },
     "output_type": "display_data"
    }
   ],
   "source": [
    "ggplot(data = data.frame(x=sample.sizes, y1=sdsN, y2=sds)) + \n",
    "geom_point(aes(x=x, y=y1)) + \n",
    "geom_line(aes(x=x, y=y1)) +\n",
    "geom_point(aes(x=x, y=y2)) + \n",
    "geom_line(aes(x=x, y=y2)) +\n",
    "geom_hline(yintercept = 15) + ylim(5, 15)"
   ]
  },
  {
   "cell_type": "code",
   "execution_count": null,
   "id": "0db22eaf",
   "metadata": {},
   "outputs": [],
   "source": []
  }
 ],
 "metadata": {
  "kernelspec": {
   "display_name": "R",
   "language": "R",
   "name": "ir"
  },
  "language_info": {
   "codemirror_mode": "r",
   "file_extension": ".r",
   "mimetype": "text/x-r-source",
   "name": "R",
   "pygments_lexer": "r",
   "version": "3.6.3"
  }
 },
 "nbformat": 4,
 "nbformat_minor": 5
}
