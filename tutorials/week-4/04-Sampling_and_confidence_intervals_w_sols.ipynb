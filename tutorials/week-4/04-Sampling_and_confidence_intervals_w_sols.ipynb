{
 "cells": [
  {
   "cell_type": "markdown",
   "id": "ef6c6514",
   "metadata": {},
   "source": [
    "In this tutorial we are going to see how to take samples from our data and compute and plot confidence intervals. In addition, you guys are going to demonstrate a few concepts and statements introduced in the lectures."
   ]
  },
  {
   "cell_type": "code",
   "execution_count": 1,
   "id": "4a6566e1",
   "metadata": {},
   "outputs": [],
   "source": [
    "sat.dat<-read.csv(\"https://vincentarelbundock.github.io/Rdatasets/csv/psych/sat.act.csv\")\n",
    "\n",
    "sat.dat$gender<-as.factor(sat.dat$gender)\n",
    "sat.dat$education<-as.factor(sat.dat$education)"
   ]
  },
  {
   "cell_type": "markdown",
   "id": "c110dc4f",
   "metadata": {},
   "source": [
    "# Sampling"
   ]
  },
  {
   "cell_type": "markdown",
   "id": "55e4da54",
   "metadata": {},
   "source": [
    "The R built-in function `sample` allows you to get samples from a given **vector** of values. For example, let's take a sample of 100 observations from the ACT scores."
   ]
  },
  {
   "cell_type": "code",
   "execution_count": 2,
   "id": "c277b0cb",
   "metadata": {},
   "outputs": [
    {
     "data": {
      "text/html": [
       "<style>\n",
       ".list-inline {list-style: none; margin:0; padding: 0}\n",
       ".list-inline>li {display: inline-block}\n",
       ".list-inline>li:not(:last-child)::after {content: \"\\00b7\"; padding: 0 .5ex}\n",
       "</style>\n",
       "<ol class=list-inline><li>30</li><li>18</li><li>28</li><li>32</li><li>30</li><li>30</li><li>32</li><li>27</li><li>36</li><li>29</li><li>27</li><li>28</li><li>32</li><li>31</li><li>24</li><li>25</li><li>25</li><li>28</li><li>24</li><li>31</li><li>21</li><li>32</li><li>27</li><li>32</li><li>29</li><li>32</li><li>30</li><li>22</li><li>34</li><li>30</li><li>32</li><li>20</li><li>26</li><li>33</li><li>23</li><li>28</li><li>33</li><li>24</li><li>23</li><li>29</li><li>23</li><li>32</li><li>34</li><li>22</li><li>29</li><li>16</li><li>36</li><li>28</li><li>30</li><li>25</li><li>23</li><li>33</li><li>31</li><li>27</li><li>36</li><li>17</li><li>34</li><li>35</li><li>34</li><li>28</li><li>29</li><li>36</li><li>21</li><li>24</li><li>34</li><li>30</li><li>35</li><li>36</li><li>34</li><li>32</li><li>32</li><li>27</li><li>20</li><li>29</li><li>24</li><li>32</li><li>36</li><li>27</li><li>24</li><li>32</li><li>32</li><li>31</li><li>29</li><li>34</li><li>30</li><li>34</li><li>23</li><li>30</li><li>31</li><li>34</li><li>28</li><li>34</li><li>34</li><li>34</li><li>28</li><li>27</li><li>27</li><li>32</li><li>30</li><li>26</li></ol>\n"
      ],
      "text/latex": [
       "\\begin{enumerate*}\n",
       "\\item 30\n",
       "\\item 18\n",
       "\\item 28\n",
       "\\item 32\n",
       "\\item 30\n",
       "\\item 30\n",
       "\\item 32\n",
       "\\item 27\n",
       "\\item 36\n",
       "\\item 29\n",
       "\\item 27\n",
       "\\item 28\n",
       "\\item 32\n",
       "\\item 31\n",
       "\\item 24\n",
       "\\item 25\n",
       "\\item 25\n",
       "\\item 28\n",
       "\\item 24\n",
       "\\item 31\n",
       "\\item 21\n",
       "\\item 32\n",
       "\\item 27\n",
       "\\item 32\n",
       "\\item 29\n",
       "\\item 32\n",
       "\\item 30\n",
       "\\item 22\n",
       "\\item 34\n",
       "\\item 30\n",
       "\\item 32\n",
       "\\item 20\n",
       "\\item 26\n",
       "\\item 33\n",
       "\\item 23\n",
       "\\item 28\n",
       "\\item 33\n",
       "\\item 24\n",
       "\\item 23\n",
       "\\item 29\n",
       "\\item 23\n",
       "\\item 32\n",
       "\\item 34\n",
       "\\item 22\n",
       "\\item 29\n",
       "\\item 16\n",
       "\\item 36\n",
       "\\item 28\n",
       "\\item 30\n",
       "\\item 25\n",
       "\\item 23\n",
       "\\item 33\n",
       "\\item 31\n",
       "\\item 27\n",
       "\\item 36\n",
       "\\item 17\n",
       "\\item 34\n",
       "\\item 35\n",
       "\\item 34\n",
       "\\item 28\n",
       "\\item 29\n",
       "\\item 36\n",
       "\\item 21\n",
       "\\item 24\n",
       "\\item 34\n",
       "\\item 30\n",
       "\\item 35\n",
       "\\item 36\n",
       "\\item 34\n",
       "\\item 32\n",
       "\\item 32\n",
       "\\item 27\n",
       "\\item 20\n",
       "\\item 29\n",
       "\\item 24\n",
       "\\item 32\n",
       "\\item 36\n",
       "\\item 27\n",
       "\\item 24\n",
       "\\item 32\n",
       "\\item 32\n",
       "\\item 31\n",
       "\\item 29\n",
       "\\item 34\n",
       "\\item 30\n",
       "\\item 34\n",
       "\\item 23\n",
       "\\item 30\n",
       "\\item 31\n",
       "\\item 34\n",
       "\\item 28\n",
       "\\item 34\n",
       "\\item 34\n",
       "\\item 34\n",
       "\\item 28\n",
       "\\item 27\n",
       "\\item 27\n",
       "\\item 32\n",
       "\\item 30\n",
       "\\item 26\n",
       "\\end{enumerate*}\n"
      ],
      "text/markdown": [
       "1. 30\n",
       "2. 18\n",
       "3. 28\n",
       "4. 32\n",
       "5. 30\n",
       "6. 30\n",
       "7. 32\n",
       "8. 27\n",
       "9. 36\n",
       "10. 29\n",
       "11. 27\n",
       "12. 28\n",
       "13. 32\n",
       "14. 31\n",
       "15. 24\n",
       "16. 25\n",
       "17. 25\n",
       "18. 28\n",
       "19. 24\n",
       "20. 31\n",
       "21. 21\n",
       "22. 32\n",
       "23. 27\n",
       "24. 32\n",
       "25. 29\n",
       "26. 32\n",
       "27. 30\n",
       "28. 22\n",
       "29. 34\n",
       "30. 30\n",
       "31. 32\n",
       "32. 20\n",
       "33. 26\n",
       "34. 33\n",
       "35. 23\n",
       "36. 28\n",
       "37. 33\n",
       "38. 24\n",
       "39. 23\n",
       "40. 29\n",
       "41. 23\n",
       "42. 32\n",
       "43. 34\n",
       "44. 22\n",
       "45. 29\n",
       "46. 16\n",
       "47. 36\n",
       "48. 28\n",
       "49. 30\n",
       "50. 25\n",
       "51. 23\n",
       "52. 33\n",
       "53. 31\n",
       "54. 27\n",
       "55. 36\n",
       "56. 17\n",
       "57. 34\n",
       "58. 35\n",
       "59. 34\n",
       "60. 28\n",
       "61. 29\n",
       "62. 36\n",
       "63. 21\n",
       "64. 24\n",
       "65. 34\n",
       "66. 30\n",
       "67. 35\n",
       "68. 36\n",
       "69. 34\n",
       "70. 32\n",
       "71. 32\n",
       "72. 27\n",
       "73. 20\n",
       "74. 29\n",
       "75. 24\n",
       "76. 32\n",
       "77. 36\n",
       "78. 27\n",
       "79. 24\n",
       "80. 32\n",
       "81. 32\n",
       "82. 31\n",
       "83. 29\n",
       "84. 34\n",
       "85. 30\n",
       "86. 34\n",
       "87. 23\n",
       "88. 30\n",
       "89. 31\n",
       "90. 34\n",
       "91. 28\n",
       "92. 34\n",
       "93. 34\n",
       "94. 34\n",
       "95. 28\n",
       "96. 27\n",
       "97. 27\n",
       "98. 32\n",
       "99. 30\n",
       "100. 26\n",
       "\n",
       "\n"
      ],
      "text/plain": [
       "  [1] 30 18 28 32 30 30 32 27 36 29 27 28 32 31 24 25 25 28 24 31 21 32 27 32 29\n",
       " [26] 32 30 22 34 30 32 20 26 33 23 28 33 24 23 29 23 32 34 22 29 16 36 28 30 25\n",
       " [51] 23 33 31 27 36 17 34 35 34 28 29 36 21 24 34 30 35 36 34 32 32 27 20 29 24\n",
       " [76] 32 36 27 24 32 32 31 29 34 30 34 23 30 31 34 28 34 34 34 28 27 27 32 30 26"
      ]
     },
     "metadata": {},
     "output_type": "display_data"
    }
   ],
   "source": [
    "sample(sat.dat$ACT, size=100)"
   ]
  },
  {
   "cell_type": "markdown",
   "id": "5ee7eff2",
   "metadata": {},
   "source": [
    "This, however, is restricted to vectors, but what if we want to sample a data frame? We can do it with the function `sample_n` from tidyverse."
   ]
  },
  {
   "cell_type": "code",
   "execution_count": 3,
   "id": "6ae747a2",
   "metadata": {},
   "outputs": [
    {
     "name": "stderr",
     "output_type": "stream",
     "text": [
      "── \u001b[1mAttaching packages\u001b[22m ─────────────────────────────────────── tidyverse 1.3.2 ──\n",
      "\u001b[32m✔\u001b[39m \u001b[34mggplot2\u001b[39m 3.4.0      \u001b[32m✔\u001b[39m \u001b[34mpurrr  \u001b[39m 0.3.4 \n",
      "\u001b[32m✔\u001b[39m \u001b[34mtibble \u001b[39m 3.1.8      \u001b[32m✔\u001b[39m \u001b[34mdplyr  \u001b[39m 1.0.10\n",
      "\u001b[32m✔\u001b[39m \u001b[34mtidyr  \u001b[39m 1.2.1      \u001b[32m✔\u001b[39m \u001b[34mstringr\u001b[39m 1.4.0 \n",
      "\u001b[32m✔\u001b[39m \u001b[34mreadr  \u001b[39m 2.1.3      \u001b[32m✔\u001b[39m \u001b[34mforcats\u001b[39m 0.5.1 \n",
      "── \u001b[1mConflicts\u001b[22m ────────────────────────────────────────── tidyverse_conflicts() ──\n",
      "\u001b[31m✖\u001b[39m \u001b[34mdplyr\u001b[39m::\u001b[32mfilter()\u001b[39m masks \u001b[34mstats\u001b[39m::filter()\n",
      "\u001b[31m✖\u001b[39m \u001b[34mdplyr\u001b[39m::\u001b[32mlag()\u001b[39m    masks \u001b[34mstats\u001b[39m::lag()\n"
     ]
    },
    {
     "data": {
      "text/html": [
       "<table class=\"dataframe\">\n",
       "<caption>A data.frame: 10 × 7</caption>\n",
       "<thead>\n",
       "\t<tr><th scope=col>X</th><th scope=col>gender</th><th scope=col>education</th><th scope=col>age</th><th scope=col>ACT</th><th scope=col>SATV</th><th scope=col>SATQ</th></tr>\n",
       "\t<tr><th scope=col>&lt;int&gt;</th><th scope=col>&lt;fct&gt;</th><th scope=col>&lt;fct&gt;</th><th scope=col>&lt;int&gt;</th><th scope=col>&lt;int&gt;</th><th scope=col>&lt;int&gt;</th><th scope=col>&lt;int&gt;</th></tr>\n",
       "</thead>\n",
       "<tbody>\n",
       "\t<tr><td>36107</td><td>1</td><td>3</td><td>20</td><td>21</td><td>450</td><td>550</td></tr>\n",
       "\t<tr><td>38210</td><td>2</td><td>3</td><td>20</td><td>30</td><td>600</td><td>400</td></tr>\n",
       "\t<tr><td>32697</td><td>2</td><td>2</td><td>26</td><td>36</td><td>550</td><td>555</td></tr>\n",
       "\t<tr><td>36382</td><td>2</td><td>3</td><td>19</td><td>36</td><td>530</td><td>680</td></tr>\n",
       "\t<tr><td>39772</td><td>2</td><td>3</td><td>20</td><td>36</td><td>760</td><td>760</td></tr>\n",
       "\t<tr><td>32314</td><td>1</td><td>5</td><td>42</td><td>28</td><td>600</td><td>530</td></tr>\n",
       "\t<tr><td>37081</td><td>1</td><td>2</td><td>31</td><td>30</td><td>640</td><td>750</td></tr>\n",
       "\t<tr><td>35661</td><td>2</td><td>5</td><td>33</td><td>34</td><td>760</td><td>670</td></tr>\n",
       "\t<tr><td>32714</td><td>1</td><td>0</td><td>18</td><td>34</td><td>770</td><td>800</td></tr>\n",
       "\t<tr><td>34208</td><td>1</td><td>3</td><td>19</td><td>20</td><td>480</td><td>480</td></tr>\n",
       "</tbody>\n",
       "</table>\n"
      ],
      "text/latex": [
       "A data.frame: 10 × 7\n",
       "\\begin{tabular}{lllllll}\n",
       " X & gender & education & age & ACT & SATV & SATQ\\\\\n",
       " <int> & <fct> & <fct> & <int> & <int> & <int> & <int>\\\\\n",
       "\\hline\n",
       "\t 36107 & 1 & 3 & 20 & 21 & 450 & 550\\\\\n",
       "\t 38210 & 2 & 3 & 20 & 30 & 600 & 400\\\\\n",
       "\t 32697 & 2 & 2 & 26 & 36 & 550 & 555\\\\\n",
       "\t 36382 & 2 & 3 & 19 & 36 & 530 & 680\\\\\n",
       "\t 39772 & 2 & 3 & 20 & 36 & 760 & 760\\\\\n",
       "\t 32314 & 1 & 5 & 42 & 28 & 600 & 530\\\\\n",
       "\t 37081 & 1 & 2 & 31 & 30 & 640 & 750\\\\\n",
       "\t 35661 & 2 & 5 & 33 & 34 & 760 & 670\\\\\n",
       "\t 32714 & 1 & 0 & 18 & 34 & 770 & 800\\\\\n",
       "\t 34208 & 1 & 3 & 19 & 20 & 480 & 480\\\\\n",
       "\\end{tabular}\n"
      ],
      "text/markdown": [
       "\n",
       "A data.frame: 10 × 7\n",
       "\n",
       "| X &lt;int&gt; | gender &lt;fct&gt; | education &lt;fct&gt; | age &lt;int&gt; | ACT &lt;int&gt; | SATV &lt;int&gt; | SATQ &lt;int&gt; |\n",
       "|---|---|---|---|---|---|---|\n",
       "| 36107 | 1 | 3 | 20 | 21 | 450 | 550 |\n",
       "| 38210 | 2 | 3 | 20 | 30 | 600 | 400 |\n",
       "| 32697 | 2 | 2 | 26 | 36 | 550 | 555 |\n",
       "| 36382 | 2 | 3 | 19 | 36 | 530 | 680 |\n",
       "| 39772 | 2 | 3 | 20 | 36 | 760 | 760 |\n",
       "| 32314 | 1 | 5 | 42 | 28 | 600 | 530 |\n",
       "| 37081 | 1 | 2 | 31 | 30 | 640 | 750 |\n",
       "| 35661 | 2 | 5 | 33 | 34 | 760 | 670 |\n",
       "| 32714 | 1 | 0 | 18 | 34 | 770 | 800 |\n",
       "| 34208 | 1 | 3 | 19 | 20 | 480 | 480 |\n",
       "\n"
      ],
      "text/plain": [
       "   X     gender education age ACT SATV SATQ\n",
       "1  36107 1      3         20  21  450  550 \n",
       "2  38210 2      3         20  30  600  400 \n",
       "3  32697 2      2         26  36  550  555 \n",
       "4  36382 2      3         19  36  530  680 \n",
       "5  39772 2      3         20  36  760  760 \n",
       "6  32314 1      5         42  28  600  530 \n",
       "7  37081 1      2         31  30  640  750 \n",
       "8  35661 2      5         33  34  760  670 \n",
       "9  32714 1      0         18  34  770  800 \n",
       "10 34208 1      3         19  20  480  480 "
      ]
     },
     "metadata": {},
     "output_type": "display_data"
    }
   ],
   "source": [
    "library(tidyverse)\n",
    "sample_n(sat.dat, size=10)"
   ]
  },
  {
   "cell_type": "code",
   "execution_count": 4,
   "id": "4e739e3c",
   "metadata": {},
   "outputs": [
    {
     "data": {
      "text/html": [
       "<table class=\"dataframe\">\n",
       "<caption>A data.frame: 10 × 7</caption>\n",
       "<thead>\n",
       "\t<tr><th scope=col>X</th><th scope=col>gender</th><th scope=col>education</th><th scope=col>age</th><th scope=col>ACT</th><th scope=col>SATV</th><th scope=col>SATQ</th></tr>\n",
       "\t<tr><th scope=col>&lt;int&gt;</th><th scope=col>&lt;fct&gt;</th><th scope=col>&lt;fct&gt;</th><th scope=col>&lt;int&gt;</th><th scope=col>&lt;int&gt;</th><th scope=col>&lt;int&gt;</th><th scope=col>&lt;int&gt;</th></tr>\n",
       "</thead>\n",
       "<tbody>\n",
       "\t<tr><td>31080</td><td>2</td><td>4</td><td>33</td><td>36</td><td>500</td><td>500</td></tr>\n",
       "\t<tr><td>38463</td><td>2</td><td>3</td><td>38</td><td>26</td><td>580</td><td>500</td></tr>\n",
       "\t<tr><td>35661</td><td>2</td><td>5</td><td>33</td><td>34</td><td>760</td><td>670</td></tr>\n",
       "\t<tr><td>31738</td><td>2</td><td>0</td><td>17</td><td>30</td><td>600</td><td>600</td></tr>\n",
       "\t<tr><td>37114</td><td>2</td><td>0</td><td>18</td><td>26</td><td>530</td><td> NA</td></tr>\n",
       "\t<tr><td>38511</td><td>2</td><td>1</td><td>18</td><td>28</td><td>710</td><td>600</td></tr>\n",
       "\t<tr><td>34583</td><td>2</td><td>3</td><td>25</td><td>27</td><td>500</td><td>500</td></tr>\n",
       "\t<tr><td>36186</td><td>2</td><td>5</td><td>34</td><td>34</td><td>640</td><td>640</td></tr>\n",
       "\t<tr><td>32241</td><td>1</td><td>4</td><td>33</td><td>23</td><td>700</td><td>400</td></tr>\n",
       "\t<tr><td>31074</td><td>2</td><td>5</td><td>26</td><td>26</td><td>550</td><td>700</td></tr>\n",
       "</tbody>\n",
       "</table>\n"
      ],
      "text/latex": [
       "A data.frame: 10 × 7\n",
       "\\begin{tabular}{lllllll}\n",
       " X & gender & education & age & ACT & SATV & SATQ\\\\\n",
       " <int> & <fct> & <fct> & <int> & <int> & <int> & <int>\\\\\n",
       "\\hline\n",
       "\t 31080 & 2 & 4 & 33 & 36 & 500 & 500\\\\\n",
       "\t 38463 & 2 & 3 & 38 & 26 & 580 & 500\\\\\n",
       "\t 35661 & 2 & 5 & 33 & 34 & 760 & 670\\\\\n",
       "\t 31738 & 2 & 0 & 17 & 30 & 600 & 600\\\\\n",
       "\t 37114 & 2 & 0 & 18 & 26 & 530 &  NA\\\\\n",
       "\t 38511 & 2 & 1 & 18 & 28 & 710 & 600\\\\\n",
       "\t 34583 & 2 & 3 & 25 & 27 & 500 & 500\\\\\n",
       "\t 36186 & 2 & 5 & 34 & 34 & 640 & 640\\\\\n",
       "\t 32241 & 1 & 4 & 33 & 23 & 700 & 400\\\\\n",
       "\t 31074 & 2 & 5 & 26 & 26 & 550 & 700\\\\\n",
       "\\end{tabular}\n"
      ],
      "text/markdown": [
       "\n",
       "A data.frame: 10 × 7\n",
       "\n",
       "| X &lt;int&gt; | gender &lt;fct&gt; | education &lt;fct&gt; | age &lt;int&gt; | ACT &lt;int&gt; | SATV &lt;int&gt; | SATQ &lt;int&gt; |\n",
       "|---|---|---|---|---|---|---|\n",
       "| 31080 | 2 | 4 | 33 | 36 | 500 | 500 |\n",
       "| 38463 | 2 | 3 | 38 | 26 | 580 | 500 |\n",
       "| 35661 | 2 | 5 | 33 | 34 | 760 | 670 |\n",
       "| 31738 | 2 | 0 | 17 | 30 | 600 | 600 |\n",
       "| 37114 | 2 | 0 | 18 | 26 | 530 |  NA |\n",
       "| 38511 | 2 | 1 | 18 | 28 | 710 | 600 |\n",
       "| 34583 | 2 | 3 | 25 | 27 | 500 | 500 |\n",
       "| 36186 | 2 | 5 | 34 | 34 | 640 | 640 |\n",
       "| 32241 | 1 | 4 | 33 | 23 | 700 | 400 |\n",
       "| 31074 | 2 | 5 | 26 | 26 | 550 | 700 |\n",
       "\n"
      ],
      "text/plain": [
       "   X     gender education age ACT SATV SATQ\n",
       "1  31080 2      4         33  36  500  500 \n",
       "2  38463 2      3         38  26  580  500 \n",
       "3  35661 2      5         33  34  760  670 \n",
       "4  31738 2      0         17  30  600  600 \n",
       "5  37114 2      0         18  26  530   NA \n",
       "6  38511 2      1         18  28  710  600 \n",
       "7  34583 2      3         25  27  500  500 \n",
       "8  36186 2      5         34  34  640  640 \n",
       "9  32241 1      4         33  23  700  400 \n",
       "10 31074 2      5         26  26  550  700 "
      ]
     },
     "metadata": {},
     "output_type": "display_data"
    }
   ],
   "source": [
    "# Here using the pipe operator\n",
    "sat.dat %>% sample_n(size=10)"
   ]
  },
  {
   "cell_type": "markdown",
   "id": "4af79d7c",
   "metadata": {},
   "source": [
    "# Confidence Intervals"
   ]
  },
  {
   "cell_type": "markdown",
   "id": "84faafa0",
   "metadata": {},
   "source": [
    "As we saw in the lectures, our estimations of the mean will never be accurate, so it is a common practice to build confidence intervals around this measure, so that we have some degree of confidence about the observed value.\n",
    "\n",
    "As noted in the lectures, the confidence intervals are usually given in terms of percentage, (1-$\\alpha$)$\\cdot$100%, which tells you that if you are to repeat the sampling many times, the given percentage of samples would contain the population mean.\n",
    "\n",
    "To calculate these confidence intervals, one basically has to take the estimated mean and build a symmetrical distribution around it. Then, one just needs to calculate the cut-off values in this distribution such that it contains the  (1-$\\alpha$)$\\cdot$100 of the points. This can be very easily accomplished using the quantile function. (**N.B.** This is one way of calculating confidence intervals that works well for the mean. However, you can always build confidence intervals around ANY statistics, so for some cases, you may need to use a different method, e.g. using a procedure called \"bootstrapping\". This is beyond the scope of this course.)\n",
    "\n",
    "We also showed that one has to use different quantile functions depending on the situation encountered. Let's see this for the calculation of the 95% confidence intervals of the mean (say equal to 10), from a sample of size 30."
   ]
  },
  {
   "cell_type": "code",
   "execution_count": 5,
   "id": "2d69f8c9",
   "metadata": {},
   "outputs": [],
   "source": [
    "alpha<-0.05 # because of 95% = 100*(1-0.05)\n",
    "n<-30 # sample size"
   ]
  },
  {
   "cell_type": "markdown",
   "id": "0b8a184c",
   "metadata": {},
   "source": [
    "- Data follow a GAUSSIAN DISTRIBUTION and standard deviation of the population is KNOWN. Here we use the quantiles from the standard gaussian distribution, which in R is computed with the function `qnorm`."
   ]
  },
  {
   "cell_type": "code",
   "execution_count": 6,
   "id": "846e17e6",
   "metadata": {},
   "outputs": [
    {
     "data": {
      "text/html": [
       "-1.95996398454005"
      ],
      "text/latex": [
       "-1.95996398454005"
      ],
      "text/markdown": [
       "-1.95996398454005"
      ],
      "text/plain": [
       "[1] -1.959964"
      ]
     },
     "metadata": {},
     "output_type": "display_data"
    }
   ],
   "source": [
    "z.alpha052<-qnorm(alpha/2)\n",
    "z.alpha052"
   ]
  },
  {
   "cell_type": "markdown",
   "id": "8f57bdfa",
   "metadata": {},
   "source": [
    "For this then we would build our 95% confidence intervals for a given sample like this:\n",
    "\n",
    "< X > $\\pm$ 1.95996398454005 * $\\frac{\\sigma}{\\sqrt{n}}$"
   ]
  },
  {
   "cell_type": "markdown",
   "id": "3866c460",
   "metadata": {},
   "source": [
    "- GAUSSIAN distribution and standard deviation of the population is UNKNOWN.\n",
    "- NON-GAUSSIAN distribution.\n",
    "\n",
    "Here we would use the quantiles from the Student's t-distribution. In R this is calculated with the function `qt`."
   ]
  },
  {
   "cell_type": "code",
   "execution_count": 7,
   "id": "f2b41d9c",
   "metadata": {},
   "outputs": [
    {
     "data": {
      "text/html": [
       "-2.0452296421327"
      ],
      "text/latex": [
       "-2.0452296421327"
      ],
      "text/markdown": [
       "-2.0452296421327"
      ],
      "text/plain": [
       "[1] -2.04523"
      ]
     },
     "metadata": {},
     "output_type": "display_data"
    }
   ],
   "source": [
    "t.29.alpha052<-qt(alpha/2, df = n-1)\n",
    "t.29.alpha052"
   ]
  },
  {
   "cell_type": "markdown",
   "id": "6929b393",
   "metadata": {},
   "source": [
    "And the 95% confidence intervals would be expressed in this case like:\n",
    "\n",
    "< X > $\\pm$ 2.0452296421327 * $\\frac{\\hat{\\sigma}}{\\sqrt{n}}$\n",
    "\n",
    "Here, since we don't know the standard deviation from the population, we will estimate it from the sample. That's why we have a hat, i.e. $\\hat{\\sigma}$. This is calculated with the R function `sd`. "
   ]
  },
  {
   "cell_type": "markdown",
   "id": "43e34673",
   "metadata": {},
   "source": [
    "As you can see, this result is way different from the previous one, because the t-distribution has heavier tails than the gaussian distribution. However, as the sample sizes increase, the t-distribution converges to a gaussian distribution, so results should not differ that much in such scenarios. Let's see this."
   ]
  },
  {
   "cell_type": "code",
   "execution_count": 8,
   "id": "1e8df940",
   "metadata": {},
   "outputs": [
    {
     "name": "stdout",
     "output_type": "stream",
     "text": [
      "[1] -1.959964\n",
      "[1] -2.04523\n",
      "[1] -2.009575\n",
      "[1] -1.984217\n",
      "[1] -1.964729\n"
     ]
    }
   ],
   "source": [
    "sample.size<-c(30, 50, 100, 500)\n",
    "print(z.alpha052)\n",
    "\n",
    "for (sample.size in sample.size)\n",
    "{\n",
    "    print(qt(alpha/2, df = sample.size-1))\n",
    "}"
   ]
  },
  {
   "cell_type": "markdown",
   "id": "9dd14b77",
   "metadata": {},
   "source": [
    "<div class=\"alert alert-info\"> <b>Demonstration</b>: The (1-$\\alpha$)$\\cdot$100% confidence intervals could be interpreted as the (1-$\\alpha$)$\\cdot$100% of the experiments that will include the real mean, if we are to replicate an experiment many times and compute the confidence intervals each time.\n",
    "\n",
    "Let's demonstrate this for a population that follows a Gaussian distribution with mean=100 and standard deviation=15. Consider 500 experiments. In each experiment, sample 100 observations from a population with the aforementioned parameters (mean=100, standard deviation=15), calculate the sample mean and standard deviation. These will be the estimated parameters for our population. Then, calculate the 95% confidence interval. Finally, check - i.e you should obtain a logical value (i.e. TRUE or FALSE) - whether this confidence interval contains the population mean (100). For each experiment, store the final logic value into a vector. With this vector of 500 logical values (one for each experiment), calculate the proportion of TRUES in the vector. It should give approximately 95%.  \n",
    "</div>"
   ]
  },
  {
   "cell_type": "code",
   "execution_count": 14,
   "id": "b0e745bb",
   "metadata": {},
   "outputs": [],
   "source": [
    "set.seed(1234)\n",
    "n.exp<-500\n",
    "alpha<-0.05\n",
    "n<-100\n",
    "z.alpha052<-qnorm(alpha/2)\n",
    "inside.cis<-c()\n",
    "for(ii in c(1:n.exp)){\n",
    "    exp.sample<-rnorm(n, mean = 100, sd=15)\n",
    "    mu.exp<-mean(exp.sample)\n",
    "    std.exp<-sd(exp.sample)\n",
    "    inside.cis<-c((100 > mu.exp + z.alpha052[1]*std.exp/sqrt(n)) & (100 < mu.exp - z.alpha052[1]*std.exp/sqrt(n)), inside.cis)\n",
    "}"
   ]
  },
  {
   "cell_type": "code",
   "execution_count": 15,
   "id": "8226b2bf",
   "metadata": {},
   "outputs": [
    {
     "data": {
      "text/html": [
       "0.948"
      ],
      "text/latex": [
       "0.948"
      ],
      "text/markdown": [
       "0.948"
      ],
      "text/plain": [
       "[1] 0.948"
      ]
     },
     "metadata": {},
     "output_type": "display_data"
    }
   ],
   "source": [
    "sum(inside.cis)/n.exp"
   ]
  },
  {
   "cell_type": "markdown",
   "id": "2d04ae44",
   "metadata": {},
   "source": [
    "# Plotting confidence intervals\n",
    "\n",
    "Some times, you may want to plot the confidence intervals. We are going to see now how to do this using the libraries **ggplot** and **dplyr**."
   ]
  },
  {
   "cell_type": "code",
   "execution_count": 16,
   "id": "b1300585",
   "metadata": {},
   "outputs": [],
   "source": [
    "library(tidyverse)"
   ]
  },
  {
   "cell_type": "code",
   "execution_count": 17,
   "id": "3b0897c2",
   "metadata": {},
   "outputs": [
    {
     "data": {
      "text/html": [
       "<table class=\"dataframe\">\n",
       "<caption>A tibble: 6 × 6</caption>\n",
       "<thead>\n",
       "\t<tr><th scope=col>education</th><th scope=col>mu</th><th scope=col>std</th><th scope=col>N</th><th scope=col>se</th><th scope=col>tn1.alpha2</th></tr>\n",
       "\t<tr><th scope=col>&lt;fct&gt;</th><th scope=col>&lt;dbl&gt;</th><th scope=col>&lt;dbl&gt;</th><th scope=col>&lt;int&gt;</th><th scope=col>&lt;dbl&gt;</th><th scope=col>&lt;dbl&gt;</th></tr>\n",
       "</thead>\n",
       "<tbody>\n",
       "\t<tr><td>0</td><td>27.47368</td><td>5.206813</td><td> 57</td><td>0.6896592</td><td>-2.003241</td></tr>\n",
       "\t<tr><td>1</td><td>27.48889</td><td>6.055134</td><td> 45</td><td>0.9026461</td><td>-2.015368</td></tr>\n",
       "\t<tr><td>2</td><td>26.97727</td><td>5.808929</td><td> 44</td><td>0.8757290</td><td>-2.016692</td></tr>\n",
       "\t<tr><td>3</td><td>28.29455</td><td>4.846227</td><td>275</td><td>0.2922385</td><td>-1.968660</td></tr>\n",
       "\t<tr><td>4</td><td>29.26087</td><td>4.345153</td><td>138</td><td>0.3698840</td><td>-1.977431</td></tr>\n",
       "\t<tr><td>5</td><td>29.60284</td><td>3.954887</td><td>141</td><td>0.3330616</td><td>-1.977054</td></tr>\n",
       "</tbody>\n",
       "</table>\n"
      ],
      "text/latex": [
       "A tibble: 6 × 6\n",
       "\\begin{tabular}{llllll}\n",
       " education & mu & std & N & se & tn1.alpha2\\\\\n",
       " <fct> & <dbl> & <dbl> & <int> & <dbl> & <dbl>\\\\\n",
       "\\hline\n",
       "\t 0 & 27.47368 & 5.206813 &  57 & 0.6896592 & -2.003241\\\\\n",
       "\t 1 & 27.48889 & 6.055134 &  45 & 0.9026461 & -2.015368\\\\\n",
       "\t 2 & 26.97727 & 5.808929 &  44 & 0.8757290 & -2.016692\\\\\n",
       "\t 3 & 28.29455 & 4.846227 & 275 & 0.2922385 & -1.968660\\\\\n",
       "\t 4 & 29.26087 & 4.345153 & 138 & 0.3698840 & -1.977431\\\\\n",
       "\t 5 & 29.60284 & 3.954887 & 141 & 0.3330616 & -1.977054\\\\\n",
       "\\end{tabular}\n"
      ],
      "text/markdown": [
       "\n",
       "A tibble: 6 × 6\n",
       "\n",
       "| education &lt;fct&gt; | mu &lt;dbl&gt; | std &lt;dbl&gt; | N &lt;int&gt; | se &lt;dbl&gt; | tn1.alpha2 &lt;dbl&gt; |\n",
       "|---|---|---|---|---|---|\n",
       "| 0 | 27.47368 | 5.206813 |  57 | 0.6896592 | -2.003241 |\n",
       "| 1 | 27.48889 | 6.055134 |  45 | 0.9026461 | -2.015368 |\n",
       "| 2 | 26.97727 | 5.808929 |  44 | 0.8757290 | -2.016692 |\n",
       "| 3 | 28.29455 | 4.846227 | 275 | 0.2922385 | -1.968660 |\n",
       "| 4 | 29.26087 | 4.345153 | 138 | 0.3698840 | -1.977431 |\n",
       "| 5 | 29.60284 | 3.954887 | 141 | 0.3330616 | -1.977054 |\n",
       "\n"
      ],
      "text/plain": [
       "  education mu       std      N   se        tn1.alpha2\n",
       "1 0         27.47368 5.206813  57 0.6896592 -2.003241 \n",
       "2 1         27.48889 6.055134  45 0.9026461 -2.015368 \n",
       "3 2         26.97727 5.808929  44 0.8757290 -2.016692 \n",
       "4 3         28.29455 4.846227 275 0.2922385 -1.968660 \n",
       "5 4         29.26087 4.345153 138 0.3698840 -1.977431 \n",
       "6 5         29.60284 3.954887 141 0.3330616 -1.977054 "
      ]
     },
     "metadata": {},
     "output_type": "display_data"
    }
   ],
   "source": [
    "act.summary<-sat.dat %>% \n",
    "group_by(education) %>%\n",
    "summarize(mu=mean(ACT), \n",
    "       std=sd(ACT), \n",
    "       N=n(), \n",
    "       se=std/sqrt(N),\n",
    "       tn1.alpha2=qt(0.025, df = N-1))\n",
    "\n",
    "act.summary"
   ]
  },
  {
   "cell_type": "code",
   "execution_count": 18,
   "id": "e31870a4",
   "metadata": {},
   "outputs": [
    {
     "data": {
      "image/png": "[encoded data removed]",
      "text/plain": [
       "plot without title"
      ]
     },
     "metadata": {
      "image/png": {
       "height": 420,
       "width": 420
      }
     },
     "output_type": "display_data"
    }
   ],
   "source": [
    "ggplot(data = act.summary, aes(x=education, y=mu)) + \n",
    "geom_errorbar(aes(ymin=mu-1.96*se, ymax=mu+1.96*se), width=.1) + \n",
    "geom_point(size=5)"
   ]
  },
  {
   "cell_type": "code",
   "execution_count": 19,
   "id": "c299b46a",
   "metadata": {},
   "outputs": [
    {
     "data": {
      "image/png": "[encoded data removed]",
      "text/plain": [
       "plot without title"
      ]
     },
     "metadata": {
      "image/png": {
       "height": 420,
       "width": 420
      }
     },
     "output_type": "display_data"
    }
   ],
   "source": [
    "ggplot(data = act.summary, aes(x=education, y=mu)) + \n",
    "geom_errorbar(aes(ymin=mu+tn1.alpha2*se, ymax=mu-tn1.alpha2*se), width=.1) + \n",
    "geom_point(size=5)"
   ]
  },
  {
   "cell_type": "code",
   "execution_count": 20,
   "id": "8b2220f4",
   "metadata": {},
   "outputs": [
    {
     "data": {
      "image/png": "[encoded data removed]",
      "text/plain": [
       "plot without title"
      ]
     },
     "metadata": {
      "image/png": {
       "height": 420,
       "width": 420
      }
     },
     "output_type": "display_data"
    }
   ],
   "source": [
    "# This is the  same as above\n",
    "ggplot(data = act.summary, aes(x=education, y=mu)) + \n",
    "geom_errorbar(aes(ymin=mu-abs(qt(0.025, df = N-1))*se, ymax=mu+abs(qt(0.025, df = N-1))*se), width=.1) + \n",
    "geom_point(size=5)"
   ]
  },
  {
   "cell_type": "markdown",
   "id": "eb9d72fb",
   "metadata": {},
   "source": [
    "As you can see, the confidence intervals for education > 2 are similar to the gaussian case; and that's because for those categories, the sample sizes were large."
   ]
  },
  {
   "cell_type": "markdown",
   "id": "e6f9bbcd",
   "metadata": {},
   "source": [
    "<div class=\"alert alert-info\"> <b>Demonstration</b>: As the sample size increases, the sample mean tends to the population mean.\n",
    "\n",
    "Let's demonstrate this for a population whose weight follows a gaussian distribution with mean = 70kg and standard deviation=10kg. \n",
    "    \n",
    "Consider the following sequence of samples sizes: (5, 10, 50, 100, 200, 500, 1000, 5000, 10000). For each of these sample sizes, generate a random sample and take the mean. Plot these against the sample sizes.\n",
    "</div>"
   ]
  },
  {
   "cell_type": "code",
   "execution_count": 21,
   "id": "f62464f1",
   "metadata": {},
   "outputs": [
    {
     "data": {
      "image/png": "[encoded data removed]",
      "text/plain": [
       "plot without title"
      ]
     },
     "metadata": {
      "image/png": {
       "height": 420,
       "width": 420
      }
     },
     "output_type": "display_data"
    }
   ],
   "source": [
    "library(tidyverse)\n",
    "sample.sizes<-c(5, 10, 50, 100, 200, 500, 1000, 5000, 10000)\n",
    "set.seed(1234)\n",
    "dat<-data.frame(n=sample.sizes, \n",
    "                mean=sapply(sample.sizes, function(x) mean(rnorm(x, mean = 70, sd = 10))))\n",
    "ggplot(dat, aes(x=n, y=mean)) + geom_point() + geom_line() +  \n",
    "                            scale_x_continuous(trans='log2', breaks = c(10, 50, 100, 500, 1000, 5000, 10000))       "
   ]
  },
  {
   "cell_type": "markdown",
   "id": "0ff35620",
   "metadata": {},
   "source": [
    "<div class=\"alert alert-info\"> <b>Demonstration</b>: The estimation of the standard deviation of the population goes with N-1 instead of N.\n",
    "    \n",
    "To demonstrate this, consider sampling from the population of IQ's, that is, from a normal distribution with mean=100 and standard deviation=15. Now, using `rnorm`, extract 10,000 samples with 2 observation, 10,000 more with 3 observations, and so on up to a sample size of 10. In each of these samples, calculate the mean, the standard deviation using the built-in R function `sd` (which divides by N-1), and the standard deviation divided by N (you will need to implement it yourself). \n",
    "    \n",
    "Then, plot the average of the sample means and the average of the standard deviations versus the sample size. You should see that, on average, the sample means are always around 100, regardless of the sample size.  However, the estimated standard deviations calculated dividing by N turn out to be systematically too small, especially for small sample sizes. Dividing by N-1 tries to circumvent this.\n",
    "</div>"
   ]
  },
  {
   "cell_type": "code",
   "execution_count": 22,
   "id": "a197ab2c",
   "metadata": {},
   "outputs": [],
   "source": [
    "sd.N<-function(x){\n",
    "    N<-length(x)\n",
    "    mu<-mean(x)\n",
    "    return(sqrt(mean((mu-x)**2)))\n",
    "}\n",
    "sample.sizes<-c(2:10)\n",
    "\n",
    "set.seed(1234)\n",
    "means<-c()\n",
    "sdsN<-c()\n",
    "sds<-c()\n",
    "\n",
    "for(n in sample.sizes){\n",
    "    datasets<-lapply(c(1:10000), function(x) rnorm(n, mean = 100, sd=15))\n",
    "    means<-c(means, mean(sapply(datasets, mean)))\n",
    "    sdsN<-c(sdsN, mean(sapply(datasets, sd.N)))\n",
    "    sds<-c(sds, mean(sapply(datasets, sd)))\n",
    "             \n",
    "}"
   ]
  },
  {
   "cell_type": "code",
   "execution_count": 25,
   "id": "c78c8fbf",
   "metadata": {},
   "outputs": [
    {
     "data": {
      "image/png": "[encoded data removed]",
      "text/plain": [
       "plot without title"
      ]
     },
     "metadata": {
      "image/png": {
       "height": 420,
       "width": 420
      }
     },
     "output_type": "display_data"
    }
   ],
   "source": [
    "ggplot(data = data.frame(x=sample.sizes, y=means), aes(x=x, y=y)) + \n",
    "geom_point() + \n",
    "geom_line() + \n",
    "geom_hline(yintercept = 100) + ylim(95, 105)"
   ]
  },
  {
   "cell_type": "code",
   "execution_count": null,
   "id": "87fe16d3",
   "metadata": {},
   "outputs": [],
   "source": []
  }
 ],
 "metadata": {
  "kernelspec": {
   "display_name": "R",
   "language": "R",
   "name": "ir"
  },
  "language_info": {
   "codemirror_mode": "r",
   "file_extension": ".r",
   "mimetype": "text/x-r-source",
   "name": "R",
   "pygments_lexer": "r",
   "version": "3.6.3"
  }
 },
 "nbformat": 4,
 "nbformat_minor": 5
}
