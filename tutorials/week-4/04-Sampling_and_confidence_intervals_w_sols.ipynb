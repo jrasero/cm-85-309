{
 "cells": [
  {
   "cell_type": "markdown",
   "id": "ef6c6514",
   "metadata": {},
   "source": [
    "In this tutorial we are going to see how to take samples from our data and compute and plot confidence intervals. In addition, you guys are going to demonstrate a few concepts and statements introduced in the lectures."
   ]
  },
  {
   "cell_type": "code",
   "execution_count": 1,
   "id": "4a6566e1",
   "metadata": {},
   "outputs": [],
   "source": [
    "sat.dat<-read.csv(\"https://vincentarelbundock.github.io/Rdatasets/csv/psych/sat.act.csv\")\n",
    "\n",
    "sat.dat$gender<-as.factor(sat.dat$gender)\n",
    "sat.dat$education<-as.factor(sat.dat$education)"
   ]
  },
  {
   "cell_type": "markdown",
   "id": "c110dc4f",
   "metadata": {},
   "source": [
    "# Sampling"
   ]
  },
  {
   "cell_type": "markdown",
   "id": "55e4da54",
   "metadata": {},
   "source": [
    "The R built-in function `sample` allows you to get samples from a given **vector** of values. For example, let's take a sample of 100 observations from the ACT scores."
   ]
  },
  {
   "cell_type": "code",
   "execution_count": 2,
   "id": "c277b0cb",
   "metadata": {},
   "outputs": [
    {
     "data": {
      "text/html": [
       "<style>\n",
       ".list-inline {list-style: none; margin:0; padding: 0}\n",
       ".list-inline>li {display: inline-block}\n",
       ".list-inline>li:not(:last-child)::after {content: \"\\00b7\"; padding: 0 .5ex}\n",
       "</style>\n",
       "<ol class=list-inline><li>21</li><li>35</li><li>28</li><li>33</li><li>20</li><li>22</li><li>28</li><li>35</li><li>23</li><li>28</li><li>32</li><li>33</li><li>30</li><li>30</li><li>20</li><li>28</li><li>28</li><li>28</li><li>32</li><li>28</li><li>32</li><li>27</li><li>28</li><li>32</li><li>32</li><li>32</li><li>29</li><li>28</li><li>32</li><li>34</li><li>29</li><li>23</li><li>35</li><li>26</li><li>31</li><li>23</li><li>24</li><li>33</li><li>32</li><li>34</li><li>29</li><li>33</li><li>34</li><li>33</li><li>36</li><li>28</li><li>21</li><li>25</li><li>34</li><li>35</li><li>31</li><li>36</li><li>31</li><li>36</li><li>34</li><li>27</li><li>20</li><li>35</li><li>18</li><li>35</li><li>32</li><li>21</li><li>30</li><li>26</li><li>27</li><li>32</li><li>30</li><li>34</li><li>23</li><li>31</li><li>28</li><li>32</li><li>36</li><li>31</li><li>23</li><li>29</li><li>33</li><li>36</li><li>34</li><li>33</li><li>32</li><li>25</li><li>17</li><li>25</li><li>29</li><li>28</li><li>21</li><li>26</li><li>32</li><li>29</li><li>32</li><li>30</li><li>31</li><li>35</li><li>28</li><li>36</li><li>19</li><li>32</li><li>35</li><li>29</li></ol>\n"
      ],
      "text/latex": [
       "\\begin{enumerate*}\n",
       "\\item 21\n",
       "\\item 35\n",
       "\\item 28\n",
       "\\item 33\n",
       "\\item 20\n",
       "\\item 22\n",
       "\\item 28\n",
       "\\item 35\n",
       "\\item 23\n",
       "\\item 28\n",
       "\\item 32\n",
       "\\item 33\n",
       "\\item 30\n",
       "\\item 30\n",
       "\\item 20\n",
       "\\item 28\n",
       "\\item 28\n",
       "\\item 28\n",
       "\\item 32\n",
       "\\item 28\n",
       "\\item 32\n",
       "\\item 27\n",
       "\\item 28\n",
       "\\item 32\n",
       "\\item 32\n",
       "\\item 32\n",
       "\\item 29\n",
       "\\item 28\n",
       "\\item 32\n",
       "\\item 34\n",
       "\\item 29\n",
       "\\item 23\n",
       "\\item 35\n",
       "\\item 26\n",
       "\\item 31\n",
       "\\item 23\n",
       "\\item 24\n",
       "\\item 33\n",
       "\\item 32\n",
       "\\item 34\n",
       "\\item 29\n",
       "\\item 33\n",
       "\\item 34\n",
       "\\item 33\n",
       "\\item 36\n",
       "\\item 28\n",
       "\\item 21\n",
       "\\item 25\n",
       "\\item 34\n",
       "\\item 35\n",
       "\\item 31\n",
       "\\item 36\n",
       "\\item 31\n",
       "\\item 36\n",
       "\\item 34\n",
       "\\item 27\n",
       "\\item 20\n",
       "\\item 35\n",
       "\\item 18\n",
       "\\item 35\n",
       "\\item 32\n",
       "\\item 21\n",
       "\\item 30\n",
       "\\item 26\n",
       "\\item 27\n",
       "\\item 32\n",
       "\\item 30\n",
       "\\item 34\n",
       "\\item 23\n",
       "\\item 31\n",
       "\\item 28\n",
       "\\item 32\n",
       "\\item 36\n",
       "\\item 31\n",
       "\\item 23\n",
       "\\item 29\n",
       "\\item 33\n",
       "\\item 36\n",
       "\\item 34\n",
       "\\item 33\n",
       "\\item 32\n",
       "\\item 25\n",
       "\\item 17\n",
       "\\item 25\n",
       "\\item 29\n",
       "\\item 28\n",
       "\\item 21\n",
       "\\item 26\n",
       "\\item 32\n",
       "\\item 29\n",
       "\\item 32\n",
       "\\item 30\n",
       "\\item 31\n",
       "\\item 35\n",
       "\\item 28\n",
       "\\item 36\n",
       "\\item 19\n",
       "\\item 32\n",
       "\\item 35\n",
       "\\item 29\n",
       "\\end{enumerate*}\n"
      ],
      "text/markdown": [
       "1. 21\n",
       "2. 35\n",
       "3. 28\n",
       "4. 33\n",
       "5. 20\n",
       "6. 22\n",
       "7. 28\n",
       "8. 35\n",
       "9. 23\n",
       "10. 28\n",
       "11. 32\n",
       "12. 33\n",
       "13. 30\n",
       "14. 30\n",
       "15. 20\n",
       "16. 28\n",
       "17. 28\n",
       "18. 28\n",
       "19. 32\n",
       "20. 28\n",
       "21. 32\n",
       "22. 27\n",
       "23. 28\n",
       "24. 32\n",
       "25. 32\n",
       "26. 32\n",
       "27. 29\n",
       "28. 28\n",
       "29. 32\n",
       "30. 34\n",
       "31. 29\n",
       "32. 23\n",
       "33. 35\n",
       "34. 26\n",
       "35. 31\n",
       "36. 23\n",
       "37. 24\n",
       "38. 33\n",
       "39. 32\n",
       "40. 34\n",
       "41. 29\n",
       "42. 33\n",
       "43. 34\n",
       "44. 33\n",
       "45. 36\n",
       "46. 28\n",
       "47. 21\n",
       "48. 25\n",
       "49. 34\n",
       "50. 35\n",
       "51. 31\n",
       "52. 36\n",
       "53. 31\n",
       "54. 36\n",
       "55. 34\n",
       "56. 27\n",
       "57. 20\n",
       "58. 35\n",
       "59. 18\n",
       "60. 35\n",
       "61. 32\n",
       "62. 21\n",
       "63. 30\n",
       "64. 26\n",
       "65. 27\n",
       "66. 32\n",
       "67. 30\n",
       "68. 34\n",
       "69. 23\n",
       "70. 31\n",
       "71. 28\n",
       "72. 32\n",
       "73. 36\n",
       "74. 31\n",
       "75. 23\n",
       "76. 29\n",
       "77. 33\n",
       "78. 36\n",
       "79. 34\n",
       "80. 33\n",
       "81. 32\n",
       "82. 25\n",
       "83. 17\n",
       "84. 25\n",
       "85. 29\n",
       "86. 28\n",
       "87. 21\n",
       "88. 26\n",
       "89. 32\n",
       "90. 29\n",
       "91. 32\n",
       "92. 30\n",
       "93. 31\n",
       "94. 35\n",
       "95. 28\n",
       "96. 36\n",
       "97. 19\n",
       "98. 32\n",
       "99. 35\n",
       "100. 29\n",
       "\n",
       "\n"
      ],
      "text/plain": [
       "  [1] 21 35 28 33 20 22 28 35 23 28 32 33 30 30 20 28 28 28 32 28 32 27 28 32 32\n",
       " [26] 32 29 28 32 34 29 23 35 26 31 23 24 33 32 34 29 33 34 33 36 28 21 25 34 35\n",
       " [51] 31 36 31 36 34 27 20 35 18 35 32 21 30 26 27 32 30 34 23 31 28 32 36 31 23\n",
       " [76] 29 33 36 34 33 32 25 17 25 29 28 21 26 32 29 32 30 31 35 28 36 19 32 35 29"
      ]
     },
     "metadata": {},
     "output_type": "display_data"
    }
   ],
   "source": [
    "sample(sat.dat$ACT, size=100)"
   ]
  },
  {
   "cell_type": "markdown",
   "id": "5ee7eff2",
   "metadata": {},
   "source": [
    "This, however, is restricted to vectors, but what if we want to sample a data frame? We can do it with the function `sample_n` from tidyverse."
   ]
  },
  {
   "cell_type": "code",
   "execution_count": 3,
   "id": "6ae747a2",
   "metadata": {},
   "outputs": [
    {
     "name": "stderr",
     "output_type": "stream",
     "text": [
      "── \u001b[1mAttaching packages\u001b[22m ─────────────────────────────────────── tidyverse 1.3.2 ──\n",
      "\u001b[32m✔\u001b[39m \u001b[34mggplot2\u001b[39m 3.4.0      \u001b[32m✔\u001b[39m \u001b[34mpurrr  \u001b[39m 0.3.4 \n",
      "\u001b[32m✔\u001b[39m \u001b[34mtibble \u001b[39m 3.1.8      \u001b[32m✔\u001b[39m \u001b[34mdplyr  \u001b[39m 1.0.10\n",
      "\u001b[32m✔\u001b[39m \u001b[34mtidyr  \u001b[39m 1.2.1      \u001b[32m✔\u001b[39m \u001b[34mstringr\u001b[39m 1.4.0 \n",
      "\u001b[32m✔\u001b[39m \u001b[34mreadr  \u001b[39m 2.1.3      \u001b[32m✔\u001b[39m \u001b[34mforcats\u001b[39m 0.5.1 \n",
      "── \u001b[1mConflicts\u001b[22m ────────────────────────────────────────── tidyverse_conflicts() ──\n",
      "\u001b[31m✖\u001b[39m \u001b[34mdplyr\u001b[39m::\u001b[32mfilter()\u001b[39m masks \u001b[34mstats\u001b[39m::filter()\n",
      "\u001b[31m✖\u001b[39m \u001b[34mdplyr\u001b[39m::\u001b[32mlag()\u001b[39m    masks \u001b[34mstats\u001b[39m::lag()\n"
     ]
    },
    {
     "data": {
      "text/html": [
       "<table class=\"dataframe\">\n",
       "<caption>A data.frame: 10 × 7</caption>\n",
       "<thead>\n",
       "\t<tr><th scope=col>X</th><th scope=col>gender</th><th scope=col>education</th><th scope=col>age</th><th scope=col>ACT</th><th scope=col>SATV</th><th scope=col>SATQ</th></tr>\n",
       "\t<tr><th scope=col>&lt;int&gt;</th><th scope=col>&lt;fct&gt;</th><th scope=col>&lt;fct&gt;</th><th scope=col>&lt;int&gt;</th><th scope=col>&lt;int&gt;</th><th scope=col>&lt;int&gt;</th><th scope=col>&lt;int&gt;</th></tr>\n",
       "</thead>\n",
       "<tbody>\n",
       "\t<tr><td>34319</td><td>1</td><td>4</td><td>30</td><td>21</td><td>500</td><td>450</td></tr>\n",
       "\t<tr><td>38176</td><td>1</td><td>3</td><td>18</td><td>27</td><td>670</td><td>670</td></tr>\n",
       "\t<tr><td>30302</td><td>2</td><td>4</td><td>24</td><td>36</td><td>650</td><td>650</td></tr>\n",
       "\t<tr><td>36120</td><td>2</td><td>5</td><td>34</td><td>32</td><td>640</td><td>480</td></tr>\n",
       "\t<tr><td>39097</td><td>1</td><td>5</td><td>24</td><td>31</td><td>770</td><td>670</td></tr>\n",
       "\t<tr><td>34624</td><td>2</td><td>1</td><td>18</td><td>27</td><td>700</td><td>650</td></tr>\n",
       "\t<tr><td>39109</td><td>2</td><td>5</td><td>24</td><td>32</td><td>600</td><td>750</td></tr>\n",
       "\t<tr><td>38976</td><td>1</td><td>5</td><td>58</td><td>34</td><td>675</td><td>680</td></tr>\n",
       "\t<tr><td>31937</td><td>2</td><td>1</td><td>17</td><td>30</td><td>700</td><td>700</td></tr>\n",
       "\t<tr><td>34227</td><td>2</td><td>3</td><td>20</td><td>33</td><td>750</td><td>740</td></tr>\n",
       "</tbody>\n",
       "</table>\n"
      ],
      "text/latex": [
       "A data.frame: 10 × 7\n",
       "\\begin{tabular}{lllllll}\n",
       " X & gender & education & age & ACT & SATV & SATQ\\\\\n",
       " <int> & <fct> & <fct> & <int> & <int> & <int> & <int>\\\\\n",
       "\\hline\n",
       "\t 34319 & 1 & 4 & 30 & 21 & 500 & 450\\\\\n",
       "\t 38176 & 1 & 3 & 18 & 27 & 670 & 670\\\\\n",
       "\t 30302 & 2 & 4 & 24 & 36 & 650 & 650\\\\\n",
       "\t 36120 & 2 & 5 & 34 & 32 & 640 & 480\\\\\n",
       "\t 39097 & 1 & 5 & 24 & 31 & 770 & 670\\\\\n",
       "\t 34624 & 2 & 1 & 18 & 27 & 700 & 650\\\\\n",
       "\t 39109 & 2 & 5 & 24 & 32 & 600 & 750\\\\\n",
       "\t 38976 & 1 & 5 & 58 & 34 & 675 & 680\\\\\n",
       "\t 31937 & 2 & 1 & 17 & 30 & 700 & 700\\\\\n",
       "\t 34227 & 2 & 3 & 20 & 33 & 750 & 740\\\\\n",
       "\\end{tabular}\n"
      ],
      "text/markdown": [
       "\n",
       "A data.frame: 10 × 7\n",
       "\n",
       "| X &lt;int&gt; | gender &lt;fct&gt; | education &lt;fct&gt; | age &lt;int&gt; | ACT &lt;int&gt; | SATV &lt;int&gt; | SATQ &lt;int&gt; |\n",
       "|---|---|---|---|---|---|---|\n",
       "| 34319 | 1 | 4 | 30 | 21 | 500 | 450 |\n",
       "| 38176 | 1 | 3 | 18 | 27 | 670 | 670 |\n",
       "| 30302 | 2 | 4 | 24 | 36 | 650 | 650 |\n",
       "| 36120 | 2 | 5 | 34 | 32 | 640 | 480 |\n",
       "| 39097 | 1 | 5 | 24 | 31 | 770 | 670 |\n",
       "| 34624 | 2 | 1 | 18 | 27 | 700 | 650 |\n",
       "| 39109 | 2 | 5 | 24 | 32 | 600 | 750 |\n",
       "| 38976 | 1 | 5 | 58 | 34 | 675 | 680 |\n",
       "| 31937 | 2 | 1 | 17 | 30 | 700 | 700 |\n",
       "| 34227 | 2 | 3 | 20 | 33 | 750 | 740 |\n",
       "\n"
      ],
      "text/plain": [
       "   X     gender education age ACT SATV SATQ\n",
       "1  34319 1      4         30  21  500  450 \n",
       "2  38176 1      3         18  27  670  670 \n",
       "3  30302 2      4         24  36  650  650 \n",
       "4  36120 2      5         34  32  640  480 \n",
       "5  39097 1      5         24  31  770  670 \n",
       "6  34624 2      1         18  27  700  650 \n",
       "7  39109 2      5         24  32  600  750 \n",
       "8  38976 1      5         58  34  675  680 \n",
       "9  31937 2      1         17  30  700  700 \n",
       "10 34227 2      3         20  33  750  740 "
      ]
     },
     "metadata": {},
     "output_type": "display_data"
    }
   ],
   "source": [
    "library(tidyverse)\n",
    "sample_n(sat.dat, size=10)"
   ]
  },
  {
   "cell_type": "code",
   "execution_count": 4,
   "id": "4e739e3c",
   "metadata": {},
   "outputs": [
    {
     "data": {
      "text/html": [
       "<table class=\"dataframe\">\n",
       "<caption>A data.frame: 10 × 7</caption>\n",
       "<thead>\n",
       "\t<tr><th scope=col>X</th><th scope=col>gender</th><th scope=col>education</th><th scope=col>age</th><th scope=col>ACT</th><th scope=col>SATV</th><th scope=col>SATQ</th></tr>\n",
       "\t<tr><th scope=col>&lt;int&gt;</th><th scope=col>&lt;fct&gt;</th><th scope=col>&lt;fct&gt;</th><th scope=col>&lt;int&gt;</th><th scope=col>&lt;int&gt;</th><th scope=col>&lt;int&gt;</th><th scope=col>&lt;int&gt;</th></tr>\n",
       "</thead>\n",
       "<tbody>\n",
       "\t<tr><td>37130</td><td>1</td><td>3</td><td>19</td><td>30</td><td>450</td><td>450</td></tr>\n",
       "\t<tr><td>34648</td><td>1</td><td>2</td><td>19</td><td>31</td><td>680</td><td>700</td></tr>\n",
       "\t<tr><td>33672</td><td>2</td><td>2</td><td>19</td><td>30</td><td>600</td><td>600</td></tr>\n",
       "\t<tr><td>33607</td><td>2</td><td>3</td><td>30</td><td>24</td><td>640</td><td>750</td></tr>\n",
       "\t<tr><td>30732</td><td>2</td><td>5</td><td>47</td><td>24</td><td>520</td><td>530</td></tr>\n",
       "\t<tr><td>33061</td><td>2</td><td>4</td><td>22</td><td>30</td><td>720</td><td>650</td></tr>\n",
       "\t<tr><td>38860</td><td>2</td><td>3</td><td>19</td><td>31</td><td>710</td><td>610</td></tr>\n",
       "\t<tr><td>30402</td><td>1</td><td>4</td><td>35</td><td>34</td><td>600</td><td>760</td></tr>\n",
       "\t<tr><td>37001</td><td>1</td><td>0</td><td>18</td><td>20</td><td>400</td><td>400</td></tr>\n",
       "\t<tr><td>35377</td><td>2</td><td>3</td><td>21</td><td>32</td><td>790</td><td>650</td></tr>\n",
       "</tbody>\n",
       "</table>\n"
      ],
      "text/latex": [
       "A data.frame: 10 × 7\n",
       "\\begin{tabular}{lllllll}\n",
       " X & gender & education & age & ACT & SATV & SATQ\\\\\n",
       " <int> & <fct> & <fct> & <int> & <int> & <int> & <int>\\\\\n",
       "\\hline\n",
       "\t 37130 & 1 & 3 & 19 & 30 & 450 & 450\\\\\n",
       "\t 34648 & 1 & 2 & 19 & 31 & 680 & 700\\\\\n",
       "\t 33672 & 2 & 2 & 19 & 30 & 600 & 600\\\\\n",
       "\t 33607 & 2 & 3 & 30 & 24 & 640 & 750\\\\\n",
       "\t 30732 & 2 & 5 & 47 & 24 & 520 & 530\\\\\n",
       "\t 33061 & 2 & 4 & 22 & 30 & 720 & 650\\\\\n",
       "\t 38860 & 2 & 3 & 19 & 31 & 710 & 610\\\\\n",
       "\t 30402 & 1 & 4 & 35 & 34 & 600 & 760\\\\\n",
       "\t 37001 & 1 & 0 & 18 & 20 & 400 & 400\\\\\n",
       "\t 35377 & 2 & 3 & 21 & 32 & 790 & 650\\\\\n",
       "\\end{tabular}\n"
      ],
      "text/markdown": [
       "\n",
       "A data.frame: 10 × 7\n",
       "\n",
       "| X &lt;int&gt; | gender &lt;fct&gt; | education &lt;fct&gt; | age &lt;int&gt; | ACT &lt;int&gt; | SATV &lt;int&gt; | SATQ &lt;int&gt; |\n",
       "|---|---|---|---|---|---|---|\n",
       "| 37130 | 1 | 3 | 19 | 30 | 450 | 450 |\n",
       "| 34648 | 1 | 2 | 19 | 31 | 680 | 700 |\n",
       "| 33672 | 2 | 2 | 19 | 30 | 600 | 600 |\n",
       "| 33607 | 2 | 3 | 30 | 24 | 640 | 750 |\n",
       "| 30732 | 2 | 5 | 47 | 24 | 520 | 530 |\n",
       "| 33061 | 2 | 4 | 22 | 30 | 720 | 650 |\n",
       "| 38860 | 2 | 3 | 19 | 31 | 710 | 610 |\n",
       "| 30402 | 1 | 4 | 35 | 34 | 600 | 760 |\n",
       "| 37001 | 1 | 0 | 18 | 20 | 400 | 400 |\n",
       "| 35377 | 2 | 3 | 21 | 32 | 790 | 650 |\n",
       "\n"
      ],
      "text/plain": [
       "   X     gender education age ACT SATV SATQ\n",
       "1  37130 1      3         19  30  450  450 \n",
       "2  34648 1      2         19  31  680  700 \n",
       "3  33672 2      2         19  30  600  600 \n",
       "4  33607 2      3         30  24  640  750 \n",
       "5  30732 2      5         47  24  520  530 \n",
       "6  33061 2      4         22  30  720  650 \n",
       "7  38860 2      3         19  31  710  610 \n",
       "8  30402 1      4         35  34  600  760 \n",
       "9  37001 1      0         18  20  400  400 \n",
       "10 35377 2      3         21  32  790  650 "
      ]
     },
     "metadata": {},
     "output_type": "display_data"
    }
   ],
   "source": [
    "# Here using the pipe operator\n",
    "sat.dat %>% sample_n(size=10)"
   ]
  },
  {
   "cell_type": "markdown",
   "id": "4af79d7c",
   "metadata": {},
   "source": [
    "# Confidence Intervals"
   ]
  },
  {
   "cell_type": "markdown",
   "id": "84faafa0",
   "metadata": {},
   "source": [
    "As we saw in the lectures, our estimations of the mean will never be accurate, so it is a common practice to build confidence intervals around this measure, so that we have some degree of confidence about the observed value.\n",
    "\n",
    "As noted in the lectures, the confidence intervals are usually given in terms of percentage, (1-$\\alpha$)$\\cdot$100%, which tells you that if you are to repeat the sampling many times, the given percentage of samples would contain the population mean.\n",
    "\n",
    "To calculate these confidence intervals, one basically has to take the estimated mean and build a symmetrical distribution around it. Then, one just needs to calculate the cut-off values in this distribution such that it contains the  (1-$\\alpha$)$\\cdot$100 of the points. This can be very easily accomplished using the quantile function. (**N.B.** This is one way of calculating confidence intervals that works well for the mean. However, you can always build confidence intervals around ANY statistics, so for some cases, you may need to use a different method, e.g. using a procedure called \"bootstrapping\". This is beyond the scope of this course.)\n",
    "\n",
    "We also showed that one has to use different quantile functions depending on the situation encountered. Let's see this for the calculation of the 95% confidence intervals of the mean (say equal to 10), from a sample of size 30."
   ]
  },
  {
   "cell_type": "code",
   "execution_count": 5,
   "id": "2d69f8c9",
   "metadata": {},
   "outputs": [],
   "source": [
    "alpha<-0.05 # because of 95% = 100*(1-0.05)\n",
    "n<-30 # sample size"
   ]
  },
  {
   "cell_type": "markdown",
   "id": "0b8a184c",
   "metadata": {},
   "source": [
    "- Data follow a GAUSSIAN DISTRIBUTION and standard deviation of the population is KNOWN. Here we use the quantiles from the standard gaussian distribution, which in R is computed with the function `qnorm`."
   ]
  },
  {
   "cell_type": "code",
   "execution_count": 6,
   "id": "846e17e6",
   "metadata": {},
   "outputs": [
    {
     "data": {
      "text/html": [
       "-1.95996398454005"
      ],
      "text/latex": [
       "-1.95996398454005"
      ],
      "text/markdown": [
       "-1.95996398454005"
      ],
      "text/plain": [
       "[1] -1.959964"
      ]
     },
     "metadata": {},
     "output_type": "display_data"
    }
   ],
   "source": [
    "z.alpha052<-qnorm(alpha/2)\n",
    "z.alpha052"
   ]
  },
  {
   "cell_type": "markdown",
   "id": "8f57bdfa",
   "metadata": {},
   "source": [
    "For this then we would build our 95% confidence intervals for a given sample like this:\n",
    "\n",
    "< X > $\\pm$ 1.95996398454005 * $\\frac{\\sigma}{\\sqrt{n}}$"
   ]
  },
  {
   "cell_type": "markdown",
   "id": "3866c460",
   "metadata": {},
   "source": [
    "- GAUSSIAN distribution and standard deviation of the population is UNKNOWN.\n",
    "- NON-GAUSSIAN distribution.\n",
    "\n",
    "Here we would use the quantiles from the Student's t-distribution. In R this is calculated with the function `qt`."
   ]
  },
  {
   "cell_type": "code",
   "execution_count": 7,
   "id": "f2b41d9c",
   "metadata": {},
   "outputs": [
    {
     "data": {
      "text/html": [
       "-2.0452296421327"
      ],
      "text/latex": [
       "-2.0452296421327"
      ],
      "text/markdown": [
       "-2.0452296421327"
      ],
      "text/plain": [
       "[1] -2.04523"
      ]
     },
     "metadata": {},
     "output_type": "display_data"
    }
   ],
   "source": [
    "t.29.alpha052<-qt(alpha/2, df = n-1)\n",
    "t.29.alpha052"
   ]
  },
  {
   "cell_type": "markdown",
   "id": "6929b393",
   "metadata": {},
   "source": [
    "And the 95% confidence intervals would be expressed in this case like:\n",
    "\n",
    "< X > $\\pm$ 2.0452296421327 * $\\frac{\\hat{\\sigma}}{\\sqrt{n}}$\n",
    "\n",
    "Here, since we don't know the standard deviation from the population, we will estimate it from the sample. That's why we have a hat, i.e. $\\hat{\\sigma}$. This is calculated with the R function `sd`. "
   ]
  },
  {
   "cell_type": "markdown",
   "id": "43e34673",
   "metadata": {},
   "source": [
    "As you can see, this result is way different from the previous one, because the t-distribution has heavier tails than the gaussian distribution. However, as the sample sizes increase, the t-distribution converges to a gaussian distribution, so results should not differ that much in such scenarios. Let's see this."
   ]
  },
  {
   "cell_type": "code",
   "execution_count": 8,
   "id": "1e8df940",
   "metadata": {},
   "outputs": [
    {
     "name": "stdout",
     "output_type": "stream",
     "text": [
      "[1] -1.959964\n",
      "[1] -2.04523\n",
      "[1] -2.009575\n",
      "[1] -1.984217\n",
      "[1] -1.964729\n"
     ]
    }
   ],
   "source": [
    "sample.size<-c(30, 50, 100, 500)\n",
    "print(z.alpha052)\n",
    "\n",
    "for (sample.size in sample.size)\n",
    "{\n",
    "    print(qt(alpha/2, df = sample.size-1))\n",
    "}"
   ]
  },
  {
   "cell_type": "markdown",
   "id": "9dd14b77",
   "metadata": {},
   "source": [
    "<div class=\"alert alert-info\"> <b>Demonstration</b>: The (1-$\\alpha$)$\\cdot$100% confidence intervals could be interpreted as the (1-$\\alpha$)$\\cdot$100% of the experiments that will include the real mean, if we are to replicate an experiment many times and compute the confidence intervals each time.\n",
    "\n",
    "Let's demonstrate this for a population that follows a Gaussian distribution with mean=100 and standard deviation=15. Consider 500 experiments. In each experiment, sample 100 observations from a population with the aforementioned parameters (mean=100, standard deviation=15), calculate the sample mean and standard deviation. These will be the estimated parameters for our population. Then, calculate the 95% confidence interval. Finally, check - i.e you should obtain a logical value (i.e. TRUE or FALSE) - whether this confidence interval contains the population mean (100). For each experiment, store the final logic value into a vector. With this vector of 500 logical values (one for each experiment), calculate the proportion of TRUES in the vector. It should give approximately 95%.  \n",
    "</div>"
   ]
  },
  {
   "cell_type": "code",
   "execution_count": 9,
   "id": "b0e745bb",
   "metadata": {},
   "outputs": [],
   "source": [
    "set.seed(1234)\n",
    "n.exp<-500\n",
    "alpha<-0.05\n",
    "n<-100\n",
    "z.alpha052<-qnorm(alpha/2)\n",
    "inside.cis<-c()\n",
    "for(ii in c(1:n.exp)){\n",
    "    exp.sample<-rnorm(n, mean = 100, sd=15)\n",
    "    mu.exp<-mean(exp.sample)\n",
    "    std.exp<-sd(exp.sample)\n",
    "    inside.cis<-c((100 > mu.exp + z.alpha052[1]*std.exp/sqrt(n)) & (100 < mu.exp - z.alpha052[1]*std.exp/sqrt(n)), inside.cis)\n",
    "}"
   ]
  },
  {
   "cell_type": "code",
   "execution_count": 10,
   "id": "8226b2bf",
   "metadata": {},
   "outputs": [
    {
     "data": {
      "text/html": [
       "0.948"
      ],
      "text/latex": [
       "0.948"
      ],
      "text/markdown": [
       "0.948"
      ],
      "text/plain": [
       "[1] 0.948"
      ]
     },
     "metadata": {},
     "output_type": "display_data"
    }
   ],
   "source": [
    "sum(inside.cis)/n.exp"
   ]
  },
  {
   "cell_type": "markdown",
   "id": "2d04ae44",
   "metadata": {},
   "source": [
    "# Plotting confidence intervals\n",
    "\n",
    "Some times, you may want to plot the confidence intervals. We are going to see now how to do this using the libraries **ggplot** and **dplyr**."
   ]
  },
  {
   "cell_type": "code",
   "execution_count": 11,
   "id": "b1300585",
   "metadata": {},
   "outputs": [],
   "source": [
    "library(tidyverse)"
   ]
  },
  {
   "cell_type": "code",
   "execution_count": 12,
   "id": "3b0897c2",
   "metadata": {},
   "outputs": [
    {
     "data": {
      "text/html": [
       "<table class=\"dataframe\">\n",
       "<caption>A tibble: 6 × 6</caption>\n",
       "<thead>\n",
       "\t<tr><th scope=col>education</th><th scope=col>mu</th><th scope=col>std</th><th scope=col>N</th><th scope=col>se</th><th scope=col>tn1.alpha2</th></tr>\n",
       "\t<tr><th scope=col>&lt;fct&gt;</th><th scope=col>&lt;dbl&gt;</th><th scope=col>&lt;dbl&gt;</th><th scope=col>&lt;int&gt;</th><th scope=col>&lt;dbl&gt;</th><th scope=col>&lt;dbl&gt;</th></tr>\n",
       "</thead>\n",
       "<tbody>\n",
       "\t<tr><td>0</td><td>27.47368</td><td>5.206813</td><td> 57</td><td>0.6896592</td><td>-2.003241</td></tr>\n",
       "\t<tr><td>1</td><td>27.48889</td><td>6.055134</td><td> 45</td><td>0.9026461</td><td>-2.015368</td></tr>\n",
       "\t<tr><td>2</td><td>26.97727</td><td>5.808929</td><td> 44</td><td>0.8757290</td><td>-2.016692</td></tr>\n",
       "\t<tr><td>3</td><td>28.29455</td><td>4.846227</td><td>275</td><td>0.2922385</td><td>-1.968660</td></tr>\n",
       "\t<tr><td>4</td><td>29.26087</td><td>4.345153</td><td>138</td><td>0.3698840</td><td>-1.977431</td></tr>\n",
       "\t<tr><td>5</td><td>29.60284</td><td>3.954887</td><td>141</td><td>0.3330616</td><td>-1.977054</td></tr>\n",
       "</tbody>\n",
       "</table>\n"
      ],
      "text/latex": [
       "A tibble: 6 × 6\n",
       "\\begin{tabular}{llllll}\n",
       " education & mu & std & N & se & tn1.alpha2\\\\\n",
       " <fct> & <dbl> & <dbl> & <int> & <dbl> & <dbl>\\\\\n",
       "\\hline\n",
       "\t 0 & 27.47368 & 5.206813 &  57 & 0.6896592 & -2.003241\\\\\n",
       "\t 1 & 27.48889 & 6.055134 &  45 & 0.9026461 & -2.015368\\\\\n",
       "\t 2 & 26.97727 & 5.808929 &  44 & 0.8757290 & -2.016692\\\\\n",
       "\t 3 & 28.29455 & 4.846227 & 275 & 0.2922385 & -1.968660\\\\\n",
       "\t 4 & 29.26087 & 4.345153 & 138 & 0.3698840 & -1.977431\\\\\n",
       "\t 5 & 29.60284 & 3.954887 & 141 & 0.3330616 & -1.977054\\\\\n",
       "\\end{tabular}\n"
      ],
      "text/markdown": [
       "\n",
       "A tibble: 6 × 6\n",
       "\n",
       "| education &lt;fct&gt; | mu &lt;dbl&gt; | std &lt;dbl&gt; | N &lt;int&gt; | se &lt;dbl&gt; | tn1.alpha2 &lt;dbl&gt; |\n",
       "|---|---|---|---|---|---|\n",
       "| 0 | 27.47368 | 5.206813 |  57 | 0.6896592 | -2.003241 |\n",
       "| 1 | 27.48889 | 6.055134 |  45 | 0.9026461 | -2.015368 |\n",
       "| 2 | 26.97727 | 5.808929 |  44 | 0.8757290 | -2.016692 |\n",
       "| 3 | 28.29455 | 4.846227 | 275 | 0.2922385 | -1.968660 |\n",
       "| 4 | 29.26087 | 4.345153 | 138 | 0.3698840 | -1.977431 |\n",
       "| 5 | 29.60284 | 3.954887 | 141 | 0.3330616 | -1.977054 |\n",
       "\n"
      ],
      "text/plain": [
       "  education mu       std      N   se        tn1.alpha2\n",
       "1 0         27.47368 5.206813  57 0.6896592 -2.003241 \n",
       "2 1         27.48889 6.055134  45 0.9026461 -2.015368 \n",
       "3 2         26.97727 5.808929  44 0.8757290 -2.016692 \n",
       "4 3         28.29455 4.846227 275 0.2922385 -1.968660 \n",
       "5 4         29.26087 4.345153 138 0.3698840 -1.977431 \n",
       "6 5         29.60284 3.954887 141 0.3330616 -1.977054 "
      ]
     },
     "metadata": {},
     "output_type": "display_data"
    }
   ],
   "source": [
    "act.summary<-sat.dat %>% \n",
    "group_by(education) %>%\n",
    "summarize(mu=mean(ACT), \n",
    "       std=sd(ACT), \n",
    "       N=n(), \n",
    "       se=std/sqrt(N),\n",
    "       tn1.alpha2=qt(0.025, df = N-1))\n",
    "\n",
    "act.summary"
   ]
  },
  {
   "cell_type": "code",
   "execution_count": 13,
   "id": "e31870a4",
   "metadata": {},
   "outputs": [
    {
     "data": {
      "image/png": "[encoded data removed]",
      "text/plain": [
       "plot without title"
      ]
     },
     "metadata": {
      "image/png": {
       "height": 420,
       "width": 420
      }
     },
     "output_type": "display_data"
    }
   ],
   "source": [
    "ggplot(data = act.summary, aes(x=education, y=mu)) + \n",
    "geom_errorbar(aes(ymin=mu-1.96*se, ymax=mu+1.96*se), width=.1) + \n",
    "geom_point(size=5)"
   ]
  },
  {
   "cell_type": "code",
   "execution_count": 14,
   "id": "c299b46a",
   "metadata": {},
   "outputs": [
    {
     "data": {
      "image/png": "[encoded data removed]",
      "text/plain": [
       "plot without title"
      ]
     },
     "metadata": {
      "image/png": {
       "height": 420,
       "width": 420
      }
     },
     "output_type": "display_data"
    }
   ],
   "source": [
    "ggplot(data = act.summary, aes(x=education, y=mu)) + \n",
    "geom_errorbar(aes(ymin=mu+tn1.alpha2*se, ymax=mu-tn1.alpha2*se), width=.1) + \n",
    "geom_point(size=5)"
   ]
  },
  {
   "cell_type": "code",
   "execution_count": 15,
   "id": "8b2220f4",
   "metadata": {},
   "outputs": [
    {
     "data": {
      "image/png": "[encoded data removed]",
      "text/plain": [
       "plot without title"
      ]
     },
     "metadata": {
      "image/png": {
       "height": 420,
       "width": 420
      }
     },
     "output_type": "display_data"
    }
   ],
   "source": [
    "# This is the  same as above\n",
    "ggplot(data = act.summary, aes(x=education, y=mu)) + \n",
    "geom_errorbar(aes(ymin=mu-abs(qt(0.025, df = N-1))*se, ymax=mu+abs(qt(0.025, df = N-1))*se), width=.1) + \n",
    "geom_point(size=5)"
   ]
  },
  {
   "cell_type": "markdown",
   "id": "eb9d72fb",
   "metadata": {},
   "source": [
    "As you can see, the confidence intervals for education > 2 are similar to the gaussian case; and that's because for those categories, the sample sizes were large."
   ]
  },
  {
   "cell_type": "markdown",
   "id": "e6f9bbcd",
   "metadata": {},
   "source": [
    "<div class=\"alert alert-info\"> <b>Demonstration</b>: As the sample size increases, the sample mean tends to the population mean.\n",
    "\n",
    "Let's demonstrate this for a population whose weight follows a gaussian distribution with mean = 70kg and standard deviation=10kg. \n",
    "    \n",
    "Consider the following sequence of samples sizes: (5, 10, 50, 100, 200, 500, 1000, 5000, 10000). For each of these sample sizes, generate a random sample and take the mean. Plot these against the sample sizes.\n",
    "</div>"
   ]
  },
  {
   "cell_type": "code",
   "execution_count": 16,
   "id": "f62464f1",
   "metadata": {},
   "outputs": [
    {
     "data": {
      "image/png": "[encoded data removed]",
      "text/plain": [
       "plot without title"
      ]
     },
     "metadata": {
      "image/png": {
       "height": 420,
       "width": 420
      }
     },
     "output_type": "display_data"
    }
   ],
   "source": [
    "library(tidyverse)\n",
    "sample.sizes<-c(5, 10, 50, 100, 200, 500, 1000, 5000, 10000)\n",
    "set.seed(1234)\n",
    "dat<-data.frame(n=sample.sizes, \n",
    "                mean=sapply(sample.sizes, function(x) mean(rnorm(x, mean = 70, sd = 10))))\n",
    "ggplot(dat, aes(x=n, y=mean)) + geom_point() + geom_line() +  \n",
    "                            scale_x_continuous(trans='log2', breaks = c(10, 50, 100, 500, 1000, 5000, 10000))       "
   ]
  },
  {
   "cell_type": "markdown",
   "id": "0ff35620",
   "metadata": {},
   "source": [
    "<div class=\"alert alert-info\"> <b>Demonstration</b>: The estimation of the standard deviation of the population goes with N-1 instead of N.\n",
    "    \n",
    "To demonstrate this, consider sampling from the population of IQ's, that is, from a normal distribution with mean=100 and standard deviation=15. Now, using `rnorm`, extract 10,000 samples with 2 observation, 10,000 more with 3 observations, and so on up to a sample size of 10. In each of these samples, calculate the mean, the standard deviation using the built-in R function `sd` (which divides by N-1), and the standard deviation divided by N (you will need to implement it yourself). \n",
    "    \n",
    "Then, plot the average of the sample means and the average of the standard deviations versus the sample size. You should see that, on average, the sample means are always around 100, regardless of the sample size.  However, the estimated standard deviations calculated dividing by N turn out to be systematically too small, especially for small sample sizes. Dividing by N-1 tries to circumvent this.\n",
    "</div>"
   ]
  },
  {
   "cell_type": "code",
   "execution_count": 17,
   "id": "a197ab2c",
   "metadata": {},
   "outputs": [],
   "source": [
    "sd.N<-function(x){\n",
    "    N<-length(x)\n",
    "    mu<-mean(x)\n",
    "    return(sqrt(mean((mu-x)**2)))\n",
    "}\n",
    "sample.sizes<-c(2:10)\n",
    "\n",
    "set.seed(1234)\n",
    "means<-c()\n",
    "sdsN<-c()\n",
    "sds<-c()\n",
    "\n",
    "for(n in sample.sizes){\n",
    "    datasets<-lapply(c(1:10000), function(x) rnorm(n, mean = 100, sd=15))\n",
    "    means<-c(means, mean(sapply(datasets, mean)))\n",
    "    sdsN<-c(sdsN, mean(sapply(datasets, sd.N)))\n",
    "    sds<-c(sds, mean(sapply(datasets, sd)))\n",
    "             \n",
    "}"
   ]
  },
  {
   "cell_type": "code",
   "execution_count": 18,
   "id": "c78c8fbf",
   "metadata": {},
   "outputs": [
    {
     "data": {
      "image/png": "[encoded data removed]",
      "text/plain": [
       "plot without title"
      ]
     },
     "metadata": {
      "image/png": {
       "height": 420,
       "width": 420
      }
     },
     "output_type": "display_data"
    }
   ],
   "source": [
    "ggplot(data = data.frame(x=sample.sizes, y=means), aes(x=x, y=y)) + \n",
    "geom_point() + \n",
    "geom_line() + \n",
    "geom_hline(yintercept = 100) + ylim(95, 105)"
   ]
  },
  {
   "cell_type": "code",
   "execution_count": 19,
   "id": "87fe16d3",
   "metadata": {},
   "outputs": [
    {
     "data": {
      "image/png": "[encoded data removed]",
      "text/plain": [
       "plot without title"
      ]
     },
     "metadata": {
      "image/png": {
       "height": 420,
       "width": 420
      }
     },
     "output_type": "display_data"
    }
   ],
   "source": [
    "ggplot(data = data.frame(x=sample.sizes, y1=sdsN, y2=sds)) + \n",
    "geom_point(aes(x=x, y=y1), color='red') + \n",
    "geom_line(aes(x=x, y=y1), color='red') +\n",
    "geom_point(aes(x=x, y=y2), color='blue') + \n",
    "geom_line(aes(x=x, y=y2), color='blue') +\n",
    "geom_hline(yintercept = 15) + ylim(5, 15) +\n",
    "annotate(\"text\", label = \"N\", x=2, y=9.5, size=10,color=\"red\") + \n",
    "annotate(\"text\", label = \"N-1\", x=2, y=13, size=10,color=\"blue\") +\n",
    "scale_x_continuous(breaks=sample.sizes) + \n",
    "xlab(\"Sample size\") + \n",
    "ylab(\"Standard Deviation\") + \n",
    "theme(axis.title = element_text(size = 20), axis.text =  element_text(size = 15))   "
   ]
  },
  {
   "cell_type": "markdown",
   "id": "da301783",
   "metadata": {},
   "source": [
    "We can see how by diving by N-1 instead of N, our estimation of the standard deviation gets closer to the real one."
   ]
  }
 ],
 "metadata": {
  "kernelspec": {
   "display_name": "R",
   "language": "R",
   "name": "ir"
  },
  "language_info": {
   "codemirror_mode": "r",
   "file_extension": ".r",
   "mimetype": "text/x-r-source",
   "name": "R",
   "pygments_lexer": "r",
   "version": "3.6.3"
  }
 },
 "nbformat": 4,
 "nbformat_minor": 5
}
