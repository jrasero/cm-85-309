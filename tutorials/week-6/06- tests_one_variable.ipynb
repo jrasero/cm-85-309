{
 "cells": [
  {
   "cell_type": "markdown",
   "id": "6d39d2b6",
   "metadata": {},
   "source": [
    "In this tutorial, we are going to see how to use R to run different statistical tests to compare the values in one variable with respect to a null hypothesis. "
   ]
  },
  {
   "cell_type": "markdown",
   "id": "5c77b207",
   "metadata": {},
   "source": [
    "# Continuous variable (one sample t-test)"
   ]
  },
  {
   "cell_type": "markdown",
   "id": "7b76ddaa",
   "metadata": {},
   "source": [
    "Let's say that we have a sample dataset with the IQ scores of 35 subjects that live in a remote village. We want to see how the IQ scores in that village compare with the known average IQ of people (110).    "
   ]
  },
  {
   "cell_type": "code",
   "execution_count": 1,
   "id": "33bbb4fa",
   "metadata": {},
   "outputs": [],
   "source": [
    "set.seed(123)\n",
    "\n",
    "N<-35\n",
    "X.1<-rnorm(N, mean = 115, sd=15)\n",
    "mu.0<-110"
   ]
  },
  {
   "cell_type": "markdown",
   "id": "98c7e412",
   "metadata": {},
   "source": [
    "Let's first build our t-statistic. If you remember from the slides, this is computed as follows:\n",
    "\n",
    "$$t=\\frac{<X> - \\mu_0}{\\sigma/\\sqrt{N}}$$"
   ]
  },
  {
   "cell_type": "code",
   "execution_count": 2,
   "id": "d54e02eb",
   "metadata": {},
   "outputs": [
    {
     "data": {
      "text/html": [
       "2.31858730022947"
      ],
      "text/latex": [
       "2.31858730022947"
      ],
      "text/markdown": [
       "2.31858730022947"
      ],
      "text/plain": [
       "[1] 2.318587"
      ]
     },
     "metadata": {},
     "output_type": "display_data"
    }
   ],
   "source": [
    "mean.x <- mean(X.1)\n",
    "std.x <- sd(X.1)\n",
    "t<- (mean.x - mu.0)/(std.x/sqrt(N))\n",
    "t"
   ]
  },
  {
   "cell_type": "markdown",
   "id": "82d5ec5f",
   "metadata": {},
   "source": [
    "Now that we have our statistic, we need to check whether that value lies within the critical region so that if it does, we will reject the null hypothesis. \n",
    "\n",
    "\n",
    "\n",
    "If you remember, the critical region at a certain $\\alpha$ is specified by a certain cut-off $t_\\alpha$ such that everything observed that lies above or below will make us reject the null hypothesis.  \n",
    "\n",
    "\n",
    "\n",
    "Now, where to define the critical region depends on our research question. For example:\n",
    "\n",
    "1. Is the IQ of this village smaller than the theoretical IQ of 110?\n",
    "\n",
    "This is a one-sided research question and therefore we will check whether our observed values live in the LEFT tail of the hypothesized distribution. That is, to reject the null, we need to check whether our observed $t$ satisfies the condition $t\n",
    "\n",
    "2. Is the IQ of this village greater than the theoretical IQ of 110?\n",
    "\n",
    "This is another one-sided research question, but here we will check whether our observed values live in the RIGHT tail of the hypothesized distribution. That is, to reject the null, we need to check whether our observed $t$ satisfies the condition $t>t_\\alpha$.\n",
    "\n",
    "3. Is the IQ of this village different than the theoretical IQ of 110?\n",
    "\n",
    "This, instead, is a two-sided research question, so we will check whether our observed values live either in the RIGHT or LEFT tail of the hypothesized distribution to reject the null. However, since we are testing twice (one for the left tail and another for the right tail), we need to adjust our cut-offs. In this case, instead of $t_\\alpha$, we need to use $t_{\\alpha/2}$, so our conditions for rejecting the null would be whether $|t| > |t_{\\alpha/2}|$ \n",
    "\n",
    "In order to compute these thresholds, we will make use of the quantile functions in the t-distributions, that is, we will use the function `qt`. Let's see these cut-offs for each of the above questions are then:"
   ]
  },
  {
   "cell_type": "code",
   "execution_count": 3,
   "id": "451d9b85",
   "metadata": {},
   "outputs": [
    {
     "data": {
      "text/html": [
       "-1.69092425518685"
      ],
      "text/latex": [
       "-1.69092425518685"
      ],
      "text/markdown": [
       "-1.69092425518685"
      ],
      "text/plain": [
       "[1] -1.690924"
      ]
     },
     "metadata": {},
     "output_type": "display_data"
    }
   ],
   "source": [
    "# Here, by setting the argument lower.tail = TRUE,\n",
    "# We are computing the cumulative probability starting from the left\n",
    "t05.1<-qt(0.05, df=N-1, lower.tail = TRUE) \n",
    "t05.1"
   ]
  },
  {
   "cell_type": "markdown",
   "id": "f6b333d5",
   "metadata": {},
   "source": [
    "For this case, since t is not smaller than $t_\\alpha$, we have to stick to the null."
   ]
  },
  {
   "cell_type": "code",
   "execution_count": 4,
   "id": "5a0b87d5",
   "metadata": {},
   "outputs": [
    {
     "data": {
      "text/html": [
       "1.69092425518685"
      ],
      "text/latex": [
       "1.69092425518685"
      ],
      "text/markdown": [
       "1.69092425518685"
      ],
      "text/plain": [
       "[1] 1.690924"
      ]
     },
     "metadata": {},
     "output_type": "display_data"
    }
   ],
   "source": [
    "t05.2<-qt(0.05, df=N-1, lower.tail = FALSE)\n",
    "t05.2"
   ]
  },
  {
   "cell_type": "markdown",
   "id": "86cd9218",
   "metadata": {},
   "source": [
    "For this case, since t is  greater than $t_\\alpha$, we can reject the null."
   ]
  },
  {
   "cell_type": "code",
   "execution_count": 5,
   "id": "35249cce",
   "metadata": {},
   "outputs": [
    {
     "data": {
      "text/html": [
       "-2.03224450931772"
      ],
      "text/latex": [
       "-2.03224450931772"
      ],
      "text/markdown": [
       "-2.03224450931772"
      ],
      "text/plain": [
       "[1] -2.032245"
      ]
     },
     "metadata": {},
     "output_type": "display_data"
    }
   ],
   "source": [
    "t05.3<-qt(0.05/2, df=N-1)\n",
    "t05.3"
   ]
  },
  {
   "cell_type": "markdown",
   "id": "657322d1",
   "metadata": {},
   "source": [
    "For this case, since |t| is  greater than $|t_{\\alpha/2}|$, we can reject the null as well."
   ]
  },
  {
   "cell_type": "markdown",
   "id": "aa108cf6",
   "metadata": {},
   "source": [
    "All of the above conclusions could've been reached as well using p-values. In this case, we need to compute the probability of getting a value as or more extreme than the observed one and, if it is below $\\alpha$, we reject the null. Calculating probabilities under the t-distribution can be achieved very easily by means of the `pt` function."
   ]
  },
  {
   "cell_type": "code",
   "execution_count": 6,
   "id": "77a117e7",
   "metadata": {},
   "outputs": [
    {
     "data": {
      "text/html": [
       "0.986718397734023"
      ],
      "text/latex": [
       "0.986718397734023"
      ],
      "text/markdown": [
       "0.986718397734023"
      ],
      "text/plain": [
       "[1] 0.9867184"
      ]
     },
     "metadata": {},
     "output_type": "display_data"
    }
   ],
   "source": [
    "p.1<-pt(t, df=N-1, lower.tail = TRUE)\n",
    "p.1"
   ]
  },
  {
   "cell_type": "code",
   "execution_count": 7,
   "id": "cee32bd2",
   "metadata": {},
   "outputs": [
    {
     "data": {
      "text/html": [
       "0.0132816022659766"
      ],
      "text/latex": [
       "0.0132816022659766"
      ],
      "text/markdown": [
       "0.0132816022659766"
      ],
      "text/plain": [
       "[1] 0.0132816"
      ]
     },
     "metadata": {},
     "output_type": "display_data"
    }
   ],
   "source": [
    "p.2<-pt(t, df=N-1, lower.tail = FALSE)\n",
    "p.2"
   ]
  },
  {
   "cell_type": "code",
   "execution_count": 8,
   "id": "fe7e8be0",
   "metadata": {},
   "outputs": [
    {
     "data": {
      "text/html": [
       "0.0265632045319531"
      ],
      "text/latex": [
       "0.0265632045319531"
      ],
      "text/markdown": [
       "0.0265632045319531"
      ],
      "text/plain": [
       "[1] 0.0265632"
      ]
     },
     "metadata": {},
     "output_type": "display_data"
    }
   ],
   "source": [
    "p.3<-2*pt(abs(t), df=N-1, lower.tail = FALSE)\n",
    "p.3"
   ]
  },
  {
   "cell_type": "markdown",
   "id": "4e72d8c8",
   "metadata": {},
   "source": [
    "All of the above is great, but we won't need to be doing all these calculations anytime we want to run a one sample t-test. We can just use the function R built-in function `t.test`. Let's have a look at its documentation:"
   ]
  },
  {
   "cell_type": "code",
   "execution_count": 9,
   "id": "a6d684a2",
   "metadata": {},
   "outputs": [],
   "source": [
    "?t.test"
   ]
  },
  {
   "cell_type": "markdown",
   "id": "63b26eee",
   "metadata": {},
   "source": [
    "As you can see, in order to be able to run a one sample t-test on a given sample, we will just need to specify the assumed population mean (our null hypothesis) and whether the alternative hypothesis involves testing a greater or smaller value (one-sided), or both (two-sided). \n",
    "\n",
    "Finally, any time that you run this (and any other) statistical test in R, you will get a list with different results."
   ]
  },
  {
   "cell_type": "code",
   "execution_count": 10,
   "id": "a09eecb8",
   "metadata": {},
   "outputs": [
    {
     "data": {
      "text/plain": [
       "\n",
       "\tOne Sample t-test\n",
       "\n",
       "data:  X.1\n",
       "t = 2.3186, df = 34, p-value = 0.9867\n",
       "alternative hypothesis: true mean is less than 110\n",
       "95 percent confidence interval:\n",
       "     -Inf 119.6196\n",
       "sample estimates:\n",
       "mean of x \n",
       " 115.5628 \n"
      ]
     },
     "metadata": {},
     "output_type": "display_data"
    },
    {
     "data": {
      "text/plain": [
       "\n",
       "\tOne Sample t-test\n",
       "\n",
       "data:  X.1\n",
       "t = 2.3186, df = 34, p-value = 0.01328\n",
       "alternative hypothesis: true mean is greater than 110\n",
       "95 percent confidence interval:\n",
       " 111.5059      Inf\n",
       "sample estimates:\n",
       "mean of x \n",
       " 115.5628 \n"
      ]
     },
     "metadata": {},
     "output_type": "display_data"
    },
    {
     "data": {
      "text/plain": [
       "\n",
       "\tOne Sample t-test\n",
       "\n",
       "data:  X.1\n",
       "t = 2.3186, df = 34, p-value = 0.02656\n",
       "alternative hypothesis: true mean is not equal to 110\n",
       "95 percent confidence interval:\n",
       " 110.6870 120.4385\n",
       "sample estimates:\n",
       "mean of x \n",
       " 115.5628 \n"
      ]
     },
     "metadata": {},
     "output_type": "display_data"
    }
   ],
   "source": [
    "res.1<-t.test(X.1, mu=110, alternative = \"less\")\n",
    "res.1\n",
    "\n",
    "res.2<-t.test(X.1, mu=110, alternative = \"greater\")\n",
    "res.2\n",
    "\n",
    "res.3<-t.test(X.1, mu=110, alternative = \"two.sided\")\n",
    "res.3"
   ]
  },
  {
   "cell_type": "code",
   "execution_count": 11,
   "id": "edf8d4f2",
   "metadata": {},
   "outputs": [
    {
     "data": {
      "text/html": [
       "<style>\n",
       ".list-inline {list-style: none; margin:0; padding: 0}\n",
       ".list-inline>li {display: inline-block}\n",
       ".list-inline>li:not(:last-child)::after {content: \"\\00b7\"; padding: 0 .5ex}\n",
       "</style>\n",
       "<ol class=list-inline><li>'statistic'</li><li>'parameter'</li><li>'p.value'</li><li>'conf.int'</li><li>'estimate'</li><li>'null.value'</li><li>'stderr'</li><li>'alternative'</li><li>'method'</li><li>'data.name'</li></ol>\n"
      ],
      "text/latex": [
       "\\begin{enumerate*}\n",
       "\\item 'statistic'\n",
       "\\item 'parameter'\n",
       "\\item 'p.value'\n",
       "\\item 'conf.int'\n",
       "\\item 'estimate'\n",
       "\\item 'null.value'\n",
       "\\item 'stderr'\n",
       "\\item 'alternative'\n",
       "\\item 'method'\n",
       "\\item 'data.name'\n",
       "\\end{enumerate*}\n"
      ],
      "text/markdown": [
       "1. 'statistic'\n",
       "2. 'parameter'\n",
       "3. 'p.value'\n",
       "4. 'conf.int'\n",
       "5. 'estimate'\n",
       "6. 'null.value'\n",
       "7. 'stderr'\n",
       "8. 'alternative'\n",
       "9. 'method'\n",
       "10. 'data.name'\n",
       "\n",
       "\n"
      ],
      "text/plain": [
       " [1] \"statistic\"   \"parameter\"   \"p.value\"     \"conf.int\"    \"estimate\"   \n",
       " [6] \"null.value\"  \"stderr\"      \"alternative\" \"method\"      \"data.name\"  "
      ]
     },
     "metadata": {},
     "output_type": "display_data"
    }
   ],
   "source": [
    "names(res.1)"
   ]
  },
  {
   "cell_type": "code",
   "execution_count": 12,
   "id": "06f23004",
   "metadata": {},
   "outputs": [
    {
     "data": {
      "text/html": [
       "<strong>t:</strong> 2.31858730022947"
      ],
      "text/latex": [
       "\\textbf{t:} 2.31858730022947"
      ],
      "text/markdown": [
       "**t:** 2.31858730022947"
      ],
      "text/plain": [
       "       t \n",
       "2.318587 "
      ]
     },
     "metadata": {},
     "output_type": "display_data"
    },
    {
     "data": {
      "text/html": [
       "0.986718397734023"
      ],
      "text/latex": [
       "0.986718397734023"
      ],
      "text/markdown": [
       "0.986718397734023"
      ],
      "text/plain": [
       "[1] 0.9867184"
      ]
     },
     "metadata": {},
     "output_type": "display_data"
    }
   ],
   "source": [
    "res.1$statistic\n",
    "res.1$p.value"
   ]
  },
  {
   "cell_type": "code",
   "execution_count": 13,
   "id": "d97f0f81",
   "metadata": {},
   "outputs": [
    {
     "data": {
      "text/html": [
       "<strong>t:</strong> 2.31858730022947"
      ],
      "text/latex": [
       "\\textbf{t:} 2.31858730022947"
      ],
      "text/markdown": [
       "**t:** 2.31858730022947"
      ],
      "text/plain": [
       "       t \n",
       "2.318587 "
      ]
     },
     "metadata": {},
     "output_type": "display_data"
    },
    {
     "data": {
      "text/html": [
       "0.0132816022659766"
      ],
      "text/latex": [
       "0.0132816022659766"
      ],
      "text/markdown": [
       "0.0132816022659766"
      ],
      "text/plain": [
       "[1] 0.0132816"
      ]
     },
     "metadata": {},
     "output_type": "display_data"
    }
   ],
   "source": [
    "res.2$statistic\n",
    "res.2$p.value"
   ]
  },
  {
   "cell_type": "code",
   "execution_count": 14,
   "id": "f876ae64",
   "metadata": {},
   "outputs": [
    {
     "data": {
      "text/html": [
       "<strong>t:</strong> 2.31858730022947"
      ],
      "text/latex": [
       "\\textbf{t:} 2.31858730022947"
      ],
      "text/markdown": [
       "**t:** 2.31858730022947"
      ],
      "text/plain": [
       "       t \n",
       "2.318587 "
      ]
     },
     "metadata": {},
     "output_type": "display_data"
    },
    {
     "data": {
      "text/html": [
       "0.0265632045319531"
      ],
      "text/latex": [
       "0.0265632045319531"
      ],
      "text/markdown": [
       "0.0265632045319531"
      ],
      "text/plain": [
       "[1] 0.0265632"
      ]
     },
     "metadata": {},
     "output_type": "display_data"
    }
   ],
   "source": [
    "res.3$statistic\n",
    "res.3$p.value"
   ]
  },
  {
   "cell_type": "markdown",
   "id": "aa418c6e",
   "metadata": {},
   "source": [
    "<div class=\"alert alert-info\"> <b>Practice</b>: In one of the first tutorials of the course, we used a data frame \"sleep\", which had a column, \"extra\", indicating the increase in hours of sleep after supplying a couple of drugs to 20 patients. Let's test whether our observed data statistically support that the drugs indeed caused an average increase in hours of sleep. Assume, for this, that the data follow a gaussian distribution:\n",
    "   <ol>\n",
    "       <li> First, before doing any calculation, write down (in a markdown cell) your null hypothesis and alternative statements.</li> \n",
    "       <li> Using the R function `pt` (the cumulative probability function for the Student's t distribution), compute the p-value for the population mean of the sleep variable, i.e. calculate the probability of getting a t-statistic equal or greater than the observed one. </li>\n",
    "       <li> Repeat the same as the previous point, but using the function `t.test` instead. </li>       \n",
    "       </ol>\n",
    "    \n",
    "At a significance level (or type I error) $\\alpha$=0.05, would you say that the observed data (our sleep variable) are compatible with an average increase in hours of sleep caused by the drugs?   \n",
    "</div>"
   ]
  },
  {
   "cell_type": "code",
   "execution_count": 15,
   "id": "6e78bfe7",
   "metadata": {},
   "outputs": [
    {
     "data": {
      "text/html": [
       "<table class=\"dataframe\">\n",
       "<caption>A data.frame: 6 × 3</caption>\n",
       "<thead>\n",
       "\t<tr><th></th><th scope=col>extra</th><th scope=col>group</th><th scope=col>ID</th></tr>\n",
       "\t<tr><th></th><th scope=col>&lt;dbl&gt;</th><th scope=col>&lt;fct&gt;</th><th scope=col>&lt;fct&gt;</th></tr>\n",
       "</thead>\n",
       "<tbody>\n",
       "\t<tr><th scope=row>1</th><td> 0.7</td><td>1</td><td>1</td></tr>\n",
       "\t<tr><th scope=row>2</th><td>-1.6</td><td>1</td><td>2</td></tr>\n",
       "\t<tr><th scope=row>3</th><td>-0.2</td><td>1</td><td>3</td></tr>\n",
       "\t<tr><th scope=row>4</th><td>-1.2</td><td>1</td><td>4</td></tr>\n",
       "\t<tr><th scope=row>5</th><td>-0.1</td><td>1</td><td>5</td></tr>\n",
       "\t<tr><th scope=row>6</th><td> 3.4</td><td>1</td><td>6</td></tr>\n",
       "</tbody>\n",
       "</table>\n"
      ],
      "text/latex": [
       "A data.frame: 6 × 3\n",
       "\\begin{tabular}{r|lll}\n",
       "  & extra & group & ID\\\\\n",
       "  & <dbl> & <fct> & <fct>\\\\\n",
       "\\hline\n",
       "\t1 &  0.7 & 1 & 1\\\\\n",
       "\t2 & -1.6 & 1 & 2\\\\\n",
       "\t3 & -0.2 & 1 & 3\\\\\n",
       "\t4 & -1.2 & 1 & 4\\\\\n",
       "\t5 & -0.1 & 1 & 5\\\\\n",
       "\t6 &  3.4 & 1 & 6\\\\\n",
       "\\end{tabular}\n"
      ],
      "text/markdown": [
       "\n",
       "A data.frame: 6 × 3\n",
       "\n",
       "| <!--/--> | extra &lt;dbl&gt; | group &lt;fct&gt; | ID &lt;fct&gt; |\n",
       "|---|---|---|---|\n",
       "| 1 |  0.7 | 1 | 1 |\n",
       "| 2 | -1.6 | 1 | 2 |\n",
       "| 3 | -0.2 | 1 | 3 |\n",
       "| 4 | -1.2 | 1 | 4 |\n",
       "| 5 | -0.1 | 1 | 5 |\n",
       "| 6 |  3.4 | 1 | 6 |\n",
       "\n"
      ],
      "text/plain": [
       "  extra group ID\n",
       "1  0.7  1     1 \n",
       "2 -1.6  1     2 \n",
       "3 -0.2  1     3 \n",
       "4 -1.2  1     4 \n",
       "5 -0.1  1     5 \n",
       "6  3.4  1     6 "
      ]
     },
     "metadata": {},
     "output_type": "display_data"
    }
   ],
   "source": [
    "head(sleep)"
   ]
  },
  {
   "cell_type": "markdown",
   "id": "88cdf9cd",
   "metadata": {},
   "source": [
    "Your response 1 here"
   ]
  },
  {
   "cell_type": "code",
   "execution_count": 38,
   "id": "1e9ff3b4",
   "metadata": {},
   "outputs": [],
   "source": [
    "# Your response 2"
   ]
  },
  {
   "cell_type": "code",
   "execution_count": 39,
   "id": "588bc686",
   "metadata": {},
   "outputs": [],
   "source": [
    "# Your response 3"
   ]
  },
  {
   "cell_type": "markdown",
   "id": "4fb00a03",
   "metadata": {},
   "source": [
    "# Tests for a categorical variable\n",
    "\n",
    "For one categorical variable, we will be testing how likely the observed numbers of occurrences per category are with respect to a null hypothesis of expected ones.\n",
    "\n",
    "In order to test this, we will be using either a $\\chi^2$-test or binomial test. In both cases, we will need to pass the number of occurrences per category. \n",
    "\n",
    "Since the binomial test only works for variables with 2 categories, then it will be enough to just pass the number in one category.\n",
    "\n",
    "For the  $\\chi^2$-test, however, you will need to pass the number of occurrences in every single category as a vector. You can easily get this using the function `table`. Let's see an example:"
   ]
  },
  {
   "cell_type": "code",
   "execution_count": 18,
   "id": "a222b71f",
   "metadata": {},
   "outputs": [
    {
     "data": {
      "text/plain": [
       "cat.var\n",
       "a b c \n",
       "3 2 1 "
      ]
     },
     "metadata": {},
     "output_type": "display_data"
    }
   ],
   "source": [
    "cat.var<-c(\"a\", \"a\", \"a\", \"b\", \"b\", \"c\")\n",
    "table(cat.var)"
   ]
  },
  {
   "cell_type": "markdown",
   "id": "f83ae649",
   "metadata": {},
   "source": [
    "## $\\chi^2$-test \n",
    "\n",
    "For one variable, it is also known as Pearson's $\\chi^2$-test or a goodness-of-fit test. It compares the observed occurrences to a null hypothesis of probabilities per category. In R, we can perform this test with the R built-in function `chisq.test`. Let's have a look at the documentation: "
   ]
  },
  {
   "cell_type": "code",
   "execution_count": 19,
   "id": "4a670548",
   "metadata": {},
   "outputs": [],
   "source": [
    "?chisq.test"
   ]
  },
  {
   "cell_type": "markdown",
   "id": "e941d2ed",
   "metadata": {},
   "source": [
    "The first argument, x, is compulsory and will be a vector with the number of occurrences per category. As we said earlier, given a variable, we can easily calculate this using the function `table`. \n",
    "\n",
    "The other input to specify in this function will be the occurrence probability per category. This argument is optional, such that if not is specified, the same probability per category will be considered. For example, if we have a variable with 3 different categories, then it will be considered that each has 1/3 occurrence probability.   \n",
    "\n",
    "For this tutorial, let's generate a vector of 50 observations consisting of three categories (happy, neutral, and sad), with more or less the same number of occurrences in each of them. "
   ]
  },
  {
   "cell_type": "code",
   "execution_count": 20,
   "id": "2de661d6",
   "metadata": {},
   "outputs": [
    {
     "data": {
      "text/plain": [
       "X\n",
       "  happy neutral     sad \n",
       "     16      15      19 "
      ]
     },
     "metadata": {},
     "output_type": "display_data"
    }
   ],
   "source": [
    "set.seed(123)\n",
    "\n",
    "X<-sapply(c(1:50), function(x) sample(c(\"happy\",\"neutral\",\"sad\"), size=1))\n",
    "table(X)"
   ]
  },
  {
   "cell_type": "code",
   "execution_count": 21,
   "id": "b70cc760",
   "metadata": {},
   "outputs": [
    {
     "data": {
      "text/plain": [
       "\n",
       "\tChi-squared test for given probabilities\n",
       "\n",
       "data:  table(X)\n",
       "X-squared = 0.52, df = 2, p-value = 0.7711\n"
      ]
     },
     "metadata": {},
     "output_type": "display_data"
    }
   ],
   "source": [
    "res<-chisq.test(table(X))\n",
    "res"
   ]
  },
  {
   "cell_type": "markdown",
   "id": "653a0330",
   "metadata": {},
   "source": [
    "Assuming a significance level $\\alpha$ = 0.05, we can't reject the null.\n",
    "\n",
    "The conclusion would be different if, for example, one of the categories (e.g. happy) had more occurrences than the other two."
   ]
  },
  {
   "cell_type": "code",
   "execution_count": 22,
   "id": "e61ff4d7",
   "metadata": {},
   "outputs": [
    {
     "data": {
      "text/plain": [
       "X\n",
       "  happy neutral     sad \n",
       "     25      11      14 "
      ]
     },
     "metadata": {},
     "output_type": "display_data"
    }
   ],
   "source": [
    "set.seed(123)\n",
    "\n",
    "X<-sapply(c(1:35), function(x) sample(c(\"happy\",\"neutral\",\"sad\"), size=1))\n",
    "X<-c(rep(\"happy\", 15), X)\n",
    "table(X)"
   ]
  },
  {
   "cell_type": "code",
   "execution_count": 23,
   "id": "dafd2527",
   "metadata": {},
   "outputs": [
    {
     "data": {
      "text/plain": [
       "\n",
       "\tChi-squared test for given probabilities\n",
       "\n",
       "data:  table(X)\n",
       "X-squared = 6.52, df = 2, p-value = 0.03839\n"
      ]
     },
     "metadata": {},
     "output_type": "display_data"
    }
   ],
   "source": [
    "res<-chisq.test(table(X))\n",
    "res"
   ]
  },
  {
   "cell_type": "markdown",
   "id": "dbfcae09",
   "metadata": {},
   "source": [
    "Here, p $\\leq$ 0.05, so we would reject the null hypothesis that all categories are equally probable, given what we observe.\n",
    "\n",
    "As with `t.test`, running this test yields a list with several results, but most notably, the observed statistic and the p-value."
   ]
  },
  {
   "cell_type": "code",
   "execution_count": 24,
   "id": "f12b0c9e",
   "metadata": {},
   "outputs": [
    {
     "data": {
      "text/html": [
       "<style>\n",
       ".list-inline {list-style: none; margin:0; padding: 0}\n",
       ".list-inline>li {display: inline-block}\n",
       ".list-inline>li:not(:last-child)::after {content: \"\\00b7\"; padding: 0 .5ex}\n",
       "</style>\n",
       "<ol class=list-inline><li>'statistic'</li><li>'parameter'</li><li>'p.value'</li><li>'method'</li><li>'data.name'</li><li>'observed'</li><li>'expected'</li><li>'residuals'</li><li>'stdres'</li></ol>\n"
      ],
      "text/latex": [
       "\\begin{enumerate*}\n",
       "\\item 'statistic'\n",
       "\\item 'parameter'\n",
       "\\item 'p.value'\n",
       "\\item 'method'\n",
       "\\item 'data.name'\n",
       "\\item 'observed'\n",
       "\\item 'expected'\n",
       "\\item 'residuals'\n",
       "\\item 'stdres'\n",
       "\\end{enumerate*}\n"
      ],
      "text/markdown": [
       "1. 'statistic'\n",
       "2. 'parameter'\n",
       "3. 'p.value'\n",
       "4. 'method'\n",
       "5. 'data.name'\n",
       "6. 'observed'\n",
       "7. 'expected'\n",
       "8. 'residuals'\n",
       "9. 'stdres'\n",
       "\n",
       "\n"
      ],
      "text/plain": [
       "[1] \"statistic\" \"parameter\" \"p.value\"   \"method\"    \"data.name\" \"observed\" \n",
       "[7] \"expected\"  \"residuals\" \"stdres\"   "
      ]
     },
     "metadata": {},
     "output_type": "display_data"
    }
   ],
   "source": [
    "names(res)"
   ]
  },
  {
   "cell_type": "code",
   "execution_count": 25,
   "id": "e0a2b50e",
   "metadata": {},
   "outputs": [
    {
     "data": {
      "text/html": [
       "<strong>X-squared:</strong> 6.52"
      ],
      "text/latex": [
       "\\textbf{X-squared:} 6.52"
      ],
      "text/markdown": [
       "**X-squared:** 6.52"
      ],
      "text/plain": [
       "X-squared \n",
       "     6.52 "
      ]
     },
     "metadata": {},
     "output_type": "display_data"
    },
    {
     "data": {
      "text/html": [
       "0.038388398017552"
      ],
      "text/latex": [
       "0.038388398017552"
      ],
      "text/markdown": [
       "0.038388398017552"
      ],
      "text/plain": [
       "[1] 0.0383884"
      ]
     },
     "metadata": {},
     "output_type": "display_data"
    }
   ],
   "source": [
    "res$statistic\n",
    "res$p.value"
   ]
  },
  {
   "cell_type": "markdown",
   "id": "6228eb32",
   "metadata": {},
   "source": [
    "Obviously, hadn't we assumed that the proportions across the three categories should be equal , i.e. p=(1/3, 1/3, 1/3) in this case, results would be different. For example, let's say we knew that we had more chances of being 'happy', so we assumed that the number of cases in this category should also be greater, for example: p=c(1/2, 1/4, 1/4)."
   ]
  },
  {
   "cell_type": "code",
   "execution_count": 26,
   "id": "d1c198d3",
   "metadata": {},
   "outputs": [
    {
     "data": {
      "text/plain": [
       "\n",
       "\tChi-squared test for given probabilities\n",
       "\n",
       "data:  table(X)\n",
       "X-squared = 0.36, df = 2, p-value = 0.8353\n"
      ]
     },
     "metadata": {},
     "output_type": "display_data"
    }
   ],
   "source": [
    "chisq.test(table(X), p = c(1/2, 1/4, 1/4))"
   ]
  },
  {
   "cell_type": "markdown",
   "id": "ac6d7680",
   "metadata": {},
   "source": [
    "In this case, as we changed the null hypothesis, our p-value also changed."
   ]
  },
  {
   "cell_type": "markdown",
   "id": "716b00e0",
   "metadata": {},
   "source": [
    "<div class=\"alert alert-info\"> <b>Practice</b>: In the lecture we ran the following practice example: \n",
    "\n",
    "\"A random sample of 150 recent donations at a certain blood bank reveals that 82\n",
    "were type A blood. At a significance level α = 0.05, does this suggest that the\n",
    "actual percentage of type A donations differs from 40%, the percentage of the\n",
    "population having type A blood?\"\n",
    "    \n",
    "And we came to the conclusion that we could reject the null. We did this by computing the $\\chi^2$ statistic and checking whether it was inside or outside the critical region. Try to arrive at the same conclusion but using now `chisq.test`function.\n",
    "</div>"
   ]
  },
  {
   "cell_type": "code",
   "execution_count": 27,
   "id": "9802baf0",
   "metadata": {},
   "outputs": [
    {
     "data": {
      "text/html": [
       "<table class=\"dataframe\">\n",
       "<caption>A data.frame: 6 × 1</caption>\n",
       "<thead>\n",
       "\t<tr><th></th><th scope=col>bloodtype</th></tr>\n",
       "\t<tr><th></th><th scope=col>&lt;chr&gt;</th></tr>\n",
       "</thead>\n",
       "<tbody>\n",
       "\t<tr><th scope=row>1</th><td>A   </td></tr>\n",
       "\t<tr><th scope=row>2</th><td>A   </td></tr>\n",
       "\t<tr><th scope=row>3</th><td>notA</td></tr>\n",
       "\t<tr><th scope=row>4</th><td>notA</td></tr>\n",
       "\t<tr><th scope=row>5</th><td>notA</td></tr>\n",
       "\t<tr><th scope=row>6</th><td>notA</td></tr>\n",
       "</tbody>\n",
       "</table>\n"
      ],
      "text/latex": [
       "A data.frame: 6 × 1\n",
       "\\begin{tabular}{r|l}\n",
       "  & bloodtype\\\\\n",
       "  & <chr>\\\\\n",
       "\\hline\n",
       "\t1 & A   \\\\\n",
       "\t2 & A   \\\\\n",
       "\t3 & notA\\\\\n",
       "\t4 & notA\\\\\n",
       "\t5 & notA\\\\\n",
       "\t6 & notA\\\\\n",
       "\\end{tabular}\n"
      ],
      "text/markdown": [
       "\n",
       "A data.frame: 6 × 1\n",
       "\n",
       "| <!--/--> | bloodtype &lt;chr&gt; |\n",
       "|---|---|\n",
       "| 1 | A    |\n",
       "| 2 | A    |\n",
       "| 3 | notA |\n",
       "| 4 | notA |\n",
       "| 5 | notA |\n",
       "| 6 | notA |\n",
       "\n"
      ],
      "text/plain": [
       "  bloodtype\n",
       "1 A        \n",
       "2 A        \n",
       "3 notA     \n",
       "4 notA     \n",
       "5 notA     \n",
       "6 notA     "
      ]
     },
     "metadata": {},
     "output_type": "display_data"
    }
   ],
   "source": [
    "# You may use this data for this practice question\n",
    "set.seed(1234)\n",
    "bloodtype.dat<-data.frame(bloodtype=sample(c(rep(\"A\", 82), rep(\"notA\", 68)), 150))\n",
    "head(bloodtype.dat)"
   ]
  },
  {
   "cell_type": "markdown",
   "id": "3102df44",
   "metadata": {},
   "source": [
    "## Binomial test\n",
    "\n",
    "R has a built-in function for running the binomial test, the function `binom.test`. Let's have a look at its documentation: "
   ]
  },
  {
   "cell_type": "code",
   "execution_count": 28,
   "id": "c733edf8",
   "metadata": {},
   "outputs": [],
   "source": [
    "?binom.test"
   ]
  },
  {
   "cell_type": "markdown",
   "id": "a8f58d23",
   "metadata": {},
   "source": [
    "Since this test works only for two categories, it is enough to pass the number of observed occurrences in one category (x in this function), n, the total number of data points, and p, for the proportion given by the null hypothesis.  If this last one is not supplied, an equal probability in both categories, i.e. 0.5, is assumed.\n",
    "\n",
    "Let's see the use of this function for a vector of observations from tossing a fair coin 20 times."
   ]
  },
  {
   "cell_type": "code",
   "execution_count": 29,
   "id": "662861c5",
   "metadata": {},
   "outputs": [
    {
     "data": {
      "text/plain": [
       "X\n",
       "head tail \n",
       "  11    9 "
      ]
     },
     "metadata": {},
     "output_type": "display_data"
    }
   ],
   "source": [
    "set.seed(123)\n",
    "\n",
    "X<-sapply(c(1:20), function(x) sample(c(\"head\",\"tail\"), size=1))\n",
    "table(X)"
   ]
  },
  {
   "cell_type": "markdown",
   "id": "c0d926d1",
   "metadata": {},
   "source": [
    "As you can see, we have a similar number of occurrences of heads and tails in these 20 tosses, so if we assume that the coin was fair (p=0.5, equal probability for both outcomes), then we should see a result that makes us stick with the null."
   ]
  },
  {
   "cell_type": "code",
   "execution_count": 30,
   "id": "93f6469d",
   "metadata": {},
   "outputs": [
    {
     "data": {
      "text/plain": [
       "\n",
       "\tExact binomial test\n",
       "\n",
       "data:  9 and 20\n",
       "number of successes = 9, number of trials = 20, p-value = 0.8238\n",
       "alternative hypothesis: true probability of success is not equal to 0.5\n",
       "95 percent confidence interval:\n",
       " 0.2305779 0.6847219\n",
       "sample estimates:\n",
       "probability of success \n",
       "                  0.45 \n"
      ]
     },
     "metadata": {},
     "output_type": "display_data"
    }
   ],
   "source": [
    "# Here using the number of occurrences in tails\n",
    "binom.test(x = 9, n = 20)"
   ]
  },
  {
   "cell_type": "code",
   "execution_count": 31,
   "id": "64d756a5",
   "metadata": {},
   "outputs": [
    {
     "data": {
      "text/plain": [
       "\n",
       "\tExact binomial test\n",
       "\n",
       "data:  11 and 20\n",
       "number of successes = 11, number of trials = 20, p-value = 0.8238\n",
       "alternative hypothesis: true probability of success is not equal to 0.5\n",
       "95 percent confidence interval:\n",
       " 0.3152781 0.7694221\n",
       "sample estimates:\n",
       "probability of success \n",
       "                  0.55 \n"
      ]
     },
     "metadata": {},
     "output_type": "display_data"
    }
   ],
   "source": [
    "# but it would be same using the number of occurrences in the other category.\n",
    "binom.test(x = 11, n = 20)"
   ]
  },
  {
   "cell_type": "markdown",
   "id": "155cd803",
   "metadata": {},
   "source": [
    "As before, changing the null hypothesis also changes the p-values. For example, let's suppose that we were assuming the coin was unfair and had more chances of giving heads, so that instead of p=0.5 for heads, say we are assuming the probability was p=0.2. That means that in 20 coin tosses, we were expecting to see only 4 heads. However, we observed 9, which is more than we expected under the assumed probability (our Null hypothesis). "
   ]
  },
  {
   "cell_type": "code",
   "execution_count": 32,
   "id": "ad123e82",
   "metadata": {},
   "outputs": [
    {
     "data": {
      "text/plain": [
       "\n",
       "\tExact binomial test\n",
       "\n",
       "data:  9 and 20\n",
       "number of successes = 9, number of trials = 20, p-value = 0.009982\n",
       "alternative hypothesis: true probability of success is not equal to 0.2\n",
       "95 percent confidence interval:\n",
       " 0.2305779 0.6847219\n",
       "sample estimates:\n",
       "probability of success \n",
       "                  0.45 \n"
      ]
     },
     "metadata": {},
     "output_type": "display_data"
    }
   ],
   "source": [
    "# Here using the number of occurrences in tails\n",
    "binom.test(x=9, n=20, p=0.2)"
   ]
  },
  {
   "cell_type": "markdown",
   "id": "5fb479c5",
   "metadata": {},
   "source": [
    "As a result, under this null hypothesis, p-value $\\leq$ 0.05, so we reject it."
   ]
  },
  {
   "cell_type": "code",
   "execution_count": 33,
   "id": "1428299f",
   "metadata": {},
   "outputs": [
    {
     "data": {
      "text/plain": [
       "\n",
       "\tExact binomial test\n",
       "\n",
       "data:  11 and 20\n",
       "number of successes = 11, number of trials = 20, p-value = 0.009982\n",
       "alternative hypothesis: true probability of success is not equal to 0.8\n",
       "95 percent confidence interval:\n",
       " 0.3152781 0.7694221\n",
       "sample estimates:\n",
       "probability of success \n",
       "                  0.55 \n"
      ]
     },
     "metadata": {},
     "output_type": "display_data"
    }
   ],
   "source": [
    "# the same conclusion concentrating on the number of occurrences in the other category.\n",
    "binom.test(x=11, n=20, p=0.8)"
   ]
  },
  {
   "cell_type": "markdown",
   "id": "a2048246",
   "metadata": {},
   "source": [
    "On the other hand, it is important to remind you that the binomial test can be one-sided, in contrast to the $\\chi^2$-test. This means that we can test whether the observed occurrences are greater or less than an assumed value."
   ]
  },
  {
   "cell_type": "markdown",
   "id": "adb71a5b",
   "metadata": {},
   "source": [
    "Here our null hypothesiss is $p \\leq 0.2$. As a result, given what we observe, we are going to reject it."
   ]
  },
  {
   "cell_type": "code",
   "execution_count": 34,
   "id": "23372920",
   "metadata": {},
   "outputs": [
    {
     "data": {
      "text/plain": [
       "\n",
       "\tExact binomial test\n",
       "\n",
       "data:  9 and 20\n",
       "number of successes = 9, number of trials = 20, p-value = 0.009982\n",
       "alternative hypothesis: true probability of success is greater than 0.2\n",
       "95 percent confidence interval:\n",
       " 0.2586506 1.0000000\n",
       "sample estimates:\n",
       "probability of success \n",
       "                  0.45 \n"
      ]
     },
     "metadata": {},
     "output_type": "display_data"
    }
   ],
   "source": [
    "binom.test(9, 20, p = 0.2, alternative = \"greater\")"
   ]
  },
  {
   "cell_type": "markdown",
   "id": "ee12c2f8",
   "metadata": {},
   "source": [
    "Here our null is $p\\geq 0.2$. So from what we observe, we will stick to this null."
   ]
  },
  {
   "cell_type": "code",
   "execution_count": 35,
   "id": "390e2056",
   "metadata": {},
   "outputs": [
    {
     "data": {
      "text/plain": [
       "\n",
       "\tExact binomial test\n",
       "\n",
       "data:  9 and 20\n",
       "number of successes = 9, number of trials = 20, p-value = 0.9974\n",
       "alternative hypothesis: true probability of success is less than 0.2\n",
       "95 percent confidence interval:\n",
       " 0.0000000 0.6530686\n",
       "sample estimates:\n",
       "probability of success \n",
       "                  0.45 \n"
      ]
     },
     "metadata": {},
     "output_type": "display_data"
    }
   ],
   "source": [
    "binom.test(9, 20, p = 0.2, alternative = \"less\")"
   ]
  },
  {
   "cell_type": "markdown",
   "id": "f253c81b",
   "metadata": {},
   "source": [
    "**N.B.** Finally, it is important to note that in the case of two categories, you may use the  $\\chi^2$-test as well (so long as you have enough expected occurrences in every single category). However, it will give a different result with respect to the binomial test."
   ]
  },
  {
   "cell_type": "code",
   "execution_count": 36,
   "id": "91ebe178",
   "metadata": {},
   "outputs": [
    {
     "data": {
      "text/plain": [
       "\n",
       "\tExact binomial test\n",
       "\n",
       "data:  9 and 20\n",
       "number of successes = 9, number of trials = 20, p-value = 0.8238\n",
       "alternative hypothesis: true probability of success is not equal to 0.5\n",
       "95 percent confidence interval:\n",
       " 0.2305779 0.6847219\n",
       "sample estimates:\n",
       "probability of success \n",
       "                  0.45 \n"
      ]
     },
     "metadata": {},
     "output_type": "display_data"
    }
   ],
   "source": [
    "binom.test(x = 9, n = 20)"
   ]
  },
  {
   "cell_type": "code",
   "execution_count": 37,
   "id": "14579c8e",
   "metadata": {},
   "outputs": [
    {
     "data": {
      "text/plain": [
       "\n",
       "\tChi-squared test for given probabilities\n",
       "\n",
       "data:  table(X)\n",
       "X-squared = 0.2, df = 1, p-value = 0.6547\n"
      ]
     },
     "metadata": {},
     "output_type": "display_data"
    }
   ],
   "source": [
    "chisq.test(table(X))"
   ]
  },
  {
   "cell_type": "markdown",
   "id": "76878f16",
   "metadata": {},
   "source": [
    "The difference between both tests is particularly important for small sample sizes, where the binomial test, being an exact test, has more power than the $\\chi^2$-test. As a consequence, in these cases, the binomial test is more recommended. For large sample sizes, both should give you similar answers."
   ]
  }
 ],
 "metadata": {
  "kernelspec": {
   "display_name": "R",
   "language": "R",
   "name": "ir"
  },
  "language_info": {
   "codemirror_mode": "r",
   "file_extension": ".r",
   "mimetype": "text/x-r-source",
   "name": "R",
   "pygments_lexer": "r",
   "version": "4.2.2"
  }
 },
 "nbformat": 4,
 "nbformat_minor": 5
}
