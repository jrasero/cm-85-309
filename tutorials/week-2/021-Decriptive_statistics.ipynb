{
 "cells": [
  {
   "cell_type": "markdown",
   "id": "ac93161f",
   "metadata": {},
   "source": [
    "In this tutorial, you'll learn how to use R to describe your data, both numerically and visually using ggplot."
   ]
  },
  {
   "cell_type": "markdown",
   "id": "4e55267f",
   "metadata": {},
   "source": [
    "Any time that you get a new data set to look at, one of the first tasks that you have to do is to find ways of\n",
    "summarizing the data in a compact, easily understood fashion. This is what **descriptive statistics** (as\n",
    "opposed to **inferential statistics**) is all about."
   ]
  },
  {
   "cell_type": "markdown",
   "id": "74be9b37",
   "metadata": {},
   "source": [
    "# Measures of descriptive statistics"
   ]
  },
  {
   "cell_type": "code",
   "execution_count": 1,
   "id": "37f43b2f",
   "metadata": {},
   "outputs": [],
   "source": [
    "# Let's use this built-in dataset in the demostration\n",
    "?sleep"
   ]
  },
  {
   "cell_type": "markdown",
   "id": "2a0a18c0",
   "metadata": {},
   "source": [
    "## Measures of tendency"
   ]
  },
  {
   "cell_type": "markdown",
   "id": "d61b661d",
   "metadata": {},
   "source": [
    "### The mean\n",
    "\n",
    "The mean of a set of observations is just an average, i.e., add all of the values up, and\n",
    "then divide by the total number of values (N.B. ).\n",
    "\n",
    "$<X> = \\frac{X_1 + X_2 + \\dots + X_N}{N} = \\frac{1}{N}\\sum_{i=1}^N X_i$"
   ]
  },
  {
   "cell_type": "code",
   "execution_count": 8,
   "id": "96f2227b",
   "metadata": {},
   "outputs": [
    {
     "data": {
      "text/html": [
       "1.54"
      ],
      "text/latex": [
       "1.54"
      ],
      "text/markdown": [
       "1.54"
      ],
      "text/plain": [
       "[1] 1.54"
      ]
     },
     "metadata": {},
     "output_type": "display_data"
    }
   ],
   "source": [
    "sum(sleep$extra)/length(sleep$extra)"
   ]
  },
  {
   "cell_type": "markdown",
   "id": "787e4ea7",
   "metadata": {},
   "source": [
    "However, R has a built-in function, `mean`, to compute this:"
   ]
  },
  {
   "cell_type": "code",
   "execution_count": 9,
   "id": "d19b87fe",
   "metadata": {},
   "outputs": [
    {
     "data": {
      "text/html": [
       "1.54"
      ],
      "text/latex": [
       "1.54"
      ],
      "text/markdown": [
       "1.54"
      ],
      "text/plain": [
       "[1] 1.54"
      ]
     },
     "metadata": {},
     "output_type": "display_data"
    }
   ],
   "source": [
    "mean(sleep$extra)"
   ]
  },
  {
   "cell_type": "markdown",
   "id": "b6264945",
   "metadata": {},
   "source": [
    "### The median\n",
    "\n",
    "The second measure of central tendency that people use a lot is the median, and it’s even easier to\n",
    "describe than the mean. The median of a set of observations is just the middle value."
   ]
  },
  {
   "cell_type": "code",
   "execution_count": 15,
   "id": "7a7f3c46",
   "metadata": {},
   "outputs": [
    {
     "data": {
      "text/html": [
       "<style>\n",
       ".list-inline {list-style: none; margin:0; padding: 0}\n",
       ".list-inline>li {display: inline-block}\n",
       ".list-inline>li:not(:last-child)::after {content: \"\\00b7\"; padding: 0 .5ex}\n",
       "</style>\n",
       "<ol class=list-inline><li>-1.6</li><li>-1.2</li><li>-0.2</li><li>-0.1</li><li>-0.1</li><li>0</li><li>0.1</li><li>0.7</li><li>0.8</li><li>0.8</li><li>1.1</li><li>1.6</li><li>1.9</li><li>2</li><li>3.4</li><li>3.7</li><li>4.4</li><li>4.6</li><li>5.5</li></ol>\n"
      ],
      "text/latex": [
       "\\begin{enumerate*}\n",
       "\\item -1.6\n",
       "\\item -1.2\n",
       "\\item -0.2\n",
       "\\item -0.1\n",
       "\\item -0.1\n",
       "\\item 0\n",
       "\\item 0.1\n",
       "\\item 0.7\n",
       "\\item 0.8\n",
       "\\item 0.8\n",
       "\\item 1.1\n",
       "\\item 1.6\n",
       "\\item 1.9\n",
       "\\item 2\n",
       "\\item 3.4\n",
       "\\item 3.7\n",
       "\\item 4.4\n",
       "\\item 4.6\n",
       "\\item 5.5\n",
       "\\end{enumerate*}\n"
      ],
      "text/markdown": [
       "1. -1.6\n",
       "2. -1.2\n",
       "3. -0.2\n",
       "4. -0.1\n",
       "5. -0.1\n",
       "6. 0\n",
       "7. 0.1\n",
       "8. 0.7\n",
       "9. 0.8\n",
       "10. 0.8\n",
       "11. 1.1\n",
       "12. 1.6\n",
       "13. 1.9\n",
       "14. 2\n",
       "15. 3.4\n",
       "16. 3.7\n",
       "17. 4.4\n",
       "18. 4.6\n",
       "19. 5.5\n",
       "\n",
       "\n"
      ],
      "text/plain": [
       " [1] -1.6 -1.2 -0.2 -0.1 -0.1  0.0  0.1  0.7  0.8  0.8  1.1  1.6  1.9  2.0  3.4\n",
       "[16]  3.7  4.4  4.6  5.5"
      ]
     },
     "metadata": {},
     "output_type": "display_data"
    }
   ],
   "source": [
    "sort(sleep$extra[-length(sleep$extra)])"
   ]
  },
  {
   "cell_type": "markdown",
   "id": "819817ae",
   "metadata": {},
   "source": [
    "Here there are 19 observations, so the value in the middle is the tenth one, i.e. 0.8. Therefore, in contrast to the mean in a dataset, the median many times will correspond to an observed value in our datasets."
   ]
  },
  {
   "cell_type": "markdown",
   "id": "e573e675",
   "metadata": {},
   "source": [
    "The aforementioned example occurs in the case of datasets with an odd number of observations. What would happen if we had used the 20 observations?"
   ]
  },
  {
   "cell_type": "code",
   "execution_count": 2,
   "id": "74ba568c",
   "metadata": {},
   "outputs": [
    {
     "data": {
      "text/html": [
       "<style>\n",
       ".list-inline {list-style: none; margin:0; padding: 0}\n",
       ".list-inline>li {display: inline-block}\n",
       ".list-inline>li:not(:last-child)::after {content: \"\\00b7\"; padding: 0 .5ex}\n",
       "</style>\n",
       "<ol class=list-inline><li>-1.6</li><li>-1.2</li><li>-0.2</li><li>-0.1</li><li>-0.1</li><li>0</li><li>0.1</li><li>0.7</li><li>0.8</li><li>0.8</li><li>1.1</li><li>1.6</li><li>1.9</li><li>2</li><li>3.4</li><li>3.4</li><li>3.7</li><li>4.4</li><li>4.6</li><li>5.5</li></ol>\n"
      ],
      "text/latex": [
       "\\begin{enumerate*}\n",
       "\\item -1.6\n",
       "\\item -1.2\n",
       "\\item -0.2\n",
       "\\item -0.1\n",
       "\\item -0.1\n",
       "\\item 0\n",
       "\\item 0.1\n",
       "\\item 0.7\n",
       "\\item 0.8\n",
       "\\item 0.8\n",
       "\\item 1.1\n",
       "\\item 1.6\n",
       "\\item 1.9\n",
       "\\item 2\n",
       "\\item 3.4\n",
       "\\item 3.4\n",
       "\\item 3.7\n",
       "\\item 4.4\n",
       "\\item 4.6\n",
       "\\item 5.5\n",
       "\\end{enumerate*}\n"
      ],
      "text/markdown": [
       "1. -1.6\n",
       "2. -1.2\n",
       "3. -0.2\n",
       "4. -0.1\n",
       "5. -0.1\n",
       "6. 0\n",
       "7. 0.1\n",
       "8. 0.7\n",
       "9. 0.8\n",
       "10. 0.8\n",
       "11. 1.1\n",
       "12. 1.6\n",
       "13. 1.9\n",
       "14. 2\n",
       "15. 3.4\n",
       "16. 3.4\n",
       "17. 3.7\n",
       "18. 4.4\n",
       "19. 4.6\n",
       "20. 5.5\n",
       "\n",
       "\n"
      ],
      "text/plain": [
       " [1] -1.6 -1.2 -0.2 -0.1 -0.1  0.0  0.1  0.7  0.8  0.8  1.1  1.6  1.9  2.0  3.4\n",
       "[16]  3.4  3.7  4.4  4.6  5.5"
      ]
     },
     "metadata": {},
     "output_type": "display_data"
    }
   ],
   "source": [
    "sort(sleep$extra)"
   ]
  },
  {
   "cell_type": "markdown",
   "id": "801cd042",
   "metadata": {},
   "source": [
    "The middle points would correspond to both tenth and eleven positions. In this case, the median would correspond to the average between these two values, i.e. (0.8 + 1.1)/2 = 0.95"
   ]
  },
  {
   "cell_type": "markdown",
   "id": "0cef4c94",
   "metadata": {},
   "source": [
    "Again, in order not do these things manually every time, R provides a built-in function called `median`, which essentially sorts the input values and takes the corresponding middle point."
   ]
  },
  {
   "cell_type": "code",
   "execution_count": 17,
   "id": "1206ba87",
   "metadata": {},
   "outputs": [
    {
     "data": {
      "text/html": [
       "0.8"
      ],
      "text/latex": [
       "0.8"
      ],
      "text/markdown": [
       "0.8"
      ],
      "text/plain": [
       "[1] 0.8"
      ]
     },
     "metadata": {},
     "output_type": "display_data"
    },
    {
     "data": {
      "text/html": [
       "0.95"
      ],
      "text/latex": [
       "0.95"
      ],
      "text/markdown": [
       "0.95"
      ],
      "text/plain": [
       "[1] 0.95"
      ]
     },
     "metadata": {},
     "output_type": "display_data"
    }
   ],
   "source": [
    "median(sleep$extra[-length(sleep$extra)])\n",
    "\n",
    "median(sleep$extra)"
   ]
  },
  {
   "cell_type": "markdown",
   "id": "a502c875",
   "metadata": {},
   "source": [
    "### Trimmed mean\n",
    "\n",
    "Something that you will often find when working with data is that these are messy and sometimes, noisy. \n",
    "\n",
    "For example, let's replace the first element of our data with a value that looks suspicious compared to the rest of the values. "
   ]
  },
  {
   "cell_type": "code",
   "execution_count": 24,
   "id": "d7fe74c4",
   "metadata": {},
   "outputs": [
    {
     "data": {
      "text/html": [
       "<style>\n",
       ".list-inline {list-style: none; margin:0; padding: 0}\n",
       ".list-inline>li {display: inline-block}\n",
       ".list-inline>li:not(:last-child)::after {content: \"\\00b7\"; padding: 0 .5ex}\n",
       "</style>\n",
       "<ol class=list-inline><li>1000</li><li>-1.6</li><li>-0.2</li><li>-1.2</li><li>-0.1</li><li>3.4</li><li>3.7</li><li>0.8</li><li>0</li><li>2</li><li>1.9</li><li>0.8</li><li>1.1</li><li>0.1</li><li>-0.1</li><li>4.4</li><li>5.5</li><li>1.6</li><li>4.6</li><li>3.4</li></ol>\n"
      ],
      "text/latex": [
       "\\begin{enumerate*}\n",
       "\\item 1000\n",
       "\\item -1.6\n",
       "\\item -0.2\n",
       "\\item -1.2\n",
       "\\item -0.1\n",
       "\\item 3.4\n",
       "\\item 3.7\n",
       "\\item 0.8\n",
       "\\item 0\n",
       "\\item 2\n",
       "\\item 1.9\n",
       "\\item 0.8\n",
       "\\item 1.1\n",
       "\\item 0.1\n",
       "\\item -0.1\n",
       "\\item 4.4\n",
       "\\item 5.5\n",
       "\\item 1.6\n",
       "\\item 4.6\n",
       "\\item 3.4\n",
       "\\end{enumerate*}\n"
      ],
      "text/markdown": [
       "1. 1000\n",
       "2. -1.6\n",
       "3. -0.2\n",
       "4. -1.2\n",
       "5. -0.1\n",
       "6. 3.4\n",
       "7. 3.7\n",
       "8. 0.8\n",
       "9. 0\n",
       "10. 2\n",
       "11. 1.9\n",
       "12. 0.8\n",
       "13. 1.1\n",
       "14. 0.1\n",
       "15. -0.1\n",
       "16. 4.4\n",
       "17. 5.5\n",
       "18. 1.6\n",
       "19. 4.6\n",
       "20. 3.4\n",
       "\n",
       "\n"
      ],
      "text/plain": [
       " [1] 1000.0   -1.6   -0.2   -1.2   -0.1    3.4    3.7    0.8    0.0    2.0\n",
       "[11]    1.9    0.8    1.1    0.1   -0.1    4.4    5.5    1.6    4.6    3.4"
      ]
     },
     "metadata": {},
     "output_type": "display_data"
    }
   ],
   "source": [
    "extra_noisy<-sleep$extra\n",
    "extra_noisy[1]<-1000\n",
    "extra_noisy"
   ]
  },
  {
   "cell_type": "markdown",
   "id": "7721f956",
   "metadata": {},
   "source": [
    "This is an example of an **outlier**, a value that really does not belong with the others. Many times, in examples as clear as this it is reasonable to remove this point from the data. However, in real life, however, one does not always get such cut-and-dried examples. For instance, you might get this instead:"
   ]
  },
  {
   "cell_type": "code",
   "execution_count": 19,
   "id": "107131d5",
   "metadata": {},
   "outputs": [
    {
     "data": {
      "text/html": [
       "<style>\n",
       ".list-inline {list-style: none; margin:0; padding: 0}\n",
       ".list-inline>li {display: inline-block}\n",
       ".list-inline>li:not(:last-child)::after {content: \"\\00b7\"; padding: 0 .5ex}\n",
       "</style>\n",
       "<ol class=list-inline><li>-20</li><li>-1.6</li><li>-0.2</li><li>-1.2</li><li>-0.1</li><li>3.4</li><li>3.7</li><li>0.8</li><li>0</li><li>2</li><li>1.9</li><li>0.8</li><li>1.1</li><li>0.1</li><li>-0.1</li><li>4.4</li><li>5.5</li><li>1.6</li><li>4.6</li><li>18</li></ol>\n"
      ],
      "text/latex": [
       "\\begin{enumerate*}\n",
       "\\item -20\n",
       "\\item -1.6\n",
       "\\item -0.2\n",
       "\\item -1.2\n",
       "\\item -0.1\n",
       "\\item 3.4\n",
       "\\item 3.7\n",
       "\\item 0.8\n",
       "\\item 0\n",
       "\\item 2\n",
       "\\item 1.9\n",
       "\\item 0.8\n",
       "\\item 1.1\n",
       "\\item 0.1\n",
       "\\item -0.1\n",
       "\\item 4.4\n",
       "\\item 5.5\n",
       "\\item 1.6\n",
       "\\item 4.6\n",
       "\\item 18\n",
       "\\end{enumerate*}\n"
      ],
      "text/markdown": [
       "1. -20\n",
       "2. -1.6\n",
       "3. -0.2\n",
       "4. -1.2\n",
       "5. -0.1\n",
       "6. 3.4\n",
       "7. 3.7\n",
       "8. 0.8\n",
       "9. 0\n",
       "10. 2\n",
       "11. 1.9\n",
       "12. 0.8\n",
       "13. 1.1\n",
       "14. 0.1\n",
       "15. -0.1\n",
       "16. 4.4\n",
       "17. 5.5\n",
       "18. 1.6\n",
       "19. 4.6\n",
       "20. 18\n",
       "\n",
       "\n"
      ],
      "text/plain": [
       " [1] -20.0  -1.6  -0.2  -1.2  -0.1   3.4   3.7   0.8   0.0   2.0   1.9   0.8\n",
       "[13]   1.1   0.1  -0.1   4.4   5.5   1.6   4.6  18.0"
      ]
     },
     "metadata": {},
     "output_type": "display_data"
    }
   ],
   "source": [
    "extra_noisy[1]<- -20\n",
    "extra_noisy[length(extra_noisy)]<- 18\n",
    "extra_noisy"
   ]
  },
  {
   "cell_type": "markdown",
   "id": "7bdd090e",
   "metadata": {},
   "source": [
    "Here, -20 and 18 look both suspicious, but it's harder to say whether these values are legitimate or not.\n",
    "\n",
    "When faced with a situation where some of the most extreme-valued observations might not be quite\n",
    "trustworthy, the mean is not necessarily a good measure of central tendency. It is highly sensitive to one\n",
    "or two extreme values, and is thus not considered to be a **robust** measure. One general solution would be to use a \"trimmed mean\", that is, a mean calculated discarding the most extreme examples on both ends (e.g., the largest and the smallest). The goal is to preserve the best characteristics of the mean while not being highly influenced by extreme outliers."
   ]
  },
  {
   "cell_type": "markdown",
   "id": "c4e914ca",
   "metadata": {},
   "source": [
    "For example, let's say we are to calculate the 5% trimmed mean. In our example, this would correspond to discarding the largest 5%  and the smallest 10% of the observations, and then takes the mean of the remaining 90% of the observations."
   ]
  },
  {
   "cell_type": "code",
   "execution_count": 20,
   "id": "3d538c6f",
   "metadata": {},
   "outputs": [
    {
     "data": {
      "text/html": [
       "1.48333333333333"
      ],
      "text/latex": [
       "1.48333333333333"
      ],
      "text/markdown": [
       "1.48333333333333"
      ],
      "text/plain": [
       "[1] 1.483333"
      ]
     },
     "metadata": {},
     "output_type": "display_data"
    }
   ],
   "source": [
    "mean(extra_noisy[c(2:(length(extra_noisy)-1))])"
   ]
  },
  {
   "cell_type": "markdown",
   "id": "d85835d1",
   "metadata": {},
   "source": [
    "Now, compare this mean to the one using all the observations:"
   ]
  },
  {
   "cell_type": "code",
   "execution_count": 21,
   "id": "364e26ab",
   "metadata": {},
   "outputs": [
    {
     "data": {
      "text/html": [
       "1.235"
      ],
      "text/latex": [
       "1.235"
      ],
      "text/markdown": [
       "1.235"
      ],
      "text/plain": [
       "[1] 1.235"
      ]
     },
     "metadata": {},
     "output_type": "display_data"
    }
   ],
   "source": [
    "mean(extra_noisy)"
   ]
  },
  {
   "cell_type": "markdown",
   "id": "7d2c952a",
   "metadata": {},
   "source": [
    "There's a difference, right? \n",
    "\n",
    "As usual, to make our lifes easier, R allows you to specify the amount of trimming when calling the function `mean`. Let's look at this using the help (by prepending `?` operator or using `help`) :"
   ]
  },
  {
   "cell_type": "code",
   "execution_count": 22,
   "id": "02f497c7",
   "metadata": {},
   "outputs": [],
   "source": [
    "?mean"
   ]
  },
  {
   "cell_type": "code",
   "execution_count": 91,
   "id": "02d44ce2",
   "metadata": {},
   "outputs": [
    {
     "data": {
      "text/html": [
       "1.48333333333333"
      ],
      "text/latex": [
       "1.48333333333333"
      ],
      "text/markdown": [
       "1.48333333333333"
      ],
      "text/plain": [
       "[1] 1.483333"
      ]
     },
     "metadata": {},
     "output_type": "display_data"
    }
   ],
   "source": [
    "mean(extra_noisy, trim=0.05)"
   ]
  },
  {
   "cell_type": "markdown",
   "id": "d9ef4881",
   "metadata": {},
   "source": [
    "<div class=\"alert alert-info\"> <b> Question:</b> We are talking about outliers, but do you think the median would be also a robust measure against outliers? </div>"
   ]
  },
  {
   "cell_type": "markdown",
   "id": "1ad2e93b",
   "metadata": {},
   "source": [
    "### Mode\n",
    "\n",
    "The mode of a sample is very simple: it is the value that occurs most frequently. In this case, R does not have a built-in function for this. You'll create one in the assigments (extra credit; it can be challending, I know)!"
   ]
  },
  {
   "cell_type": "markdown",
   "id": "fdd2f941",
   "metadata": {},
   "source": [
    "## Measures of variability"
   ]
  },
  {
   "cell_type": "markdown",
   "id": "851d3410",
   "metadata": {},
   "source": [
    "### Variance\n",
    "\n",
    "The formula for the variance is the following:\n",
    "\n",
    "$s^2 = \\frac{1}{N}\\sum_{i=1}^N (X_i - <X>)^2$"
   ]
  },
  {
   "cell_type": "code",
   "execution_count": 3,
   "id": "82a99c5c",
   "metadata": {},
   "outputs": [
    {
     "data": {
      "text/html": [
       "3.8684"
      ],
      "text/latex": [
       "3.8684"
      ],
      "text/markdown": [
       "3.8684"
      ],
      "text/plain": [
       "[1] 3.8684"
      ]
     },
     "metadata": {},
     "output_type": "display_data"
    }
   ],
   "source": [
    "# Lets do it\n",
    "mean.sleep.extra<-mean(sleep$extra)\n",
    "N<-length(sleep$extra)\n",
    "sum((sleep$extra - mean.sleep.extra)**2)/N"
   ]
  },
  {
   "cell_type": "markdown",
   "id": "6693a767",
   "metadata": {},
   "source": [
    "Fortunately, R has a built-in function for calculating this, `var` :"
   ]
  },
  {
   "cell_type": "code",
   "execution_count": 4,
   "id": "4425552c",
   "metadata": {},
   "outputs": [
    {
     "data": {
      "text/html": [
       "4.072"
      ],
      "text/latex": [
       "4.072"
      ],
      "text/markdown": [
       "4.072"
      ],
      "text/plain": [
       "[1] 4.072"
      ]
     },
     "metadata": {},
     "output_type": "display_data"
    }
   ],
   "source": [
    "var(sleep$extra)"
   ]
  },
  {
   "cell_type": "markdown",
   "id": "b885d780",
   "metadata": {},
   "source": [
    "Ohhh, what happened?? What R is actually calculating is a slightly different formula, which implies dividing by N-1 instead that N. Let's see this:"
   ]
  },
  {
   "cell_type": "code",
   "execution_count": 12,
   "id": "801ed685",
   "metadata": {},
   "outputs": [
    {
     "data": {
      "text/html": [
       "4.072"
      ],
      "text/latex": [
       "4.072"
      ],
      "text/markdown": [
       "4.072"
      ],
      "text/plain": [
       "[1] 4.072"
      ]
     },
     "metadata": {},
     "output_type": "display_data"
    }
   ],
   "source": [
    "sum((sleep$extra - mean.sleep.extra)**2)/(N-1)"
   ]
  },
  {
   "cell_type": "markdown",
   "id": "dc8d60e9",
   "metadata": {},
   "source": [
    "**WHY??** We'll see this in a near future..."
   ]
  },
  {
   "cell_type": "markdown",
   "id": "fdfaf405",
   "metadata": {},
   "source": [
    "### Standard Deviation\n",
    "\n",
    "The Standard Deviation, also called the “root mean squared deviation” or RMSD, is the square root of the variance, and it aims at providing information about the dispersion of the data in their same units:\n",
    "\n",
    "$s = \\sqrt{\\frac{1}{N}\\sum_{i=1}^N (X_i - <X>)^2}$"
   ]
  },
  {
   "cell_type": "markdown",
   "id": "b7499d39",
   "metadata": {},
   "source": [
    "We could again calculate this manually, but again and thankfully, R has a built-in function for doing this, `sd`"
   ]
  },
  {
   "cell_type": "code",
   "execution_count": 14,
   "id": "d6f0827e",
   "metadata": {},
   "outputs": [
    {
     "data": {
      "text/html": [
       "2.01791972090071"
      ],
      "text/latex": [
       "2.01791972090071"
      ],
      "text/markdown": [
       "2.01791972090071"
      ],
      "text/plain": [
       "[1] 2.01792"
      ]
     },
     "metadata": {},
     "output_type": "display_data"
    }
   ],
   "source": [
    "sd(sleep$extra)"
   ]
  },
  {
   "cell_type": "markdown",
   "id": "79b5e1ac",
   "metadata": {},
   "source": [
    "### Average Absolute Devation (AAD)\n",
    "\n",
    "R does not have a built-in function for this, so you either create one yourself, or make use of a very useful library called **lsr**, which has this function implemented."
   ]
  },
  {
   "cell_type": "code",
   "execution_count": 16,
   "id": "cb2163d4",
   "metadata": {},
   "outputs": [],
   "source": [
    "library(lsr)"
   ]
  },
  {
   "cell_type": "code",
   "execution_count": 17,
   "id": "2e57c4b3",
   "metadata": {},
   "outputs": [
    {
     "data": {
      "text/html": [
       "1.664"
      ],
      "text/latex": [
       "1.664"
      ],
      "text/markdown": [
       "1.664"
      ],
      "text/plain": [
       "[1] 1.664"
      ]
     },
     "metadata": {},
     "output_type": "display_data"
    }
   ],
   "source": [
    "mean(abs(sleep$extra - mean(sleep$extra)))"
   ]
  },
  {
   "cell_type": "code",
   "execution_count": 18,
   "id": "1139fbd5",
   "metadata": {},
   "outputs": [
    {
     "data": {
      "text/html": [
       "1.664"
      ],
      "text/latex": [
       "1.664"
      ],
      "text/markdown": [
       "1.664"
      ],
      "text/plain": [
       "[1] 1.664"
      ]
     },
     "metadata": {},
     "output_type": "display_data"
    }
   ],
   "source": [
    "aad(sleep$extra)"
   ]
  },
  {
   "cell_type": "markdown",
   "id": "476ae79a",
   "metadata": {},
   "source": [
    "### Median Absolute Deviaton (MAD)"
   ]
  },
  {
   "cell_type": "code",
   "execution_count": 74,
   "id": "8bf597f4",
   "metadata": {},
   "outputs": [
    {
     "data": {
      "text/html": [
       "1.05"
      ],
      "text/latex": [
       "1.05"
      ],
      "text/markdown": [
       "1.05"
      ],
      "text/plain": [
       "[1] 1.05"
      ]
     },
     "metadata": {},
     "output_type": "display_data"
    }
   ],
   "source": [
    "median(abs(sleep$extra - median(sleep$extra)))"
   ]
  },
  {
   "cell_type": "markdown",
   "id": "6f4361ca",
   "metadata": {},
   "source": [
    "R has a built-in function for this: `mad`"
   ]
  },
  {
   "cell_type": "code",
   "execution_count": 25,
   "id": "0e8d659b",
   "metadata": {},
   "outputs": [
    {
     "data": {
      "text/html": [
       "1.05"
      ],
      "text/latex": [
       "1.05"
      ],
      "text/markdown": [
       "1.05"
      ],
      "text/plain": [
       "[1] 1.05"
      ]
     },
     "metadata": {},
     "output_type": "display_data"
    }
   ],
   "source": [
    "mad(sleep$extra, constant = 1)\n",
    "#we had to set constant argument to 1 to get the expected behaviour. Why? Look at the documentation for details."
   ]
  },
  {
   "cell_type": "markdown",
   "id": "f0b83c5f",
   "metadata": {},
   "source": [
    "### Range\n",
    "\n",
    "This is just the maximum minus the minimum, so it's very easy to compute using the R built-in functions `max` and `min`."
   ]
  },
  {
   "cell_type": "code",
   "execution_count": 24,
   "id": "e2871cc9",
   "metadata": {},
   "outputs": [
    {
     "data": {
      "text/html": [
       "7.1"
      ],
      "text/latex": [
       "7.1"
      ],
      "text/markdown": [
       "7.1"
      ],
      "text/plain": [
       "[1] 7.1"
      ]
     },
     "metadata": {},
     "output_type": "display_data"
    }
   ],
   "source": [
    "max( sleep$extra ) - min( sleep$extra )"
   ]
  },
  {
   "cell_type": "markdown",
   "id": "caec387b",
   "metadata": {},
   "source": [
    "You can compute the same from the R built-in function `range` :"
   ]
  },
  {
   "cell_type": "code",
   "execution_count": 28,
   "id": "7cffbd18",
   "metadata": {},
   "outputs": [
    {
     "data": {
      "text/html": [
       "<style>\n",
       ".list-inline {list-style: none; margin:0; padding: 0}\n",
       ".list-inline>li {display: inline-block}\n",
       ".list-inline>li:not(:last-child)::after {content: \"\\00b7\"; padding: 0 .5ex}\n",
       "</style>\n",
       "<ol class=list-inline><li>-1.6</li><li>5.5</li></ol>\n"
      ],
      "text/latex": [
       "\\begin{enumerate*}\n",
       "\\item -1.6\n",
       "\\item 5.5\n",
       "\\end{enumerate*}\n"
      ],
      "text/markdown": [
       "1. -1.6\n",
       "2. 5.5\n",
       "\n",
       "\n"
      ],
      "text/plain": [
       "[1] -1.6  5.5"
      ]
     },
     "metadata": {},
     "output_type": "display_data"
    }
   ],
   "source": [
    "range( sleep$extra )"
   ]
  },
  {
   "cell_type": "markdown",
   "id": "3cf1eab3",
   "metadata": {},
   "source": [
    "### Interquartile range (IQR)\n",
    "\n",
    "IQR is the difference between the difference between the 25th quantile and the 75th quantile. What is a quantile? We'll learn this in more detail later in the course."
   ]
  },
  {
   "cell_type": "code",
   "execution_count": 31,
   "id": "96736095",
   "metadata": {},
   "outputs": [
    {
     "data": {
      "text/html": [
       "<style>\n",
       ".dl-inline {width: auto; margin:0; padding: 0}\n",
       ".dl-inline>dt, .dl-inline>dd {float: none; width: auto; display: inline-block}\n",
       ".dl-inline>dt::after {content: \":\\0020\"; padding-right: .5ex}\n",
       ".dl-inline>dt:not(:first-of-type) {padding-left: .5ex}\n",
       "</style><dl class=dl-inline><dt>25%</dt><dd>-0.025</dd><dt>75%</dt><dd>3.4</dd></dl>\n"
      ],
      "text/latex": [
       "\\begin{description*}\n",
       "\\item[25\\textbackslash{}\\%] -0.025\n",
       "\\item[75\\textbackslash{}\\%] 3.4\n",
       "\\end{description*}\n"
      ],
      "text/markdown": [
       "25%\n",
       ":   -0.02575%\n",
       ":   3.4\n",
       "\n"
      ],
      "text/plain": [
       "   25%    75% \n",
       "-0.025  3.400 "
      ]
     },
     "metadata": {},
     "output_type": "display_data"
    }
   ],
   "source": [
    "quantile( x = sleep$extra, probs = c(.25, .75))"
   ]
  },
  {
   "cell_type": "markdown",
   "id": "c5a2c65f",
   "metadata": {},
   "source": [
    "Again, R has a built-in function `IQR` to make your life easier :-)"
   ]
  },
  {
   "cell_type": "code",
   "execution_count": 32,
   "id": "cc2f0509",
   "metadata": {},
   "outputs": [
    {
     "data": {
      "text/html": [
       "3.425"
      ],
      "text/latex": [
       "3.425"
      ],
      "text/markdown": [
       "3.425"
      ],
      "text/plain": [
       "[1] 3.425"
      ]
     },
     "metadata": {},
     "output_type": "display_data"
    }
   ],
   "source": [
    "IQR(sleep$extra)"
   ]
  },
  {
   "cell_type": "markdown",
   "id": "00209bdf",
   "metadata": {},
   "source": [
    "# Measures of shape"
   ]
  },
  {
   "cell_type": "markdown",
   "id": "74004d91",
   "metadata": {},
   "source": [
    "$skewness(X) =  \\frac{1}{N\\hat{\\sigma}^3}\\sum_{i=1}^N(X-<X_i>)^3$\n",
    "\n",
    "$kurtosis(X) =  \\frac{1}{N\\hat{\\sigma}^4}\\sum_{i=1}^N(X-<X_i>)^4 -3$"
   ]
  },
  {
   "cell_type": "markdown",
   "id": "1e2b0a49",
   "metadata": {},
   "source": [
    "These less often used, but in case you want to calculate them, you can do this by using the library **psych**, which is another useful package:"
   ]
  },
  {
   "cell_type": "code",
   "execution_count": 33,
   "id": "2f9ca629",
   "metadata": {},
   "outputs": [],
   "source": [
    "# Install this\n",
    "library(psych)"
   ]
  },
  {
   "cell_type": "code",
   "execution_count": 34,
   "id": "d35179cb",
   "metadata": {},
   "outputs": [
    {
     "data": {
      "text/html": [
       "0.386338071862147"
      ],
      "text/latex": [
       "0.386338071862147"
      ],
      "text/markdown": [
       "0.386338071862147"
      ],
      "text/plain": [
       "[1] 0.3863381"
      ]
     },
     "metadata": {},
     "output_type": "display_data"
    },
    {
     "data": {
      "text/html": [
       "-1.0865904195985"
      ],
      "text/latex": [
       "-1.0865904195985"
      ],
      "text/markdown": [
       "-1.0865904195985"
      ],
      "text/plain": [
       "[1] -1.08659"
      ]
     },
     "metadata": {},
     "output_type": "display_data"
    }
   ],
   "source": [
    "# Skewness\n",
    "skew(sleep$extra)\n",
    "\n",
    "# Kurtosis\n",
    "kurtosi(sleep$extra)"
   ]
  },
  {
   "cell_type": "code",
   "execution_count": 36,
   "id": "928849e7",
   "metadata": {},
   "outputs": [
    {
     "data": {
      "image/png": "[encoded data removed]",
      "text/plain": [
       "Plot with title “Histogram of sleep$extra”"
      ]
     },
     "metadata": {
      "image/png": {
       "height": 420,
       "width": 420
      }
     },
     "output_type": "display_data"
    }
   ],
   "source": [
    "hist(sleep$extra)"
   ]
  },
  {
   "cell_type": "markdown",
   "id": "9f692577",
   "metadata": {},
   "source": [
    "# Descriptive statistics by means of summarizing your data\n",
    "\n",
    "Descriptive statistics is also about compressing the data just to give some relevant information about them. You can do this by summarizing them. Basically, you'll want to show a subset of the measures that we have just seen in a very compact and clean way."
   ]
  },
  {
   "cell_type": "code",
   "execution_count": 79,
   "id": "af48e62f",
   "metadata": {},
   "outputs": [],
   "source": [
    "# Let's use these ACT data again for this section\n",
    "sat.dat<-read.csv(\"https://vincentarelbundock.github.io/Rdatasets/csv/psych/sat.act.csv\")\n",
    "sat.dat$gender<- as.factor( sat.dat$gender )\n",
    "sat.dat$education<- as.factor( sat.dat$education )"
   ]
  },
  {
   "cell_type": "markdown",
   "id": "c3f8377a",
   "metadata": {},
   "source": [
    "### `summary` \n",
    "This is a built-in function, which prints out some useful descriptive information. It can accept a vector or a data frame.\n",
    "\n",
    "- If a **continous** variable, It gives us the minimum and maximum values (i.e., the range), the first and third quartiles (25th and 75th percentiles; i.e., the IQR), the mean and the median."
   ]
  },
  {
   "cell_type": "code",
   "execution_count": 80,
   "id": "d8917d40",
   "metadata": {},
   "outputs": [
    {
     "data": {
      "text/plain": [
       "   Min. 1st Qu.  Median    Mean 3rd Qu.    Max. \n",
       "   3.00   25.00   29.00   28.55   32.00   36.00 "
      ]
     },
     "metadata": {},
     "output_type": "display_data"
    }
   ],
   "source": [
    "summary( sat.dat$ACT )"
   ]
  },
  {
   "cell_type": "markdown",
   "id": "5606b6ff",
   "metadata": {},
   "source": [
    "- If a **logical** variable, it gives the number of Trues and Falses:"
   ]
  },
  {
   "cell_type": "code",
   "execution_count": 56,
   "id": "f0203ac3",
   "metadata": {},
   "outputs": [
    {
     "data": {
      "text/plain": [
       "   Mode   FALSE    TRUE \n",
       "logical     367     333 "
      ]
     },
     "metadata": {},
     "output_type": "display_data"
    }
   ],
   "source": [
    "summary( sat.dat$ACT>29 )"
   ]
  },
  {
   "cell_type": "markdown",
   "id": "e83dd441",
   "metadata": {},
   "source": [
    "- If a **factor** variable, it gives the number of occurrences by each factor:"
   ]
  },
  {
   "cell_type": "code",
   "execution_count": 81,
   "id": "7a19594e",
   "metadata": {},
   "outputs": [
    {
     "data": {
      "text/html": [
       "<style>\n",
       ".dl-inline {width: auto; margin:0; padding: 0}\n",
       ".dl-inline>dt, .dl-inline>dd {float: none; width: auto; display: inline-block}\n",
       ".dl-inline>dt::after {content: \":\\0020\"; padding-right: .5ex}\n",
       ".dl-inline>dt:not(:first-of-type) {padding-left: .5ex}\n",
       "</style><dl class=dl-inline><dt>0</dt><dd>57</dd><dt>1</dt><dd>45</dd><dt>2</dt><dd>44</dd><dt>3</dt><dd>275</dd><dt>4</dt><dd>138</dd><dt>5</dt><dd>141</dd></dl>\n"
      ],
      "text/latex": [
       "\\begin{description*}\n",
       "\\item[0] 57\n",
       "\\item[1] 45\n",
       "\\item[2] 44\n",
       "\\item[3] 275\n",
       "\\item[4] 138\n",
       "\\item[5] 141\n",
       "\\end{description*}\n"
      ],
      "text/markdown": [
       "0\n",
       ":   571\n",
       ":   452\n",
       ":   443\n",
       ":   2754\n",
       ":   1385\n",
       ":   141\n",
       "\n"
      ],
      "text/plain": [
       "  0   1   2   3   4   5 \n",
       " 57  45  44 275 138 141 "
      ]
     },
     "metadata": {},
     "output_type": "display_data"
    },
    {
     "data": {
      "text/html": [
       "<style>\n",
       ".dl-inline {width: auto; margin:0; padding: 0}\n",
       ".dl-inline>dt, .dl-inline>dd {float: none; width: auto; display: inline-block}\n",
       ".dl-inline>dt::after {content: \":\\0020\"; padding-right: .5ex}\n",
       ".dl-inline>dt:not(:first-of-type) {padding-left: .5ex}\n",
       "</style><dl class=dl-inline><dt>1</dt><dd>247</dd><dt>2</dt><dd>453</dd></dl>\n"
      ],
      "text/latex": [
       "\\begin{description*}\n",
       "\\item[1] 247\n",
       "\\item[2] 453\n",
       "\\end{description*}\n"
      ],
      "text/markdown": [
       "1\n",
       ":   2472\n",
       ":   453\n",
       "\n"
      ],
      "text/plain": [
       "  1   2 \n",
       "247 453 "
      ]
     },
     "metadata": {},
     "output_type": "display_data"
    }
   ],
   "source": [
    "summary(sat.dat$education)\n",
    "summary(sat.dat$gender)"
   ]
  },
  {
   "cell_type": "markdown",
   "id": "488b8816",
   "metadata": {},
   "source": [
    "**N.B.** This could also be obtained using the function `table`"
   ]
  },
  {
   "cell_type": "code",
   "execution_count": 58,
   "id": "e47ada5b",
   "metadata": {},
   "outputs": [
    {
     "data": {
      "text/plain": [
       "\n",
       "  0   1   2   3   4   5 \n",
       " 57  45  44 275 138 141 "
      ]
     },
     "metadata": {},
     "output_type": "display_data"
    }
   ],
   "source": [
    "table(sat.dat$education)"
   ]
  },
  {
   "cell_type": "markdown",
   "id": "ee3d3a5b",
   "metadata": {},
   "source": [
    "Here we are using all the time a vector, but as mentioned before, you can also pass a data frame to `summary`. In this case, a summary for each column is generated:"
   ]
  },
  {
   "cell_type": "code",
   "execution_count": 59,
   "id": "2417e3bc",
   "metadata": {},
   "outputs": [
    {
     "data": {
      "text/plain": [
       "       X         gender  education      age             ACT       \n",
       " Min.   :29442   1:247   0: 57     Min.   :13.00   Min.   : 3.00  \n",
       " 1st Qu.:32117   2:453   1: 45     1st Qu.:19.00   1st Qu.:25.00  \n",
       " Median :34896           2: 44     Median :22.00   Median :29.00  \n",
       " Mean   :34731           3:275     Mean   :25.59   Mean   :28.55  \n",
       " 3rd Qu.:37250           4:138     3rd Qu.:29.00   3rd Qu.:32.00  \n",
       " Max.   :39985           5:141     Max.   :65.00   Max.   :36.00  \n",
       "                                                                  \n",
       "      SATV            SATQ      \n",
       " Min.   :200.0   Min.   :200.0  \n",
       " 1st Qu.:550.0   1st Qu.:530.0  \n",
       " Median :620.0   Median :620.0  \n",
       " Mean   :612.2   Mean   :610.2  \n",
       " 3rd Qu.:700.0   3rd Qu.:700.0  \n",
       " Max.   :800.0   Max.   :800.0  \n",
       "                 NA's   :13     "
      ]
     },
     "metadata": {},
     "output_type": "display_data"
    }
   ],
   "source": [
    "summary(sat.dat)"
   ]
  },
  {
   "cell_type": "markdown",
   "id": "9f209c7e",
   "metadata": {},
   "source": [
    "### `describe` \n",
    "This function is contained in the **psych** library and provides the useful information for scale construction and item analysis in classic psychometrics. It produces a data frame with the following relevant statistics:\n",
    "\n",
    "- item name\n",
    "- item number\n",
    "- number of valid cases\n",
    "- mean\n",
    "- standard deviation\n",
    "- trimmed mean (with trim defaulting to .1)\n",
    "- median (standard or interpolated\n",
    "- mad: median absolute deviation (from the median).\n",
    "- minimum\n",
    "- maximum\n",
    "- skew\n",
    "- kurtosis\n",
    "- standard error"
   ]
  },
  {
   "cell_type": "code",
   "execution_count": 60,
   "id": "d9678e68",
   "metadata": {},
   "outputs": [
    {
     "data": {
      "text/html": [
       "<table class=\"dataframe\">\n",
       "<caption>A psych: 7 × 13</caption>\n",
       "<thead>\n",
       "\t<tr><th></th><th scope=col>vars</th><th scope=col>n</th><th scope=col>mean</th><th scope=col>sd</th><th scope=col>median</th><th scope=col>trimmed</th><th scope=col>mad</th><th scope=col>min</th><th scope=col>max</th><th scope=col>range</th><th scope=col>skew</th><th scope=col>kurtosis</th><th scope=col>se</th></tr>\n",
       "\t<tr><th></th><th scope=col>&lt;int&gt;</th><th scope=col>&lt;dbl&gt;</th><th scope=col>&lt;dbl&gt;</th><th scope=col>&lt;dbl&gt;</th><th scope=col>&lt;dbl&gt;</th><th scope=col>&lt;dbl&gt;</th><th scope=col>&lt;dbl&gt;</th><th scope=col>&lt;dbl&gt;</th><th scope=col>&lt;dbl&gt;</th><th scope=col>&lt;dbl&gt;</th><th scope=col>&lt;dbl&gt;</th><th scope=col>&lt;dbl&gt;</th><th scope=col>&lt;dbl&gt;</th></tr>\n",
       "</thead>\n",
       "<tbody>\n",
       "\t<tr><th scope=row>X</th><td>1</td><td>700</td><td>34731.085714</td><td>3026.8700206</td><td>34896</td><td>34739.841071</td><td>3809.5407</td><td>29442</td><td>39985</td><td>10543</td><td>-0.04625483</td><td>-1.18853714</td><td>114.40493322</td></tr>\n",
       "\t<tr><th scope=row>gender*</th><td>2</td><td>700</td><td>    1.647143</td><td>   0.4782004</td><td>    2</td><td>    1.683929</td><td>   0.0000</td><td>    1</td><td>    2</td><td>    1</td><td>-0.61452329</td><td>-1.62467597</td><td>  0.01807428</td></tr>\n",
       "\t<tr><th scope=row>education*</th><td>3</td><td>700</td><td>    4.164286</td><td>   1.4253515</td><td>    4</td><td>    4.307143</td><td>   1.4826</td><td>    1</td><td>    6</td><td>    5</td><td>-0.68079989</td><td>-0.07489124</td><td>  0.05387322</td></tr>\n",
       "\t<tr><th scope=row>age</th><td>4</td><td>700</td><td>   25.594286</td><td>   9.4986466</td><td>   22</td><td>   23.862500</td><td>   5.9304</td><td>   13</td><td>   65</td><td>   52</td><td> 1.64305735</td><td> 2.42430535</td><td>  0.35901510</td></tr>\n",
       "\t<tr><th scope=row>ACT</th><td>5</td><td>700</td><td>   28.547143</td><td>   4.8235599</td><td>   29</td><td>   28.842857</td><td>   4.4478</td><td>    3</td><td>   36</td><td>   33</td><td>-0.65640259</td><td> 0.53496913</td><td>  0.18231343</td></tr>\n",
       "\t<tr><th scope=row>SATV</th><td>6</td><td>700</td><td>  612.234286</td><td> 112.9025659</td><td>  620</td><td>  619.453571</td><td> 118.6080</td><td>  200</td><td>  800</td><td>  600</td><td>-0.64381115</td><td> 0.32519458</td><td>  4.26731588</td></tr>\n",
       "\t<tr><th scope=row>SATQ</th><td>7</td><td>687</td><td>  610.216885</td><td> 115.6392972</td><td>  620</td><td>  617.254083</td><td> 118.6080</td><td>  200</td><td>  800</td><td>  600</td><td>-0.59292125</td><td>-0.01776025</td><td>  4.41191437</td></tr>\n",
       "</tbody>\n",
       "</table>\n"
      ],
      "text/latex": [
       "A psych: 7 × 13\n",
       "\\begin{tabular}{r|lllllllllllll}\n",
       "  & vars & n & mean & sd & median & trimmed & mad & min & max & range & skew & kurtosis & se\\\\\n",
       "  & <int> & <dbl> & <dbl> & <dbl> & <dbl> & <dbl> & <dbl> & <dbl> & <dbl> & <dbl> & <dbl> & <dbl> & <dbl>\\\\\n",
       "\\hline\n",
       "\tX & 1 & 700 & 34731.085714 & 3026.8700206 & 34896 & 34739.841071 & 3809.5407 & 29442 & 39985 & 10543 & -0.04625483 & -1.18853714 & 114.40493322\\\\\n",
       "\tgender* & 2 & 700 &     1.647143 &    0.4782004 &     2 &     1.683929 &    0.0000 &     1 &     2 &     1 & -0.61452329 & -1.62467597 &   0.01807428\\\\\n",
       "\teducation* & 3 & 700 &     4.164286 &    1.4253515 &     4 &     4.307143 &    1.4826 &     1 &     6 &     5 & -0.68079989 & -0.07489124 &   0.05387322\\\\\n",
       "\tage & 4 & 700 &    25.594286 &    9.4986466 &    22 &    23.862500 &    5.9304 &    13 &    65 &    52 &  1.64305735 &  2.42430535 &   0.35901510\\\\\n",
       "\tACT & 5 & 700 &    28.547143 &    4.8235599 &    29 &    28.842857 &    4.4478 &     3 &    36 &    33 & -0.65640259 &  0.53496913 &   0.18231343\\\\\n",
       "\tSATV & 6 & 700 &   612.234286 &  112.9025659 &   620 &   619.453571 &  118.6080 &   200 &   800 &   600 & -0.64381115 &  0.32519458 &   4.26731588\\\\\n",
       "\tSATQ & 7 & 687 &   610.216885 &  115.6392972 &   620 &   617.254083 &  118.6080 &   200 &   800 &   600 & -0.59292125 & -0.01776025 &   4.41191437\\\\\n",
       "\\end{tabular}\n"
      ],
      "text/markdown": [
       "\n",
       "A psych: 7 × 13\n",
       "\n",
       "| <!--/--> | vars &lt;int&gt; | n &lt;dbl&gt; | mean &lt;dbl&gt; | sd &lt;dbl&gt; | median &lt;dbl&gt; | trimmed &lt;dbl&gt; | mad &lt;dbl&gt; | min &lt;dbl&gt; | max &lt;dbl&gt; | range &lt;dbl&gt; | skew &lt;dbl&gt; | kurtosis &lt;dbl&gt; | se &lt;dbl&gt; |\n",
       "|---|---|---|---|---|---|---|---|---|---|---|---|---|---|\n",
       "| X | 1 | 700 | 34731.085714 | 3026.8700206 | 34896 | 34739.841071 | 3809.5407 | 29442 | 39985 | 10543 | -0.04625483 | -1.18853714 | 114.40493322 |\n",
       "| gender* | 2 | 700 |     1.647143 |    0.4782004 |     2 |     1.683929 |    0.0000 |     1 |     2 |     1 | -0.61452329 | -1.62467597 |   0.01807428 |\n",
       "| education* | 3 | 700 |     4.164286 |    1.4253515 |     4 |     4.307143 |    1.4826 |     1 |     6 |     5 | -0.68079989 | -0.07489124 |   0.05387322 |\n",
       "| age | 4 | 700 |    25.594286 |    9.4986466 |    22 |    23.862500 |    5.9304 |    13 |    65 |    52 |  1.64305735 |  2.42430535 |   0.35901510 |\n",
       "| ACT | 5 | 700 |    28.547143 |    4.8235599 |    29 |    28.842857 |    4.4478 |     3 |    36 |    33 | -0.65640259 |  0.53496913 |   0.18231343 |\n",
       "| SATV | 6 | 700 |   612.234286 |  112.9025659 |   620 |   619.453571 |  118.6080 |   200 |   800 |   600 | -0.64381115 |  0.32519458 |   4.26731588 |\n",
       "| SATQ | 7 | 687 |   610.216885 |  115.6392972 |   620 |   617.254083 |  118.6080 |   200 |   800 |   600 | -0.59292125 | -0.01776025 |   4.41191437 |\n",
       "\n"
      ],
      "text/plain": [
       "           vars n   mean         sd           median trimmed      mad      \n",
       "X          1    700 34731.085714 3026.8700206 34896  34739.841071 3809.5407\n",
       "gender*    2    700     1.647143    0.4782004     2      1.683929    0.0000\n",
       "education* 3    700     4.164286    1.4253515     4      4.307143    1.4826\n",
       "age        4    700    25.594286    9.4986466    22     23.862500    5.9304\n",
       "ACT        5    700    28.547143    4.8235599    29     28.842857    4.4478\n",
       "SATV       6    700   612.234286  112.9025659   620    619.453571  118.6080\n",
       "SATQ       7    687   610.216885  115.6392972   620    617.254083  118.6080\n",
       "           min   max   range skew        kurtosis    se          \n",
       "X          29442 39985 10543 -0.04625483 -1.18853714 114.40493322\n",
       "gender*        1     2     1 -0.61452329 -1.62467597   0.01807428\n",
       "education*     1     6     5 -0.68079989 -0.07489124   0.05387322\n",
       "age           13    65    52  1.64305735  2.42430535   0.35901510\n",
       "ACT            3    36    33 -0.65640259  0.53496913   0.18231343\n",
       "SATV         200   800   600 -0.64381115  0.32519458   4.26731588\n",
       "SATQ         200   800   600 -0.59292125 -0.01776025   4.41191437"
      ]
     },
     "metadata": {},
     "output_type": "display_data"
    }
   ],
   "source": [
    "describe(sat.dat)"
   ]
  },
  {
   "cell_type": "markdown",
   "id": "9bb0c2c5",
   "metadata": {},
   "source": [
    "**N.B.** Here the asterisk denotes a factor variable. For this kind of variables this information here is not useful, so we should ignore it"
   ]
  },
  {
   "cell_type": "markdown",
   "id": "569385b7",
   "metadata": {},
   "source": [
    "### `describeBy` \n",
    "\n",
    "This function is also contained in the **psych** and yields the same output of `describe`, but separated for a given group (factor) variable."
   ]
  },
  {
   "cell_type": "code",
   "execution_count": 82,
   "id": "dbb163ec",
   "metadata": {},
   "outputs": [
    {
     "data": {
      "text/plain": [
       "\n",
       " Descriptive statistics by group \n",
       "group: 1\n",
       "   vars   n  mean   sd median trimmed  mad min max range  skew kurtosis   se\n",
       "X1    1 247 28.79 5.06     30   29.23 4.45   3  36    33 -1.06     1.89 0.32\n",
       "------------------------------------------------------------ \n",
       "group: 2\n",
       "   vars   n  mean   sd median trimmed  mad min max range  skew kurtosis   se\n",
       "X1    1 453 28.42 4.69     29   28.63 4.45  15  36    21 -0.39    -0.42 0.22"
      ]
     },
     "metadata": {},
     "output_type": "display_data"
    }
   ],
   "source": [
    "describeBy(x = sat.dat$ACT, group = sat.dat$gender)"
   ]
  },
  {
   "cell_type": "code",
   "execution_count": 83,
   "id": "8d2e3bc2",
   "metadata": {},
   "outputs": [
    {
     "data": {
      "text/plain": [
       "\n",
       " Descriptive statistics by group \n",
       "group: 0\n",
       "   vars  n  mean   sd median trimmed  mad min max range skew kurtosis   se\n",
       "X1    1 57 27.47 5.21     28   27.53 5.93  15  36    21 -0.1    -0.85 0.69\n",
       "------------------------------------------------------------ \n",
       "group: 1\n",
       "   vars  n  mean   sd median trimmed  mad min max range  skew kurtosis  se\n",
       "X1    1 45 27.49 6.06     27   27.84 7.41  15  36    21 -0.39    -0.94 0.9\n",
       "------------------------------------------------------------ \n",
       "group: 2\n",
       "   vars  n  mean   sd median trimmed  mad min max range  skew kurtosis   se\n",
       "X1    1 44 26.98 5.81     28   27.53 4.45   3  36    33 -1.63     4.59 0.88\n",
       "------------------------------------------------------------ \n",
       "group: 3\n",
       "   vars   n  mean   sd median trimmed  mad min max range  skew kurtosis   se\n",
       "X1    1 275 28.29 4.85     29   28.56 4.45  16  36    20 -0.46     -0.6 0.29\n",
       "------------------------------------------------------------ \n",
       "group: 4\n",
       "   vars   n  mean   sd median trimmed  mad min max range  skew kurtosis   se\n",
       "X1    1 138 29.26 4.35     30   29.47 4.45  16  36    20 -0.46    -0.26 0.37\n",
       "------------------------------------------------------------ \n",
       "group: 5\n",
       "   vars   n mean   sd median trimmed  mad min max range  skew kurtosis   se\n",
       "X1    1 141 29.6 3.95     30   29.79 4.45  18  36    18 -0.45     -0.5 0.33"
      ]
     },
     "metadata": {},
     "output_type": "display_data"
    }
   ],
   "source": [
    "describeBy(x = sat.dat$ACT, group = sat.dat$education)"
   ]
  },
  {
   "cell_type": "markdown",
   "id": "96661f99",
   "metadata": {},
   "source": [
    "**N.B.** You can also do this in a more flexible way with the library **dplyr**. We will see in the next tutorial (it'll be super cool!)"
   ]
  },
  {
   "cell_type": "markdown",
   "id": "fda15130",
   "metadata": {},
   "source": [
    "### `summarise` \n",
    "\n",
    "The last three functions allow you to summarize very important information for describing the data. However, they yield a specific output. How could we choose which output to summarize? We can do this with `summarise` function, which is part of the **tidyverse** library."
   ]
  },
  {
   "cell_type": "code",
   "execution_count": 63,
   "id": "09111a47",
   "metadata": {},
   "outputs": [
    {
     "name": "stderr",
     "output_type": "stream",
     "text": [
      "── \u001b[1mAttaching packages\u001b[22m ────────────────────────────────────────────────────────────────────────────────────────────────────────────────────────────────────────────────────────────────── tidyverse 1.3.2 ──\n",
      "\u001b[32m✔\u001b[39m \u001b[34mggplot2\u001b[39m 3.4.0      \u001b[32m✔\u001b[39m \u001b[34mpurrr  \u001b[39m 0.3.4 \n",
      "\u001b[32m✔\u001b[39m \u001b[34mtibble \u001b[39m 3.1.8      \u001b[32m✔\u001b[39m \u001b[34mdplyr  \u001b[39m 1.0.10\n",
      "\u001b[32m✔\u001b[39m \u001b[34mtidyr  \u001b[39m 1.2.1      \u001b[32m✔\u001b[39m \u001b[34mstringr\u001b[39m 1.4.0 \n",
      "\u001b[32m✔\u001b[39m \u001b[34mreadr  \u001b[39m 2.1.3      \u001b[32m✔\u001b[39m \u001b[34mforcats\u001b[39m 0.5.1 \n",
      "── \u001b[1mConflicts\u001b[22m ───────────────────────────────────────────────────────────────────────────────────────────────────────────────────────────────────────────────────────────────────── tidyverse_conflicts() ──\n",
      "\u001b[31m✖\u001b[39m \u001b[34mggplot2\u001b[39m::\u001b[32m%+%()\u001b[39m   masks \u001b[34mpsych\u001b[39m::%+%()\n",
      "\u001b[31m✖\u001b[39m \u001b[34mggplot2\u001b[39m::\u001b[32malpha()\u001b[39m masks \u001b[34mpsych\u001b[39m::alpha()\n",
      "\u001b[31m✖\u001b[39m \u001b[34mdplyr\u001b[39m::\u001b[32mfilter()\u001b[39m  masks \u001b[34mstats\u001b[39m::filter()\n",
      "\u001b[31m✖\u001b[39m \u001b[34mdplyr\u001b[39m::\u001b[32mlag()\u001b[39m     masks \u001b[34mstats\u001b[39m::lag()\n"
     ]
    }
   ],
   "source": [
    "library(tidyverse)"
   ]
  },
  {
   "cell_type": "code",
   "execution_count": 78,
   "id": "69e23906",
   "metadata": {},
   "outputs": [
    {
     "data": {
      "text/html": [
       "<table class=\"dataframe\">\n",
       "<caption>A data.frame: 1 × 8</caption>\n",
       "<thead>\n",
       "\t<tr><th scope=col>mu</th><th scope=col>pop_med</th><th scope=col>sigma</th><th scope=col>pop_iqr</th><th scope=col>pop_min</th><th scope=col>pop_max</th><th scope=col>pop_q1</th><th scope=col>pop_q3</th></tr>\n",
       "\t<tr><th scope=col>&lt;dbl&gt;</th><th scope=col>&lt;dbl&gt;</th><th scope=col>&lt;dbl&gt;</th><th scope=col>&lt;dbl&gt;</th><th scope=col>&lt;int&gt;</th><th scope=col>&lt;int&gt;</th><th scope=col>&lt;dbl&gt;</th><th scope=col>&lt;dbl&gt;</th></tr>\n",
       "</thead>\n",
       "<tbody>\n",
       "\t<tr><td>28.54714</td><td>29</td><td>4.82356</td><td>7</td><td>3</td><td>36</td><td>25</td><td>32</td></tr>\n",
       "</tbody>\n",
       "</table>\n"
      ],
      "text/latex": [
       "A data.frame: 1 × 8\n",
       "\\begin{tabular}{llllllll}\n",
       " mu & pop\\_med & sigma & pop\\_iqr & pop\\_min & pop\\_max & pop\\_q1 & pop\\_q3\\\\\n",
       " <dbl> & <dbl> & <dbl> & <dbl> & <int> & <int> & <dbl> & <dbl>\\\\\n",
       "\\hline\n",
       "\t 28.54714 & 29 & 4.82356 & 7 & 3 & 36 & 25 & 32\\\\\n",
       "\\end{tabular}\n"
      ],
      "text/markdown": [
       "\n",
       "A data.frame: 1 × 8\n",
       "\n",
       "| mu &lt;dbl&gt; | pop_med &lt;dbl&gt; | sigma &lt;dbl&gt; | pop_iqr &lt;dbl&gt; | pop_min &lt;int&gt; | pop_max &lt;int&gt; | pop_q1 &lt;dbl&gt; | pop_q3 &lt;dbl&gt; |\n",
       "|---|---|---|---|---|---|---|---|\n",
       "| 28.54714 | 29 | 4.82356 | 7 | 3 | 36 | 25 | 32 |\n",
       "\n"
      ],
      "text/plain": [
       "  mu       pop_med sigma   pop_iqr pop_min pop_max pop_q1 pop_q3\n",
       "1 28.54714 29      4.82356 7       3       36      25     32    "
      ]
     },
     "metadata": {},
     "output_type": "display_data"
    }
   ],
   "source": [
    "summarise(sat.dat, \n",
    "          mu = mean(ACT), \n",
    "          pop_med = median(ACT), \n",
    "          sigma = sd(ACT), \n",
    "          pop_iqr = IQR(ACT),\n",
    "          pop_min = min(ACT), \n",
    "          pop_max = max(ACT),\n",
    "          pop_q1 = quantile(ACT, 0.25),  # first quartile, 25th percentile\n",
    "          pop_q3 = quantile(ACT, 0.75))  # third quartile, 75th percentile"
   ]
  },
  {
   "cell_type": "markdown",
   "id": "c6d3e5b5",
   "metadata": {},
   "source": [
    "**N.B.** This function `summarise` is even more flexible than this. We will see in the next tutorial the cool things that you can do with it!"
   ]
  },
  {
   "cell_type": "markdown",
   "id": "0da96343",
   "metadata": {},
   "source": [
    "# Descriptive statistics by means of visualization\n",
    "\n",
    "Ok, so we have already seen what measures we can use to describe our data, and how to calculate these in R using several functions. \n",
    "\n",
    "However, although numbers are really appealing and at some point you will probably end up showing summary tables in your future research projects, it is also recommended to display these results as graphs. We are going to see here how to do this using ggplot. This is just an introduction of the things that you can do with this library. Here **curiosity** and **creativity** are essential!"
   ]
  },
  {
   "cell_type": "code",
   "execution_count": 6,
   "id": "b18bc295",
   "metadata": {},
   "outputs": [],
   "source": [
    "library(tidyverse)"
   ]
  },
  {
   "cell_type": "markdown",
   "id": "a97f2470",
   "metadata": {},
   "source": [
    "One nice way of visualizing your descriptive statistics is by using **BOXPLOTS**. Boxplots are a kind of graphs that basically displays in boxes the tendency (the median) and spread (the IQR, maximum and minimum) in one or more groups."
   ]
  },
  {
   "cell_type": "markdown",
   "id": "5f955946",
   "metadata": {},
   "source": [
    "In order to generate boxplots using **ggplot**, you can make use of the function `geom_boxplot`."
   ]
  },
  {
   "cell_type": "markdown",
   "id": "2b527b4a",
   "metadata": {},
   "source": [
    "<div class=\"alert alert-info\"> <b> Practice:</b> Try it yourself with our toy data, using \"education\" as the x variable, and \"ACT\" in the y variable in the aesthetics mappings  </div>"
   ]
  },
  {
   "cell_type": "code",
   "execution_count": 42,
   "id": "26f4a73f",
   "metadata": {},
   "outputs": [],
   "source": [
    "#YOUR CODE HERE"
   ]
  },
  {
   "cell_type": "code",
   "execution_count": 43,
   "id": "90ee3464",
   "metadata": {},
   "outputs": [
    {
     "data": {
      "image/png": "[encoded data removed]",
      "text/plain": [
       "plot without title"
      ]
     },
     "metadata": {
      "image/png": {
       "height": 420,
       "width": 420
      }
     },
     "output_type": "display_data"
    }
   ],
   "source": [
    "ggplot(data = sat.dat, mapping = aes(x=education, y=ACT)) + geom_boxplot()"
   ]
  },
  {
   "cell_type": "markdown",
   "id": "e3aa8bef",
   "metadata": {},
   "source": [
    "<div class=\"alert alert-info\"> <b> Question </b>: What if you make a boxplot but with SATV in the x-axis   instead of education? </div>"
   ]
  },
  {
   "cell_type": "code",
   "execution_count": 91,
   "id": "448414b4",
   "metadata": {},
   "outputs": [
    {
     "name": "stderr",
     "output_type": "stream",
     "text": [
      "Warning message:\n",
      "“\u001b[1m\u001b[22mContinuous \u001b[32mx\u001b[39m aesthetic\n",
      "\u001b[36mℹ\u001b[39m did you forget `aes(group = ...)`?”\n"
     ]
    },
    {
     "data": {
      "image/png": "[encoded data removed]",
      "text/plain": [
       "plot without title"
      ]
     },
     "metadata": {
      "image/png": {
       "height": 420,
       "width": 420
      }
     },
     "output_type": "display_data"
    }
   ],
   "source": [
    "ggplot(data = sat.dat, mapping = aes(x=SATV, y=ACT)) + geom_boxplot()"
   ]
  },
  {
   "cell_type": "markdown",
   "id": "0b2c161d",
   "metadata": {},
   "source": [
    "Now, a cool way of depicting the shape of the data is by using **VIOLINPLOTS**. These plots are similar to boxplots, although they show the probability density of the data at different values. Typically these plots are shown in addition to boxplots. In ggplot, this kind of plots can be rendered using the function `geom_violin` ."
   ]
  },
  {
   "cell_type": "markdown",
   "id": "21c985d7",
   "metadata": {},
   "source": [
    "<div class=\"alert alert-info\"> <b> Practice:</b> Add to the previous graph a layer with the function `geom_violin` </div> "
   ]
  },
  {
   "cell_type": "code",
   "execution_count": 85,
   "id": "6ead616e",
   "metadata": {},
   "outputs": [
    {
     "data": {
      "image/png": "[encoded data removed]",
      "text/plain": [
       "plot without title"
      ]
     },
     "metadata": {
      "image/png": {
       "height": 420,
       "width": 420
      }
     },
     "output_type": "display_data"
    }
   ],
   "source": [
    "ggplot(data = sat.dat, mapping = aes(x=education, y=ACT)) + geom_boxplot() + geom_violin() "
   ]
  },
  {
   "cell_type": "markdown",
   "id": "7e2136ce",
   "metadata": {},
   "source": [
    "**N.B.** Remember that layers are shown on top of previous ones. Sometimes you may need to play with the order of the layers or with the aesthetics in order to make the final graph more appealing."
   ]
  },
  {
   "cell_type": "code",
   "execution_count": 86,
   "id": "e93fce2a",
   "metadata": {},
   "outputs": [
    {
     "data": {
      "image/png": "[encoded data removed]",
      "text/plain": [
       "plot without title"
      ]
     },
     "metadata": {
      "image/png": {
       "height": 420,
       "width": 420
      }
     },
     "output_type": "display_data"
    }
   ],
   "source": [
    "# Here changing the order before\n",
    "ggplot(data = sat.dat, mapping = aes(x=education, y=ACT)) + geom_violin() + geom_boxplot()"
   ]
  },
  {
   "cell_type": "code",
   "execution_count": 87,
   "id": "2f4a31b9",
   "metadata": {},
   "outputs": [
    {
     "data": {
      "image/png": "[encoded data removed]",
      "text/plain": [
       "plot without title"
      ]
     },
     "metadata": {
      "image/png": {
       "height": 420,
       "width": 420
      }
     },
     "output_type": "display_data"
    }
   ],
   "source": [
    "# Here changing the specific aesthetics in each geometry\n",
    "\n",
    "ggplot(data = sat.dat, mapping = aes(x=education, y=ACT)) + geom_boxplot(width=0.5) + geom_violin(alpha=0.5)"
   ]
  },
  {
   "cell_type": "markdown",
   "id": "a4e51f8f",
   "metadata": {},
   "source": [
    "<div class=\"alert alert-info\"> <b>(HOME) Practice</b> : Things are getting more and more prettier, right? Take a couple of minutes to make your graph visually more appealing. You could play around with the colors, the width of the boxplots, transparencies... Take a look at the documenation of the function that we've just used and have fun!</div>"
   ]
  },
  {
   "cell_type": "code",
   "execution_count": 79,
   "id": "ac9e97ec",
   "metadata": {},
   "outputs": [
    {
     "data": {
      "image/png": "[encoded data removed]",
      "text/plain": [
       "plot without title"
      ]
     },
     "metadata": {
      "image/png": {
       "height": 420,
       "width": 420
      }
     },
     "output_type": "display_data"
    }
   ],
   "source": [
    "ggplot(data = sat.dat, mapping = aes(x=education, y=ACT, color=education)) + \n",
    "geom_violin() + geom_boxplot(width=0.5) + geom_jitter(width=0.1) "
   ]
  },
  {
   "cell_type": "markdown",
   "id": "e6638f7e",
   "metadata": {},
   "source": [
    "Another nice of summary your data visually is by using the function `stat_summary` from ggplot. Let's have look at its documentation."
   ]
  },
  {
   "cell_type": "code",
   "execution_count": 93,
   "id": "296b6bb0",
   "metadata": {},
   "outputs": [],
   "source": [
    "?stat_summary"
   ]
  },
  {
   "cell_type": "code",
   "execution_count": 92,
   "id": "2e006b84",
   "metadata": {},
   "outputs": [
    {
     "name": "stderr",
     "output_type": "stream",
     "text": [
      "\u001b[1m\u001b[22mNo summary function supplied, defaulting to `mean_se()`\n"
     ]
    },
    {
     "data": {
      "image/png": "[encoded data removed]",
      "text/plain": [
       "plot without title"
      ]
     },
     "metadata": {
      "image/png": {
       "height": 420,
       "width": 420
      }
     },
     "output_type": "display_data"
    }
   ],
   "source": [
    "ggplot(data = sat.dat, mapping = aes(x = education, y = ACT)) + stat_summary()"
   ]
  },
  {
   "cell_type": "markdown",
   "id": "a3748c13",
   "metadata": {},
   "source": [
    "<div class=\"alert alert-info\"> <b>Practice</b>: Try it yourself replace in the first graph that you made geom_boxplot with stat_summary</div>"
   ]
  }
 ],
 "metadata": {
  "kernelspec": {
   "display_name": "R",
   "language": "R",
   "name": "ir"
  },
  "language_info": {
   "codemirror_mode": "r",
   "file_extension": ".r",
   "mimetype": "text/x-r-source",
   "name": "R",
   "pygments_lexer": "r",
   "version": "3.6.3"
  }
 },
 "nbformat": 4,
 "nbformat_minor": 5
}
