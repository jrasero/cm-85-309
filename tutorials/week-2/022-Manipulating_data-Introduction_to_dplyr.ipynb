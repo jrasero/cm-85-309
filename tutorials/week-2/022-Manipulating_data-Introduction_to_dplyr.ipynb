{
 "cells": [
  {
   "cell_type": "markdown",
   "id": "4758928a",
   "metadata": {},
   "source": [
    "Here we are going to learn the library **dplyr**, which is really useful for transforming the data (e.g. create new variables, reorder observations, etc)."
   ]
  },
  {
   "cell_type": "markdown",
   "id": "2bacfb97",
   "metadata": {},
   "source": [
    "# Loading dplyr"
   ]
  },
  {
   "cell_type": "markdown",
   "id": "f3203cc6",
   "metadata": {},
   "source": [
    "Like **ggplot2**, dplyr is also part of **tidyverse**. "
   ]
  },
  {
   "cell_type": "code",
   "execution_count": 1,
   "id": "2feeed5b",
   "metadata": {},
   "outputs": [
    {
     "name": "stderr",
     "output_type": "stream",
     "text": [
      "Registered S3 methods overwritten by 'tibble':\n",
      "  method     from  \n",
      "  format.tbl pillar\n",
      "  print.tbl  pillar\n",
      "\n",
      "Registered S3 methods overwritten by 'ggplot2':\n",
      "  method         from \n",
      "  [.quosures     rlang\n",
      "  c.quosures     rlang\n",
      "  print.quosures rlang\n",
      "\n",
      "Registered S3 method overwritten by 'rvest':\n",
      "  method            from\n",
      "  read_xml.response xml2\n",
      "\n",
      "── \u001b[1mAttaching packages\u001b[22m ─────────────────────────────────────── tidyverse 1.2.1 ──\n",
      "\n",
      "\u001b[32m✔\u001b[39m \u001b[34mggplot2\u001b[39m 3.1.1       \u001b[32m✔\u001b[39m \u001b[34mpurrr  \u001b[39m 0.3.2  \n",
      "\u001b[32m✔\u001b[39m \u001b[34mtibble \u001b[39m 2.1.1       \u001b[32m✔\u001b[39m \u001b[34mdplyr  \u001b[39m 0.8.0.\u001b[31m1\u001b[39m\n",
      "\u001b[32m✔\u001b[39m \u001b[34mtidyr  \u001b[39m 0.8.3       \u001b[32m✔\u001b[39m \u001b[34mstringr\u001b[39m 1.4.0  \n",
      "\u001b[32m✔\u001b[39m \u001b[34mreadr  \u001b[39m 1.3.1       \u001b[32m✔\u001b[39m \u001b[34mforcats\u001b[39m 0.4.0  \n",
      "\n",
      "── \u001b[1mConflicts\u001b[22m ────────────────────────────────────────── tidyverse_conflicts() ──\n",
      "\u001b[31m✖\u001b[39m \u001b[34mdplyr\u001b[39m::\u001b[32mfilter()\u001b[39m masks \u001b[34mstats\u001b[39m::filter()\n",
      "\u001b[31m✖\u001b[39m \u001b[34mdplyr\u001b[39m::\u001b[32mlag()\u001b[39m    masks \u001b[34mstats\u001b[39m::lag()\n",
      "\n"
     ]
    }
   ],
   "source": [
    "library(tidyverse)"
   ]
  },
  {
   "cell_type": "code",
   "execution_count": 24,
   "id": "3c97df2a",
   "metadata": {},
   "outputs": [],
   "source": [
    "sat.dat<-read.csv(\"https://vincentarelbundock.github.io/Rdatasets/csv/psych/sat.act.csv\")\n",
    "sat.dat$gender<- as.factor( sat.dat$gender )\n",
    "sat.dat$education<- as.factor( sat.dat$education )"
   ]
  },
  {
   "cell_type": "code",
   "execution_count": 27,
   "id": "85722a96",
   "metadata": {},
   "outputs": [
    {
     "data": {
      "text/html": [
       "<ol class=list-inline>\n",
       "\t<li>700</li>\n",
       "\t<li>7</li>\n",
       "</ol>\n"
      ],
      "text/latex": [
       "\\begin{enumerate*}\n",
       "\\item 700\n",
       "\\item 7\n",
       "\\end{enumerate*}\n"
      ],
      "text/markdown": [
       "1. 700\n",
       "2. 7\n",
       "\n",
       "\n"
      ],
      "text/plain": [
       "[1] 700   7"
      ]
     },
     "metadata": {},
     "output_type": "display_data"
    }
   ],
   "source": [
    "dim(sat.dat)"
   ]
  },
  {
   "cell_type": "code",
   "execution_count": 16,
   "id": "e4b61558",
   "metadata": {},
   "outputs": [
    {
     "data": {
      "text/plain": [
       "       X         gender  education      age             ACT       \n",
       " Min.   :29442   1:247   0: 57     Min.   :13.00   Min.   : 3.00  \n",
       " 1st Qu.:32117   2:453   1: 45     1st Qu.:19.00   1st Qu.:25.00  \n",
       " Median :34896           2: 44     Median :22.00   Median :29.00  \n",
       " Mean   :34731           3:275     Mean   :25.59   Mean   :28.55  \n",
       " 3rd Qu.:37250           4:138     3rd Qu.:29.00   3rd Qu.:32.00  \n",
       " Max.   :39985           5:141     Max.   :65.00   Max.   :36.00  \n",
       "                                                                  \n",
       "      SATV            SATQ      \n",
       " Min.   :200.0   Min.   :200.0  \n",
       " 1st Qu.:550.0   1st Qu.:530.0  \n",
       " Median :620.0   Median :620.0  \n",
       " Mean   :612.2   Mean   :610.2  \n",
       " 3rd Qu.:700.0   3rd Qu.:700.0  \n",
       " Max.   :800.0   Max.   :800.0  \n",
       "                 NA's   :13     "
      ]
     },
     "metadata": {},
     "output_type": "display_data"
    }
   ],
   "source": [
    "summary(sat.dat)"
   ]
  },
  {
   "cell_type": "markdown",
   "id": "76f452da",
   "metadata": {},
   "source": [
    "# `filter`: Pick observations by their values\n",
    "\n",
    "This functions allows you to subset observations based on their values. The first argument is the name of the data frame. The second and subsequent arguments are the expressions that filter the data frame."
   ]
  },
  {
   "cell_type": "code",
   "execution_count": 37,
   "id": "d708d9db",
   "metadata": {},
   "outputs": [
    {
     "data": {
      "text/html": [
       "<ol class=list-inline>\n",
       "\t<li>247</li>\n",
       "\t<li>7</li>\n",
       "</ol>\n"
      ],
      "text/latex": [
       "\\begin{enumerate*}\n",
       "\\item 247\n",
       "\\item 7\n",
       "\\end{enumerate*}\n"
      ],
      "text/markdown": [
       "1. 247\n",
       "2. 7\n",
       "\n",
       "\n"
      ],
      "text/plain": [
       "[1] 247   7"
      ]
     },
     "metadata": {},
     "output_type": "display_data"
    }
   ],
   "source": [
    "# Filter data for gender = 1\n",
    "sat.dat.filter<-filter(sat.dat, gender == 1)\n",
    "\n",
    "dim(sat.dat.filter)"
   ]
  },
  {
   "cell_type": "code",
   "execution_count": 28,
   "id": "5d72b712",
   "metadata": {},
   "outputs": [
    {
     "data": {
      "text/html": [
       "<ol class=list-inline>\n",
       "\t<li>146</li>\n",
       "\t<li>7</li>\n",
       "</ol>\n"
      ],
      "text/latex": [
       "\\begin{enumerate*}\n",
       "\\item 146\n",
       "\\item 7\n",
       "\\end{enumerate*}\n"
      ],
      "text/markdown": [
       "1. 146\n",
       "2. 7\n",
       "\n",
       "\n"
      ],
      "text/plain": [
       "[1] 146   7"
      ]
     },
     "metadata": {},
     "output_type": "display_data"
    }
   ],
   "source": [
    "# Filter data for gender = 1 and age less than 25\n",
    "sat.dat.filter<-filter(sat.dat, gender == 1, age<25)\n",
    "dim(sat.dat.filter)"
   ]
  },
  {
   "cell_type": "code",
   "execution_count": 44,
   "id": "9dd91a01",
   "metadata": {},
   "outputs": [
    {
     "data": {
      "text/plain": [
       "       X         gender  education      age             ACT       \n",
       " Min.   :29503   1: 53   0:16      Min.   :15.00   Min.   :26.00  \n",
       " 1st Qu.:31413   2:134   1:12      1st Qu.:19.00   1st Qu.:27.00  \n",
       " Median :34356           2:12      Median :23.00   Median :28.00  \n",
       " Mean   :34323           3:67      Mean   :25.11   Mean   :27.55  \n",
       " 3rd Qu.:36680           4:40      3rd Qu.:28.00   3rd Qu.:28.00  \n",
       " Max.   :39937           5:40      Max.   :58.00   Max.   :29.00  \n",
       "                                                                  \n",
       "      SATV            SATQ      \n",
       " Min.   :400.0   Min.   :430.0  \n",
       " 1st Qu.:550.0   1st Qu.:532.5  \n",
       " Median :600.0   Median :600.0  \n",
       " Mean   :608.1   Mean   :599.8  \n",
       " 3rd Qu.:670.0   3rd Qu.:660.0  \n",
       " Max.   :800.0   Max.   :800.0  \n",
       "                 NA's   :5      "
      ]
     },
     "metadata": {},
     "output_type": "display_data"
    }
   ],
   "source": [
    "sat.dat.filter<-filter(sat.dat, (ACT > 25 & ACT < 30))\n",
    "summary(sat.dat.filter)"
   ]
  },
  {
   "cell_type": "markdown",
   "id": "ce88ce1e",
   "metadata": {},
   "source": [
    "# `arrange`: Reorder the rows\n",
    "\n",
    "This function takes a data frame, and a set of column names (or more complicated expressions) to order by (in ascending order by default). If more than one column name is provided, each additional column is used to break ties in the values of preceding columns."
   ]
  },
  {
   "cell_type": "code",
   "execution_count": 49,
   "id": "5c5ec278",
   "metadata": {},
   "outputs": [
    {
     "data": {
      "text/html": [
       "<table>\n",
       "<thead><tr><th scope=col>X</th><th scope=col>gender</th><th scope=col>education</th><th scope=col>age</th><th scope=col>ACT</th><th scope=col>SATV</th><th scope=col>SATQ</th></tr></thead>\n",
       "<tbody>\n",
       "\t<tr><td>36093</td><td>1    </td><td>2    </td><td>22   </td><td> 3   </td><td>200  </td><td>400  </td></tr>\n",
       "\t<tr><td>30591</td><td>2    </td><td>2    </td><td>27   </td><td>15   </td><td>375  </td><td>375  </td></tr>\n",
       "\t<tr><td>36906</td><td>2    </td><td>0    </td><td>18   </td><td>15   </td><td>470  </td><td>500  </td></tr>\n",
       "\t<tr><td>37398</td><td>1    </td><td>1    </td><td>17   </td><td>15   </td><td>600  </td><td>596  </td></tr>\n",
       "\t<tr><td>36763</td><td>1    </td><td>1    </td><td>23   </td><td>15   </td><td>600  </td><td>600  </td></tr>\n",
       "\t<tr><td>34578</td><td>2    </td><td>3    </td><td>18   </td><td>16   </td><td>430  </td><td>350  </td></tr>\n",
       "</tbody>\n",
       "</table>\n"
      ],
      "text/latex": [
       "\\begin{tabular}{r|lllllll}\n",
       " X & gender & education & age & ACT & SATV & SATQ\\\\\n",
       "\\hline\n",
       "\t 36093 & 1     & 2     & 22    &  3    & 200   & 400  \\\\\n",
       "\t 30591 & 2     & 2     & 27    & 15    & 375   & 375  \\\\\n",
       "\t 36906 & 2     & 0     & 18    & 15    & 470   & 500  \\\\\n",
       "\t 37398 & 1     & 1     & 17    & 15    & 600   & 596  \\\\\n",
       "\t 36763 & 1     & 1     & 23    & 15    & 600   & 600  \\\\\n",
       "\t 34578 & 2     & 3     & 18    & 16    & 430   & 350  \\\\\n",
       "\\end{tabular}\n"
      ],
      "text/markdown": [
       "\n",
       "| X | gender | education | age | ACT | SATV | SATQ |\n",
       "|---|---|---|---|---|---|---|\n",
       "| 36093 | 1     | 2     | 22    |  3    | 200   | 400   |\n",
       "| 30591 | 2     | 2     | 27    | 15    | 375   | 375   |\n",
       "| 36906 | 2     | 0     | 18    | 15    | 470   | 500   |\n",
       "| 37398 | 1     | 1     | 17    | 15    | 600   | 596   |\n",
       "| 36763 | 1     | 1     | 23    | 15    | 600   | 600   |\n",
       "| 34578 | 2     | 3     | 18    | 16    | 430   | 350   |\n",
       "\n"
      ],
      "text/plain": [
       "  X     gender education age ACT SATV SATQ\n",
       "1 36093 1      2         22   3  200  400 \n",
       "2 30591 2      2         27  15  375  375 \n",
       "3 36906 2      0         18  15  470  500 \n",
       "4 37398 1      1         17  15  600  596 \n",
       "5 36763 1      1         23  15  600  600 \n",
       "6 34578 2      3         18  16  430  350 "
      ]
     },
     "metadata": {},
     "output_type": "display_data"
    }
   ],
   "source": [
    "# This order \n",
    "sat.dat.arrange<-arrange(sat.dat, ACT, SATQ, SATV)\n",
    "head(sat.dat.arrange)"
   ]
  },
  {
   "cell_type": "markdown",
   "id": "31fce8b6",
   "metadata": {},
   "source": [
    "If we want to reorder in descending order, we can use the function `desc`:"
   ]
  },
  {
   "cell_type": "code",
   "execution_count": 50,
   "id": "78bb4fdb",
   "metadata": {},
   "outputs": [
    {
     "data": {
      "text/html": [
       "<table>\n",
       "<thead><tr><th scope=col>X</th><th scope=col>gender</th><th scope=col>education</th><th scope=col>age</th><th scope=col>ACT</th><th scope=col>SATV</th><th scope=col>SATQ</th></tr></thead>\n",
       "<tbody>\n",
       "\t<tr><td>31080</td><td>2    </td><td>4    </td><td>33   </td><td>36   </td><td>500  </td><td>500  </td></tr>\n",
       "\t<tr><td>29527</td><td>2    </td><td>5    </td><td>30   </td><td>36   </td><td>610  </td><td>500  </td></tr>\n",
       "\t<tr><td>33539</td><td>2    </td><td>3    </td><td>31   </td><td>36   </td><td>700  </td><td>500  </td></tr>\n",
       "\t<tr><td>32697</td><td>2    </td><td>2    </td><td>26   </td><td>36   </td><td>550  </td><td>555  </td></tr>\n",
       "\t<tr><td>30129</td><td>2    </td><td>5    </td><td>30   </td><td>36   </td><td>660  </td><td>610  </td></tr>\n",
       "\t<tr><td>39651</td><td>2    </td><td>4    </td><td>28   </td><td>36   </td><td>590  </td><td>620  </td></tr>\n",
       "</tbody>\n",
       "</table>\n"
      ],
      "text/latex": [
       "\\begin{tabular}{r|lllllll}\n",
       " X & gender & education & age & ACT & SATV & SATQ\\\\\n",
       "\\hline\n",
       "\t 31080 & 2     & 4     & 33    & 36    & 500   & 500  \\\\\n",
       "\t 29527 & 2     & 5     & 30    & 36    & 610   & 500  \\\\\n",
       "\t 33539 & 2     & 3     & 31    & 36    & 700   & 500  \\\\\n",
       "\t 32697 & 2     & 2     & 26    & 36    & 550   & 555  \\\\\n",
       "\t 30129 & 2     & 5     & 30    & 36    & 660   & 610  \\\\\n",
       "\t 39651 & 2     & 4     & 28    & 36    & 590   & 620  \\\\\n",
       "\\end{tabular}\n"
      ],
      "text/markdown": [
       "\n",
       "| X | gender | education | age | ACT | SATV | SATQ |\n",
       "|---|---|---|---|---|---|---|\n",
       "| 31080 | 2     | 4     | 33    | 36    | 500   | 500   |\n",
       "| 29527 | 2     | 5     | 30    | 36    | 610   | 500   |\n",
       "| 33539 | 2     | 3     | 31    | 36    | 700   | 500   |\n",
       "| 32697 | 2     | 2     | 26    | 36    | 550   | 555   |\n",
       "| 30129 | 2     | 5     | 30    | 36    | 660   | 610   |\n",
       "| 39651 | 2     | 4     | 28    | 36    | 590   | 620   |\n",
       "\n"
      ],
      "text/plain": [
       "  X     gender education age ACT SATV SATQ\n",
       "1 31080 2      4         33  36  500  500 \n",
       "2 29527 2      5         30  36  610  500 \n",
       "3 33539 2      3         31  36  700  500 \n",
       "4 32697 2      2         26  36  550  555 \n",
       "5 30129 2      5         30  36  660  610 \n",
       "6 39651 2      4         28  36  590  620 "
      ]
     },
     "metadata": {},
     "output_type": "display_data"
    }
   ],
   "source": [
    "sat.dat.arrange<-arrange(sat.dat, desc(ACT), SATQ, SATV)\n",
    "head(sat.dat.arrange)"
   ]
  },
  {
   "cell_type": "markdown",
   "id": "2fd0549c",
   "metadata": {},
   "source": [
    "# `select`: Pick variables by their names\n",
    "\n",
    "It allows you to pick a subset of variables"
   ]
  },
  {
   "cell_type": "code",
   "execution_count": 52,
   "id": "111402d5",
   "metadata": {},
   "outputs": [
    {
     "data": {
      "text/html": [
       "<table>\n",
       "<thead><tr><th scope=col>ACT</th><th scope=col>SATQ</th><th scope=col>SATV</th></tr></thead>\n",
       "<tbody>\n",
       "\t<tr><td>24 </td><td>500</td><td>500</td></tr>\n",
       "\t<tr><td>35 </td><td>500</td><td>600</td></tr>\n",
       "\t<tr><td>21 </td><td>470</td><td>480</td></tr>\n",
       "\t<tr><td>26 </td><td>520</td><td>550</td></tr>\n",
       "\t<tr><td>31 </td><td>550</td><td>600</td></tr>\n",
       "\t<tr><td>28 </td><td>640</td><td>640</td></tr>\n",
       "</tbody>\n",
       "</table>\n"
      ],
      "text/latex": [
       "\\begin{tabular}{r|lll}\n",
       " ACT & SATQ & SATV\\\\\n",
       "\\hline\n",
       "\t 24  & 500 & 500\\\\\n",
       "\t 35  & 500 & 600\\\\\n",
       "\t 21  & 470 & 480\\\\\n",
       "\t 26  & 520 & 550\\\\\n",
       "\t 31  & 550 & 600\\\\\n",
       "\t 28  & 640 & 640\\\\\n",
       "\\end{tabular}\n"
      ],
      "text/markdown": [
       "\n",
       "| ACT | SATQ | SATV |\n",
       "|---|---|---|\n",
       "| 24  | 500 | 500 |\n",
       "| 35  | 500 | 600 |\n",
       "| 21  | 470 | 480 |\n",
       "| 26  | 520 | 550 |\n",
       "| 31  | 550 | 600 |\n",
       "| 28  | 640 | 640 |\n",
       "\n"
      ],
      "text/plain": [
       "  ACT SATQ SATV\n",
       "1 24  500  500 \n",
       "2 35  500  600 \n",
       "3 21  470  480 \n",
       "4 26  520  550 \n",
       "5 31  550  600 \n",
       "6 28  640  640 "
      ]
     },
     "metadata": {},
     "output_type": "display_data"
    }
   ],
   "source": [
    "# This selects columns by the given names of the columns\n",
    "sat.dat.select<-select(sat.dat, ACT, SATQ, SATV)\n",
    "\n",
    "head(sat.dat.select)"
   ]
  },
  {
   "cell_type": "code",
   "execution_count": 53,
   "id": "047832aa",
   "metadata": {},
   "outputs": [
    {
     "data": {
      "text/html": [
       "<table>\n",
       "<thead><tr><th scope=col>gender</th><th scope=col>education</th><th scope=col>age</th><th scope=col>ACT</th></tr></thead>\n",
       "<tbody>\n",
       "\t<tr><td>2 </td><td>3 </td><td>19</td><td>24</td></tr>\n",
       "\t<tr><td>2 </td><td>3 </td><td>23</td><td>35</td></tr>\n",
       "\t<tr><td>2 </td><td>3 </td><td>20</td><td>21</td></tr>\n",
       "\t<tr><td>1 </td><td>4 </td><td>27</td><td>26</td></tr>\n",
       "\t<tr><td>1 </td><td>2 </td><td>33</td><td>31</td></tr>\n",
       "\t<tr><td>1 </td><td>5 </td><td>26</td><td>28</td></tr>\n",
       "</tbody>\n",
       "</table>\n"
      ],
      "text/latex": [
       "\\begin{tabular}{r|llll}\n",
       " gender & education & age & ACT\\\\\n",
       "\\hline\n",
       "\t 2  & 3  & 19 & 24\\\\\n",
       "\t 2  & 3  & 23 & 35\\\\\n",
       "\t 2  & 3  & 20 & 21\\\\\n",
       "\t 1  & 4  & 27 & 26\\\\\n",
       "\t 1  & 2  & 33 & 31\\\\\n",
       "\t 1  & 5  & 26 & 28\\\\\n",
       "\\end{tabular}\n"
      ],
      "text/markdown": [
       "\n",
       "| gender | education | age | ACT |\n",
       "|---|---|---|---|\n",
       "| 2  | 3  | 19 | 24 |\n",
       "| 2  | 3  | 23 | 35 |\n",
       "| 2  | 3  | 20 | 21 |\n",
       "| 1  | 4  | 27 | 26 |\n",
       "| 1  | 2  | 33 | 31 |\n",
       "| 1  | 5  | 26 | 28 |\n",
       "\n"
      ],
      "text/plain": [
       "  gender education age ACT\n",
       "1 2      3         19  24 \n",
       "2 2      3         23  35 \n",
       "3 2      3         20  21 \n",
       "4 1      4         27  26 \n",
       "5 1      2         33  31 \n",
       "6 1      5         26  28 "
      ]
     },
     "metadata": {},
     "output_type": "display_data"
    }
   ],
   "source": [
    "# This selects all columns between gender and ACT (inclusive)\n",
    "sat.dat.select<-select(sat.dat, gender:ACT)\n",
    "\n",
    "head(sat.dat.select)"
   ]
  },
  {
   "cell_type": "code",
   "execution_count": 54,
   "id": "4f454cc7",
   "metadata": {},
   "outputs": [
    {
     "data": {
      "text/html": [
       "<table>\n",
       "<thead><tr><th scope=col>X</th><th scope=col>SATV</th><th scope=col>SATQ</th></tr></thead>\n",
       "<tbody>\n",
       "\t<tr><td>29442</td><td>500  </td><td>500  </td></tr>\n",
       "\t<tr><td>29457</td><td>600  </td><td>500  </td></tr>\n",
       "\t<tr><td>29498</td><td>480  </td><td>470  </td></tr>\n",
       "\t<tr><td>29503</td><td>550  </td><td>520  </td></tr>\n",
       "\t<tr><td>29504</td><td>600  </td><td>550  </td></tr>\n",
       "\t<tr><td>29518</td><td>640  </td><td>640  </td></tr>\n",
       "</tbody>\n",
       "</table>\n"
      ],
      "text/latex": [
       "\\begin{tabular}{r|lll}\n",
       " X & SATV & SATQ\\\\\n",
       "\\hline\n",
       "\t 29442 & 500   & 500  \\\\\n",
       "\t 29457 & 600   & 500  \\\\\n",
       "\t 29498 & 480   & 470  \\\\\n",
       "\t 29503 & 550   & 520  \\\\\n",
       "\t 29504 & 600   & 550  \\\\\n",
       "\t 29518 & 640   & 640  \\\\\n",
       "\\end{tabular}\n"
      ],
      "text/markdown": [
       "\n",
       "| X | SATV | SATQ |\n",
       "|---|---|---|\n",
       "| 29442 | 500   | 500   |\n",
       "| 29457 | 600   | 500   |\n",
       "| 29498 | 480   | 470   |\n",
       "| 29503 | 550   | 520   |\n",
       "| 29504 | 600   | 550   |\n",
       "| 29518 | 640   | 640   |\n",
       "\n"
      ],
      "text/plain": [
       "  X     SATV SATQ\n",
       "1 29442 500  500 \n",
       "2 29457 600  500 \n",
       "3 29498 480  470 \n",
       "4 29503 550  520 \n",
       "5 29504 600  550 \n",
       "6 29518 640  640 "
      ]
     },
     "metadata": {},
     "output_type": "display_data"
    }
   ],
   "source": [
    "# This selects all columns byt those between gender and ACT (inclusive)\n",
    "sat.dat.select<-select(sat.dat, -(gender:ACT))\n",
    "\n",
    "head(sat.dat.select)"
   ]
  },
  {
   "cell_type": "markdown",
   "id": "9f5d8319",
   "metadata": {},
   "source": [
    "# `mutate`: Create new variables with functions of existing variables\n",
    "\n",
    "This functions allows you to add new columns. These are always added at the end of the data frame."
   ]
  },
  {
   "cell_type": "code",
   "execution_count": 57,
   "id": "23f841fa",
   "metadata": {},
   "outputs": [
    {
     "data": {
      "text/html": [
       "<table>\n",
       "<thead><tr><th scope=col>X</th><th scope=col>gender</th><th scope=col>education</th><th scope=col>age</th><th scope=col>ACT</th><th scope=col>SATV</th><th scope=col>SATQ</th><th scope=col>qvdiff</th></tr></thead>\n",
       "<tbody>\n",
       "\t<tr><td>29442</td><td>2    </td><td>3    </td><td>19   </td><td>24   </td><td>500  </td><td>500  </td><td>   0 </td></tr>\n",
       "\t<tr><td>29457</td><td>2    </td><td>3    </td><td>23   </td><td>35   </td><td>600  </td><td>500  </td><td>-100 </td></tr>\n",
       "\t<tr><td>29498</td><td>2    </td><td>3    </td><td>20   </td><td>21   </td><td>480  </td><td>470  </td><td> -10 </td></tr>\n",
       "\t<tr><td>29503</td><td>1    </td><td>4    </td><td>27   </td><td>26   </td><td>550  </td><td>520  </td><td> -30 </td></tr>\n",
       "\t<tr><td>29504</td><td>1    </td><td>2    </td><td>33   </td><td>31   </td><td>600  </td><td>550  </td><td> -50 </td></tr>\n",
       "\t<tr><td>29518</td><td>1    </td><td>5    </td><td>26   </td><td>28   </td><td>640  </td><td>640  </td><td>   0 </td></tr>\n",
       "</tbody>\n",
       "</table>\n"
      ],
      "text/latex": [
       "\\begin{tabular}{r|llllllll}\n",
       " X & gender & education & age & ACT & SATV & SATQ & qvdiff\\\\\n",
       "\\hline\n",
       "\t 29442 & 2     & 3     & 19    & 24    & 500   & 500   &    0 \\\\\n",
       "\t 29457 & 2     & 3     & 23    & 35    & 600   & 500   & -100 \\\\\n",
       "\t 29498 & 2     & 3     & 20    & 21    & 480   & 470   &  -10 \\\\\n",
       "\t 29503 & 1     & 4     & 27    & 26    & 550   & 520   &  -30 \\\\\n",
       "\t 29504 & 1     & 2     & 33    & 31    & 600   & 550   &  -50 \\\\\n",
       "\t 29518 & 1     & 5     & 26    & 28    & 640   & 640   &    0 \\\\\n",
       "\\end{tabular}\n"
      ],
      "text/markdown": [
       "\n",
       "| X | gender | education | age | ACT | SATV | SATQ | qvdiff |\n",
       "|---|---|---|---|---|---|---|---|\n",
       "| 29442 | 2     | 3     | 19    | 24    | 500   | 500   |    0  |\n",
       "| 29457 | 2     | 3     | 23    | 35    | 600   | 500   | -100  |\n",
       "| 29498 | 2     | 3     | 20    | 21    | 480   | 470   |  -10  |\n",
       "| 29503 | 1     | 4     | 27    | 26    | 550   | 520   |  -30  |\n",
       "| 29504 | 1     | 2     | 33    | 31    | 600   | 550   |  -50  |\n",
       "| 29518 | 1     | 5     | 26    | 28    | 640   | 640   |    0  |\n",
       "\n"
      ],
      "text/plain": [
       "  X     gender education age ACT SATV SATQ qvdiff\n",
       "1 29442 2      3         19  24  500  500     0  \n",
       "2 29457 2      3         23  35  600  500  -100  \n",
       "3 29498 2      3         20  21  480  470   -10  \n",
       "4 29503 1      4         27  26  550  520   -30  \n",
       "5 29504 1      2         33  31  600  550   -50  \n",
       "6 29518 1      5         26  28  640  640     0  "
      ]
     },
     "metadata": {},
     "output_type": "display_data"
    }
   ],
   "source": [
    "# This creates a new column with the difference between SATQ and SATV\n",
    "sat.dat.mutate<-mutate(sat.dat, qvdiff=SATQ-SATV)\n",
    "head(sat.dat.mutate)"
   ]
  },
  {
   "cell_type": "code",
   "execution_count": 59,
   "id": "02c20b0b",
   "metadata": {},
   "outputs": [
    {
     "data": {
      "text/html": [
       "<table>\n",
       "<thead><tr><th scope=col>X</th><th scope=col>gender</th><th scope=col>education</th><th scope=col>age</th><th scope=col>ACT</th><th scope=col>SATV</th><th scope=col>SATQ</th><th scope=col>qvdiff</th><th scope=col>absqvdiff</th></tr></thead>\n",
       "<tbody>\n",
       "\t<tr><td>29442</td><td>2    </td><td>3    </td><td>19   </td><td>24   </td><td>500  </td><td>500  </td><td>   0 </td><td>  0  </td></tr>\n",
       "\t<tr><td>29457</td><td>2    </td><td>3    </td><td>23   </td><td>35   </td><td>600  </td><td>500  </td><td>-100 </td><td>100  </td></tr>\n",
       "\t<tr><td>29498</td><td>2    </td><td>3    </td><td>20   </td><td>21   </td><td>480  </td><td>470  </td><td> -10 </td><td> 10  </td></tr>\n",
       "\t<tr><td>29503</td><td>1    </td><td>4    </td><td>27   </td><td>26   </td><td>550  </td><td>520  </td><td> -30 </td><td> 30  </td></tr>\n",
       "\t<tr><td>29504</td><td>1    </td><td>2    </td><td>33   </td><td>31   </td><td>600  </td><td>550  </td><td> -50 </td><td> 50  </td></tr>\n",
       "\t<tr><td>29518</td><td>1    </td><td>5    </td><td>26   </td><td>28   </td><td>640  </td><td>640  </td><td>   0 </td><td>  0  </td></tr>\n",
       "</tbody>\n",
       "</table>\n"
      ],
      "text/latex": [
       "\\begin{tabular}{r|lllllllll}\n",
       " X & gender & education & age & ACT & SATV & SATQ & qvdiff & absqvdiff\\\\\n",
       "\\hline\n",
       "\t 29442 & 2     & 3     & 19    & 24    & 500   & 500   &    0  &   0  \\\\\n",
       "\t 29457 & 2     & 3     & 23    & 35    & 600   & 500   & -100  & 100  \\\\\n",
       "\t 29498 & 2     & 3     & 20    & 21    & 480   & 470   &  -10  &  10  \\\\\n",
       "\t 29503 & 1     & 4     & 27    & 26    & 550   & 520   &  -30  &  30  \\\\\n",
       "\t 29504 & 1     & 2     & 33    & 31    & 600   & 550   &  -50  &  50  \\\\\n",
       "\t 29518 & 1     & 5     & 26    & 28    & 640   & 640   &    0  &   0  \\\\\n",
       "\\end{tabular}\n"
      ],
      "text/markdown": [
       "\n",
       "| X | gender | education | age | ACT | SATV | SATQ | qvdiff | absqvdiff |\n",
       "|---|---|---|---|---|---|---|---|---|\n",
       "| 29442 | 2     | 3     | 19    | 24    | 500   | 500   |    0  |   0   |\n",
       "| 29457 | 2     | 3     | 23    | 35    | 600   | 500   | -100  | 100   |\n",
       "| 29498 | 2     | 3     | 20    | 21    | 480   | 470   |  -10  |  10   |\n",
       "| 29503 | 1     | 4     | 27    | 26    | 550   | 520   |  -30  |  30   |\n",
       "| 29504 | 1     | 2     | 33    | 31    | 600   | 550   |  -50  |  50   |\n",
       "| 29518 | 1     | 5     | 26    | 28    | 640   | 640   |    0  |   0   |\n",
       "\n"
      ],
      "text/plain": [
       "  X     gender education age ACT SATV SATQ qvdiff absqvdiff\n",
       "1 29442 2      3         19  24  500  500     0     0      \n",
       "2 29457 2      3         23  35  600  500  -100   100      \n",
       "3 29498 2      3         20  21  480  470   -10    10      \n",
       "4 29503 1      4         27  26  550  520   -30    30      \n",
       "5 29504 1      2         33  31  600  550   -50    50      \n",
       "6 29518 1      5         26  28  640  640     0     0      "
      ]
     },
     "metadata": {},
     "output_type": "display_data"
    }
   ],
   "source": [
    "# We can always use a new preceding column to define a new column\n",
    "sat.dat.mutate<-mutate(sat.dat, qvdiff=SATQ-SATV, absqvdiff=abs(qvdiff))\n",
    "head(sat.dat.mutate)"
   ]
  },
  {
   "cell_type": "code",
   "execution_count": 63,
   "id": "9a293c3d",
   "metadata": {},
   "outputs": [
    {
     "ename": "ERROR",
     "evalue": "Error: object 'qvdiff' not found\n",
     "output_type": "error",
     "traceback": [
      "Error: object 'qvdiff' not found\nTraceback:\n",
      "1. mutate(sat.dat, absqvdiff = abs(qvdiff), qvdiff = SATQ - SATV)",
      "2. mutate.data.frame(sat.dat, absqvdiff = abs(qvdiff), qvdiff = SATQ - \n .     SATV)",
      "3. as.data.frame(mutate(tbl_df(.data), ...))",
      "4. mutate(tbl_df(.data), ...)",
      "5. mutate.tbl_df(tbl_df(.data), ...)",
      "6. mutate_impl(.data, dots, caller_env())"
     ]
    }
   ],
   "source": [
    "# Obviously, this is going to giv an error because we are trying to use qvdiff before it was created\n",
    "sat.dat.mutate<-mutate(sat.dat,absqvdiff=abs(qvdiff),  qvdiff=SATQ-SATV)\n",
    "head(sat.dat.mutate)"
   ]
  },
  {
   "cell_type": "markdown",
   "id": "0509424a",
   "metadata": {},
   "source": [
    "If we wanted to define a data frame with just the new columns, we can use `transmute` function:"
   ]
  },
  {
   "cell_type": "code",
   "execution_count": 64,
   "id": "ad128811",
   "metadata": {},
   "outputs": [
    {
     "data": {
      "text/html": [
       "<table>\n",
       "<thead><tr><th scope=col>qvdiff</th><th scope=col>absqvdiff</th></tr></thead>\n",
       "<tbody>\n",
       "\t<tr><td>   0</td><td>  0 </td></tr>\n",
       "\t<tr><td>-100</td><td>100 </td></tr>\n",
       "\t<tr><td> -10</td><td> 10 </td></tr>\n",
       "\t<tr><td> -30</td><td> 30 </td></tr>\n",
       "\t<tr><td> -50</td><td> 50 </td></tr>\n",
       "\t<tr><td>   0</td><td>  0 </td></tr>\n",
       "</tbody>\n",
       "</table>\n"
      ],
      "text/latex": [
       "\\begin{tabular}{r|ll}\n",
       " qvdiff & absqvdiff\\\\\n",
       "\\hline\n",
       "\t    0 &   0 \\\\\n",
       "\t -100 & 100 \\\\\n",
       "\t  -10 &  10 \\\\\n",
       "\t  -30 &  30 \\\\\n",
       "\t  -50 &  50 \\\\\n",
       "\t    0 &   0 \\\\\n",
       "\\end{tabular}\n"
      ],
      "text/markdown": [
       "\n",
       "| qvdiff | absqvdiff |\n",
       "|---|---|\n",
       "|    0 |   0  |\n",
       "| -100 | 100  |\n",
       "|  -10 |  10  |\n",
       "|  -30 |  30  |\n",
       "|  -50 |  50  |\n",
       "|    0 |   0  |\n",
       "\n"
      ],
      "text/plain": [
       "  qvdiff absqvdiff\n",
       "1    0     0      \n",
       "2 -100   100      \n",
       "3  -10    10      \n",
       "4  -30    30      \n",
       "5  -50    50      \n",
       "6    0     0      "
      ]
     },
     "metadata": {},
     "output_type": "display_data"
    }
   ],
   "source": [
    "# We can always use a new preceding column to define a new column\n",
    "sat.dat.transmute<-transmute(sat.dat, qvdiff=SATQ-SATV, absqvdiff=abs(qvdiff))\n",
    "head(sat.dat.transmute)"
   ]
  },
  {
   "cell_type": "markdown",
   "id": "5f9099de",
   "metadata": {},
   "source": [
    "# `summarize`: Collapse many values down to a single summary\n",
    "\n",
    "This functions collapses a data frame to a single row"
   ]
  },
  {
   "cell_type": "code",
   "execution_count": 65,
   "id": "b43a2b4f",
   "metadata": {},
   "outputs": [
    {
     "data": {
      "text/html": [
       "<table>\n",
       "<thead><tr><th scope=col>mean.act</th></tr></thead>\n",
       "<tbody>\n",
       "\t<tr><td>28.54714</td></tr>\n",
       "</tbody>\n",
       "</table>\n"
      ],
      "text/latex": [
       "\\begin{tabular}{r|l}\n",
       " mean.act\\\\\n",
       "\\hline\n",
       "\t 28.54714\\\\\n",
       "\\end{tabular}\n"
      ],
      "text/markdown": [
       "\n",
       "| mean.act |\n",
       "|---|\n",
       "| 28.54714 |\n",
       "\n"
      ],
      "text/plain": [
       "  mean.act\n",
       "1 28.54714"
      ]
     },
     "metadata": {},
     "output_type": "display_data"
    }
   ],
   "source": [
    "summarize(sat.dat, mean.act = mean(ACT))"
   ]
  },
  {
   "cell_type": "markdown",
   "id": "e04ce731",
   "metadata": {},
   "source": [
    "Ok, so this is not very useful, right? It gets so though if we combine it with `group_by` from **tidyverse** as well."
   ]
  },
  {
   "cell_type": "code",
   "execution_count": 68,
   "id": "99bbf3d5",
   "metadata": {},
   "outputs": [
    {
     "data": {
      "text/html": [
       "<table>\n",
       "<thead><tr><th scope=col>gender</th><th scope=col>mean.act</th></tr></thead>\n",
       "<tbody>\n",
       "\t<tr><td>1       </td><td>28.78543</td></tr>\n",
       "\t<tr><td>2       </td><td>28.41722</td></tr>\n",
       "</tbody>\n",
       "</table>\n"
      ],
      "text/latex": [
       "\\begin{tabular}{r|ll}\n",
       " gender & mean.act\\\\\n",
       "\\hline\n",
       "\t 1        & 28.78543\\\\\n",
       "\t 2        & 28.41722\\\\\n",
       "\\end{tabular}\n"
      ],
      "text/markdown": [
       "\n",
       "| gender | mean.act |\n",
       "|---|---|\n",
       "| 1        | 28.78543 |\n",
       "| 2        | 28.41722 |\n",
       "\n"
      ],
      "text/plain": [
       "  gender mean.act\n",
       "1 1      28.78543\n",
       "2 2      28.41722"
      ]
     },
     "metadata": {},
     "output_type": "display_data"
    }
   ],
   "source": [
    "# This first groups by gender and then calculates the mean ACT within each category\n",
    "by_gender <- group_by(sat.dat, gender)\n",
    "summarize(by_gender, mean.act = mean(ACT))"
   ]
  },
  {
   "cell_type": "code",
   "execution_count": 69,
   "id": "ff8ef275",
   "metadata": {},
   "outputs": [
    {
     "data": {
      "text/html": [
       "<table>\n",
       "<thead><tr><th scope=col>gender</th><th scope=col>education</th><th scope=col>mean.act</th></tr></thead>\n",
       "<tbody>\n",
       "\t<tr><td>1       </td><td>0       </td><td>29.03704</td></tr>\n",
       "\t<tr><td>1       </td><td>1       </td><td>26.70000</td></tr>\n",
       "\t<tr><td>1       </td><td>2       </td><td>26.65217</td></tr>\n",
       "\t<tr><td>1       </td><td>3       </td><td>28.56250</td></tr>\n",
       "\t<tr><td>1       </td><td>4       </td><td>28.94118</td></tr>\n",
       "\t<tr><td>1       </td><td>5       </td><td>30.82609</td></tr>\n",
       "\t<tr><td>2       </td><td>0       </td><td>26.06667</td></tr>\n",
       "\t<tr><td>2       </td><td>1       </td><td>28.12000</td></tr>\n",
       "\t<tr><td>2       </td><td>2       </td><td>27.33333</td></tr>\n",
       "\t<tr><td>2       </td><td>3       </td><td>28.18462</td></tr>\n",
       "\t<tr><td>2       </td><td>4       </td><td>29.44828</td></tr>\n",
       "\t<tr><td>2       </td><td>5       </td><td>29.01053</td></tr>\n",
       "</tbody>\n",
       "</table>\n"
      ],
      "text/latex": [
       "\\begin{tabular}{r|lll}\n",
       " gender & education & mean.act\\\\\n",
       "\\hline\n",
       "\t 1        & 0        & 29.03704\\\\\n",
       "\t 1        & 1        & 26.70000\\\\\n",
       "\t 1        & 2        & 26.65217\\\\\n",
       "\t 1        & 3        & 28.56250\\\\\n",
       "\t 1        & 4        & 28.94118\\\\\n",
       "\t 1        & 5        & 30.82609\\\\\n",
       "\t 2        & 0        & 26.06667\\\\\n",
       "\t 2        & 1        & 28.12000\\\\\n",
       "\t 2        & 2        & 27.33333\\\\\n",
       "\t 2        & 3        & 28.18462\\\\\n",
       "\t 2        & 4        & 29.44828\\\\\n",
       "\t 2        & 5        & 29.01053\\\\\n",
       "\\end{tabular}\n"
      ],
      "text/markdown": [
       "\n",
       "| gender | education | mean.act |\n",
       "|---|---|---|\n",
       "| 1        | 0        | 29.03704 |\n",
       "| 1        | 1        | 26.70000 |\n",
       "| 1        | 2        | 26.65217 |\n",
       "| 1        | 3        | 28.56250 |\n",
       "| 1        | 4        | 28.94118 |\n",
       "| 1        | 5        | 30.82609 |\n",
       "| 2        | 0        | 26.06667 |\n",
       "| 2        | 1        | 28.12000 |\n",
       "| 2        | 2        | 27.33333 |\n",
       "| 2        | 3        | 28.18462 |\n",
       "| 2        | 4        | 29.44828 |\n",
       "| 2        | 5        | 29.01053 |\n",
       "\n"
      ],
      "text/plain": [
       "   gender education mean.act\n",
       "1  1      0         29.03704\n",
       "2  1      1         26.70000\n",
       "3  1      2         26.65217\n",
       "4  1      3         28.56250\n",
       "5  1      4         28.94118\n",
       "6  1      5         30.82609\n",
       "7  2      0         26.06667\n",
       "8  2      1         28.12000\n",
       "9  2      2         27.33333\n",
       "10 2      3         28.18462\n",
       "11 2      4         29.44828\n",
       "12 2      5         29.01053"
      ]
     },
     "metadata": {},
     "output_type": "display_data"
    }
   ],
   "source": [
    "# This first groups by gender and education and then calculates the mean ACT within each combined category\n",
    "by_gender <- group_by(sat.dat, gender, education)\n",
    "summarize(by_gender, mean.act = mean(ACT))"
   ]
  },
  {
   "cell_type": "markdown",
   "id": "adf63282",
   "metadata": {},
   "source": [
    "# The pipe (%>%) operator \n",
    "\n",
    "Ok, so what the fuss about all this if, in the end, most of what we've seen can be done without having to use any of the above functions. For example:"
   ]
  },
  {
   "cell_type": "code",
   "execution_count": 74,
   "id": "dbc7bc9b",
   "metadata": {},
   "outputs": [
    {
     "data": {
      "text/html": [
       "<table>\n",
       "<thead><tr><th></th><th scope=col>X</th><th scope=col>gender</th><th scope=col>education</th><th scope=col>age</th><th scope=col>ACT</th><th scope=col>SATV</th><th scope=col>SATQ</th></tr></thead>\n",
       "<tbody>\n",
       "\t<tr><th scope=row>4</th><td>29503</td><td>1    </td><td>4    </td><td>27   </td><td>26   </td><td>550  </td><td>520  </td></tr>\n",
       "\t<tr><th scope=row>5</th><td>29504</td><td>1    </td><td>2    </td><td>33   </td><td>31   </td><td>600  </td><td>550  </td></tr>\n",
       "\t<tr><th scope=row>6</th><td>29518</td><td>1    </td><td>5    </td><td>26   </td><td>28   </td><td>640  </td><td>640  </td></tr>\n",
       "\t<tr><th scope=row>8</th><td>29529</td><td>1    </td><td>3    </td><td>19   </td><td>22   </td><td>520  </td><td>560  </td></tr>\n",
       "\t<tr><th scope=row>11</th><td>29578</td><td>1    </td><td>3    </td><td>23   </td><td>32   </td><td>760  </td><td>710  </td></tr>\n",
       "\t<tr><th scope=row>13</th><td>29617</td><td>1    </td><td>4    </td><td>32   </td><td>21   </td><td>600  </td><td>600  </td></tr>\n",
       "</tbody>\n",
       "</table>\n"
      ],
      "text/latex": [
       "\\begin{tabular}{r|lllllll}\n",
       "  & X & gender & education & age & ACT & SATV & SATQ\\\\\n",
       "\\hline\n",
       "\t4 & 29503 & 1     & 4     & 27    & 26    & 550   & 520  \\\\\n",
       "\t5 & 29504 & 1     & 2     & 33    & 31    & 600   & 550  \\\\\n",
       "\t6 & 29518 & 1     & 5     & 26    & 28    & 640   & 640  \\\\\n",
       "\t8 & 29529 & 1     & 3     & 19    & 22    & 520   & 560  \\\\\n",
       "\t11 & 29578 & 1     & 3     & 23    & 32    & 760   & 710  \\\\\n",
       "\t13 & 29617 & 1     & 4     & 32    & 21    & 600   & 600  \\\\\n",
       "\\end{tabular}\n"
      ],
      "text/markdown": [
       "\n",
       "| <!--/--> | X | gender | education | age | ACT | SATV | SATQ |\n",
       "|---|---|---|---|---|---|---|---|\n",
       "| 4 | 29503 | 1     | 4     | 27    | 26    | 550   | 520   |\n",
       "| 5 | 29504 | 1     | 2     | 33    | 31    | 600   | 550   |\n",
       "| 6 | 29518 | 1     | 5     | 26    | 28    | 640   | 640   |\n",
       "| 8 | 29529 | 1     | 3     | 19    | 22    | 520   | 560   |\n",
       "| 11 | 29578 | 1     | 3     | 23    | 32    | 760   | 710   |\n",
       "| 13 | 29617 | 1     | 4     | 32    | 21    | 600   | 600   |\n",
       "\n"
      ],
      "text/plain": [
       "   X     gender education age ACT SATV SATQ\n",
       "4  29503 1      4         27  26  550  520 \n",
       "5  29504 1      2         33  31  600  550 \n",
       "6  29518 1      5         26  28  640  640 \n",
       "8  29529 1      3         19  22  520  560 \n",
       "11 29578 1      3         23  32  760  710 \n",
       "13 29617 1      4         32  21  600  600 "
      ]
     },
     "metadata": {},
     "output_type": "display_data"
    }
   ],
   "source": [
    "head(sat.dat[sat.dat$gender==1,])"
   ]
  },
  {
   "cell_type": "code",
   "execution_count": 75,
   "id": "28d7c46d",
   "metadata": {},
   "outputs": [
    {
     "data": {
      "text/html": [
       "<table>\n",
       "<thead><tr><th scope=col>X</th><th scope=col>gender</th><th scope=col>education</th><th scope=col>age</th><th scope=col>ACT</th><th scope=col>SATV</th><th scope=col>SATQ</th><th scope=col>qvdiff</th></tr></thead>\n",
       "<tbody>\n",
       "\t<tr><td>29442</td><td>2    </td><td>3    </td><td>19   </td><td>24   </td><td>500  </td><td>500  </td><td>   0 </td></tr>\n",
       "\t<tr><td>29457</td><td>2    </td><td>3    </td><td>23   </td><td>35   </td><td>600  </td><td>500  </td><td>-100 </td></tr>\n",
       "\t<tr><td>29498</td><td>2    </td><td>3    </td><td>20   </td><td>21   </td><td>480  </td><td>470  </td><td> -10 </td></tr>\n",
       "\t<tr><td>29503</td><td>1    </td><td>4    </td><td>27   </td><td>26   </td><td>550  </td><td>520  </td><td> -30 </td></tr>\n",
       "\t<tr><td>29504</td><td>1    </td><td>2    </td><td>33   </td><td>31   </td><td>600  </td><td>550  </td><td> -50 </td></tr>\n",
       "\t<tr><td>29518</td><td>1    </td><td>5    </td><td>26   </td><td>28   </td><td>640  </td><td>640  </td><td>   0 </td></tr>\n",
       "</tbody>\n",
       "</table>\n"
      ],
      "text/latex": [
       "\\begin{tabular}{r|llllllll}\n",
       " X & gender & education & age & ACT & SATV & SATQ & qvdiff\\\\\n",
       "\\hline\n",
       "\t 29442 & 2     & 3     & 19    & 24    & 500   & 500   &    0 \\\\\n",
       "\t 29457 & 2     & 3     & 23    & 35    & 600   & 500   & -100 \\\\\n",
       "\t 29498 & 2     & 3     & 20    & 21    & 480   & 470   &  -10 \\\\\n",
       "\t 29503 & 1     & 4     & 27    & 26    & 550   & 520   &  -30 \\\\\n",
       "\t 29504 & 1     & 2     & 33    & 31    & 600   & 550   &  -50 \\\\\n",
       "\t 29518 & 1     & 5     & 26    & 28    & 640   & 640   &    0 \\\\\n",
       "\\end{tabular}\n"
      ],
      "text/markdown": [
       "\n",
       "| X | gender | education | age | ACT | SATV | SATQ | qvdiff |\n",
       "|---|---|---|---|---|---|---|---|\n",
       "| 29442 | 2     | 3     | 19    | 24    | 500   | 500   |    0  |\n",
       "| 29457 | 2     | 3     | 23    | 35    | 600   | 500   | -100  |\n",
       "| 29498 | 2     | 3     | 20    | 21    | 480   | 470   |  -10  |\n",
       "| 29503 | 1     | 4     | 27    | 26    | 550   | 520   |  -30  |\n",
       "| 29504 | 1     | 2     | 33    | 31    | 600   | 550   |  -50  |\n",
       "| 29518 | 1     | 5     | 26    | 28    | 640   | 640   |    0  |\n",
       "\n"
      ],
      "text/plain": [
       "  X     gender education age ACT SATV SATQ qvdiff\n",
       "1 29442 2      3         19  24  500  500     0  \n",
       "2 29457 2      3         23  35  600  500  -100  \n",
       "3 29498 2      3         20  21  480  470   -10  \n",
       "4 29503 1      4         27  26  550  520   -30  \n",
       "5 29504 1      2         33  31  600  550   -50  \n",
       "6 29518 1      5         26  28  640  640     0  "
      ]
     },
     "metadata": {},
     "output_type": "display_data"
    }
   ],
   "source": [
    "new.sat.dat<-sat.dat\n",
    "new.sat.dat$qvdiff<-new.sat.dat$SATQ - new.sat.dat$SATV\n",
    "\n",
    "head(new.sat.dat)"
   ]
  },
  {
   "cell_type": "markdown",
   "id": "a5f1179c",
   "metadata": {},
   "source": [
    "Apart from the user-friendly sintax of these **dplyr** functions, imagine that you would want to apply many transformation steps to your data frame. One way would to save intermediate objects or nest functions. For example:"
   ]
  },
  {
   "cell_type": "code",
   "execution_count": 90,
   "id": "3809c1db",
   "metadata": {},
   "outputs": [
    {
     "data": {
      "text/html": [
       "<table>\n",
       "<thead><tr><th scope=col>mean.act</th></tr></thead>\n",
       "<tbody>\n",
       "\t<tr><td>20.51429</td></tr>\n",
       "</tbody>\n",
       "</table>\n"
      ],
      "text/latex": [
       "\\begin{tabular}{r|l}\n",
       " mean.act\\\\\n",
       "\\hline\n",
       "\t 20.51429\\\\\n",
       "\\end{tabular}\n"
      ],
      "text/markdown": [
       "\n",
       "| mean.act |\n",
       "|---|\n",
       "| 20.51429 |\n",
       "\n"
      ],
      "text/plain": [
       "  mean.act\n",
       "1 20.51429"
      ]
     },
     "metadata": {},
     "output_type": "display_data"
    }
   ],
   "source": [
    "# Nesting functions, this selects observations for gender 1, then creates a new variable and finally computes its mean  \n",
    "summarize(mutate(filter(sat.dat, sat.dat$gender==1), qvdiff=SATQ-SATV), mean.act = mean(qvdiff, na.rm = TRUE))"
   ]
  },
  {
   "cell_type": "code",
   "execution_count": 91,
   "id": "23e9057f",
   "metadata": {},
   "outputs": [
    {
     "data": {
      "text/html": [
       "<table>\n",
       "<thead><tr><th></th><th scope=col>X</th><th scope=col>gender</th><th scope=col>education</th><th scope=col>age</th><th scope=col>ACT</th><th scope=col>SATV</th><th scope=col>SATQ</th><th scope=col>qvdiff</th></tr></thead>\n",
       "<tbody>\n",
       "\t<tr><th scope=row>4</th><td>29503</td><td>1    </td><td>4    </td><td>27   </td><td>26   </td><td>550  </td><td>520  </td><td>-30  </td></tr>\n",
       "\t<tr><th scope=row>5</th><td>29504</td><td>1    </td><td>2    </td><td>33   </td><td>31   </td><td>600  </td><td>550  </td><td>-50  </td></tr>\n",
       "\t<tr><th scope=row>6</th><td>29518</td><td>1    </td><td>5    </td><td>26   </td><td>28   </td><td>640  </td><td>640  </td><td>  0  </td></tr>\n",
       "\t<tr><th scope=row>8</th><td>29529</td><td>1    </td><td>3    </td><td>19   </td><td>22   </td><td>520  </td><td>560  </td><td> 40  </td></tr>\n",
       "\t<tr><th scope=row>11</th><td>29578</td><td>1    </td><td>3    </td><td>23   </td><td>32   </td><td>760  </td><td>710  </td><td>-50  </td></tr>\n",
       "\t<tr><th scope=row>13</th><td>29617</td><td>1    </td><td>4    </td><td>32   </td><td>21   </td><td>600  </td><td>600  </td><td>  0  </td></tr>\n",
       "</tbody>\n",
       "</table>\n"
      ],
      "text/latex": [
       "\\begin{tabular}{r|llllllll}\n",
       "  & X & gender & education & age & ACT & SATV & SATQ & qvdiff\\\\\n",
       "\\hline\n",
       "\t4 & 29503 & 1     & 4     & 27    & 26    & 550   & 520   & -30  \\\\\n",
       "\t5 & 29504 & 1     & 2     & 33    & 31    & 600   & 550   & -50  \\\\\n",
       "\t6 & 29518 & 1     & 5     & 26    & 28    & 640   & 640   &   0  \\\\\n",
       "\t8 & 29529 & 1     & 3     & 19    & 22    & 520   & 560   &  40  \\\\\n",
       "\t11 & 29578 & 1     & 3     & 23    & 32    & 760   & 710   & -50  \\\\\n",
       "\t13 & 29617 & 1     & 4     & 32    & 21    & 600   & 600   &   0  \\\\\n",
       "\\end{tabular}\n"
      ],
      "text/markdown": [
       "\n",
       "| <!--/--> | X | gender | education | age | ACT | SATV | SATQ | qvdiff |\n",
       "|---|---|---|---|---|---|---|---|---|\n",
       "| 4 | 29503 | 1     | 4     | 27    | 26    | 550   | 520   | -30   |\n",
       "| 5 | 29504 | 1     | 2     | 33    | 31    | 600   | 550   | -50   |\n",
       "| 6 | 29518 | 1     | 5     | 26    | 28    | 640   | 640   |   0   |\n",
       "| 8 | 29529 | 1     | 3     | 19    | 22    | 520   | 560   |  40   |\n",
       "| 11 | 29578 | 1     | 3     | 23    | 32    | 760   | 710   | -50   |\n",
       "| 13 | 29617 | 1     | 4     | 32    | 21    | 600   | 600   |   0   |\n",
       "\n"
      ],
      "text/plain": [
       "   X     gender education age ACT SATV SATQ qvdiff\n",
       "4  29503 1      4         27  26  550  520  -30   \n",
       "5  29504 1      2         33  31  600  550  -50   \n",
       "6  29518 1      5         26  28  640  640    0   \n",
       "8  29529 1      3         19  22  520  560   40   \n",
       "11 29578 1      3         23  32  760  710  -50   \n",
       "13 29617 1      4         32  21  600  600    0   "
      ]
     },
     "metadata": {},
     "output_type": "display_data"
    },
    {
     "data": {
      "text/html": [
       "20.5142857142857"
      ],
      "text/latex": [
       "20.5142857142857"
      ],
      "text/markdown": [
       "20.5142857142857"
      ],
      "text/plain": [
       "[1] 20.51429"
      ]
     },
     "metadata": {},
     "output_type": "display_data"
    }
   ],
   "source": [
    "#Saving intermediate results, this selects observations for gender 1, then create a new variable and finally computes its mean\n",
    "sat.dat.subset<-sat.dat[sat.dat$gender==1,]\n",
    "sat.dat.subset$qvdiff<-sat.dat.subset$SATQ - sat.dat.subset$SATV\n",
    "\n",
    "head(sat.dat.subset)\n",
    "mean(sat.dat.subset$qvdiff, na.rm = TRUE)"
   ]
  },
  {
   "cell_type": "markdown",
   "id": "6b9a2bce",
   "metadata": {},
   "source": [
    "Now is when the  %>% fromm **tidyverse** brings it magic, since it allows you to apply multiple operations from left-to-right, top-to-bottom (i.e. it is read as “then”)."
   ]
  },
  {
   "cell_type": "code",
   "execution_count": 93,
   "id": "d0d94d1d",
   "metadata": {},
   "outputs": [
    {
     "data": {
      "text/html": [
       "<table>\n",
       "<thead><tr><th scope=col>mean.act</th></tr></thead>\n",
       "<tbody>\n",
       "\t<tr><td>20.51429</td></tr>\n",
       "</tbody>\n",
       "</table>\n"
      ],
      "text/latex": [
       "\\begin{tabular}{r|l}\n",
       " mean.act\\\\\n",
       "\\hline\n",
       "\t 20.51429\\\\\n",
       "\\end{tabular}\n"
      ],
      "text/markdown": [
       "\n",
       "| mean.act |\n",
       "|---|\n",
       "| 20.51429 |\n",
       "\n"
      ],
      "text/plain": [
       "  mean.act\n",
       "1 20.51429"
      ]
     },
     "metadata": {},
     "output_type": "display_data"
    }
   ],
   "source": [
    "sat.dat %>% \n",
    "filter(sat.dat$gender==1) %>%\n",
    "mutate(qvdiff=SATQ-SATV) %>%\n",
    "summarize(mean.act = mean(qvdiff, na.rm = TRUE))"
   ]
  },
  {
   "cell_type": "markdown",
   "id": "e90eef5d",
   "metadata": {},
   "source": [
    "This considerably improves the readability of code. It's pretty cool, right?"
   ]
  },
  {
   "cell_type": "code",
   "execution_count": null,
   "id": "62508a0e",
   "metadata": {},
   "outputs": [],
   "source": [
    "sat.dat %>% \n",
    "        summarize(mu = mean(ACT), \n",
    "        pop_med = median(ACT), \n",
    "        sigma = sd(ACT), \n",
    "        pop_iqr = IQR(ACT),\n",
    "        pop_min = min(ACT), \n",
    "        pop_max = max(ACT),\n",
    "        pop_q1 = quantile(ACT, 0.25),  # first quartile, 25th percentile\n",
    "        pop_q3 = quantile(ACT, 0.75))  # third quartile, 75th percentile)"
   ]
  }
 ],
 "metadata": {
  "kernelspec": {
   "display_name": "R",
   "language": "R",
   "name": "ir"
  },
  "language_info": {
   "codemirror_mode": "r",
   "file_extension": ".r",
   "mimetype": "text/x-r-source",
   "name": "R",
   "pygments_lexer": "r",
   "version": "3.6.3"
  }
 },
 "nbformat": 4,
 "nbformat_minor": 5
}
