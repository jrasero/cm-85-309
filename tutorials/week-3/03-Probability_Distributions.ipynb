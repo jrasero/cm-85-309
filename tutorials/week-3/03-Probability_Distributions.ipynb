{
 "cells": [
  {
   "cell_type": "markdown",
   "metadata": {},
   "source": [
    "In this brief tutorial, we are going to see how to make use of the different probability distributions in R.\n",
    "\n",
    "There is one simple rule here, that no matter what distribution we’re talking about, there will ALWAYS be a *d* function, a *p* function, a *q* function and a *r* function, each representing the following:\n",
    "\n",
    "- *d*: **probability density**, i.e. the probability of obtaining a particular outcome under that distribution.\n",
    "- *p*: **cumulative probability function**. Here one specifies a particular quantile, and it tells you the probability of obtaining an outcome smaller than or equal to that quantile.\n",
    "- *r*: **random number generation**. It generates n random outcomes from the distribution.\n",
    "- *q*: **quantile**. One specifies a probability value, and gives the value of the variable for which there’s a probability of obtaining an outcome lower than that value.\n",
    "\n",
    "We'll understand all these better now with several examples, which you guys will complete in class."
   ]
  },
  {
   "cell_type": "markdown",
   "metadata": {},
   "source": [
    "# Binomial Distribution\n",
    "\n",
    "The binomial distribution models the distribution of the number of sucesses of a given outcome after a certain number of trials.\n",
    "\n",
    "In R, for this distribution we will have:\n",
    "\n",
    "- `dbinom` \n",
    "- `pbinom`\n",
    "- `rbinom`\n",
    "- `qbinom`"
   ]
  },
  {
   "cell_type": "code",
   "execution_count": 1,
   "metadata": {},
   "outputs": [
    {
     "data": {
      "text/html": [
       "<pre class=language-r><code>function (x, size, prob, log = FALSE) \n",
       "NULL</code></pre>"
      ],
      "text/latex": [
       "\\begin{minted}{r}\n",
       "function (x, size, prob, log = FALSE) \n",
       "NULL\n",
       "\\end{minted}"
      ],
      "text/markdown": [
       "```r\n",
       "function (x, size, prob, log = FALSE) \n",
       "NULL\n",
       "```"
      ],
      "text/plain": [
       "function (x, size, prob, log = FALSE) \n",
       "NULL"
      ]
     },
     "metadata": {},
     "output_type": "display_data"
    },
    {
     "data": {
      "text/html": [
       "<pre class=language-r><code>function (q, size, prob, lower.tail = TRUE, log.p = FALSE) \n",
       "NULL</code></pre>"
      ],
      "text/latex": [
       "\\begin{minted}{r}\n",
       "function (q, size, prob, lower.tail = TRUE, log.p = FALSE) \n",
       "NULL\n",
       "\\end{minted}"
      ],
      "text/markdown": [
       "```r\n",
       "function (q, size, prob, lower.tail = TRUE, log.p = FALSE) \n",
       "NULL\n",
       "```"
      ],
      "text/plain": [
       "function (q, size, prob, lower.tail = TRUE, log.p = FALSE) \n",
       "NULL"
      ]
     },
     "metadata": {},
     "output_type": "display_data"
    },
    {
     "data": {
      "text/html": [
       "<pre class=language-r><code>function (n, size, prob) \n",
       "NULL</code></pre>"
      ],
      "text/latex": [
       "\\begin{minted}{r}\n",
       "function (n, size, prob) \n",
       "NULL\n",
       "\\end{minted}"
      ],
      "text/markdown": [
       "```r\n",
       "function (n, size, prob) \n",
       "NULL\n",
       "```"
      ],
      "text/plain": [
       "function (n, size, prob) \n",
       "NULL"
      ]
     },
     "metadata": {},
     "output_type": "display_data"
    },
    {
     "data": {
      "text/html": [
       "<pre class=language-r><code>function (p, size, prob, lower.tail = TRUE, log.p = FALSE) \n",
       "NULL</code></pre>"
      ],
      "text/latex": [
       "\\begin{minted}{r}\n",
       "function (p, size, prob, lower.tail = TRUE, log.p = FALSE) \n",
       "NULL\n",
       "\\end{minted}"
      ],
      "text/markdown": [
       "```r\n",
       "function (p, size, prob, lower.tail = TRUE, log.p = FALSE) \n",
       "NULL\n",
       "```"
      ],
      "text/plain": [
       "function (p, size, prob, lower.tail = TRUE, log.p = FALSE) \n",
       "NULL"
      ]
     },
     "metadata": {},
     "output_type": "display_data"
    }
   ],
   "source": [
    "args(dbinom)\n",
    "args(pbinom)\n",
    "args(rbinom)\n",
    "args(qbinom)"
   ]
  },
  {
   "cell_type": "markdown",
   "metadata": {},
   "source": [
    "Here, *size* and *prob* are the parameters of the binomial distribution. Let's see documentation to see the meaning of the rest of arguments."
   ]
  },
  {
   "cell_type": "code",
   "execution_count": 2,
   "metadata": {},
   "outputs": [],
   "source": [
    "?dbinom"
   ]
  },
  {
   "cell_type": "markdown",
   "metadata": {},
   "source": [
    "For example, say that we have a coin that we toss three times. Then, the probability of getting two heads in these tosses would be:"
   ]
  },
  {
   "cell_type": "code",
   "execution_count": 3,
   "metadata": {},
   "outputs": [
    {
     "data": {
      "text/html": [
       "0.375"
      ],
      "text/latex": [
       "0.375"
      ],
      "text/markdown": [
       "0.375"
      ],
      "text/plain": [
       "[1] 0.375"
      ]
     },
     "metadata": {},
     "output_type": "display_data"
    }
   ],
   "source": [
    "(0.5 * 0.5 * 0.5) + (0.5 * 0.5 * 0.5) + (0.5 * 0.5 * 0.5)"
   ]
  },
  {
   "cell_type": "markdown",
   "metadata": {},
   "source": [
    "This is the same as using `dbinom` as follows:"
   ]
  },
  {
   "cell_type": "code",
   "execution_count": 4,
   "metadata": {},
   "outputs": [
    {
     "data": {
      "text/html": [
       "0.375"
      ],
      "text/latex": [
       "0.375"
      ],
      "text/markdown": [
       "0.375"
      ],
      "text/plain": [
       "[1] 0.375"
      ]
     },
     "metadata": {},
     "output_type": "display_data"
    }
   ],
   "source": [
    "# i.e. 0.5 * 0.5, as expected\n",
    "dbinom(2, size=3, prob=0.5)"
   ]
  },
  {
   "cell_type": "markdown",
   "metadata": {},
   "source": [
    "For example, say we want to calculate the probability of getting two heads or lower. For this, instead of the previous probability, we should be summing the probabilities of getting no heads and one head."
   ]
  },
  {
   "cell_type": "code",
   "execution_count": 5,
   "metadata": {},
   "outputs": [
    {
     "data": {
      "text/html": [
       "0.875"
      ],
      "text/latex": [
       "0.875"
      ],
      "text/markdown": [
       "0.875"
      ],
      "text/plain": [
       "[1] 0.875"
      ]
     },
     "metadata": {},
     "output_type": "display_data"
    }
   ],
   "source": [
    "p.0<- (0.5 * 0.5 * 0.5) # prbability of no heads\n",
    "p.1<- (0.5 * 0.5 * 0.5) + (0.5 * 0.5 * 0.5) + (0.5 * 0.5 * 0.5) # prability of one head\n",
    "p.2<- (0.5 * 0.5 * 0.5) + (0.5 * 0.5 * 0.5) + (0.5 * 0.5 * 0.5) # probability of two heads\n",
    "p.0 + p.1 + p.2 "
   ]
  },
  {
   "cell_type": "markdown",
   "metadata": {},
   "source": [
    "But the above is the same as computing the cumulative probability, so we should be able to get it with `pbinom`."
   ]
  },
  {
   "cell_type": "code",
   "execution_count": 6,
   "metadata": {},
   "outputs": [
    {
     "data": {
      "text/html": [
       "0.875"
      ],
      "text/latex": [
       "0.875"
      ],
      "text/markdown": [
       "0.875"
      ],
      "text/plain": [
       "[1] 0.875"
      ]
     },
     "metadata": {},
     "output_type": "display_data"
    }
   ],
   "source": [
    "pbinom(2, size=3, prob=0.5)"
   ]
  },
  {
   "cell_type": "markdown",
   "metadata": {},
   "source": [
    "In the following, we are going to put into practice all this considering a dice instead of a coin, and later a gaussian distribution, but the logic behind the use of the above functions will be always the same."
   ]
  },
  {
   "cell_type": "markdown",
   "metadata": {},
   "source": [
    "<div class=\"alert alert-info\"> <b>Practice</b>: If you roll a dice 20 times, compute the probability of getting x = 4 sixes. </div>"
   ]
  },
  {
   "cell_type": "markdown",
   "metadata": {},
   "source": [
    "<div class=\"alert alert-info\"> <b>Practice</b>: If you roll a dice 20 times, compute the probability of getting x = 4 sixes or lower.</div>"
   ]
  },
  {
   "cell_type": "markdown",
   "metadata": {},
   "source": [
    "<div class=\"alert alert-info\"> <b>Practice</b>: At a probability 0.6, which value is more likely? </div>"
   ]
  },
  {
   "cell_type": "markdown",
   "metadata": {},
   "source": [
    "<div class=\"alert alert-info\"> <b>Practice</b>: Simulate 100 random numbers with the same setting as above 20 times. </div>"
   ]
  },
  {
   "cell_type": "markdown",
   "metadata": {},
   "source": [
    "<div class=\"alert alert-info\"> <b>Practice</b>: See what happens when the different parameters in the binomial distribution change. For example, generate 1000 random numbers, with the same probability as before, but now for sizes 20, 50 and 100. In each case, plot the histogram. </div>"
   ]
  },
  {
   "cell_type": "markdown",
   "metadata": {},
   "source": [
    "<div class=\"alert alert-info\"> <b>Practice</b>: Now, do the same but varying the probabilities of success (e.g. consider 1/6, 3/6 and 5/6). Keep the number of trials, i.e. the parameter size, fixed to 20, for example. </div>"
   ]
  },
  {
   "cell_type": "markdown",
   "metadata": {},
   "source": [
    "# Gaussian Distribution"
   ]
  },
  {
   "cell_type": "markdown",
   "metadata": {},
   "source": [
    "- `dnorm`\n",
    "- `pnorm`\n",
    "- `rnorm`\n",
    "- `qnorm`"
   ]
  },
  {
   "cell_type": "code",
   "execution_count": 7,
   "metadata": {},
   "outputs": [
    {
     "data": {
      "text/html": [
       "<pre class=language-r><code>function (x, mean = 0, sd = 1, log = FALSE) \n",
       "NULL</code></pre>"
      ],
      "text/latex": [
       "\\begin{minted}{r}\n",
       "function (x, mean = 0, sd = 1, log = FALSE) \n",
       "NULL\n",
       "\\end{minted}"
      ],
      "text/markdown": [
       "```r\n",
       "function (x, mean = 0, sd = 1, log = FALSE) \n",
       "NULL\n",
       "```"
      ],
      "text/plain": [
       "function (x, mean = 0, sd = 1, log = FALSE) \n",
       "NULL"
      ]
     },
     "metadata": {},
     "output_type": "display_data"
    },
    {
     "data": {
      "text/html": [
       "<pre class=language-r><code>function (q, mean = 0, sd = 1, lower.tail = TRUE, log.p = FALSE) \n",
       "NULL</code></pre>"
      ],
      "text/latex": [
       "\\begin{minted}{r}\n",
       "function (q, mean = 0, sd = 1, lower.tail = TRUE, log.p = FALSE) \n",
       "NULL\n",
       "\\end{minted}"
      ],
      "text/markdown": [
       "```r\n",
       "function (q, mean = 0, sd = 1, lower.tail = TRUE, log.p = FALSE) \n",
       "NULL\n",
       "```"
      ],
      "text/plain": [
       "function (q, mean = 0, sd = 1, lower.tail = TRUE, log.p = FALSE) \n",
       "NULL"
      ]
     },
     "metadata": {},
     "output_type": "display_data"
    },
    {
     "data": {
      "text/html": [
       "<pre class=language-r><code>function (n, mean = 0, sd = 1) \n",
       "NULL</code></pre>"
      ],
      "text/latex": [
       "\\begin{minted}{r}\n",
       "function (n, mean = 0, sd = 1) \n",
       "NULL\n",
       "\\end{minted}"
      ],
      "text/markdown": [
       "```r\n",
       "function (n, mean = 0, sd = 1) \n",
       "NULL\n",
       "```"
      ],
      "text/plain": [
       "function (n, mean = 0, sd = 1) \n",
       "NULL"
      ]
     },
     "metadata": {},
     "output_type": "display_data"
    },
    {
     "data": {
      "text/html": [
       "<pre class=language-r><code>function (p, mean = 0, sd = 1, lower.tail = TRUE, log.p = FALSE) \n",
       "NULL</code></pre>"
      ],
      "text/latex": [
       "\\begin{minted}{r}\n",
       "function (p, mean = 0, sd = 1, lower.tail = TRUE, log.p = FALSE) \n",
       "NULL\n",
       "\\end{minted}"
      ],
      "text/markdown": [
       "```r\n",
       "function (p, mean = 0, sd = 1, lower.tail = TRUE, log.p = FALSE) \n",
       "NULL\n",
       "```"
      ],
      "text/plain": [
       "function (p, mean = 0, sd = 1, lower.tail = TRUE, log.p = FALSE) \n",
       "NULL"
      ]
     },
     "metadata": {},
     "output_type": "display_data"
    }
   ],
   "source": [
    "args(dnorm)\n",
    "args(pnorm)\n",
    "args(rnorm)\n",
    "args(qnorm)"
   ]
  },
  {
   "cell_type": "markdown",
   "metadata": {},
   "source": [
    "<div class=\"alert alert-info\"> <b>Practice</b>: In the week 2 about descriptive statistcs, we mentioned that, for gaussian distributions, 68% of the points lie within 1 standard deviation around the mean, 95% within 2 standard deviations, and 99.7% within 3 standard deviations. Let's demonstrate this using pnorm. Since this function gives the cumulative probability function up to a certain value (the area under the curve), we can just use a difference of pnorms to get the areas that we desire. Let's suppose the mean is zero and the standard deviation 5 </div>"
   ]
  },
  {
   "cell_type": "code",
   "execution_count": 9,
   "metadata": {},
   "outputs": [],
   "source": [
    "m<-0 # mean\n",
    "s<-5 # standard deviation"
   ]
  },
  {
   "cell_type": "code",
   "execution_count": 10,
   "metadata": {},
   "outputs": [
    {
     "data": {
      "image/png": "[encoded data removed]",
      "text/plain": [
       "Plot with title “Histogram of rnorm(1000, mean = m, sd = s)”"
      ]
     },
     "metadata": {
      "image/png": {
       "height": 420,
       "width": 420
      }
     },
     "output_type": "display_data"
    }
   ],
   "source": [
    "# Just to visualize what we are saying\n",
    "hist(rnorm(1000, mean = m, sd = s))"
   ]
  },
  {
   "cell_type": "markdown",
   "metadata": {},
   "source": [
    "<div class=\"alert alert-info\"> <b>Practice</b>: Now, generate 1000 random numbers from a gaussian distribution with mean = 1 and sd = 0.1. And plot the distribution of these numbers using ggplot, using geom_histogram and overlaying a density curve using the function geom_density (You may visit <a href=\"https://r-charts.com/distribution/histogram-density-ggplot2\"> this page </a>to see how to do this ). Do you guys see anything weird in your plot? </div>"
   ]
  },
  {
   "cell_type": "markdown",
   "metadata": {},
   "source": [
    "Finally, we said in the lectures that the student´s t-distribution looks like a gaussian distribution  but heavier tails. Let's see this by generating 1000 random numbers under both distributions and plotting their density curves together, using the geom_density function we´ve just learned."
   ]
  },
  {
   "cell_type": "markdown",
   "metadata": {},
   "source": [
    "<div class=\"alert alert-info\"> <b>Practice</b>: Generate 1000 random numbers from a gaussian distribution with mean = 0 and sd = 1. Then generate 1000 random numbers from a t-distribution using the function rt with df = 15 </div>"
   ]
  }
 ],
 "metadata": {
  "kernelspec": {
   "display_name": "R",
   "language": "R",
   "name": "ir"
  },
  "language_info": {
   "codemirror_mode": "r",
   "file_extension": ".r",
   "mimetype": "text/x-r-source",
   "name": "R",
   "pygments_lexer": "r",
   "version": "4.2.2"
  }
 },
 "nbformat": 4,
 "nbformat_minor": 5
}
