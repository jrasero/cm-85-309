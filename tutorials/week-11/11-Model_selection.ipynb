{
 "cells": [
  {
   "cell_type": "markdown",
   "id": "a0e23a13",
   "metadata": {},
   "source": [
    "For this tutorial, we will consider Ebay auctions of a video game called Mario Kart for the Nintendo Wii, which contains the total price of an auction (highest bid plus + the shipping cost) and certain characteristics of the  auction that may affect the final price."
   ]
  },
  {
   "cell_type": "code",
   "execution_count": 25,
   "id": "b1bbc41b",
   "metadata": {},
   "outputs": [
    {
     "data": {
      "text/html": [
       "<table class=\"dataframe\">\n",
       "<caption>A data.frame: 6 × 7</caption>\n",
       "<thead>\n",
       "\t<tr><th></th><th scope=col>duration</th><th scope=col>n_bids</th><th scope=col>cond</th><th scope=col>total_pr</th><th scope=col>seller_rate</th><th scope=col>stock_photo</th><th scope=col>wheels</th></tr>\n",
       "\t<tr><th></th><th scope=col>&lt;int&gt;</th><th scope=col>&lt;int&gt;</th><th scope=col>&lt;fct&gt;</th><th scope=col>&lt;dbl&gt;</th><th scope=col>&lt;int&gt;</th><th scope=col>&lt;chr&gt;</th><th scope=col>&lt;int&gt;</th></tr>\n",
       "</thead>\n",
       "<tbody>\n",
       "\t<tr><th scope=row>1</th><td>3</td><td>20</td><td>new </td><td>51.55</td><td>  1580</td><td>yes</td><td>1</td></tr>\n",
       "\t<tr><th scope=row>2</th><td>7</td><td>13</td><td>used</td><td>37.04</td><td>   365</td><td>yes</td><td>1</td></tr>\n",
       "\t<tr><th scope=row>3</th><td>3</td><td>16</td><td>new </td><td>45.50</td><td>   998</td><td>no </td><td>1</td></tr>\n",
       "\t<tr><th scope=row>4</th><td>3</td><td>18</td><td>new </td><td>44.00</td><td>     7</td><td>yes</td><td>1</td></tr>\n",
       "\t<tr><th scope=row>5</th><td>1</td><td>20</td><td>new </td><td>71.00</td><td>   820</td><td>yes</td><td>2</td></tr>\n",
       "\t<tr><th scope=row>6</th><td>3</td><td>19</td><td>new </td><td>45.00</td><td>270144</td><td>yes</td><td>0</td></tr>\n",
       "</tbody>\n",
       "</table>\n"
      ],
      "text/latex": [
       "A data.frame: 6 × 7\n",
       "\\begin{tabular}{r|lllllll}\n",
       "  & duration & n\\_bids & cond & total\\_pr & seller\\_rate & stock\\_photo & wheels\\\\\n",
       "  & <int> & <int> & <fct> & <dbl> & <int> & <chr> & <int>\\\\\n",
       "\\hline\n",
       "\t1 & 3 & 20 & new  & 51.55 &   1580 & yes & 1\\\\\n",
       "\t2 & 7 & 13 & used & 37.04 &    365 & yes & 1\\\\\n",
       "\t3 & 3 & 16 & new  & 45.50 &    998 & no  & 1\\\\\n",
       "\t4 & 3 & 18 & new  & 44.00 &      7 & yes & 1\\\\\n",
       "\t5 & 1 & 20 & new  & 71.00 &    820 & yes & 2\\\\\n",
       "\t6 & 3 & 19 & new  & 45.00 & 270144 & yes & 0\\\\\n",
       "\\end{tabular}\n"
      ],
      "text/markdown": [
       "\n",
       "A data.frame: 6 × 7\n",
       "\n",
       "| <!--/--> | duration &lt;int&gt; | n_bids &lt;int&gt; | cond &lt;fct&gt; | total_pr &lt;dbl&gt; | seller_rate &lt;int&gt; | stock_photo &lt;chr&gt; | wheels &lt;int&gt; |\n",
       "|---|---|---|---|---|---|---|---|\n",
       "| 1 | 3 | 20 | new  | 51.55 |   1580 | yes | 1 |\n",
       "| 2 | 7 | 13 | used | 37.04 |    365 | yes | 1 |\n",
       "| 3 | 3 | 16 | new  | 45.50 |    998 | no  | 1 |\n",
       "| 4 | 3 | 18 | new  | 44.00 |      7 | yes | 1 |\n",
       "| 5 | 1 | 20 | new  | 71.00 |    820 | yes | 2 |\n",
       "| 6 | 3 | 19 | new  | 45.00 | 270144 | yes | 0 |\n",
       "\n"
      ],
      "text/plain": [
       "  duration n_bids cond total_pr seller_rate stock_photo wheels\n",
       "1 3        20     new  51.55      1580      yes         1     \n",
       "2 7        13     used 37.04       365      yes         1     \n",
       "3 3        16     new  45.50       998      no          1     \n",
       "4 3        18     new  44.00         7      yes         1     \n",
       "5 1        20     new  71.00       820      yes         2     \n",
       "6 3        19     new  45.00    270144      yes         0     "
      ]
     },
     "metadata": {},
     "output_type": "display_data"
    }
   ],
   "source": [
    "library(tidyverse)\n",
    "dat.mariokart<-read.csv(\"https://raw.githubusercontent.com/jrasero/cm-85309-2023/main/datasets/mariokart_ebay.csv\")\n",
    "dat.mariokart$cond<-as.factor(dat.mariokart$cond)\n",
    "dat.mariokart$cond<-relevel(dat.mariokart$cond, ref = \"used\")\n",
    "\n",
    "head(dat.mariokart)"
   ]
  },
  {
   "cell_type": "markdown",
   "id": "8a22d844",
   "metadata": {},
   "source": [
    "The "
   ]
  },
  {
   "cell_type": "markdown",
   "id": "c6b9c58f",
   "metadata": {},
   "source": [
    "<div class=\"alert alert-info\">  <b>Practice</b>: Using <code>lm</code>, fit a regression model that aims to explain the predict total price based on using a stock photo game or not. Save this to an object named \"reg.model.1\"."
   ]
  },
  {
   "cell_type": "code",
   "execution_count": 26,
   "id": "977132c3",
   "metadata": {},
   "outputs": [],
   "source": [
    "# Your answer here"
   ]
  },
  {
   "cell_type": "markdown",
   "id": "0f0c1ef0",
   "metadata": {},
   "source": [
    "<div class=\"alert alert-info\">  <b>Question</b>: Is the slope in \"reg.model.1\" significant at $\\alpha=0.05$. How can this be interpreted?"
   ]
  },
  {
   "cell_type": "code",
   "execution_count": 51,
   "id": "b13e665f",
   "metadata": {},
   "outputs": [],
   "source": [
    "# Your answer here"
   ]
  },
  {
   "cell_type": "markdown",
   "id": "c1259014",
   "metadata": {},
   "source": [
    "<div class=\"alert alert-info\"> <b>Practice</b>: Now, fit two regression models, one that aims to explain the total price based on using a stock photo game and the number of wheels, and another one that aims to explain the total price based on using a stock photo game and game condition. Save these new objects to variables named \"reg.model.2\" and \"reg.model.3\" respectively."
   ]
  },
  {
   "cell_type": "code",
   "execution_count": null,
   "id": "b66a9867",
   "metadata": {},
   "outputs": [],
   "source": [
    "# Your answer here"
   ]
  },
  {
   "cell_type": "markdown",
   "id": "ffd483e0",
   "metadata": {},
   "source": [
    "<div class=\"alert alert-info\">  <b>Question</b>: Is the slope for \"stock_photo\" in both models still significant at $\\alpha=0.05$? If not, what do you think it happened?"
   ]
  },
  {
   "cell_type": "code",
   "execution_count": 1,
   "id": "e657c1b3",
   "metadata": {},
   "outputs": [],
   "source": [
    "# Your answer here"
   ]
  },
  {
   "cell_type": "markdown",
   "id": "2d864013",
   "metadata": {},
   "source": [
    "As we already knew, we use a multiple linear regression to be able to evaluate the relationship between an independent variable and the dependent variable while controlling for the potential influence of other variables. In other words:\n",
    "\n",
    "- $H_0$: $β_i = 0$ when the other independent variables are included in the model.\n",
    "- $H_a$: $β_i \\neq 0$ when the other independent variables are included in the model."
   ]
  },
  {
   "cell_type": "markdown",
   "id": "fe0e62e5",
   "metadata": {},
   "source": [
    "Ok, so the answer is easy. We should fit a multiple linear regression model that includes all independent variables at hand. Is that right so? "
   ]
  },
  {
   "cell_type": "markdown",
   "id": "3c49148b",
   "metadata": {},
   "source": [
    "<div class=\"alert alert-info\"> <b>Practice</b>: Fit a multiple linear regression model that aims to explain the total price based on all the remaining variables in the dataset. Save this model to an object called \"reg.model.full\". Then, fit another regression model that aims to explain the total price based on only \"cond\", \"wheels\", and \"seller_rate\". Save this model to an object called \"reg.model.subset\". If you had to choose one model, which would it be?"
   ]
  },
  {
   "cell_type": "code",
   "execution_count": 2,
   "id": "b8f4b729",
   "metadata": {},
   "outputs": [],
   "source": [
    "# Your answer here"
   ]
  },
  {
   "cell_type": "markdown",
   "id": "9b11f508",
   "metadata": {},
   "source": [
    "The most complex model needs not to be the best one. The inclusion of unimportant variables can some times reduce the performance of the regression model. In fact, of any model that can make predictions. This is in general true for any predictive model, like linear regression...\n",
    "\n",
    "As a general rule, there is a trade off between model's simplicity and goodness of fit. As new independent variables are added to the model, this becomes more complex: each independent variable adds a new free parameter (i.e., a new regression coefficient), and each new parameter increases the model's capacity to capture random variations that are not related to the problem in study. For a model to perform efficiently, one needs to select a model that do not contain too many variables. This is the so-called **model selection** problem.\n",
    "\n",
    "To come up with a final model that fits the data well without being too complex, we need a measure that evaluates this balance. While we could use the adjusted $R^2$ for this purpose, we will instead introduce the **Akaike Information Criterion** (AIC) measure. The AIC for a model that has k predictor variables plus an intercept is as follows:"
   ]
  },
  {
   "cell_type": "markdown",
   "id": "b31b16a6",
   "metadata": {},
   "source": [
    "$$AIC = \\frac{SS_{res}}{\\hat{\\sigma}^2} + 2k$$\n",
    "\n",
    "The **smaller** the AIC value, the **better** the model performs. On the left we have $SS_{res}$, so if this increases, the model accounts for less data and therefore AIC increases; on the right, we have a term that increases as the model complexity increases. The best model is the one that fits the data well (low residuals; left hand side) using as few independent variables as possible (low k; right hand side)."
   ]
  },
  {
   "cell_type": "markdown",
   "id": "932df923",
   "metadata": {},
   "source": [
    "Let's see a few strategies on how to select the most optimal model based on AIC. We are going to carry out this using the `step` R built-in function, which enables choosing a model by AIC in a stepwise fashion. "
   ]
  },
  {
   "cell_type": "code",
   "execution_count": 86,
   "id": "aeceef1a",
   "metadata": {},
   "outputs": [],
   "source": [
    "?step"
   ]
  },
  {
   "cell_type": "markdown",
   "id": "3dbe65a0",
   "metadata": {},
   "source": [
    "What do we mean by \"stepwise\"? We mean that at each step we will evaluate the effect of one variable in the entire model. This can be done either by looking at how that variable affects the model after deletion, or after inclusion. The former strategy is called **backward selection**, whereas the latter is called **forward selection**."
   ]
  },
  {
   "cell_type": "markdown",
   "id": "a00d6e48",
   "metadata": {},
   "source": [
    "## Backward selection\n",
    "\n",
    "This strategy for model selection can be summarized as follows:\n",
    "\n",
    "1. Start with the full model.\n",
    "2. Drop one variable at a time and record the AIC of each smaller model.\n",
    "3. Pick the model with the highest decrease in AIC.\n",
    "4. Repeat until none of the models yield a decrease in AIC."
   ]
  },
  {
   "cell_type": "markdown",
   "id": "177ba859",
   "metadata": {},
   "source": [
    "To select the model using this kind of selection strategy in the `step` function, we just need to pass the full regression model and set the argument *direction* to \"backward\":"
   ]
  },
  {
   "cell_type": "code",
   "execution_count": 87,
   "id": "75e7c0bf",
   "metadata": {},
   "outputs": [
    {
     "name": "stdout",
     "output_type": "stream",
     "text": [
      "Start:  AIC=441.4\n",
      "total_pr ~ cond + wheels + stock_photo + duration + seller_rate + \n",
      "    n_bids\n",
      "\n",
      "              Df Sum of Sq    RSS    AIC\n",
      "- duration     1       0.8 2922.6 439.44\n",
      "- n_bids       1      18.9 2940.8 440.31\n",
      "- stock_photo  1      20.0 2941.8 440.36\n",
      "<none>                     2921.8 441.40\n",
      "- seller_rate  1     289.7 3211.5 452.73\n",
      "- cond         1     449.6 3371.4 459.58\n",
      "- wheels       1    4238.9 7160.8 565.79\n",
      "\n",
      "Step:  AIC=439.44\n",
      "total_pr ~ cond + wheels + stock_photo + seller_rate + n_bids\n",
      "\n",
      "              Df Sum of Sq    RSS    AIC\n",
      "- stock_photo  1      19.2 2941.8 438.36\n",
      "- n_bids       1      20.1 2942.8 438.41\n",
      "<none>                     2922.6 439.44\n",
      "- seller_rate  1     290.8 3213.5 450.81\n",
      "- cond         1     474.3 3396.9 458.64\n",
      "- wheels       1    4403.2 7325.8 567.01\n",
      "\n",
      "Step:  AIC=438.36\n",
      "total_pr ~ cond + wheels + seller_rate + n_bids\n",
      "\n",
      "              Df Sum of Sq    RSS    AIC\n",
      "- n_bids       1      16.1 2957.9 437.13\n",
      "<none>                     2941.8 438.36\n",
      "- seller_rate  1     308.4 3250.2 450.42\n",
      "- cond         1     605.1 3546.9 462.74\n",
      "- wheels       1    4384.0 7325.9 565.01\n",
      "\n",
      "Step:  AIC=437.13\n",
      "total_pr ~ cond + wheels + seller_rate\n",
      "\n",
      "              Df Sum of Sq    RSS    AIC\n",
      "<none>                     2957.9 437.13\n",
      "- seller_rate  1     338.5 3296.4 450.41\n",
      "- cond         1     589.2 3547.1 460.74\n",
      "- wheels       1    4588.5 7546.5 567.19\n"
     ]
    },
    {
     "data": {
      "text/plain": [
       "\n",
       "Call:\n",
       "lm(formula = total_pr ~ cond + wheels + seller_rate, data = dat.mariokart)\n",
       "\n",
       "Coefficients:\n",
       "(Intercept)      condnew       wheels  seller_rate  \n",
       "  3.607e+01    4.728e+00    7.733e+00    3.103e-05  \n"
      ]
     },
     "metadata": {},
     "output_type": "display_data"
    }
   ],
   "source": [
    "step( object = reg.model.full, direction = \"backward\")                 "
   ]
  },
  {
   "cell_type": "markdown",
   "id": "9e1ba32b",
   "metadata": {},
   "source": [
    "In the above messages, the text in the left hand column is telling us what change R made to the regression model. The line that reads \"< none >\" is the actual model we started with. The other rows correspond to the other models after removing one of the independent variables. Each of these yields a new AIC. The one with the smallest AIC is the new selected model, and the backward selection process is run again but now on this smaller model.\n",
    "\n",
    "This process is repeated until no further decrease in AIC is observed. In our case, this corresponds to the case in which we only have \"cond\", \"wheels\" and \"seller_rate\" as independent varibles, with AIC=437.13."
   ]
  },
  {
   "cell_type": "markdown",
   "id": "504025a8",
   "metadata": {},
   "source": [
    "## Forward selection\n",
    "\n",
    "This strategy for model selection can be summarized as follows:\n",
    "\n",
    "1. Start by creating separate regression models for the dependent variable versus each independent variable.\n",
    "2. Pick the model with the smallest AIC: Fitting more accurately the data will be more benefitial than the inclusion of new variable.\n",
    "3. Add the remaining variables one at a time to the existing model, and once again pick the model smallest AIC.\n",
    "4. Continue this process until no remaining variables decreases AIC."
   ]
  },
  {
   "cell_type": "markdown",
   "id": "2a74ef1a",
   "metadata": {},
   "source": [
    "We can carry out this selection strategy in the `step` function in the same way as with \"backward\". Now instead, we have to start with the simplest model possible, that is, one without any indepedent variable, set the argument *direction* to \"forward\", and specify what is the largest possible model we are willing to have, which can be done by means of the *scope* argument:"
   ]
  },
  {
   "cell_type": "code",
   "execution_count": 88,
   "id": "b745de62",
   "metadata": {},
   "outputs": [
    {
     "name": "stdout",
     "output_type": "stream",
     "text": [
      "Start:  AIC=624.15\n",
      "total_pr ~ 1\n",
      "\n",
      "              Df Sum of Sq     RSS    AIC\n",
      "+ wheels       1    7460.1  4168.1 481.49\n",
      "+ cond         1    4076.3  7551.9 565.29\n",
      "+ duration     1    1627.9 10000.3 604.89\n",
      "+ stock_photo  1     466.0 11162.2 620.39\n",
      "<none>                     11628.2 624.15\n",
      "+ seller_rate  1     140.4 11487.8 624.44\n",
      "+ n_bids       1      72.1 11556.1 625.28\n",
      "\n",
      "Step:  AIC=481.49\n",
      "total_pr ~ wheels\n",
      "\n",
      "              Df Sum of Sq    RSS    AIC\n",
      "+ cond         1    871.68 3296.4 450.41\n",
      "+ seller_rate  1    620.99 3547.1 460.74\n",
      "+ stock_photo  1    256.29 3911.8 474.54\n",
      "+ duration     1    188.89 3979.2 476.95\n",
      "<none>                     4168.1 481.49\n",
      "+ n_bids       1      5.80 4162.3 483.29\n",
      "\n",
      "Step:  AIC=450.41\n",
      "total_pr ~ wheels + cond\n",
      "\n",
      "              Df Sum of Sq    RSS    AIC\n",
      "+ seller_rate  1    338.46 2957.9 437.13\n",
      "<none>                     3296.4 450.41\n",
      "+ n_bids       1     46.15 3250.2 450.42\n",
      "+ stock_photo  1     28.69 3267.7 451.17\n",
      "+ duration     1      4.06 3292.3 452.23\n",
      "\n",
      "Step:  AIC=437.13\n",
      "total_pr ~ wheels + cond + seller_rate\n",
      "\n",
      "              Df Sum of Sq    RSS    AIC\n",
      "<none>                     2957.9 437.13\n",
      "+ n_bids       1   16.1093 2941.8 438.36\n",
      "+ stock_photo  1   15.1531 2942.8 438.41\n",
      "+ duration     1    0.1775 2957.7 439.12\n"
     ]
    },
    {
     "data": {
      "text/plain": [
       "\n",
       "Call:\n",
       "lm(formula = total_pr ~ wheels + cond + seller_rate, data = dat.mariokart)\n",
       "\n",
       "Coefficients:\n",
       "(Intercept)       wheels      condnew  seller_rate  \n",
       "  3.607e+01    7.733e+00    4.728e+00    3.103e-05  \n"
      ]
     },
     "metadata": {},
     "output_type": "display_data"
    }
   ],
   "source": [
    "reg.model.null <- lm(total_pr~1, data = dat.mariokart)\n",
    "scope<-total_pr~cond + wheels + stock_photo + duration + seller_rate + n_bids # Most complex model possible\n",
    "step( object = reg.model.null,\n",
    "     scope=scope,\n",
    "     direction = \"forward\")"
   ]
  },
  {
   "cell_type": "markdown",
   "id": "4ef07f95",
   "metadata": {},
   "source": [
    "This process works in the same as above. It will stop when incorporating new variables does not decrease AIC."
   ]
  },
  {
   "cell_type": "markdown",
   "id": "3b9bdb0b",
   "metadata": {},
   "source": [
    "**IMPORTANT:** As we can see, for this example the same model was found using both strategies. However, forward and backward selection do not need to always end up in the same place..."
   ]
  },
  {
   "cell_type": "markdown",
   "id": "ccfb7f09",
   "metadata": {},
   "source": [
    "## Important caveat\n",
    "\n"
   ]
  },
  {
   "cell_type": "markdown",
   "id": "807552a8",
   "metadata": {},
   "source": [
    "# Mode comparison\n",
    "\n",
    "An alternative to using automated model selection procedures is to explicitly select two or more regression models to compare to each other.\n",
    "\n",
    "\n",
    "There are two different ways we can compare these two models, one based on a model selection criterion like AIC (or BIC if one wants to attach to Bayesian estimation - beyond the scope of this course), and the other based on an explicit hypothesis test.\n",
    "\n",
    "\n",
    "## AIC-based\n",
    "\n",
    "Let's start with the one based on AIC, which is very simple. Let's define two models, M0 and M1, that we want to compare one against each other:"
   ]
  },
  {
   "cell_type": "code",
   "execution_count": 90,
   "id": "3aa22863",
   "metadata": {},
   "outputs": [],
   "source": [
    "M0 <- lm( total_pr ~ wheels + cond + seller_rate, data = dat.mariokart )\n",
    "M1 <- lm( total_pr ~ ., data = dat.mariokart  )"
   ]
  },
  {
   "cell_type": "markdown",
   "id": "9ab20a0e",
   "metadata": {},
   "source": [
    "We can pass these two (and any number of fitted objects) models to the `AIC` function in R, which will show the AIC values for each:"
   ]
  },
  {
   "cell_type": "code",
   "execution_count": 106,
   "id": "3810a078",
   "metadata": {},
   "outputs": [
    {
     "data": {
      "text/html": [
       "<table class=\"dataframe\">\n",
       "<caption>A data.frame: 2 × 2</caption>\n",
       "<thead>\n",
       "\t<tr><th></th><th scope=col>df</th><th scope=col>AIC</th></tr>\n",
       "\t<tr><th></th><th scope=col>&lt;dbl&gt;</th><th scope=col>&lt;dbl&gt;</th></tr>\n",
       "</thead>\n",
       "<tbody>\n",
       "\t<tr><th scope=row>M0</th><td>3</td><td>967.4329</td></tr>\n",
       "\t<tr><th scope=row>M1</th><td>4</td><td>852.5476</td></tr>\n",
       "</tbody>\n",
       "</table>\n"
      ],
      "text/latex": [
       "A data.frame: 2 × 2\n",
       "\\begin{tabular}{r|ll}\n",
       "  & df & AIC\\\\\n",
       "  & <dbl> & <dbl>\\\\\n",
       "\\hline\n",
       "\tM0 & 3 & 967.4329\\\\\n",
       "\tM1 & 4 & 852.5476\\\\\n",
       "\\end{tabular}\n"
      ],
      "text/markdown": [
       "\n",
       "A data.frame: 2 × 2\n",
       "\n",
       "| <!--/--> | df &lt;dbl&gt; | AIC &lt;dbl&gt; |\n",
       "|---|---|---|\n",
       "| M0 | 3 | 967.4329 |\n",
       "| M1 | 4 | 852.5476 |\n",
       "\n"
      ],
      "text/plain": [
       "   df AIC     \n",
       "M0 3  967.4329\n",
       "M1 4  852.5476"
      ]
     },
     "metadata": {},
     "output_type": "display_data"
    }
   ],
   "source": [
    "AIC(M0, M1)"
   ]
  },
  {
   "cell_type": "markdown",
   "id": "f1288a1a",
   "metadata": {},
   "source": [
    "As we can see, the model M0 has a smaller AIC, so this is the one we should select over M1 (Do not worry for the values of AIC here not matching the ones observed before. Here constant terms have been dropped, which are not important for model comparison)."
   ]
  },
  {
   "cell_type": "markdown",
   "id": "a371b99d",
   "metadata": {},
   "source": [
    "## Hypohtesis testing-based\n",
    "\n",
    "Suppose that we have got two regression models, one (M0) containing a subset of the independent variables from another model (M1), i.e.M1 contains all of the independent variables included in M0, plus one or more additional variables. In this case, we can think of M0 as a null hypothesis and M1 as an alternative hypothesis. \n",
    "\n",
    "For this situation, we can construct an F test that compares one model with respect to the other in the following way:\n",
    "\n",
    "$$ F = \\frac{(SS_{res}^0 - SS_{res}^1)/(k_1 - k_0)}{SS_{res}^1/(N-k_1-1)}$$\n",
    "\n",
    "where $SS_{res}^0$ and $SS_{res}^1$ are the residual sum of squares for both models, $N$ is the number of observations, and $k_0$ and  $k_1$ are the number of independent variables in both models.\n",
    "\n",
    "As a result, we can see that if SS_{res}^1 < SS_{res}^0, that is, the alternative model is able to fit better the data, the numerator increases and so does F. At the same time, since the numerator includes a factor for the difference in independent variables between both models, incresing the number of independent variables may not always be the best choice.\n",
    "\n",
    "To compare two models in R based on hypothesis testing, we can use the `anova` function:"
   ]
  },
  {
   "cell_type": "code",
   "execution_count": 109,
   "id": "739c051f",
   "metadata": {},
   "outputs": [],
   "source": [
    "?anova"
   ]
  },
  {
   "cell_type": "code",
   "execution_count": 107,
   "id": "c0ce8be2",
   "metadata": {},
   "outputs": [
    {
     "data": {
      "text/html": [
       "<table class=\"dataframe\">\n",
       "<caption>A anova: 2 × 6</caption>\n",
       "<thead>\n",
       "\t<tr><th></th><th scope=col>Res.Df</th><th scope=col>RSS</th><th scope=col>Df</th><th scope=col>Sum of Sq</th><th scope=col>F</th><th scope=col>Pr(&gt;F)</th></tr>\n",
       "\t<tr><th></th><th scope=col>&lt;dbl&gt;</th><th scope=col>&lt;dbl&gt;</th><th scope=col>&lt;dbl&gt;</th><th scope=col>&lt;dbl&gt;</th><th scope=col>&lt;dbl&gt;</th><th scope=col>&lt;dbl&gt;</th></tr>\n",
       "</thead>\n",
       "<tbody>\n",
       "\t<tr><th scope=row>1</th><td>139</td><td>7551.908</td><td>NA</td><td>      NA</td><td>      NA</td><td>          NA</td></tr>\n",
       "\t<tr><th scope=row>2</th><td>138</td><td>3296.386</td><td> 1</td><td>4255.523</td><td>178.1534</td><td>1.294506e-26</td></tr>\n",
       "</tbody>\n",
       "</table>\n"
      ],
      "text/latex": [
       "A anova: 2 × 6\n",
       "\\begin{tabular}{r|llllll}\n",
       "  & Res.Df & RSS & Df & Sum of Sq & F & Pr(>F)\\\\\n",
       "  & <dbl> & <dbl> & <dbl> & <dbl> & <dbl> & <dbl>\\\\\n",
       "\\hline\n",
       "\t1 & 139 & 7551.908 & NA &       NA &       NA &           NA\\\\\n",
       "\t2 & 138 & 3296.386 &  1 & 4255.523 & 178.1534 & 1.294506e-26\\\\\n",
       "\\end{tabular}\n"
      ],
      "text/markdown": [
       "\n",
       "A anova: 2 × 6\n",
       "\n",
       "| <!--/--> | Res.Df &lt;dbl&gt; | RSS &lt;dbl&gt; | Df &lt;dbl&gt; | Sum of Sq &lt;dbl&gt; | F &lt;dbl&gt; | Pr(&gt;F) &lt;dbl&gt; |\n",
       "|---|---|---|---|---|---|---|\n",
       "| 1 | 139 | 7551.908 | NA |       NA |       NA |           NA |\n",
       "| 2 | 138 | 3296.386 |  1 | 4255.523 | 178.1534 | 1.294506e-26 |\n",
       "\n"
      ],
      "text/plain": [
       "  Res.Df RSS      Df Sum of Sq F        Pr(>F)      \n",
       "1 139    7551.908 NA       NA        NA           NA\n",
       "2 138    3296.386  1 4255.523  178.1534 1.294506e-26"
      ]
     },
     "metadata": {},
     "output_type": "display_data"
    }
   ],
   "source": [
    "anova(M0, M1)"
   ]
  },
  {
   "cell_type": "markdown",
   "id": "1d202221",
   "metadata": {},
   "source": [
    "Since the p-value is higher than 0.05 (assuming this significance level for our statistical claims), we should stick with the null hypothesis model (M0). This approach to regression is usually called **hierarchical regression** and involves adding all the covariates into a null model, which serves as an alternative model, and then comparing the two models in a hypothesis testing framework."
   ]
  },
  {
   "cell_type": "markdown",
   "id": "cde433b5",
   "metadata": {},
   "source": [
    "<div class=\"alert alert-info\"> <b>Practice</b>: Observe a case in which we should reject the null by comparing the regression model with only \"cond\" as the independent variable (M0) with the alternative model that also adds \"wheel\" (M1)."
   ]
  },
  {
   "cell_type": "code",
   "execution_count": 3,
   "id": "6999cf25",
   "metadata": {},
   "outputs": [],
   "source": [
    "# Your answer here"
   ]
  }
 ],
 "metadata": {
  "kernelspec": {
   "display_name": "R",
   "language": "R",
   "name": "ir"
  },
  "language_info": {
   "codemirror_mode": "r",
   "file_extension": ".r",
   "mimetype": "text/x-r-source",
   "name": "R",
   "pygments_lexer": "r",
   "version": "4.2.2"
  }
 },
 "nbformat": 4,
 "nbformat_minor": 5
}
